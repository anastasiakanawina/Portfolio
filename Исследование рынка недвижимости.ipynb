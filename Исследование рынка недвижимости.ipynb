{
 "cells": [
  {
   "cell_type": "markdown",
   "metadata": {},
   "source": [
    "# Исследование объявлений о продаже квартир"
   ]
  },
  {
   "cell_type": "markdown",
   "metadata": {},
   "source": [
    "В вашем распоряжении данные сервиса Яндекс.Недвижимость — архив объявлений о продаже квартир в Санкт-Петербурге и соседних населённых пунктов за несколько лет. Нужно научиться определять рыночную стоимость объектов недвижимости. Ваша задача — установить параметры. Это позволит построить автоматизированную систему: она отследит аномалии и мошенническую деятельность. \n",
    "\n",
    "По каждой квартире на продажу доступны два вида данных. Первые вписаны пользователем, вторые — получены автоматически на основе картографических данных. Например, расстояние до центра, аэропорта, ближайшего парка и водоёма. "
   ]
  },
  {
   "cell_type": "markdown",
   "metadata": {},
   "source": [
    "### Описание данных\n",
    "- airports_nearest — расстояние до ближайшего аэропорта в метрах (м)\n",
    "- balcony — число балконов\n",
    "- ceiling_height — высота потолков (м)\n",
    "- cityCenters_nearest — расстояние до центра города (м)\n",
    "- days_exposition — сколько дней было размещено объявление (от публикации до снятия)\n",
    "- first_day_exposition — дата публикации\n",
    "- floor — этаж\n",
    "- floors_total — всего этажей в доме\n",
    "- is_apartment — апартаменты (булев тип)\n",
    "- kitchen_area — площадь кухни в квадратных метрах (м²)\n",
    "- last_price — цена на момент снятия с публикации\n",
    "- living_area — жилая площадь в квадратных метрах(м²)\n",
    "- locality_name — название населённого пункта\n",
    "- open_plan — свободная планировка (булев тип)\n",
    "- parks_around3000 — число парков в радиусе 3 км\n",
    "- parks_nearest — расстояние до ближайшего парка (м)\n",
    "- ponds_around3000 — число водоёмов в радиусе 3 км\n",
    "- ponds_nearest — расстояние до ближайшего водоёма (м)\n",
    "- rooms — число комнат\n",
    "- studio — квартира-студия (булев тип)\n",
    "- total_area — площадь квартиры в квадратных метрах (м²)\n",
    "- total_images — число фотографий квартиры в объявлении"
   ]
  },
  {
   "cell_type": "markdown",
   "metadata": {},
   "source": [
    "### Шаг 1. Откройте файл с данными и изучите общую информацию. "
   ]
  },
  {
   "cell_type": "markdown",
   "metadata": {},
   "source": [
    "Для начала импортируем бибилиотеки, которые пригодятся нам в дальнейшем."
   ]
  },
  {
   "cell_type": "code",
   "execution_count": 1,
   "metadata": {},
   "outputs": [],
   "source": [
    "import pandas as pd\n",
    "import matplotlib\n",
    "import matplotlib.pyplot as plt\n",
    "import numpy as np\n",
    "import seaborn as sns"
   ]
  },
  {
   "cell_type": "markdown",
   "metadata": {},
   "source": [
    "Далее прочитаем данные и посмотрим на них. Выведем первые пять строк командой head()."
   ]
  },
  {
   "cell_type": "code",
   "execution_count": 2,
   "metadata": {},
   "outputs": [
    {
     "data": {
      "text/html": [
       "<div>\n",
       "<style scoped>\n",
       "    .dataframe tbody tr th:only-of-type {\n",
       "        vertical-align: middle;\n",
       "    }\n",
       "\n",
       "    .dataframe tbody tr th {\n",
       "        vertical-align: top;\n",
       "    }\n",
       "\n",
       "    .dataframe thead th {\n",
       "        text-align: right;\n",
       "    }\n",
       "</style>\n",
       "<table border=\"1\" class=\"dataframe\">\n",
       "  <thead>\n",
       "    <tr style=\"text-align: right;\">\n",
       "      <th></th>\n",
       "      <th>total_images</th>\n",
       "      <th>last_price</th>\n",
       "      <th>total_area</th>\n",
       "      <th>first_day_exposition</th>\n",
       "      <th>rooms</th>\n",
       "      <th>ceiling_height</th>\n",
       "      <th>floors_total</th>\n",
       "      <th>living_area</th>\n",
       "      <th>floor</th>\n",
       "      <th>is_apartment</th>\n",
       "      <th>...</th>\n",
       "      <th>kitchen_area</th>\n",
       "      <th>balcony</th>\n",
       "      <th>locality_name</th>\n",
       "      <th>airports_nearest</th>\n",
       "      <th>cityCenters_nearest</th>\n",
       "      <th>parks_around3000</th>\n",
       "      <th>parks_nearest</th>\n",
       "      <th>ponds_around3000</th>\n",
       "      <th>ponds_nearest</th>\n",
       "      <th>days_exposition</th>\n",
       "    </tr>\n",
       "  </thead>\n",
       "  <tbody>\n",
       "    <tr>\n",
       "      <td>0</td>\n",
       "      <td>20</td>\n",
       "      <td>13000000.0</td>\n",
       "      <td>108.0</td>\n",
       "      <td>2019-03-07T00:00:00</td>\n",
       "      <td>3</td>\n",
       "      <td>2.70</td>\n",
       "      <td>16.0</td>\n",
       "      <td>51.0</td>\n",
       "      <td>8</td>\n",
       "      <td>NaN</td>\n",
       "      <td>...</td>\n",
       "      <td>25.0</td>\n",
       "      <td>NaN</td>\n",
       "      <td>Санкт-Петербург</td>\n",
       "      <td>18863.0</td>\n",
       "      <td>16028.0</td>\n",
       "      <td>1.0</td>\n",
       "      <td>482.0</td>\n",
       "      <td>2.0</td>\n",
       "      <td>755.0</td>\n",
       "      <td>NaN</td>\n",
       "    </tr>\n",
       "    <tr>\n",
       "      <td>1</td>\n",
       "      <td>7</td>\n",
       "      <td>3350000.0</td>\n",
       "      <td>40.4</td>\n",
       "      <td>2018-12-04T00:00:00</td>\n",
       "      <td>1</td>\n",
       "      <td>NaN</td>\n",
       "      <td>11.0</td>\n",
       "      <td>18.6</td>\n",
       "      <td>1</td>\n",
       "      <td>NaN</td>\n",
       "      <td>...</td>\n",
       "      <td>11.0</td>\n",
       "      <td>2.0</td>\n",
       "      <td>посёлок Шушары</td>\n",
       "      <td>12817.0</td>\n",
       "      <td>18603.0</td>\n",
       "      <td>0.0</td>\n",
       "      <td>NaN</td>\n",
       "      <td>0.0</td>\n",
       "      <td>NaN</td>\n",
       "      <td>81.0</td>\n",
       "    </tr>\n",
       "    <tr>\n",
       "      <td>2</td>\n",
       "      <td>10</td>\n",
       "      <td>5196000.0</td>\n",
       "      <td>56.0</td>\n",
       "      <td>2015-08-20T00:00:00</td>\n",
       "      <td>2</td>\n",
       "      <td>NaN</td>\n",
       "      <td>5.0</td>\n",
       "      <td>34.3</td>\n",
       "      <td>4</td>\n",
       "      <td>NaN</td>\n",
       "      <td>...</td>\n",
       "      <td>8.3</td>\n",
       "      <td>0.0</td>\n",
       "      <td>Санкт-Петербург</td>\n",
       "      <td>21741.0</td>\n",
       "      <td>13933.0</td>\n",
       "      <td>1.0</td>\n",
       "      <td>90.0</td>\n",
       "      <td>2.0</td>\n",
       "      <td>574.0</td>\n",
       "      <td>558.0</td>\n",
       "    </tr>\n",
       "    <tr>\n",
       "      <td>3</td>\n",
       "      <td>0</td>\n",
       "      <td>64900000.0</td>\n",
       "      <td>159.0</td>\n",
       "      <td>2015-07-24T00:00:00</td>\n",
       "      <td>3</td>\n",
       "      <td>NaN</td>\n",
       "      <td>14.0</td>\n",
       "      <td>NaN</td>\n",
       "      <td>9</td>\n",
       "      <td>NaN</td>\n",
       "      <td>...</td>\n",
       "      <td>NaN</td>\n",
       "      <td>0.0</td>\n",
       "      <td>Санкт-Петербург</td>\n",
       "      <td>28098.0</td>\n",
       "      <td>6800.0</td>\n",
       "      <td>2.0</td>\n",
       "      <td>84.0</td>\n",
       "      <td>3.0</td>\n",
       "      <td>234.0</td>\n",
       "      <td>424.0</td>\n",
       "    </tr>\n",
       "    <tr>\n",
       "      <td>4</td>\n",
       "      <td>2</td>\n",
       "      <td>10000000.0</td>\n",
       "      <td>100.0</td>\n",
       "      <td>2018-06-19T00:00:00</td>\n",
       "      <td>2</td>\n",
       "      <td>3.03</td>\n",
       "      <td>14.0</td>\n",
       "      <td>32.0</td>\n",
       "      <td>13</td>\n",
       "      <td>NaN</td>\n",
       "      <td>...</td>\n",
       "      <td>41.0</td>\n",
       "      <td>NaN</td>\n",
       "      <td>Санкт-Петербург</td>\n",
       "      <td>31856.0</td>\n",
       "      <td>8098.0</td>\n",
       "      <td>2.0</td>\n",
       "      <td>112.0</td>\n",
       "      <td>1.0</td>\n",
       "      <td>48.0</td>\n",
       "      <td>121.0</td>\n",
       "    </tr>\n",
       "  </tbody>\n",
       "</table>\n",
       "<p>5 rows × 22 columns</p>\n",
       "</div>"
      ],
      "text/plain": [
       "   total_images  last_price  total_area first_day_exposition  rooms  \\\n",
       "0            20  13000000.0       108.0  2019-03-07T00:00:00      3   \n",
       "1             7   3350000.0        40.4  2018-12-04T00:00:00      1   \n",
       "2            10   5196000.0        56.0  2015-08-20T00:00:00      2   \n",
       "3             0  64900000.0       159.0  2015-07-24T00:00:00      3   \n",
       "4             2  10000000.0       100.0  2018-06-19T00:00:00      2   \n",
       "\n",
       "   ceiling_height  floors_total  living_area  floor is_apartment  ...  \\\n",
       "0            2.70          16.0         51.0      8          NaN  ...   \n",
       "1             NaN          11.0         18.6      1          NaN  ...   \n",
       "2             NaN           5.0         34.3      4          NaN  ...   \n",
       "3             NaN          14.0          NaN      9          NaN  ...   \n",
       "4            3.03          14.0         32.0     13          NaN  ...   \n",
       "\n",
       "   kitchen_area  balcony    locality_name  airports_nearest  \\\n",
       "0          25.0      NaN  Санкт-Петербург           18863.0   \n",
       "1          11.0      2.0   посёлок Шушары           12817.0   \n",
       "2           8.3      0.0  Санкт-Петербург           21741.0   \n",
       "3           NaN      0.0  Санкт-Петербург           28098.0   \n",
       "4          41.0      NaN  Санкт-Петербург           31856.0   \n",
       "\n",
       "  cityCenters_nearest  parks_around3000  parks_nearest  ponds_around3000  \\\n",
       "0             16028.0               1.0          482.0               2.0   \n",
       "1             18603.0               0.0            NaN               0.0   \n",
       "2             13933.0               1.0           90.0               2.0   \n",
       "3              6800.0               2.0           84.0               3.0   \n",
       "4              8098.0               2.0          112.0               1.0   \n",
       "\n",
       "   ponds_nearest  days_exposition  \n",
       "0          755.0              NaN  \n",
       "1            NaN             81.0  \n",
       "2          574.0            558.0  \n",
       "3          234.0            424.0  \n",
       "4           48.0            121.0  \n",
       "\n",
       "[5 rows x 22 columns]"
      ]
     },
     "execution_count": 2,
     "metadata": {},
     "output_type": "execute_result"
    }
   ],
   "source": [
    "sale_of_flats = pd.read_csv('/datasets/real_estate_data.csv', sep=\"\\t\")\n",
    "sale_of_flats.head(5)"
   ]
  },
  {
   "cell_type": "markdown",
   "metadata": {},
   "source": [
    "Также в информации указано, что мы имеем в данных 22 колонки, а в таблице мы видим всего 20. Как называются остальные столбцы мы можем увидеть через метод info() и в выборке Series."
   ]
  },
  {
   "cell_type": "markdown",
   "metadata": {},
   "source": [
    "Посмотрим общие данные по таблице методом info(), чтобы посмотреть, какие типы данных присутствуют в колонках. "
   ]
  },
  {
   "cell_type": "code",
   "execution_count": 3,
   "metadata": {},
   "outputs": [
    {
     "name": "stdout",
     "output_type": "stream",
     "text": [
      "<class 'pandas.core.frame.DataFrame'>\n",
      "RangeIndex: 23699 entries, 0 to 23698\n",
      "Data columns (total 22 columns):\n",
      "total_images            23699 non-null int64\n",
      "last_price              23699 non-null float64\n",
      "total_area              23699 non-null float64\n",
      "first_day_exposition    23699 non-null object\n",
      "rooms                   23699 non-null int64\n",
      "ceiling_height          14504 non-null float64\n",
      "floors_total            23613 non-null float64\n",
      "living_area             21796 non-null float64\n",
      "floor                   23699 non-null int64\n",
      "is_apartment            2775 non-null object\n",
      "studio                  23699 non-null bool\n",
      "open_plan               23699 non-null bool\n",
      "kitchen_area            21421 non-null float64\n",
      "balcony                 12180 non-null float64\n",
      "locality_name           23650 non-null object\n",
      "airports_nearest        18157 non-null float64\n",
      "cityCenters_nearest     18180 non-null float64\n",
      "parks_around3000        18181 non-null float64\n",
      "parks_nearest           8079 non-null float64\n",
      "ponds_around3000        18181 non-null float64\n",
      "ponds_nearest           9110 non-null float64\n",
      "days_exposition         20518 non-null float64\n",
      "dtypes: bool(2), float64(14), int64(3), object(3)\n",
      "memory usage: 3.7+ MB\n"
     ]
    }
   ],
   "source": [
    "sale_of_flats.info()"
   ]
  },
  {
   "cell_type": "markdown",
   "metadata": {},
   "source": [
    "### Вывод"
   ]
  },
  {
   "cell_type": "markdown",
   "metadata": {},
   "source": [
    "Мы видим, что не во всех колонках одинаковое количество строк. Это говорит о присутствии пропущенных значений во многих колонках. Так как это данные с сервиса Яндекс.Недвижимость, то наличие пропущенных данных в тех стобцах, которые были заполнены пользователем, может быть обусловлено тем, что создатель объявления заполнял не все строки. А в тех столбцах, которые были заполнены на основе картографических данных, может из-за сбоя каких-либо программ."
   ]
  },
  {
   "cell_type": "markdown",
   "metadata": {},
   "source": [
    "Так как объявлений о продаже очень много, то есть вероятность, что несколько квартир находятся в одном и том же доме. А также они могут быть в типовых домах, с одинаковыми параметрами от одного застройщика. Посмотрим как можно установить однотипные дома и заполним пропуски такими же значениями."
   ]
  },
  {
   "cell_type": "markdown",
   "metadata": {},
   "source": [
    "### Шаг 2. Предобработка данных"
   ]
  },
  {
   "cell_type": "code",
   "execution_count": 4,
   "metadata": {},
   "outputs": [
    {
     "data": {
      "text/plain": [
       "total_images                0\n",
       "last_price                  0\n",
       "total_area                  0\n",
       "first_day_exposition        0\n",
       "rooms                       0\n",
       "ceiling_height           9195\n",
       "floors_total               86\n",
       "living_area              1903\n",
       "floor                       0\n",
       "is_apartment            20924\n",
       "studio                      0\n",
       "open_plan                   0\n",
       "kitchen_area             2278\n",
       "balcony                 11519\n",
       "locality_name              49\n",
       "airports_nearest         5542\n",
       "cityCenters_nearest      5519\n",
       "parks_around3000         5518\n",
       "parks_nearest           15620\n",
       "ponds_around3000         5518\n",
       "ponds_nearest           14589\n",
       "days_exposition          3181\n",
       "dtype: int64"
      ]
     },
     "execution_count": 4,
     "metadata": {},
     "output_type": "execute_result"
    }
   ],
   "source": [
    "sale_of_flats.isna().sum()"
   ]
  },
  {
   "cell_type": "markdown",
   "metadata": {},
   "source": [
    "Проанализируем каждый столбец с пропусками, чтобы определить их причину. "
   ]
  },
  {
   "cell_type": "markdown",
   "metadata": {},
   "source": [
    "Первый столбец 'ceiling_height'(высота потолков): в этом столбце не может быть пропусков, потому, что в любой квартире будет высота потолков. Скорее всего, этоот параметр просто не заполнили на Яндекс.Недвижимость. Чтобы поподробнее определить что содержится в этом столбце, применим метод describe()."
   ]
  },
  {
   "cell_type": "code",
   "execution_count": 5,
   "metadata": {},
   "outputs": [
    {
     "data": {
      "text/plain": [
       "count    14504.000000\n",
       "mean         2.771499\n",
       "std          1.261056\n",
       "min          1.000000\n",
       "25%          2.520000\n",
       "50%          2.650000\n",
       "75%          2.800000\n",
       "max        100.000000\n",
       "Name: ceiling_height, dtype: float64"
      ]
     },
     "execution_count": 5,
     "metadata": {},
     "output_type": "execute_result"
    }
   ],
   "source": [
    "sale_of_flats['ceiling_height'].describe()"
   ]
  },
  {
   "cell_type": "markdown",
   "metadata": {},
   "source": [
    "В столбце присутствуют подозрительные значения, такие как максимальное значение 100. Так как 75% данных меньше значения 2.8, делаем вывод, что либо это 33-этажный дом без этажей, либо это ошибка."
   ]
  },
  {
   "cell_type": "markdown",
   "metadata": {},
   "source": [
    "Чтобы убедиться можем ли мы произвести замену пропущенных значений на медианное значение столбца посмотрим гистограмму с изначальными значениями и уже с замененными."
   ]
  },
  {
   "cell_type": "code",
   "execution_count": 6,
   "metadata": {},
   "outputs": [
    {
     "data": {
      "text/plain": [
       "<matplotlib.axes._subplots.AxesSubplot at 0x7f54cac91550>"
      ]
     },
     "execution_count": 6,
     "metadata": {},
     "output_type": "execute_result"
    },
    {
     "data": {
      "image/png": "[encoded data removed]",
      "text/plain": [
       "<Figure size 432x288 with 1 Axes>"
      ]
     },
     "metadata": {
      "needs_background": "light"
     },
     "output_type": "display_data"
    }
   ],
   "source": [
    "sale_of_flats['ceiling_height'].hist(bins=30, range=(sale_of_flats['ceiling_height'].describe()['25%'], sale_of_flats['ceiling_height'].describe()['75%']))"
   ]
  },
  {
   "cell_type": "markdown",
   "metadata": {},
   "source": [
    "Для проверки правильности замены данных, заменим пропущенные значения на медиану(квантиль), потому, что высоты потолков +- везде близки по значениям. И посмотрим на гистограмму, которая вышла."
   ]
  },
  {
   "cell_type": "code",
   "execution_count": 7,
   "metadata": {},
   "outputs": [
    {
     "data": {
      "text/plain": [
       "<matplotlib.axes._subplots.AxesSubplot at 0x7f54c87ef4d0>"
      ]
     },
     "execution_count": 7,
     "metadata": {},
     "output_type": "execute_result"
    },
    {
     "data": {
      "image/png": "[encoded data removed]",
      "text/plain": [
       "<Figure size 432x288 with 1 Axes>"
      ]
     },
     "metadata": {
      "needs_background": "light"
     },
     "output_type": "display_data"
    }
   ],
   "source": [
    "sale_of_flats['ceiling_height'].fillna(2.65).hist(bins=30, range=(sale_of_flats['ceiling_height'].describe()['25%'], sale_of_flats['ceiling_height'].describe()['75%']))"
   ]
  },
  {
   "cell_type": "markdown",
   "metadata": {},
   "source": [
    "В изначальных данных столбец 2.65 был меньше, чем 2.70 и 2.60, а сейчас он больше всех из-за того, что пропущенных значений очень много. Получается мы изменяем исходные данные. "
   ]
  },
  {
   "cell_type": "markdown",
   "metadata": {},
   "source": [
    "Обычно, высота домов нормирована. Исходя из этого, можем взять дома с таким же количеством этажей"
   ]
  },
  {
   "cell_type": "markdown",
   "metadata": {},
   "source": [
    "Найдем медианное значение высоты потолков для домов, с одинаковым колличеством этажей."
   ]
  },
  {
   "cell_type": "code",
   "execution_count": 8,
   "metadata": {
    "scrolled": true
   },
   "outputs": [
    {
     "data": {
      "text/html": [
       "<div>\n",
       "<style scoped>\n",
       "    .dataframe tbody tr th:only-of-type {\n",
       "        vertical-align: middle;\n",
       "    }\n",
       "\n",
       "    .dataframe tbody tr th {\n",
       "        vertical-align: top;\n",
       "    }\n",
       "\n",
       "    .dataframe thead th {\n",
       "        text-align: right;\n",
       "    }\n",
       "</style>\n",
       "<table border=\"1\" class=\"dataframe\">\n",
       "  <thead>\n",
       "    <tr style=\"text-align: right;\">\n",
       "      <th></th>\n",
       "      <th>ceiling_height</th>\n",
       "    </tr>\n",
       "    <tr>\n",
       "      <th>floors_total</th>\n",
       "      <th></th>\n",
       "    </tr>\n",
       "  </thead>\n",
       "  <tbody>\n",
       "    <tr>\n",
       "      <td>1.0</td>\n",
       "      <td>2.80</td>\n",
       "    </tr>\n",
       "    <tr>\n",
       "      <td>2.0</td>\n",
       "      <td>2.70</td>\n",
       "    </tr>\n",
       "    <tr>\n",
       "      <td>3.0</td>\n",
       "      <td>2.80</td>\n",
       "    </tr>\n",
       "    <tr>\n",
       "      <td>4.0</td>\n",
       "      <td>3.00</td>\n",
       "    </tr>\n",
       "    <tr>\n",
       "      <td>5.0</td>\n",
       "      <td>2.55</td>\n",
       "    </tr>\n",
       "    <tr>\n",
       "      <td>6.0</td>\n",
       "      <td>3.00</td>\n",
       "    </tr>\n",
       "    <tr>\n",
       "      <td>7.0</td>\n",
       "      <td>3.00</td>\n",
       "    </tr>\n",
       "    <tr>\n",
       "      <td>8.0</td>\n",
       "      <td>2.80</td>\n",
       "    </tr>\n",
       "    <tr>\n",
       "      <td>9.0</td>\n",
       "      <td>2.55</td>\n",
       "    </tr>\n",
       "    <tr>\n",
       "      <td>10.0</td>\n",
       "      <td>2.60</td>\n",
       "    </tr>\n",
       "    <tr>\n",
       "      <td>11.0</td>\n",
       "      <td>2.75</td>\n",
       "    </tr>\n",
       "    <tr>\n",
       "      <td>12.0</td>\n",
       "      <td>2.65</td>\n",
       "    </tr>\n",
       "    <tr>\n",
       "      <td>13.0</td>\n",
       "      <td>2.70</td>\n",
       "    </tr>\n",
       "    <tr>\n",
       "      <td>14.0</td>\n",
       "      <td>2.60</td>\n",
       "    </tr>\n",
       "    <tr>\n",
       "      <td>15.0</td>\n",
       "      <td>2.70</td>\n",
       "    </tr>\n",
       "    <tr>\n",
       "      <td>16.0</td>\n",
       "      <td>2.70</td>\n",
       "    </tr>\n",
       "    <tr>\n",
       "      <td>17.0</td>\n",
       "      <td>2.70</td>\n",
       "    </tr>\n",
       "    <tr>\n",
       "      <td>18.0</td>\n",
       "      <td>2.70</td>\n",
       "    </tr>\n",
       "    <tr>\n",
       "      <td>19.0</td>\n",
       "      <td>2.75</td>\n",
       "    </tr>\n",
       "    <tr>\n",
       "      <td>20.0</td>\n",
       "      <td>2.75</td>\n",
       "    </tr>\n",
       "    <tr>\n",
       "      <td>21.0</td>\n",
       "      <td>2.70</td>\n",
       "    </tr>\n",
       "    <tr>\n",
       "      <td>22.0</td>\n",
       "      <td>2.75</td>\n",
       "    </tr>\n",
       "    <tr>\n",
       "      <td>23.0</td>\n",
       "      <td>2.75</td>\n",
       "    </tr>\n",
       "    <tr>\n",
       "      <td>24.0</td>\n",
       "      <td>2.75</td>\n",
       "    </tr>\n",
       "    <tr>\n",
       "      <td>25.0</td>\n",
       "      <td>2.75</td>\n",
       "    </tr>\n",
       "    <tr>\n",
       "      <td>26.0</td>\n",
       "      <td>2.66</td>\n",
       "    </tr>\n",
       "    <tr>\n",
       "      <td>27.0</td>\n",
       "      <td>2.70</td>\n",
       "    </tr>\n",
       "    <tr>\n",
       "      <td>28.0</td>\n",
       "      <td>2.60</td>\n",
       "    </tr>\n",
       "    <tr>\n",
       "      <td>29.0</td>\n",
       "      <td>2.60</td>\n",
       "    </tr>\n",
       "    <tr>\n",
       "      <td>33.0</td>\n",
       "      <td>NaN</td>\n",
       "    </tr>\n",
       "    <tr>\n",
       "      <td>34.0</td>\n",
       "      <td>2.65</td>\n",
       "    </tr>\n",
       "    <tr>\n",
       "      <td>35.0</td>\n",
       "      <td>2.70</td>\n",
       "    </tr>\n",
       "    <tr>\n",
       "      <td>36.0</td>\n",
       "      <td>14.85</td>\n",
       "    </tr>\n",
       "    <tr>\n",
       "      <td>37.0</td>\n",
       "      <td>1.75</td>\n",
       "    </tr>\n",
       "    <tr>\n",
       "      <td>52.0</td>\n",
       "      <td>2.65</td>\n",
       "    </tr>\n",
       "    <tr>\n",
       "      <td>60.0</td>\n",
       "      <td>2.88</td>\n",
       "    </tr>\n",
       "  </tbody>\n",
       "</table>\n",
       "</div>"
      ],
      "text/plain": [
       "              ceiling_height\n",
       "floors_total                \n",
       "1.0                     2.80\n",
       "2.0                     2.70\n",
       "3.0                     2.80\n",
       "4.0                     3.00\n",
       "5.0                     2.55\n",
       "6.0                     3.00\n",
       "7.0                     3.00\n",
       "8.0                     2.80\n",
       "9.0                     2.55\n",
       "10.0                    2.60\n",
       "11.0                    2.75\n",
       "12.0                    2.65\n",
       "13.0                    2.70\n",
       "14.0                    2.60\n",
       "15.0                    2.70\n",
       "16.0                    2.70\n",
       "17.0                    2.70\n",
       "18.0                    2.70\n",
       "19.0                    2.75\n",
       "20.0                    2.75\n",
       "21.0                    2.70\n",
       "22.0                    2.75\n",
       "23.0                    2.75\n",
       "24.0                    2.75\n",
       "25.0                    2.75\n",
       "26.0                    2.66\n",
       "27.0                    2.70\n",
       "28.0                    2.60\n",
       "29.0                    2.60\n",
       "33.0                     NaN\n",
       "34.0                    2.65\n",
       "35.0                    2.70\n",
       "36.0                   14.85\n",
       "37.0                    1.75\n",
       "52.0                    2.65\n",
       "60.0                    2.88"
      ]
     },
     "execution_count": 8,
     "metadata": {},
     "output_type": "execute_result"
    }
   ],
   "source": [
    "height_by_floors = sale_of_flats.groupby('floors_total').agg({'ceiling_height': \"median\"})\n",
    "height_by_floors"
   ]
  },
  {
   "cell_type": "markdown",
   "metadata": {},
   "source": [
    "Мы видим, что 33 этаж имеет пропущенное значение. Заменим его на медианное значение всего столбца."
   ]
  },
  {
   "cell_type": "code",
   "execution_count": 9,
   "metadata": {
    "scrolled": true
   },
   "outputs": [
    {
     "data": {
      "text/html": [
       "<div>\n",
       "<style scoped>\n",
       "    .dataframe tbody tr th:only-of-type {\n",
       "        vertical-align: middle;\n",
       "    }\n",
       "\n",
       "    .dataframe tbody tr th {\n",
       "        vertical-align: top;\n",
       "    }\n",
       "\n",
       "    .dataframe thead th {\n",
       "        text-align: right;\n",
       "    }\n",
       "</style>\n",
       "<table border=\"1\" class=\"dataframe\">\n",
       "  <thead>\n",
       "    <tr style=\"text-align: right;\">\n",
       "      <th></th>\n",
       "      <th>ceiling_height</th>\n",
       "    </tr>\n",
       "    <tr>\n",
       "      <th>floors_total</th>\n",
       "      <th></th>\n",
       "    </tr>\n",
       "  </thead>\n",
       "  <tbody>\n",
       "    <tr>\n",
       "      <td>1.0</td>\n",
       "      <td>2.80</td>\n",
       "    </tr>\n",
       "    <tr>\n",
       "      <td>2.0</td>\n",
       "      <td>2.70</td>\n",
       "    </tr>\n",
       "    <tr>\n",
       "      <td>3.0</td>\n",
       "      <td>2.80</td>\n",
       "    </tr>\n",
       "    <tr>\n",
       "      <td>4.0</td>\n",
       "      <td>3.00</td>\n",
       "    </tr>\n",
       "    <tr>\n",
       "      <td>5.0</td>\n",
       "      <td>2.55</td>\n",
       "    </tr>\n",
       "    <tr>\n",
       "      <td>6.0</td>\n",
       "      <td>3.00</td>\n",
       "    </tr>\n",
       "    <tr>\n",
       "      <td>7.0</td>\n",
       "      <td>3.00</td>\n",
       "    </tr>\n",
       "    <tr>\n",
       "      <td>8.0</td>\n",
       "      <td>2.80</td>\n",
       "    </tr>\n",
       "    <tr>\n",
       "      <td>9.0</td>\n",
       "      <td>2.55</td>\n",
       "    </tr>\n",
       "    <tr>\n",
       "      <td>10.0</td>\n",
       "      <td>2.60</td>\n",
       "    </tr>\n",
       "    <tr>\n",
       "      <td>11.0</td>\n",
       "      <td>2.75</td>\n",
       "    </tr>\n",
       "    <tr>\n",
       "      <td>12.0</td>\n",
       "      <td>2.65</td>\n",
       "    </tr>\n",
       "    <tr>\n",
       "      <td>13.0</td>\n",
       "      <td>2.70</td>\n",
       "    </tr>\n",
       "    <tr>\n",
       "      <td>14.0</td>\n",
       "      <td>2.60</td>\n",
       "    </tr>\n",
       "    <tr>\n",
       "      <td>15.0</td>\n",
       "      <td>2.70</td>\n",
       "    </tr>\n",
       "    <tr>\n",
       "      <td>16.0</td>\n",
       "      <td>2.70</td>\n",
       "    </tr>\n",
       "    <tr>\n",
       "      <td>17.0</td>\n",
       "      <td>2.70</td>\n",
       "    </tr>\n",
       "    <tr>\n",
       "      <td>18.0</td>\n",
       "      <td>2.70</td>\n",
       "    </tr>\n",
       "    <tr>\n",
       "      <td>19.0</td>\n",
       "      <td>2.75</td>\n",
       "    </tr>\n",
       "    <tr>\n",
       "      <td>20.0</td>\n",
       "      <td>2.75</td>\n",
       "    </tr>\n",
       "    <tr>\n",
       "      <td>21.0</td>\n",
       "      <td>2.70</td>\n",
       "    </tr>\n",
       "    <tr>\n",
       "      <td>22.0</td>\n",
       "      <td>2.75</td>\n",
       "    </tr>\n",
       "    <tr>\n",
       "      <td>23.0</td>\n",
       "      <td>2.75</td>\n",
       "    </tr>\n",
       "    <tr>\n",
       "      <td>24.0</td>\n",
       "      <td>2.75</td>\n",
       "    </tr>\n",
       "    <tr>\n",
       "      <td>25.0</td>\n",
       "      <td>2.75</td>\n",
       "    </tr>\n",
       "    <tr>\n",
       "      <td>26.0</td>\n",
       "      <td>2.66</td>\n",
       "    </tr>\n",
       "    <tr>\n",
       "      <td>27.0</td>\n",
       "      <td>2.70</td>\n",
       "    </tr>\n",
       "    <tr>\n",
       "      <td>28.0</td>\n",
       "      <td>2.60</td>\n",
       "    </tr>\n",
       "    <tr>\n",
       "      <td>29.0</td>\n",
       "      <td>2.60</td>\n",
       "    </tr>\n",
       "    <tr>\n",
       "      <td>33.0</td>\n",
       "      <td>2.70</td>\n",
       "    </tr>\n",
       "    <tr>\n",
       "      <td>34.0</td>\n",
       "      <td>2.65</td>\n",
       "    </tr>\n",
       "    <tr>\n",
       "      <td>35.0</td>\n",
       "      <td>2.70</td>\n",
       "    </tr>\n",
       "    <tr>\n",
       "      <td>36.0</td>\n",
       "      <td>14.85</td>\n",
       "    </tr>\n",
       "    <tr>\n",
       "      <td>37.0</td>\n",
       "      <td>1.75</td>\n",
       "    </tr>\n",
       "    <tr>\n",
       "      <td>52.0</td>\n",
       "      <td>2.65</td>\n",
       "    </tr>\n",
       "    <tr>\n",
       "      <td>60.0</td>\n",
       "      <td>2.88</td>\n",
       "    </tr>\n",
       "  </tbody>\n",
       "</table>\n",
       "</div>"
      ],
      "text/plain": [
       "              ceiling_height\n",
       "floors_total                \n",
       "1.0                     2.80\n",
       "2.0                     2.70\n",
       "3.0                     2.80\n",
       "4.0                     3.00\n",
       "5.0                     2.55\n",
       "6.0                     3.00\n",
       "7.0                     3.00\n",
       "8.0                     2.80\n",
       "9.0                     2.55\n",
       "10.0                    2.60\n",
       "11.0                    2.75\n",
       "12.0                    2.65\n",
       "13.0                    2.70\n",
       "14.0                    2.60\n",
       "15.0                    2.70\n",
       "16.0                    2.70\n",
       "17.0                    2.70\n",
       "18.0                    2.70\n",
       "19.0                    2.75\n",
       "20.0                    2.75\n",
       "21.0                    2.70\n",
       "22.0                    2.75\n",
       "23.0                    2.75\n",
       "24.0                    2.75\n",
       "25.0                    2.75\n",
       "26.0                    2.66\n",
       "27.0                    2.70\n",
       "28.0                    2.60\n",
       "29.0                    2.60\n",
       "33.0                    2.70\n",
       "34.0                    2.65\n",
       "35.0                    2.70\n",
       "36.0                   14.85\n",
       "37.0                    1.75\n",
       "52.0                    2.65\n",
       "60.0                    2.88"
      ]
     },
     "execution_count": 9,
     "metadata": {},
     "output_type": "execute_result"
    }
   ],
   "source": [
    "height_by_floors = height_by_floors.fillna(height_by_floors['ceiling_height'].median())\n",
    "height_by_floors"
   ]
  },
  {
   "cell_type": "markdown",
   "metadata": {},
   "source": [
    "Создадим функцию, которая будет заменять пропущенное значение в столбце дф sale_of_flats 'ceiling_height' на значение высоты потолков в дф height_by_floors. "
   ]
  },
  {
   "cell_type": "markdown",
   "metadata": {},
   "source": [
    "Создадим переменную, на которую будем заменять в случаях, когда не найдется подходящих значений."
   ]
  },
  {
   "cell_type": "code",
   "execution_count": 10,
   "metadata": {},
   "outputs": [],
   "source": [
    "second_chance = sale_of_flats['ceiling_height'].median()"
   ]
  },
  {
   "cell_type": "markdown",
   "metadata": {},
   "source": [
    "Создадим функцию, которая в случае отсутствия пропущенных значений, оставит то значение, которое и было. Если значение этажей совпадет с этажами в нужном нам для замены доме, то он вернет значение из нового дф, со средними значениями по этажам. И в случае, если не подберутся заданные нами условия, то он вернет просто среднее значение по столбцу."
   ]
  },
  {
   "cell_type": "code",
   "execution_count": 11,
   "metadata": {},
   "outputs": [],
   "source": [
    "def height_func(row):\n",
    "    if not np.isnan(row['ceiling_height']):\n",
    "        return row['ceiling_height']\n",
    "    for floors in height_by_floors.index.values:\n",
    "        if row['floors_total'] == floors:\n",
    "            return height_by_floors[height_by_floors.index == floors]['ceiling_height'].values[0]\n",
    "        return second_chance\n",
    "\n",
    "sale_of_flats['ceiling_height'] = sale_of_flats.apply(height_func, axis=1)"
   ]
  },
  {
   "cell_type": "markdown",
   "metadata": {},
   "source": [
    "Проверим работу функции."
   ]
  },
  {
   "cell_type": "code",
   "execution_count": 12,
   "metadata": {},
   "outputs": [
    {
     "data": {
      "text/plain": [
       "0"
      ]
     },
     "execution_count": 12,
     "metadata": {},
     "output_type": "execute_result"
    }
   ],
   "source": [
    "sale_of_flats['ceiling_height'].isna().sum()"
   ]
  },
  {
   "cell_type": "markdown",
   "metadata": {},
   "source": [
    "Пропущенные значения отсутствуют."
   ]
  },
  {
   "cell_type": "markdown",
   "metadata": {},
   "source": [
    "Следующий столбец 'floors_total'(Всего этажей в доме)."
   ]
  },
  {
   "cell_type": "code",
   "execution_count": 13,
   "metadata": {},
   "outputs": [
    {
     "data": {
      "text/plain": [
       "count    23613.000000\n",
       "mean        10.673824\n",
       "std          6.597173\n",
       "min          1.000000\n",
       "25%          5.000000\n",
       "50%          9.000000\n",
       "75%         16.000000\n",
       "max         60.000000\n",
       "Name: floors_total, dtype: float64"
      ]
     },
     "execution_count": 13,
     "metadata": {},
     "output_type": "execute_result"
    }
   ],
   "source": [
    "sale_of_flats['floors_total'].describe()"
   ]
  },
  {
   "cell_type": "code",
   "execution_count": 14,
   "metadata": {},
   "outputs": [
    {
     "name": "stdout",
     "output_type": "stream",
     "text": [
      "Берем во внимание, что пропущенных значений в этом столбце: 0.36%\n"
     ]
    }
   ],
   "source": [
    "miss_totalfloors = 86/23699\n",
    "print('Берем во внимание, что пропущенных значений в этом столбце: {:.2%}'. format(miss_totalfloors))"
   ]
  },
  {
   "cell_type": "markdown",
   "metadata": {},
   "source": [
    "Исходя из малого количества пропусков мы можем заменить пропущенные значения на медианное значение, а если квартира будет на этаже выше, чем полученное значение, то мы заполним пропущенное значение равное этажу этой квартиры. Таким образом у нас будет полный набор данных для последующего анализа и не будет потерь в качестве исследования, потому, что погрешность мала. "
   ]
  },
  {
   "cell_type": "markdown",
   "metadata": {},
   "source": [
    "Также изменим тип столбца 'floors_total' с float на int, потому,что этаж может быть только целочисленным значением."
   ]
  },
  {
   "cell_type": "code",
   "execution_count": 15,
   "metadata": {},
   "outputs": [],
   "source": [
    "sale_of_flats['floors_total'] = sale_of_flats['floors_total'].fillna(sale_of_flats['floors_total'].median())\n",
    "sale_of_flats['floors_total'] = sale_of_flats['floors_total'].astype('int')"
   ]
  },
  {
   "cell_type": "code",
   "execution_count": 16,
   "metadata": {},
   "outputs": [],
   "source": [
    "f = 0\n",
    "while f < sale_of_flats.shape[0]:\n",
    "    floor = sale_of_flats.loc[f, 'floor']\n",
    "    total_f = sale_of_flats.loc[f, 'floors_total']\n",
    "    if floor > total_f:\n",
    "        sale_of_flats['floors_total'] = sale_of_flats['floors_total'].replace(total_f, floor)\n",
    "    f += 1    "
   ]
  },
  {
   "cell_type": "markdown",
   "metadata": {},
   "source": [
    "Проверим как сработал цикл, путем проверки существования значений всего этажей в доме, меньше, чем этаж, на котором находится квартира."
   ]
  },
  {
   "cell_type": "code",
   "execution_count": 17,
   "metadata": {},
   "outputs": [
    {
     "name": "stdout",
     "output_type": "stream",
     "text": [
      "Empty DataFrame\n",
      "Columns: [total_images, last_price, total_area, first_day_exposition, rooms, ceiling_height, floors_total, living_area, floor, is_apartment, studio, open_plan, kitchen_area, balcony, locality_name, airports_nearest, cityCenters_nearest, parks_around3000, parks_nearest, ponds_around3000, ponds_nearest, days_exposition]\n",
      "Index: []\n",
      "\n",
      "[0 rows x 22 columns]\n"
     ]
    }
   ],
   "source": [
    "print(sale_of_flats.query('floors_total < floor'))"
   ]
  },
  {
   "cell_type": "markdown",
   "metadata": {},
   "source": [
    "Таких значений не существует, значит все значения в этом столбце соответствуют логике и здравому смыслу."
   ]
  },
  {
   "cell_type": "markdown",
   "metadata": {},
   "source": [
    "В столбце 'balcony', если отсутствует значение в ячейке, то соответственно и в квартире балкон отсутствует тоже. Заменим методом fillna() пропущенные значения на 0, а также заменим на тип 'int', потому что это только целочисленное значение."
   ]
  },
  {
   "cell_type": "code",
   "execution_count": 18,
   "metadata": {},
   "outputs": [],
   "source": [
    "sale_of_flats['balcony'] = sale_of_flats['balcony'].fillna(0)\n",
    "sale_of_flats['balcony'] = sale_of_flats['balcony'].astype('int')"
   ]
  },
  {
   "cell_type": "markdown",
   "metadata": {},
   "source": [
    "Также у нас присутствует два столбца с типом данных bool это 'studio' и 'open_plan', но по логике так же с этим типом должен быть и столбец 'is_apartment', потому, что на параметры 'свободная планировка', 'аппартаменты' и 'квартира-студия' может быть ответ только 'Да' или 'Нет'. Поэтому мы заменим сначала тип данных у 'is_apartment', а потом заменим пропущенные значения на 'False' потому, что если этих значений нет, стало быть из-за отсутствия их и не заполнили."
   ]
  },
  {
   "cell_type": "code",
   "execution_count": 19,
   "metadata": {},
   "outputs": [],
   "source": [
    "sale_of_flats['is_apartment'] = sale_of_flats['is_apartment'].astype('bool')"
   ]
  },
  {
   "cell_type": "code",
   "execution_count": 20,
   "metadata": {},
   "outputs": [],
   "source": [
    "sale_of_flats['is_apartment'] = sale_of_flats['is_apartment'].fillna(False)\n",
    "sale_of_flats['studio'] = sale_of_flats['studio'].fillna(False)\n",
    "sale_of_flats['open_plan'] = sale_of_flats['open_plan'].fillna(False)"
   ]
  },
  {
   "cell_type": "markdown",
   "metadata": {},
   "source": [
    "Далее заменим тип столбца 'first_day_exposition' с object на дату методом to_datetime(). Мы не устанавливаем параметр времени, потому, что в главной таблице время не указано, только день."
   ]
  },
  {
   "cell_type": "code",
   "execution_count": 21,
   "metadata": {},
   "outputs": [],
   "source": [
    "sale_of_flats['first_day_exposition'] = pd.to_datetime(sale_of_flats['first_day_exposition'], format='%Y.%m.%d')"
   ]
  },
  {
   "cell_type": "markdown",
   "metadata": {},
   "source": [
    "Так как квартиры типовые, а в столбце с общей площадью нет пропусков, то заполним пропуски в столбцах с площадью кухни и жилой площадью теми же значениями, что и у квартир с такой же общей площадью."
   ]
  },
  {
   "cell_type": "code",
   "execution_count": 22,
   "metadata": {},
   "outputs": [],
   "source": [
    "area = sale_of_flats[['total_area', 'living_area', 'kitchen_area']]"
   ]
  },
  {
   "cell_type": "markdown",
   "metadata": {},
   "source": [
    "Создадим сводную таблицу со всеми значениями, которые нам нужны."
   ]
  },
  {
   "cell_type": "code",
   "execution_count": 23,
   "metadata": {},
   "outputs": [],
   "source": [
    "area_med = (\n",
    "    sale_of_flats\n",
    "    .pivot_table(index='total_area', values=['living_area', 'kitchen_area'], aggfunc='median')\n",
    ")"
   ]
  },
  {
   "cell_type": "markdown",
   "metadata": {},
   "source": [
    "Создадим переменные cредних значений."
   ]
  },
  {
   "cell_type": "code",
   "execution_count": 24,
   "metadata": {},
   "outputs": [],
   "source": [
    "living_med = area_med['living_area'].median()"
   ]
  },
  {
   "cell_type": "code",
   "execution_count": 25,
   "metadata": {},
   "outputs": [],
   "source": [
    "kitchen_med = area_med['kitchen_area'].median()"
   ]
  },
  {
   "cell_type": "markdown",
   "metadata": {},
   "source": [
    "Воспользуемся той же функцией, что и для замены высоты потолков.\n",
    "Сначала для жилой зоны."
   ]
  },
  {
   "cell_type": "code",
   "execution_count": 26,
   "metadata": {},
   "outputs": [],
   "source": [
    "def living_func(row):\n",
    "    if not np.isnan(row['living_area']):\n",
    "        return row['living_area']\n",
    "    for area_liv in area_med.index.values:\n",
    "        if row['total_area'] == area_liv:\n",
    "            return area_med[area_med.index == area_liv]['living_area'].values[0]\n",
    "        return living_med\n",
    "        \n",
    "sale_of_flats['living_area'] = sale_of_flats.apply(living_func, axis=1)"
   ]
  },
  {
   "cell_type": "markdown",
   "metadata": {},
   "source": [
    "Проделаем то же самое со столбцом площади кухни."
   ]
  },
  {
   "cell_type": "code",
   "execution_count": 27,
   "metadata": {},
   "outputs": [],
   "source": [
    "def kitchen_func(row):\n",
    "    if not np.isnan(row['kitchen_area']):\n",
    "        return row['kitchen_area']\n",
    "    for area_liv in area_med.index.values:\n",
    "        if row['total_area'] == area_liv:\n",
    "            return area_med[area_med.index == area_liv]['kitchen_area'].values[0]\n",
    "        return kitchen_med\n",
    "        \n",
    "sale_of_flats['kitchen_area'] = sale_of_flats.apply(kitchen_func, axis=1)"
   ]
  },
  {
   "cell_type": "markdown",
   "metadata": {},
   "source": [
    "Так как в столбце с названием населенного пунтка очень мало значений, мы можем заменить его на отвлеченное значение, не связанное ни с чем. В данном случае, как мне кажется это значение - г. Санкт- Петербург, этот город, как медиана в данном столбце, потому, как большинство объявлений размещены в нем."
   ]
  },
  {
   "cell_type": "code",
   "execution_count": 28,
   "metadata": {},
   "outputs": [],
   "source": [
    "sale_of_flats['locality_name'] = sale_of_flats['locality_name'].fillna('Санкт-Петербург')"
   ]
  },
  {
   "cell_type": "markdown",
   "metadata": {},
   "source": [
    "Той же схемой заполним пропущенные значения в столбце расстояния от центра города."
   ]
  },
  {
   "cell_type": "code",
   "execution_count": 29,
   "metadata": {},
   "outputs": [],
   "source": [
    "center_med = (\n",
    "    sale_of_flats\n",
    "    .pivot_table(index='locality_name', values='cityCenters_nearest', aggfunc='median')\n",
    ")"
   ]
  },
  {
   "cell_type": "code",
   "execution_count": 30,
   "metadata": {},
   "outputs": [],
   "source": [
    "cityCenters_med = sale_of_flats['cityCenters_nearest'].median()"
   ]
  },
  {
   "cell_type": "code",
   "execution_count": 31,
   "metadata": {},
   "outputs": [],
   "source": [
    "def cityCenters_func(row):\n",
    "    if not np.isnan(row['cityCenters_nearest']):\n",
    "        return row['cityCenters_nearest']\n",
    "    for cityname in sale_of_flats.index.values:\n",
    "        if row['locality_name'] == cityname:\n",
    "            return sale_of_flats[sale_of_flats.index == cityname]['cityCenters_nearest'].values[0]\n",
    "        return cityCenters_med\n",
    "        \n",
    "sale_of_flats['cityCenters_nearest'] = sale_of_flats.apply(cityCenters_func, axis=1)"
   ]
  },
  {
   "cell_type": "code",
   "execution_count": 32,
   "metadata": {},
   "outputs": [
    {
     "name": "stdout",
     "output_type": "stream",
     "text": [
      "<class 'pandas.core.frame.DataFrame'>\n",
      "RangeIndex: 23699 entries, 0 to 23698\n",
      "Data columns (total 22 columns):\n",
      "total_images            23699 non-null int64\n",
      "last_price              23699 non-null float64\n",
      "total_area              23699 non-null float64\n",
      "first_day_exposition    23699 non-null datetime64[ns]\n",
      "rooms                   23699 non-null int64\n",
      "ceiling_height          23699 non-null float64\n",
      "floors_total            23699 non-null int64\n",
      "living_area             23699 non-null float64\n",
      "floor                   23699 non-null int64\n",
      "is_apartment            23699 non-null bool\n",
      "studio                  23699 non-null bool\n",
      "open_plan               23699 non-null bool\n",
      "kitchen_area            23698 non-null float64\n",
      "balcony                 23699 non-null int64\n",
      "locality_name           23699 non-null object\n",
      "airports_nearest        18157 non-null float64\n",
      "cityCenters_nearest     23699 non-null float64\n",
      "parks_around3000        18181 non-null float64\n",
      "parks_nearest           8079 non-null float64\n",
      "ponds_around3000        18181 non-null float64\n",
      "ponds_nearest           9110 non-null float64\n",
      "days_exposition         20518 non-null float64\n",
      "dtypes: bool(3), datetime64[ns](1), float64(12), int64(5), object(1)\n",
      "memory usage: 3.5+ MB\n"
     ]
    }
   ],
   "source": [
    "sale_of_flats.info()"
   ]
  },
  {
   "cell_type": "markdown",
   "metadata": {},
   "source": [
    "Проверим все ли значения на своих местах."
   ]
  },
  {
   "cell_type": "code",
   "execution_count": 33,
   "metadata": {},
   "outputs": [
    {
     "data": {
      "text/plain": [
       "total_images                0\n",
       "last_price                  0\n",
       "total_area                  0\n",
       "first_day_exposition        0\n",
       "rooms                       0\n",
       "ceiling_height              0\n",
       "floors_total                0\n",
       "living_area                 0\n",
       "floor                       0\n",
       "is_apartment                0\n",
       "studio                      0\n",
       "open_plan                   0\n",
       "kitchen_area                1\n",
       "balcony                     0\n",
       "locality_name               0\n",
       "airports_nearest         5542\n",
       "cityCenters_nearest         0\n",
       "parks_around3000         5518\n",
       "parks_nearest           15620\n",
       "ponds_around3000         5518\n",
       "ponds_nearest           14589\n",
       "days_exposition          3181\n",
       "dtype: int64"
      ]
     },
     "execution_count": 33,
     "metadata": {},
     "output_type": "execute_result"
    }
   ],
   "source": [
    "sale_of_flats.isna().sum()"
   ]
  },
  {
   "cell_type": "code",
   "execution_count": 34,
   "metadata": {},
   "outputs": [
    {
     "data": {
      "text/html": [
       "<div>\n",
       "<style scoped>\n",
       "    .dataframe tbody tr th:only-of-type {\n",
       "        vertical-align: middle;\n",
       "    }\n",
       "\n",
       "    .dataframe tbody tr th {\n",
       "        vertical-align: top;\n",
       "    }\n",
       "\n",
       "    .dataframe thead th {\n",
       "        text-align: right;\n",
       "    }\n",
       "</style>\n",
       "<table border=\"1\" class=\"dataframe\">\n",
       "  <thead>\n",
       "    <tr style=\"text-align: right;\">\n",
       "      <th></th>\n",
       "      <th>total_images</th>\n",
       "      <th>last_price</th>\n",
       "      <th>total_area</th>\n",
       "      <th>first_day_exposition</th>\n",
       "      <th>rooms</th>\n",
       "      <th>ceiling_height</th>\n",
       "      <th>floors_total</th>\n",
       "      <th>living_area</th>\n",
       "      <th>floor</th>\n",
       "      <th>is_apartment</th>\n",
       "      <th>...</th>\n",
       "      <th>kitchen_area</th>\n",
       "      <th>balcony</th>\n",
       "      <th>locality_name</th>\n",
       "      <th>airports_nearest</th>\n",
       "      <th>cityCenters_nearest</th>\n",
       "      <th>parks_around3000</th>\n",
       "      <th>parks_nearest</th>\n",
       "      <th>ponds_around3000</th>\n",
       "      <th>ponds_nearest</th>\n",
       "      <th>days_exposition</th>\n",
       "    </tr>\n",
       "  </thead>\n",
       "  <tbody>\n",
       "    <tr>\n",
       "      <td>0</td>\n",
       "      <td>20</td>\n",
       "      <td>13000000.0</td>\n",
       "      <td>108.0</td>\n",
       "      <td>2019-03-07</td>\n",
       "      <td>3</td>\n",
       "      <td>2.70</td>\n",
       "      <td>16</td>\n",
       "      <td>51.0</td>\n",
       "      <td>8</td>\n",
       "      <td>True</td>\n",
       "      <td>...</td>\n",
       "      <td>25.00</td>\n",
       "      <td>0</td>\n",
       "      <td>Санкт-Петербург</td>\n",
       "      <td>18863.0</td>\n",
       "      <td>16028.0</td>\n",
       "      <td>1.0</td>\n",
       "      <td>482.0</td>\n",
       "      <td>2.0</td>\n",
       "      <td>755.0</td>\n",
       "      <td>NaN</td>\n",
       "    </tr>\n",
       "    <tr>\n",
       "      <td>1</td>\n",
       "      <td>7</td>\n",
       "      <td>3350000.0</td>\n",
       "      <td>40.4</td>\n",
       "      <td>2018-12-04</td>\n",
       "      <td>1</td>\n",
       "      <td>2.65</td>\n",
       "      <td>11</td>\n",
       "      <td>18.6</td>\n",
       "      <td>1</td>\n",
       "      <td>True</td>\n",
       "      <td>...</td>\n",
       "      <td>11.00</td>\n",
       "      <td>2</td>\n",
       "      <td>посёлок Шушары</td>\n",
       "      <td>12817.0</td>\n",
       "      <td>18603.0</td>\n",
       "      <td>0.0</td>\n",
       "      <td>NaN</td>\n",
       "      <td>0.0</td>\n",
       "      <td>NaN</td>\n",
       "      <td>81.0</td>\n",
       "    </tr>\n",
       "    <tr>\n",
       "      <td>2</td>\n",
       "      <td>10</td>\n",
       "      <td>5196000.0</td>\n",
       "      <td>56.0</td>\n",
       "      <td>2015-08-20</td>\n",
       "      <td>2</td>\n",
       "      <td>2.65</td>\n",
       "      <td>5</td>\n",
       "      <td>34.3</td>\n",
       "      <td>4</td>\n",
       "      <td>True</td>\n",
       "      <td>...</td>\n",
       "      <td>8.30</td>\n",
       "      <td>0</td>\n",
       "      <td>Санкт-Петербург</td>\n",
       "      <td>21741.0</td>\n",
       "      <td>13933.0</td>\n",
       "      <td>1.0</td>\n",
       "      <td>90.0</td>\n",
       "      <td>2.0</td>\n",
       "      <td>574.0</td>\n",
       "      <td>558.0</td>\n",
       "    </tr>\n",
       "    <tr>\n",
       "      <td>3</td>\n",
       "      <td>0</td>\n",
       "      <td>64900000.0</td>\n",
       "      <td>159.0</td>\n",
       "      <td>2015-07-24</td>\n",
       "      <td>3</td>\n",
       "      <td>2.65</td>\n",
       "      <td>14</td>\n",
       "      <td>40.1</td>\n",
       "      <td>9</td>\n",
       "      <td>True</td>\n",
       "      <td>...</td>\n",
       "      <td>11.55</td>\n",
       "      <td>0</td>\n",
       "      <td>Санкт-Петербург</td>\n",
       "      <td>28098.0</td>\n",
       "      <td>6800.0</td>\n",
       "      <td>2.0</td>\n",
       "      <td>84.0</td>\n",
       "      <td>3.0</td>\n",
       "      <td>234.0</td>\n",
       "      <td>424.0</td>\n",
       "    </tr>\n",
       "    <tr>\n",
       "      <td>4</td>\n",
       "      <td>2</td>\n",
       "      <td>10000000.0</td>\n",
       "      <td>100.0</td>\n",
       "      <td>2018-06-19</td>\n",
       "      <td>2</td>\n",
       "      <td>3.03</td>\n",
       "      <td>14</td>\n",
       "      <td>32.0</td>\n",
       "      <td>13</td>\n",
       "      <td>True</td>\n",
       "      <td>...</td>\n",
       "      <td>41.00</td>\n",
       "      <td>0</td>\n",
       "      <td>Санкт-Петербург</td>\n",
       "      <td>31856.0</td>\n",
       "      <td>8098.0</td>\n",
       "      <td>2.0</td>\n",
       "      <td>112.0</td>\n",
       "      <td>1.0</td>\n",
       "      <td>48.0</td>\n",
       "      <td>121.0</td>\n",
       "    </tr>\n",
       "  </tbody>\n",
       "</table>\n",
       "<p>5 rows × 22 columns</p>\n",
       "</div>"
      ],
      "text/plain": [
       "   total_images  last_price  total_area first_day_exposition  rooms  \\\n",
       "0            20  13000000.0       108.0           2019-03-07      3   \n",
       "1             7   3350000.0        40.4           2018-12-04      1   \n",
       "2            10   5196000.0        56.0           2015-08-20      2   \n",
       "3             0  64900000.0       159.0           2015-07-24      3   \n",
       "4             2  10000000.0       100.0           2018-06-19      2   \n",
       "\n",
       "   ceiling_height  floors_total  living_area  floor  is_apartment  ...  \\\n",
       "0            2.70            16         51.0      8          True  ...   \n",
       "1            2.65            11         18.6      1          True  ...   \n",
       "2            2.65             5         34.3      4          True  ...   \n",
       "3            2.65            14         40.1      9          True  ...   \n",
       "4            3.03            14         32.0     13          True  ...   \n",
       "\n",
       "   kitchen_area  balcony    locality_name  airports_nearest  \\\n",
       "0         25.00        0  Санкт-Петербург           18863.0   \n",
       "1         11.00        2   посёлок Шушары           12817.0   \n",
       "2          8.30        0  Санкт-Петербург           21741.0   \n",
       "3         11.55        0  Санкт-Петербург           28098.0   \n",
       "4         41.00        0  Санкт-Петербург           31856.0   \n",
       "\n",
       "  cityCenters_nearest  parks_around3000  parks_nearest  ponds_around3000  \\\n",
       "0             16028.0               1.0          482.0               2.0   \n",
       "1             18603.0               0.0            NaN               0.0   \n",
       "2             13933.0               1.0           90.0               2.0   \n",
       "3              6800.0               2.0           84.0               3.0   \n",
       "4              8098.0               2.0          112.0               1.0   \n",
       "\n",
       "   ponds_nearest  days_exposition  \n",
       "0          755.0              NaN  \n",
       "1            NaN             81.0  \n",
       "2          574.0            558.0  \n",
       "3          234.0            424.0  \n",
       "4           48.0            121.0  \n",
       "\n",
       "[5 rows x 22 columns]"
      ]
     },
     "execution_count": 34,
     "metadata": {},
     "output_type": "execute_result"
    }
   ],
   "source": [
    "sale_of_flats.head()"
   ]
  },
  {
   "cell_type": "markdown",
   "metadata": {},
   "source": [
    "### Вывод по предобработке данных"
   ]
  },
  {
   "cell_type": "markdown",
   "metadata": {},
   "source": [
    "Мы заполнили все пропуски, что смогли. Пропущенные значения в расположении квартиры или в ее площади мы не можем заполнить, так как эти значения нельзя достоверно вывести из других. Мы заменили типы данных на подходящие, сделали столбец 'first_day_exposition' более читаемым, заменили пропуски. На этом заканчиваем этап предобработки данных и переходим к анализу. В столбцах, полученных с помощью картографических данных у нас не получится произвести замену, потому, что мы не знаем даже примерных параметров, на которые их можно заменить. Оставим эти столбцы с пустыми значениями."
   ]
  },
  {
   "cell_type": "markdown",
   "metadata": {},
   "source": [
    "### Шаг 3. Посчитайте и добавьте в таблицу"
   ]
  },
  {
   "cell_type": "markdown",
   "metadata": {},
   "source": [
    "Первый параметр, который мы посчитаем - это цена за 1 метр квадратный метр.\n",
    "Вычисляется она по простой формуле: разделим цену квартиры на ее площадь."
   ]
  },
  {
   "cell_type": "code",
   "execution_count": 35,
   "metadata": {},
   "outputs": [],
   "source": [
    "sale_of_flats['price_per_meter']  = sale_of_flats['last_price'] / sale_of_flats['total_area']"
   ]
  },
  {
   "cell_type": "markdown",
   "metadata": {},
   "source": [
    "Далее происходит добавление трех столбцов со значениями дня недели, месяца и года публикации объявления."
   ]
  },
  {
   "cell_type": "code",
   "execution_count": 36,
   "metadata": {},
   "outputs": [],
   "source": [
    "sale_of_flats['weekday_exposition'] = sale_of_flats['first_day_exposition'].dt.weekday"
   ]
  },
  {
   "cell_type": "markdown",
   "metadata": {},
   "source": [
    "Так как dt.weekday возвращает нам дни недели не в названиях, а в числах, нам необходимо сменить цифры на дни недели. Где 0=понедельник, а 6=воскресенье, остальное в соответствии.\n",
    "Для замены создадим функцию."
   ]
  },
  {
   "cell_type": "code",
   "execution_count": 37,
   "metadata": {},
   "outputs": [],
   "source": [
    "def week(sale_of_flats):\n",
    "    if sale_of_flats['weekday_exposition'] == 0:\n",
    "        return 'Понедельник'\n",
    "    elif sale_of_flats['weekday_exposition'] == 1:\n",
    "        return 'Вторник'\n",
    "    elif sale_of_flats['weekday_exposition'] == 2:\n",
    "        return 'Среда'\n",
    "    elif sale_of_flats['weekday_exposition'] == 3:\n",
    "        return 'Четверг'\n",
    "    elif sale_of_flats['weekday_exposition'] == 4:\n",
    "        return 'Пятница'\n",
    "    elif sale_of_flats['weekday_exposition'] == 5:\n",
    "        return 'Суббота'\n",
    "    elif sale_of_flats['weekday_exposition'] == 6:\n",
    "        return 'Воскресенье'\n",
    "   \n",
    "sale_of_flats['weekday_exposition'] = sale_of_flats.apply(week, axis = 1)"
   ]
  },
  {
   "cell_type": "markdown",
   "metadata": {},
   "source": [
    "Проверим выполнение функции week."
   ]
  },
  {
   "cell_type": "code",
   "execution_count": 38,
   "metadata": {},
   "outputs": [
    {
     "data": {
      "text/plain": [
       "Четверг        4295\n",
       "Вторник        4183\n",
       "Пятница        4000\n",
       "Среда          3974\n",
       "Понедельник    3612\n",
       "Суббота        1936\n",
       "Воскресенье    1699\n",
       "Name: weekday_exposition, dtype: int64"
      ]
     },
     "execution_count": 38,
     "metadata": {},
     "output_type": "execute_result"
    }
   ],
   "source": [
    "sale_of_flats['weekday_exposition'].value_counts()"
   ]
  },
  {
   "cell_type": "markdown",
   "metadata": {},
   "source": [
    "Теперь столбец с месяцем публикации."
   ]
  },
  {
   "cell_type": "code",
   "execution_count": 39,
   "metadata": {},
   "outputs": [],
   "source": [
    "sale_of_flats['mounth_exposition'] = pd.DatetimeIndex(sale_of_flats['first_day_exposition']).month"
   ]
  },
  {
   "cell_type": "code",
   "execution_count": 40,
   "metadata": {},
   "outputs": [],
   "source": [
    "def month(sale_of_flats):\n",
    "    if sale_of_flats['mounth_exposition'] == 0:\n",
    "        return 'Январь'\n",
    "    elif sale_of_flats['mounth_exposition'] == 1:\n",
    "        return 'Февраль'\n",
    "    elif sale_of_flats['mounth_exposition'] == 2:\n",
    "        return 'Март'\n",
    "    elif sale_of_flats['mounth_exposition'] == 3:\n",
    "        return 'Апрель'\n",
    "    elif sale_of_flats['mounth_exposition'] == 4:\n",
    "        return 'Май'\n",
    "    elif sale_of_flats['mounth_exposition'] == 5:\n",
    "        return 'Июнь'\n",
    "    elif sale_of_flats['mounth_exposition'] == 6:\n",
    "        return 'Июль'\n",
    "    elif sale_of_flats['mounth_exposition'] == 7:\n",
    "        return 'Август'\n",
    "    elif sale_of_flats['mounth_exposition'] == 8:\n",
    "        return 'Сентябрь'\n",
    "    elif sale_of_flats['mounth_exposition'] == 9:\n",
    "        return 'Октябрь'\n",
    "    elif sale_of_flats['mounth_exposition'] == 10:\n",
    "        return 'Ноябрь'\n",
    "    elif sale_of_flats['mounth_exposition'] == 11:\n",
    "        return 'Декабрь'\n",
    "   \n",
    "sale_of_flats['mounth_exposition'] = sale_of_flats.apply(month, axis = 1)"
   ]
  },
  {
   "cell_type": "code",
   "execution_count": 41,
   "metadata": {},
   "outputs": [
    {
     "data": {
      "text/plain": [
       "Март        2640\n",
       "Апрель      2587\n",
       "Май         2379\n",
       "Декабрь     2371\n",
       "Ноябрь      2127\n",
       "Октябрь     1981\n",
       "Июль        1760\n",
       "Сентябрь    1744\n",
       "Август      1695\n",
       "Февраль     1500\n",
       "Июнь        1274\n",
       "Name: mounth_exposition, dtype: int64"
      ]
     },
     "execution_count": 41,
     "metadata": {},
     "output_type": "execute_result"
    }
   ],
   "source": [
    "sale_of_flats['mounth_exposition'].value_counts()"
   ]
  },
  {
   "cell_type": "markdown",
   "metadata": {},
   "source": [
    "И в дополнение ко всем данным добавим столбец с годом публикации таким же методом, как и столбец с днями недели."
   ]
  },
  {
   "cell_type": "code",
   "execution_count": 42,
   "metadata": {},
   "outputs": [],
   "source": [
    "sale_of_flats['year_exposition'] = sale_of_flats['first_day_exposition'].dt.year"
   ]
  },
  {
   "cell_type": "markdown",
   "metadata": {},
   "source": [
    "И посмотрим какие года публикации у нас в данных присутствуют."
   ]
  },
  {
   "cell_type": "code",
   "execution_count": 43,
   "metadata": {},
   "outputs": [
    {
     "data": {
      "text/plain": [
       "2018    8519\n",
       "2017    8190\n",
       "2019    2879\n",
       "2016    2783\n",
       "2015    1191\n",
       "2014     137\n",
       "Name: year_exposition, dtype: int64"
      ]
     },
     "execution_count": 43,
     "metadata": {},
     "output_type": "execute_result"
    }
   ],
   "source": [
    "sale_of_flats['year_exposition'].value_counts()"
   ]
  },
  {
   "cell_type": "markdown",
   "metadata": {},
   "source": [
    "Добавим в таблицу определение этажа. Он может быть трех видов: первый, последний и другой. Создадим функцию, которую применим к столбцу 'floor'. Применяем метод apply ко всему дф, а не к отдельному столбцу, чтобы можно было обращаться к столбцам внутри функции. А параметр axis=1 указывает, что применение функции происходит по колонке."
   ]
  },
  {
   "cell_type": "code",
   "execution_count": 44,
   "metadata": {},
   "outputs": [],
   "source": [
    "def floor_parameter(sale_of_flats):\n",
    "    if sale_of_flats['floor'] == 1:\n",
    "        return 'Первый'\n",
    "    elif sale_of_flats['floor'] == sale_of_flats['floors_total']:\n",
    "        return 'Последний'\n",
    "    else:\n",
    "        return 'Другой'\n",
    "\n",
    "sale_of_flats['floor_group'] = sale_of_flats.apply(floor_parameter, axis = 1)"
   ]
  },
  {
   "cell_type": "markdown",
   "metadata": {},
   "source": [
    "Проверим выполнение функции floor_parameter."
   ]
  },
  {
   "cell_type": "code",
   "execution_count": 45,
   "metadata": {},
   "outputs": [
    {
     "data": {
      "text/plain": [
       "Другой       17972\n",
       "Первый        2917\n",
       "Последний     2810\n",
       "Name: floor_group, dtype: int64"
      ]
     },
     "execution_count": 45,
     "metadata": {},
     "output_type": "execute_result"
    }
   ],
   "source": [
    "sale_of_flats['floor_group'].value_counts()"
   ]
  },
  {
   "cell_type": "markdown",
   "metadata": {},
   "source": [
    "Для дальнейшего анализа нам необходимо расчитать еще два параметра. А именно, соотношение жилой площади к общей площади."
   ]
  },
  {
   "cell_type": "code",
   "execution_count": 46,
   "metadata": {},
   "outputs": [],
   "source": [
    "sale_of_flats['living_to_total'] = sale_of_flats['living_area'] / sale_of_flats['total_area']"
   ]
  },
  {
   "cell_type": "markdown",
   "metadata": {},
   "source": [
    "И соотношение кухни к общей площади."
   ]
  },
  {
   "cell_type": "code",
   "execution_count": 47,
   "metadata": {},
   "outputs": [],
   "source": [
    "sale_of_flats['kitchen_to_total'] = sale_of_flats['kitchen_area'] / sale_of_flats['total_area']"
   ]
  },
  {
   "cell_type": "markdown",
   "metadata": {},
   "source": [
    "Также, столбцы со стоимостью имеют знаки после запятой, но так как речь идет о больших суммах, то можно преобразовать тип данных на int, чтобы данные не выглядели громоздко."
   ]
  },
  {
   "cell_type": "code",
   "execution_count": 48,
   "metadata": {},
   "outputs": [],
   "source": [
    "sale_of_flats['last_price'] = sale_of_flats['last_price'].astype('int')\n",
    "sale_of_flats['price_per_meter'] = sale_of_flats['price_per_meter'].astype('int')"
   ]
  },
  {
   "cell_type": "markdown",
   "metadata": {},
   "source": [
    "Мы расчитали все необходимые значения и добавили их в таблицу."
   ]
  },
  {
   "cell_type": "code",
   "execution_count": 49,
   "metadata": {},
   "outputs": [
    {
     "data": {
      "text/html": [
       "<div>\n",
       "<style scoped>\n",
       "    .dataframe tbody tr th:only-of-type {\n",
       "        vertical-align: middle;\n",
       "    }\n",
       "\n",
       "    .dataframe tbody tr th {\n",
       "        vertical-align: top;\n",
       "    }\n",
       "\n",
       "    .dataframe thead th {\n",
       "        text-align: right;\n",
       "    }\n",
       "</style>\n",
       "<table border=\"1\" class=\"dataframe\">\n",
       "  <thead>\n",
       "    <tr style=\"text-align: right;\">\n",
       "      <th></th>\n",
       "      <th>total_images</th>\n",
       "      <th>last_price</th>\n",
       "      <th>total_area</th>\n",
       "      <th>first_day_exposition</th>\n",
       "      <th>rooms</th>\n",
       "      <th>ceiling_height</th>\n",
       "      <th>floors_total</th>\n",
       "      <th>living_area</th>\n",
       "      <th>floor</th>\n",
       "      <th>is_apartment</th>\n",
       "      <th>...</th>\n",
       "      <th>ponds_around3000</th>\n",
       "      <th>ponds_nearest</th>\n",
       "      <th>days_exposition</th>\n",
       "      <th>price_per_meter</th>\n",
       "      <th>weekday_exposition</th>\n",
       "      <th>mounth_exposition</th>\n",
       "      <th>year_exposition</th>\n",
       "      <th>floor_group</th>\n",
       "      <th>living_to_total</th>\n",
       "      <th>kitchen_to_total</th>\n",
       "    </tr>\n",
       "  </thead>\n",
       "  <tbody>\n",
       "    <tr>\n",
       "      <td>0</td>\n",
       "      <td>20</td>\n",
       "      <td>13000000</td>\n",
       "      <td>108.00</td>\n",
       "      <td>2019-03-07</td>\n",
       "      <td>3</td>\n",
       "      <td>2.70</td>\n",
       "      <td>16</td>\n",
       "      <td>51.00</td>\n",
       "      <td>8</td>\n",
       "      <td>True</td>\n",
       "      <td>...</td>\n",
       "      <td>2.0</td>\n",
       "      <td>755.0</td>\n",
       "      <td>NaN</td>\n",
       "      <td>120370</td>\n",
       "      <td>Четверг</td>\n",
       "      <td>Апрель</td>\n",
       "      <td>2019</td>\n",
       "      <td>Другой</td>\n",
       "      <td>0.472222</td>\n",
       "      <td>0.231481</td>\n",
       "    </tr>\n",
       "    <tr>\n",
       "      <td>1</td>\n",
       "      <td>7</td>\n",
       "      <td>3350000</td>\n",
       "      <td>40.40</td>\n",
       "      <td>2018-12-04</td>\n",
       "      <td>1</td>\n",
       "      <td>2.65</td>\n",
       "      <td>11</td>\n",
       "      <td>18.60</td>\n",
       "      <td>1</td>\n",
       "      <td>True</td>\n",
       "      <td>...</td>\n",
       "      <td>0.0</td>\n",
       "      <td>NaN</td>\n",
       "      <td>81.0</td>\n",
       "      <td>82920</td>\n",
       "      <td>Вторник</td>\n",
       "      <td>None</td>\n",
       "      <td>2018</td>\n",
       "      <td>Первый</td>\n",
       "      <td>0.460396</td>\n",
       "      <td>0.272277</td>\n",
       "    </tr>\n",
       "    <tr>\n",
       "      <td>2</td>\n",
       "      <td>10</td>\n",
       "      <td>5196000</td>\n",
       "      <td>56.00</td>\n",
       "      <td>2015-08-20</td>\n",
       "      <td>2</td>\n",
       "      <td>2.65</td>\n",
       "      <td>5</td>\n",
       "      <td>34.30</td>\n",
       "      <td>4</td>\n",
       "      <td>True</td>\n",
       "      <td>...</td>\n",
       "      <td>2.0</td>\n",
       "      <td>574.0</td>\n",
       "      <td>558.0</td>\n",
       "      <td>92785</td>\n",
       "      <td>Четверг</td>\n",
       "      <td>Сентябрь</td>\n",
       "      <td>2015</td>\n",
       "      <td>Другой</td>\n",
       "      <td>0.612500</td>\n",
       "      <td>0.148214</td>\n",
       "    </tr>\n",
       "    <tr>\n",
       "      <td>3</td>\n",
       "      <td>0</td>\n",
       "      <td>64900000</td>\n",
       "      <td>159.00</td>\n",
       "      <td>2015-07-24</td>\n",
       "      <td>3</td>\n",
       "      <td>2.65</td>\n",
       "      <td>14</td>\n",
       "      <td>40.10</td>\n",
       "      <td>9</td>\n",
       "      <td>True</td>\n",
       "      <td>...</td>\n",
       "      <td>3.0</td>\n",
       "      <td>234.0</td>\n",
       "      <td>424.0</td>\n",
       "      <td>408176</td>\n",
       "      <td>Пятница</td>\n",
       "      <td>Август</td>\n",
       "      <td>2015</td>\n",
       "      <td>Другой</td>\n",
       "      <td>0.252201</td>\n",
       "      <td>0.072642</td>\n",
       "    </tr>\n",
       "    <tr>\n",
       "      <td>4</td>\n",
       "      <td>2</td>\n",
       "      <td>10000000</td>\n",
       "      <td>100.00</td>\n",
       "      <td>2018-06-19</td>\n",
       "      <td>2</td>\n",
       "      <td>3.03</td>\n",
       "      <td>14</td>\n",
       "      <td>32.00</td>\n",
       "      <td>13</td>\n",
       "      <td>True</td>\n",
       "      <td>...</td>\n",
       "      <td>1.0</td>\n",
       "      <td>48.0</td>\n",
       "      <td>121.0</td>\n",
       "      <td>100000</td>\n",
       "      <td>Вторник</td>\n",
       "      <td>Июль</td>\n",
       "      <td>2018</td>\n",
       "      <td>Другой</td>\n",
       "      <td>0.320000</td>\n",
       "      <td>0.410000</td>\n",
       "    </tr>\n",
       "    <tr>\n",
       "      <td>5</td>\n",
       "      <td>10</td>\n",
       "      <td>2890000</td>\n",
       "      <td>30.40</td>\n",
       "      <td>2018-09-10</td>\n",
       "      <td>1</td>\n",
       "      <td>2.65</td>\n",
       "      <td>24</td>\n",
       "      <td>14.40</td>\n",
       "      <td>5</td>\n",
       "      <td>True</td>\n",
       "      <td>...</td>\n",
       "      <td>NaN</td>\n",
       "      <td>NaN</td>\n",
       "      <td>55.0</td>\n",
       "      <td>95065</td>\n",
       "      <td>Понедельник</td>\n",
       "      <td>Октябрь</td>\n",
       "      <td>2018</td>\n",
       "      <td>Другой</td>\n",
       "      <td>0.473684</td>\n",
       "      <td>0.299342</td>\n",
       "    </tr>\n",
       "    <tr>\n",
       "      <td>6</td>\n",
       "      <td>6</td>\n",
       "      <td>3700000</td>\n",
       "      <td>37.30</td>\n",
       "      <td>2017-11-02</td>\n",
       "      <td>1</td>\n",
       "      <td>2.65</td>\n",
       "      <td>26</td>\n",
       "      <td>10.60</td>\n",
       "      <td>6</td>\n",
       "      <td>True</td>\n",
       "      <td>...</td>\n",
       "      <td>0.0</td>\n",
       "      <td>NaN</td>\n",
       "      <td>155.0</td>\n",
       "      <td>99195</td>\n",
       "      <td>Четверг</td>\n",
       "      <td>Декабрь</td>\n",
       "      <td>2017</td>\n",
       "      <td>Другой</td>\n",
       "      <td>0.284182</td>\n",
       "      <td>0.386059</td>\n",
       "    </tr>\n",
       "    <tr>\n",
       "      <td>7</td>\n",
       "      <td>5</td>\n",
       "      <td>7915000</td>\n",
       "      <td>71.60</td>\n",
       "      <td>2019-04-18</td>\n",
       "      <td>2</td>\n",
       "      <td>2.65</td>\n",
       "      <td>24</td>\n",
       "      <td>40.10</td>\n",
       "      <td>22</td>\n",
       "      <td>True</td>\n",
       "      <td>...</td>\n",
       "      <td>0.0</td>\n",
       "      <td>NaN</td>\n",
       "      <td>NaN</td>\n",
       "      <td>110544</td>\n",
       "      <td>Четверг</td>\n",
       "      <td>Май</td>\n",
       "      <td>2019</td>\n",
       "      <td>Другой</td>\n",
       "      <td>0.560056</td>\n",
       "      <td>0.263966</td>\n",
       "    </tr>\n",
       "    <tr>\n",
       "      <td>8</td>\n",
       "      <td>20</td>\n",
       "      <td>2900000</td>\n",
       "      <td>33.16</td>\n",
       "      <td>2018-05-23</td>\n",
       "      <td>1</td>\n",
       "      <td>2.65</td>\n",
       "      <td>27</td>\n",
       "      <td>15.43</td>\n",
       "      <td>26</td>\n",
       "      <td>True</td>\n",
       "      <td>...</td>\n",
       "      <td>NaN</td>\n",
       "      <td>NaN</td>\n",
       "      <td>189.0</td>\n",
       "      <td>87454</td>\n",
       "      <td>Среда</td>\n",
       "      <td>Июнь</td>\n",
       "      <td>2018</td>\n",
       "      <td>Другой</td>\n",
       "      <td>0.465320</td>\n",
       "      <td>0.265682</td>\n",
       "    </tr>\n",
       "    <tr>\n",
       "      <td>9</td>\n",
       "      <td>18</td>\n",
       "      <td>5400000</td>\n",
       "      <td>61.00</td>\n",
       "      <td>2017-02-26</td>\n",
       "      <td>3</td>\n",
       "      <td>2.50</td>\n",
       "      <td>24</td>\n",
       "      <td>43.60</td>\n",
       "      <td>7</td>\n",
       "      <td>True</td>\n",
       "      <td>...</td>\n",
       "      <td>0.0</td>\n",
       "      <td>NaN</td>\n",
       "      <td>289.0</td>\n",
       "      <td>88524</td>\n",
       "      <td>Воскресенье</td>\n",
       "      <td>Март</td>\n",
       "      <td>2017</td>\n",
       "      <td>Другой</td>\n",
       "      <td>0.714754</td>\n",
       "      <td>0.106557</td>\n",
       "    </tr>\n",
       "  </tbody>\n",
       "</table>\n",
       "<p>10 rows × 29 columns</p>\n",
       "</div>"
      ],
      "text/plain": [
       "   total_images  last_price  total_area first_day_exposition  rooms  \\\n",
       "0            20    13000000      108.00           2019-03-07      3   \n",
       "1             7     3350000       40.40           2018-12-04      1   \n",
       "2            10     5196000       56.00           2015-08-20      2   \n",
       "3             0    64900000      159.00           2015-07-24      3   \n",
       "4             2    10000000      100.00           2018-06-19      2   \n",
       "5            10     2890000       30.40           2018-09-10      1   \n",
       "6             6     3700000       37.30           2017-11-02      1   \n",
       "7             5     7915000       71.60           2019-04-18      2   \n",
       "8            20     2900000       33.16           2018-05-23      1   \n",
       "9            18     5400000       61.00           2017-02-26      3   \n",
       "\n",
       "   ceiling_height  floors_total  living_area  floor  is_apartment  ...  \\\n",
       "0            2.70            16        51.00      8          True  ...   \n",
       "1            2.65            11        18.60      1          True  ...   \n",
       "2            2.65             5        34.30      4          True  ...   \n",
       "3            2.65            14        40.10      9          True  ...   \n",
       "4            3.03            14        32.00     13          True  ...   \n",
       "5            2.65            24        14.40      5          True  ...   \n",
       "6            2.65            26        10.60      6          True  ...   \n",
       "7            2.65            24        40.10     22          True  ...   \n",
       "8            2.65            27        15.43     26          True  ...   \n",
       "9            2.50            24        43.60      7          True  ...   \n",
       "\n",
       "   ponds_around3000  ponds_nearest  days_exposition  price_per_meter  \\\n",
       "0               2.0          755.0              NaN           120370   \n",
       "1               0.0            NaN             81.0            82920   \n",
       "2               2.0          574.0            558.0            92785   \n",
       "3               3.0          234.0            424.0           408176   \n",
       "4               1.0           48.0            121.0           100000   \n",
       "5               NaN            NaN             55.0            95065   \n",
       "6               0.0            NaN            155.0            99195   \n",
       "7               0.0            NaN              NaN           110544   \n",
       "8               NaN            NaN            189.0            87454   \n",
       "9               0.0            NaN            289.0            88524   \n",
       "\n",
       "  weekday_exposition  mounth_exposition  year_exposition  floor_group  \\\n",
       "0            Четверг             Апрель             2019       Другой   \n",
       "1            Вторник               None             2018       Первый   \n",
       "2            Четверг           Сентябрь             2015       Другой   \n",
       "3            Пятница             Август             2015       Другой   \n",
       "4            Вторник               Июль             2018       Другой   \n",
       "5        Понедельник            Октябрь             2018       Другой   \n",
       "6            Четверг            Декабрь             2017       Другой   \n",
       "7            Четверг                Май             2019       Другой   \n",
       "8              Среда               Июнь             2018       Другой   \n",
       "9        Воскресенье               Март             2017       Другой   \n",
       "\n",
       "   living_to_total  kitchen_to_total  \n",
       "0         0.472222          0.231481  \n",
       "1         0.460396          0.272277  \n",
       "2         0.612500          0.148214  \n",
       "3         0.252201          0.072642  \n",
       "4         0.320000          0.410000  \n",
       "5         0.473684          0.299342  \n",
       "6         0.284182          0.386059  \n",
       "7         0.560056          0.263966  \n",
       "8         0.465320          0.265682  \n",
       "9         0.714754          0.106557  \n",
       "\n",
       "[10 rows x 29 columns]"
      ]
     },
     "execution_count": 49,
     "metadata": {},
     "output_type": "execute_result"
    }
   ],
   "source": [
    "sale_of_flats.head(10)"
   ]
  },
  {
   "cell_type": "markdown",
   "metadata": {},
   "source": [
    "Таким образом мы получили все необходимые для исследования дополнительные данные. Нам теперь известны все сведения о публикациях и о самих квартирах. Мы расширили данный датафрейм на 7 столбцов. Получили определенные параметры квартиры, такие как соотношение площадей и цена за квадратный метр. Данные преобразованы и готовы к дальнейшей обработке и изучению."
   ]
  },
  {
   "cell_type": "markdown",
   "metadata": {},
   "source": [
    "### Шаг 4. Проведите исследовательский анализ данных и выполните инструкции:"
   ]
  },
  {
   "cell_type": "markdown",
   "metadata": {},
   "source": [
    "#### 4.1. Изучение следующих параметров: площадь, цена, число комнат, высота потолков. Построение гистограммы для каждого параметра."
   ]
  },
  {
   "cell_type": "markdown",
   "metadata": {},
   "source": [
    "Сделаем выборку из общего датафрейма."
   ]
  },
  {
   "cell_type": "code",
   "execution_count": 50,
   "metadata": {},
   "outputs": [
    {
     "data": {
      "text/html": [
       "<div>\n",
       "<style scoped>\n",
       "    .dataframe tbody tr th:only-of-type {\n",
       "        vertical-align: middle;\n",
       "    }\n",
       "\n",
       "    .dataframe tbody tr th {\n",
       "        vertical-align: top;\n",
       "    }\n",
       "\n",
       "    .dataframe thead th {\n",
       "        text-align: right;\n",
       "    }\n",
       "</style>\n",
       "<table border=\"1\" class=\"dataframe\">\n",
       "  <thead>\n",
       "    <tr style=\"text-align: right;\">\n",
       "      <th></th>\n",
       "      <th>total_area</th>\n",
       "      <th>price_per_meter</th>\n",
       "      <th>rooms</th>\n",
       "      <th>ceiling_height</th>\n",
       "    </tr>\n",
       "  </thead>\n",
       "  <tbody>\n",
       "    <tr>\n",
       "      <td>0</td>\n",
       "      <td>108.0</td>\n",
       "      <td>120370</td>\n",
       "      <td>3</td>\n",
       "      <td>2.70</td>\n",
       "    </tr>\n",
       "    <tr>\n",
       "      <td>1</td>\n",
       "      <td>40.4</td>\n",
       "      <td>82920</td>\n",
       "      <td>1</td>\n",
       "      <td>2.65</td>\n",
       "    </tr>\n",
       "    <tr>\n",
       "      <td>2</td>\n",
       "      <td>56.0</td>\n",
       "      <td>92785</td>\n",
       "      <td>2</td>\n",
       "      <td>2.65</td>\n",
       "    </tr>\n",
       "    <tr>\n",
       "      <td>3</td>\n",
       "      <td>159.0</td>\n",
       "      <td>408176</td>\n",
       "      <td>3</td>\n",
       "      <td>2.65</td>\n",
       "    </tr>\n",
       "    <tr>\n",
       "      <td>4</td>\n",
       "      <td>100.0</td>\n",
       "      <td>100000</td>\n",
       "      <td>2</td>\n",
       "      <td>3.03</td>\n",
       "    </tr>\n",
       "  </tbody>\n",
       "</table>\n",
       "</div>"
      ],
      "text/plain": [
       "   total_area  price_per_meter  rooms  ceiling_height\n",
       "0       108.0           120370      3            2.70\n",
       "1        40.4            82920      1            2.65\n",
       "2        56.0            92785      2            2.65\n",
       "3       159.0           408176      3            2.65\n",
       "4       100.0           100000      2            3.03"
      ]
     },
     "execution_count": 50,
     "metadata": {},
     "output_type": "execute_result"
    }
   ],
   "source": [
    "general_parameter = sale_of_flats[['total_area', 'price_per_meter', 'rooms', 'ceiling_height']]\n",
    "general_parameter.head()"
   ]
  },
  {
   "cell_type": "markdown",
   "metadata": {},
   "source": [
    "Напишем цикл, позволяющий автоматически строить гистограммы. А также, создадим словарь названия гистограмм, чтобы можно было автоматически присвоить им название. Ранг гистограммы установим между 5 и 95 персентилем, чтобы избежать выбросов при анализе."
   ]
  },
  {
   "cell_type": "code",
   "execution_count": 51,
   "metadata": {},
   "outputs": [
    {
     "data": {
      "image/png": "[encoded data removed]",
      "text/plain": [
       "<Figure size 432x288 with 1 Axes>"
      ]
     },
     "metadata": {
      "needs_background": "light"
     },
     "output_type": "display_data"
    },
    {
     "data": {
      "image/png": "[encoded data removed]",
      "text/plain": [
       "<Figure size 432x288 with 1 Axes>"
      ]
     },
     "metadata": {
      "needs_background": "light"
     },
     "output_type": "display_data"
    },
    {
     "data": {
      "image/png": "[encoded data removed]",
      "text/plain": [
       "<Figure size 432x288 with 1 Axes>"
      ]
     },
     "metadata": {
      "needs_background": "light"
     },
     "output_type": "display_data"
    },
    {
     "data": {
      "image/png": "[encoded data removed]",
      "text/plain": [
       "<Figure size 432x288 with 1 Axes>"
      ]
     },
     "metadata": {
      "needs_background": "light"
     },
     "output_type": "display_data"
    }
   ],
   "source": [
    "number = 0\n",
    "for row in general_parameter:\n",
    "    new_dict = ['Площадь квартиры, кв.м.', 'Цена за кв.м., руб.', 'Количество комнат, шт.', 'Высота потолков, м.']\n",
    "    general_parameter[row].hist(bins=30, range=(np.percentile(general_parameter[row], 5, axis=0), np.percentile(general_parameter[row], 95, axis=0)))\n",
    "    plt.title(new_dict[number])\n",
    "    number += 1\n",
    "    plt.show()"
   ]
  },
  {
   "cell_type": "markdown",
   "metadata": {},
   "source": [
    "    Мы видим, что из этих четырех значений зависимость количества продаж от этих параметров наблюдается только в первых \n",
    "    двух: в общей площади и цене. "
   ]
  },
  {
   "cell_type": "markdown",
   "metadata": {},
   "source": [
    "Больше всего объявлений о продаже квартир с маленькой площадью. Чем больше площадь, тем меньше вариантов. Можем предположить, что у людей в принципе во владении оказывается квартира с площадью меньше средней, потому, что процент людей, которые могут себе позволить квартиру побольше, гораздо меньше. Также мы наблюдаем пики на 45 и 60 кв.м. Можно сделать вывод, что эти квартиры находятся в зданиях, которые строят популярные застройщики и у них стандартные площади квартир по всему городу."
   ]
  },
  {
   "cell_type": "markdown",
   "metadata": {},
   "source": [
    "В гистограмме цены за квадратный метр наблюдается нормальное распределение. Это связано с тем, что обычно на рынке недвижимости есть стандартная цена за квадратный метр. Конечно она может быть с отклонениями, но большинство все таки придерживаются близких цен, иначе, если завысить, то никто не будет покупать, а если занизить - это уже демпинг, что не законно."
   ]
  },
  {
   "cell_type": "markdown",
   "metadata": {},
   "source": [
    "По гистограмме количество комнат та же самая история. Продают квартиры с меньшим кол-вом комнат чаще, чем с большим."
   ]
  },
  {
   "cell_type": "markdown",
   "metadata": {},
   "source": [
    "А по высоте потолков мы видим, что превалируют значения 2.65. Что говорит о том, что при строительстве жилых зданий это типовой вариант, количество которого во много раз превышает все остальные значения. "
   ]
  },
  {
   "cell_type": "markdown",
   "metadata": {},
   "source": [
    "#### 4.2. Изучение времени продажи квартиры. Построение гистограммы. Расчет среднего и медианы. Описание того, сколько обычно занимает продажа. Когда можно считать, что продажи прошли очень быстро, а когда необычно долго?"
   ]
  },
  {
   "cell_type": "markdown",
   "metadata": {},
   "source": [
    "Для визуализации этих расчетов мы сделаем выборку со значениями, которые описывают параметры размещенного объявления."
   ]
  },
  {
   "cell_type": "code",
   "execution_count": 52,
   "metadata": {},
   "outputs": [
    {
     "data": {
      "text/html": [
       "<div>\n",
       "<style scoped>\n",
       "    .dataframe tbody tr th:only-of-type {\n",
       "        vertical-align: middle;\n",
       "    }\n",
       "\n",
       "    .dataframe tbody tr th {\n",
       "        vertical-align: top;\n",
       "    }\n",
       "\n",
       "    .dataframe thead th {\n",
       "        text-align: right;\n",
       "    }\n",
       "</style>\n",
       "<table border=\"1\" class=\"dataframe\">\n",
       "  <thead>\n",
       "    <tr style=\"text-align: right;\">\n",
       "      <th></th>\n",
       "      <th>first_day_exposition</th>\n",
       "      <th>days_exposition</th>\n",
       "    </tr>\n",
       "  </thead>\n",
       "  <tbody>\n",
       "    <tr>\n",
       "      <td>0</td>\n",
       "      <td>2019-03-07</td>\n",
       "      <td>NaN</td>\n",
       "    </tr>\n",
       "    <tr>\n",
       "      <td>1</td>\n",
       "      <td>2018-12-04</td>\n",
       "      <td>81.0</td>\n",
       "    </tr>\n",
       "    <tr>\n",
       "      <td>2</td>\n",
       "      <td>2015-08-20</td>\n",
       "      <td>558.0</td>\n",
       "    </tr>\n",
       "    <tr>\n",
       "      <td>3</td>\n",
       "      <td>2015-07-24</td>\n",
       "      <td>424.0</td>\n",
       "    </tr>\n",
       "    <tr>\n",
       "      <td>4</td>\n",
       "      <td>2018-06-19</td>\n",
       "      <td>121.0</td>\n",
       "    </tr>\n",
       "    <tr>\n",
       "      <td>5</td>\n",
       "      <td>2018-09-10</td>\n",
       "      <td>55.0</td>\n",
       "    </tr>\n",
       "    <tr>\n",
       "      <td>6</td>\n",
       "      <td>2017-11-02</td>\n",
       "      <td>155.0</td>\n",
       "    </tr>\n",
       "    <tr>\n",
       "      <td>7</td>\n",
       "      <td>2019-04-18</td>\n",
       "      <td>NaN</td>\n",
       "    </tr>\n",
       "    <tr>\n",
       "      <td>8</td>\n",
       "      <td>2018-05-23</td>\n",
       "      <td>189.0</td>\n",
       "    </tr>\n",
       "    <tr>\n",
       "      <td>9</td>\n",
       "      <td>2017-02-26</td>\n",
       "      <td>289.0</td>\n",
       "    </tr>\n",
       "  </tbody>\n",
       "</table>\n",
       "</div>"
      ],
      "text/plain": [
       "  first_day_exposition  days_exposition\n",
       "0           2019-03-07              NaN\n",
       "1           2018-12-04             81.0\n",
       "2           2015-08-20            558.0\n",
       "3           2015-07-24            424.0\n",
       "4           2018-06-19            121.0\n",
       "5           2018-09-10             55.0\n",
       "6           2017-11-02            155.0\n",
       "7           2019-04-18              NaN\n",
       "8           2018-05-23            189.0\n",
       "9           2017-02-26            289.0"
      ]
     },
     "execution_count": 52,
     "metadata": {},
     "output_type": "execute_result"
    }
   ],
   "source": [
    "parameter_of_exposition = sale_of_flats[['first_day_exposition', 'days_exposition']]\n",
    "parameter_of_exposition.head(10)"
   ]
  },
  {
   "cell_type": "markdown",
   "metadata": {},
   "source": [
    "Посмотрим параметры столбца 'days_exposition' с помощью функции describe(). Посмотрим на среднее и на медиану этого столбца."
   ]
  },
  {
   "cell_type": "code",
   "execution_count": 53,
   "metadata": {},
   "outputs": [
    {
     "data": {
      "text/plain": [
       "count    20518.000000\n",
       "mean       180.888634\n",
       "std        219.727988\n",
       "min          1.000000\n",
       "25%         45.000000\n",
       "50%         95.000000\n",
       "75%        232.000000\n",
       "max       1580.000000\n",
       "Name: days_exposition, dtype: float64"
      ]
     },
     "execution_count": 53,
     "metadata": {},
     "output_type": "execute_result"
    }
   ],
   "source": [
    "parameter_of_exposition['days_exposition'].describe()"
   ]
  },
  {
   "cell_type": "markdown",
   "metadata": {},
   "source": [
    "Мы видим, что большая часть объявлений(75%) были выставлены в пределах 232 дней. И есть какие то выбивающиеся значения, которые выбываются из квартилей, они висели на Яндекс.Недвижимость примерно 5 лет или 1 день, например."
   ]
  },
  {
   "cell_type": "markdown",
   "metadata": {},
   "source": [
    "Построим гистограмму столбца с количеством дней продажи."
   ]
  },
  {
   "cell_type": "code",
   "execution_count": 54,
   "metadata": {},
   "outputs": [
    {
     "data": {
      "text/plain": [
       "<matplotlib.axes._subplots.AxesSubplot at 0x7f54c7e8ced0>"
      ]
     },
     "execution_count": 54,
     "metadata": {},
     "output_type": "execute_result"
    },
    {
     "data": {
      "image/png": "[encoded data removed]",
      "text/plain": [
       "<Figure size 432x288 with 1 Axes>"
      ]
     },
     "metadata": {
      "needs_background": "light"
     },
     "output_type": "display_data"
    }
   ],
   "source": [
    "parameter_of_exposition['days_exposition'].hist(bins=30)"
   ]
  },
  {
   "cell_type": "markdown",
   "metadata": {},
   "source": [
    "Посмотрим эту же гистограмму, только в пределах квартилей, для более точечного изучения."
   ]
  },
  {
   "cell_type": "code",
   "execution_count": 55,
   "metadata": {},
   "outputs": [
    {
     "data": {
      "text/plain": [
       "<matplotlib.axes._subplots.AxesSubplot at 0x7f54c7e0ddd0>"
      ]
     },
     "execution_count": 55,
     "metadata": {},
     "output_type": "execute_result"
    },
    {
     "data": {
      "image/png": "[encoded data removed]",
      "text/plain": [
       "<Figure size 432x288 with 1 Axes>"
      ]
     },
     "metadata": {
      "needs_background": "light"
     },
     "output_type": "display_data"
    }
   ],
   "source": [
    "parameter_of_exposition['days_exposition'].hist(bins=30, range=(sale_of_flats['days_exposition'].describe()['25%'], sale_of_flats['days_exposition'].describe()['75%']))"
   ]
  },
  {
   "cell_type": "markdown",
   "metadata": {},
   "source": [
    "По гистограмме мы видим, что большинство квартир продаются в короткие сроки (до 232 дней). Далее гораздо меньше обьявлений растягиваются с продажей надолго. Тогда получается, что квартиль 75% будет сроком обычной продажи."
   ]
  },
  {
   "cell_type": "markdown",
   "metadata": {},
   "source": [
    "На второй гистограмме мы видим 3 пика. На описании столбца командой describe() мы видим, что медиана столбца это 95 дней, там же, где и заканчивается 3 пик. Можно сказать, что медиана столбца и будет сроком быстрой продажи."
   ]
  },
  {
   "cell_type": "markdown",
   "metadata": {},
   "source": [
    "#### 4.3. Уберём редкие и выбивающиеся значения."
   ]
  },
  {
   "cell_type": "markdown",
   "metadata": {},
   "source": [
    "Сделаем выборку столбцов, которые мы хотим обработать, для дальнейшего изучения. И столбцы, которые наиболее подвержены для изменения мошенниками."
   ]
  },
  {
   "cell_type": "markdown",
   "metadata": {},
   "source": [
    "Чтобы визуально было понятнее смотреть на столбец last_price заменим значения рубли на миллионы рублей. При этом цену за метр квадратный оставим в рублях, потому, что значения там меньше значительно, а зависимости мы не ищем, поэтому значения стандартизировать не обязательно."
   ]
  },
  {
   "cell_type": "code",
   "execution_count": 56,
   "metadata": {},
   "outputs": [],
   "source": [
    "sale_of_flats['last_price_mil'] = sale_of_flats['last_price'] / 1000000"
   ]
  },
  {
   "cell_type": "code",
   "execution_count": 57,
   "metadata": {},
   "outputs": [],
   "source": [
    "find_blowout = sale_of_flats[['price_per_meter', 'ceiling_height', 'last_price_mil', 'total_area', 'floors_total', 'floor', 'living_area', 'kitchen_area', 'cityCenters_nearest']]"
   ]
  },
  {
   "cell_type": "code",
   "execution_count": 58,
   "metadata": {},
   "outputs": [
    {
     "data": {
      "text/html": [
       "<div>\n",
       "<style scoped>\n",
       "    .dataframe tbody tr th:only-of-type {\n",
       "        vertical-align: middle;\n",
       "    }\n",
       "\n",
       "    .dataframe tbody tr th {\n",
       "        vertical-align: top;\n",
       "    }\n",
       "\n",
       "    .dataframe thead th {\n",
       "        text-align: right;\n",
       "    }\n",
       "</style>\n",
       "<table border=\"1\" class=\"dataframe\">\n",
       "  <thead>\n",
       "    <tr style=\"text-align: right;\">\n",
       "      <th></th>\n",
       "      <th>price_per_meter</th>\n",
       "      <th>ceiling_height</th>\n",
       "      <th>last_price_mil</th>\n",
       "      <th>total_area</th>\n",
       "      <th>floors_total</th>\n",
       "      <th>floor</th>\n",
       "      <th>living_area</th>\n",
       "      <th>kitchen_area</th>\n",
       "      <th>cityCenters_nearest</th>\n",
       "    </tr>\n",
       "  </thead>\n",
       "  <tbody>\n",
       "    <tr>\n",
       "      <td>0</td>\n",
       "      <td>120370</td>\n",
       "      <td>2.70</td>\n",
       "      <td>13.000</td>\n",
       "      <td>108.00</td>\n",
       "      <td>16</td>\n",
       "      <td>8</td>\n",
       "      <td>51.0</td>\n",
       "      <td>25.00</td>\n",
       "      <td>16028.0</td>\n",
       "    </tr>\n",
       "    <tr>\n",
       "      <td>1</td>\n",
       "      <td>82920</td>\n",
       "      <td>2.65</td>\n",
       "      <td>3.350</td>\n",
       "      <td>40.40</td>\n",
       "      <td>11</td>\n",
       "      <td>1</td>\n",
       "      <td>18.6</td>\n",
       "      <td>11.00</td>\n",
       "      <td>18603.0</td>\n",
       "    </tr>\n",
       "    <tr>\n",
       "      <td>2</td>\n",
       "      <td>92785</td>\n",
       "      <td>2.65</td>\n",
       "      <td>5.196</td>\n",
       "      <td>56.00</td>\n",
       "      <td>5</td>\n",
       "      <td>4</td>\n",
       "      <td>34.3</td>\n",
       "      <td>8.30</td>\n",
       "      <td>13933.0</td>\n",
       "    </tr>\n",
       "    <tr>\n",
       "      <td>3</td>\n",
       "      <td>408176</td>\n",
       "      <td>2.65</td>\n",
       "      <td>64.900</td>\n",
       "      <td>159.00</td>\n",
       "      <td>14</td>\n",
       "      <td>9</td>\n",
       "      <td>40.1</td>\n",
       "      <td>11.55</td>\n",
       "      <td>6800.0</td>\n",
       "    </tr>\n",
       "    <tr>\n",
       "      <td>4</td>\n",
       "      <td>100000</td>\n",
       "      <td>3.03</td>\n",
       "      <td>10.000</td>\n",
       "      <td>100.00</td>\n",
       "      <td>14</td>\n",
       "      <td>13</td>\n",
       "      <td>32.0</td>\n",
       "      <td>41.00</td>\n",
       "      <td>8098.0</td>\n",
       "    </tr>\n",
       "    <tr>\n",
       "      <td>...</td>\n",
       "      <td>...</td>\n",
       "      <td>...</td>\n",
       "      <td>...</td>\n",
       "      <td>...</td>\n",
       "      <td>...</td>\n",
       "      <td>...</td>\n",
       "      <td>...</td>\n",
       "      <td>...</td>\n",
       "      <td>...</td>\n",
       "    </tr>\n",
       "    <tr>\n",
       "      <td>23694</td>\n",
       "      <td>72490</td>\n",
       "      <td>3.70</td>\n",
       "      <td>9.700</td>\n",
       "      <td>133.81</td>\n",
       "      <td>5</td>\n",
       "      <td>3</td>\n",
       "      <td>73.3</td>\n",
       "      <td>13.83</td>\n",
       "      <td>4232.0</td>\n",
       "    </tr>\n",
       "    <tr>\n",
       "      <td>23695</td>\n",
       "      <td>52542</td>\n",
       "      <td>2.65</td>\n",
       "      <td>3.100</td>\n",
       "      <td>59.00</td>\n",
       "      <td>5</td>\n",
       "      <td>4</td>\n",
       "      <td>38.0</td>\n",
       "      <td>8.50</td>\n",
       "      <td>13098.5</td>\n",
       "    </tr>\n",
       "    <tr>\n",
       "      <td>23696</td>\n",
       "      <td>44091</td>\n",
       "      <td>2.65</td>\n",
       "      <td>2.500</td>\n",
       "      <td>56.70</td>\n",
       "      <td>3</td>\n",
       "      <td>1</td>\n",
       "      <td>29.7</td>\n",
       "      <td>11.55</td>\n",
       "      <td>13098.5</td>\n",
       "    </tr>\n",
       "    <tr>\n",
       "      <td>23697</td>\n",
       "      <td>149511</td>\n",
       "      <td>3.00</td>\n",
       "      <td>11.475</td>\n",
       "      <td>76.75</td>\n",
       "      <td>17</td>\n",
       "      <td>12</td>\n",
       "      <td>40.1</td>\n",
       "      <td>23.30</td>\n",
       "      <td>10364.0</td>\n",
       "    </tr>\n",
       "    <tr>\n",
       "      <td>23698</td>\n",
       "      <td>41795</td>\n",
       "      <td>2.50</td>\n",
       "      <td>1.350</td>\n",
       "      <td>32.30</td>\n",
       "      <td>5</td>\n",
       "      <td>1</td>\n",
       "      <td>12.3</td>\n",
       "      <td>9.00</td>\n",
       "      <td>13098.5</td>\n",
       "    </tr>\n",
       "  </tbody>\n",
       "</table>\n",
       "<p>23699 rows × 9 columns</p>\n",
       "</div>"
      ],
      "text/plain": [
       "       price_per_meter  ceiling_height  last_price_mil  total_area  \\\n",
       "0               120370            2.70          13.000      108.00   \n",
       "1                82920            2.65           3.350       40.40   \n",
       "2                92785            2.65           5.196       56.00   \n",
       "3               408176            2.65          64.900      159.00   \n",
       "4               100000            3.03          10.000      100.00   \n",
       "...                ...             ...             ...         ...   \n",
       "23694            72490            3.70           9.700      133.81   \n",
       "23695            52542            2.65           3.100       59.00   \n",
       "23696            44091            2.65           2.500       56.70   \n",
       "23697           149511            3.00          11.475       76.75   \n",
       "23698            41795            2.50           1.350       32.30   \n",
       "\n",
       "       floors_total  floor  living_area  kitchen_area  cityCenters_nearest  \n",
       "0                16      8         51.0         25.00              16028.0  \n",
       "1                11      1         18.6         11.00              18603.0  \n",
       "2                 5      4         34.3          8.30              13933.0  \n",
       "3                14      9         40.1         11.55               6800.0  \n",
       "4                14     13         32.0         41.00               8098.0  \n",
       "...             ...    ...          ...           ...                  ...  \n",
       "23694             5      3         73.3         13.83               4232.0  \n",
       "23695             5      4         38.0          8.50              13098.5  \n",
       "23696             3      1         29.7         11.55              13098.5  \n",
       "23697            17     12         40.1         23.30              10364.0  \n",
       "23698             5      1         12.3          9.00              13098.5  \n",
       "\n",
       "[23699 rows x 9 columns]"
      ]
     },
     "execution_count": 58,
     "metadata": {},
     "output_type": "execute_result"
    }
   ],
   "source": [
    "find_blowout"
   ]
  },
  {
   "cell_type": "code",
   "execution_count": 59,
   "metadata": {},
   "outputs": [
    {
     "data": {
      "text/html": [
       "<div>\n",
       "<style scoped>\n",
       "    .dataframe tbody tr th:only-of-type {\n",
       "        vertical-align: middle;\n",
       "    }\n",
       "\n",
       "    .dataframe tbody tr th {\n",
       "        vertical-align: top;\n",
       "    }\n",
       "\n",
       "    .dataframe thead th {\n",
       "        text-align: right;\n",
       "    }\n",
       "</style>\n",
       "<table border=\"1\" class=\"dataframe\">\n",
       "  <thead>\n",
       "    <tr style=\"text-align: right;\">\n",
       "      <th></th>\n",
       "      <th>price_per_meter</th>\n",
       "      <th>ceiling_height</th>\n",
       "      <th>last_price_mil</th>\n",
       "      <th>total_area</th>\n",
       "      <th>floors_total</th>\n",
       "      <th>floor</th>\n",
       "      <th>living_area</th>\n",
       "      <th>kitchen_area</th>\n",
       "      <th>cityCenters_nearest</th>\n",
       "    </tr>\n",
       "  </thead>\n",
       "  <tbody>\n",
       "    <tr>\n",
       "      <td>count</td>\n",
       "      <td>2.369900e+04</td>\n",
       "      <td>23699.000000</td>\n",
       "      <td>23699.000000</td>\n",
       "      <td>23699.000000</td>\n",
       "      <td>23699.000000</td>\n",
       "      <td>23699.000000</td>\n",
       "      <td>23699.000000</td>\n",
       "      <td>23698.000000</td>\n",
       "      <td>23699.000000</td>\n",
       "    </tr>\n",
       "    <tr>\n",
       "      <td>mean</td>\n",
       "      <td>9.942121e+04</td>\n",
       "      <td>2.724453</td>\n",
       "      <td>6.541549</td>\n",
       "      <td>60.348651</td>\n",
       "      <td>13.816448</td>\n",
       "      <td>5.892358</td>\n",
       "      <td>34.910910</td>\n",
       "      <td>10.663988</td>\n",
       "      <td>13936.792797</td>\n",
       "    </tr>\n",
       "    <tr>\n",
       "      <td>std</td>\n",
       "      <td>5.030681e+04</td>\n",
       "      <td>0.988299</td>\n",
       "      <td>10.887013</td>\n",
       "      <td>35.654083</td>\n",
       "      <td>8.518951</td>\n",
       "      <td>4.885249</td>\n",
       "      <td>21.182958</td>\n",
       "      <td>5.621979</td>\n",
       "      <td>7553.779633</td>\n",
       "    </tr>\n",
       "    <tr>\n",
       "      <td>min</td>\n",
       "      <td>1.110000e+02</td>\n",
       "      <td>1.000000</td>\n",
       "      <td>0.012190</td>\n",
       "      <td>12.000000</td>\n",
       "      <td>1.000000</td>\n",
       "      <td>1.000000</td>\n",
       "      <td>2.000000</td>\n",
       "      <td>1.300000</td>\n",
       "      <td>181.000000</td>\n",
       "    </tr>\n",
       "    <tr>\n",
       "      <td>25%</td>\n",
       "      <td>7.658500e+04</td>\n",
       "      <td>2.600000</td>\n",
       "      <td>3.400000</td>\n",
       "      <td>40.000000</td>\n",
       "      <td>5.000000</td>\n",
       "      <td>2.000000</td>\n",
       "      <td>19.000000</td>\n",
       "      <td>7.400000</td>\n",
       "      <td>10927.000000</td>\n",
       "    </tr>\n",
       "    <tr>\n",
       "      <td>50%</td>\n",
       "      <td>9.500000e+04</td>\n",
       "      <td>2.650000</td>\n",
       "      <td>4.650000</td>\n",
       "      <td>52.000000</td>\n",
       "      <td>14.000000</td>\n",
       "      <td>4.000000</td>\n",
       "      <td>31.100000</td>\n",
       "      <td>10.000000</td>\n",
       "      <td>13098.500000</td>\n",
       "    </tr>\n",
       "    <tr>\n",
       "      <td>75%</td>\n",
       "      <td>1.142560e+05</td>\n",
       "      <td>2.700000</td>\n",
       "      <td>6.800000</td>\n",
       "      <td>69.900000</td>\n",
       "      <td>24.000000</td>\n",
       "      <td>8.000000</td>\n",
       "      <td>41.100000</td>\n",
       "      <td>11.550000</td>\n",
       "      <td>15248.500000</td>\n",
       "    </tr>\n",
       "    <tr>\n",
       "      <td>max</td>\n",
       "      <td>1.907500e+06</td>\n",
       "      <td>100.000000</td>\n",
       "      <td>763.000000</td>\n",
       "      <td>900.000000</td>\n",
       "      <td>60.000000</td>\n",
       "      <td>33.000000</td>\n",
       "      <td>409.700000</td>\n",
       "      <td>112.000000</td>\n",
       "      <td>65968.000000</td>\n",
       "    </tr>\n",
       "  </tbody>\n",
       "</table>\n",
       "</div>"
      ],
      "text/plain": [
       "       price_per_meter  ceiling_height  last_price_mil    total_area  \\\n",
       "count     2.369900e+04    23699.000000    23699.000000  23699.000000   \n",
       "mean      9.942121e+04        2.724453        6.541549     60.348651   \n",
       "std       5.030681e+04        0.988299       10.887013     35.654083   \n",
       "min       1.110000e+02        1.000000        0.012190     12.000000   \n",
       "25%       7.658500e+04        2.600000        3.400000     40.000000   \n",
       "50%       9.500000e+04        2.650000        4.650000     52.000000   \n",
       "75%       1.142560e+05        2.700000        6.800000     69.900000   \n",
       "max       1.907500e+06      100.000000      763.000000    900.000000   \n",
       "\n",
       "       floors_total         floor   living_area  kitchen_area  \\\n",
       "count  23699.000000  23699.000000  23699.000000  23698.000000   \n",
       "mean      13.816448      5.892358     34.910910     10.663988   \n",
       "std        8.518951      4.885249     21.182958      5.621979   \n",
       "min        1.000000      1.000000      2.000000      1.300000   \n",
       "25%        5.000000      2.000000     19.000000      7.400000   \n",
       "50%       14.000000      4.000000     31.100000     10.000000   \n",
       "75%       24.000000      8.000000     41.100000     11.550000   \n",
       "max       60.000000     33.000000    409.700000    112.000000   \n",
       "\n",
       "       cityCenters_nearest  \n",
       "count         23699.000000  \n",
       "mean          13936.792797  \n",
       "std            7553.779633  \n",
       "min             181.000000  \n",
       "25%           10927.000000  \n",
       "50%           13098.500000  \n",
       "75%           15248.500000  \n",
       "max           65968.000000  "
      ]
     },
     "execution_count": 59,
     "metadata": {},
     "output_type": "execute_result"
    }
   ],
   "source": [
    "find_blowout.describe()"
   ]
  },
  {
   "cell_type": "markdown",
   "metadata": {},
   "source": [
    "Для очистки датафрейма от выбросов нам необходимо воспользоваться функцией percentille(). Но из-за пропущенных значений в столбцах воспользуемся методом nanpercentille(), и выберем все значения столбцов, до значения nanpercentille(95%), чтобы оставшиеся 5% мы могли отметить как выбросы."
   ]
  },
  {
   "cell_type": "markdown",
   "metadata": {},
   "source": [
    "Посмотрим как работает метод nanpercentille()."
   ]
  },
  {
   "cell_type": "code",
   "execution_count": 60,
   "metadata": {},
   "outputs": [
    {
     "name": "stdout",
     "output_type": "stream",
     "text": [
      "<class 'pandas.core.frame.DataFrame'>\n",
      "RangeIndex: 23699 entries, 0 to 23698\n",
      "Data columns (total 9 columns):\n",
      "price_per_meter        23699 non-null int64\n",
      "ceiling_height         23699 non-null float64\n",
      "last_price_mil         23699 non-null float64\n",
      "total_area             23699 non-null float64\n",
      "floors_total           23699 non-null int64\n",
      "floor                  23699 non-null int64\n",
      "living_area            23699 non-null float64\n",
      "kitchen_area           23698 non-null float64\n",
      "cityCenters_nearest    23699 non-null float64\n",
      "dtypes: float64(6), int64(3)\n",
      "memory usage: 1.6 MB\n"
     ]
    }
   ],
   "source": [
    "find_blowout.info()"
   ]
  },
  {
   "cell_type": "code",
   "execution_count": 61,
   "metadata": {},
   "outputs": [
    {
     "data": {
      "text/plain": [
       "array([1.14256e+05, 2.70000e+00, 6.80000e+00, 6.99000e+01, 2.40000e+01,\n",
       "       8.00000e+00, 4.11000e+01, 1.15500e+01, 1.52485e+04])"
      ]
     },
     "execution_count": 61,
     "metadata": {},
     "output_type": "execute_result"
    }
   ],
   "source": [
    "out = np.nanpercentile(find_blowout, q = 75, axis = 0)\n",
    "out"
   ]
  },
  {
   "cell_type": "markdown",
   "metadata": {},
   "source": [
    "Значения совпадают с методом describe(). Значит можно его применить при дальнейших расчетах."
   ]
  },
  {
   "cell_type": "code",
   "execution_count": 62,
   "metadata": {},
   "outputs": [
    {
     "data": {
      "text/plain": [
       "array([1.607163e+05, 3.130000e+00, 1.530000e+01, 1.160000e+02,\n",
       "       2.500000e+01, 1.600000e+01, 6.700000e+01, 1.960000e+01,\n",
       "       3.059410e+04])"
      ]
     },
     "execution_count": 62,
     "metadata": {},
     "output_type": "execute_result"
    }
   ],
   "source": [
    "blowout_limit_list = np.nanpercentile(find_blowout, q = 95, axis = 0)\n",
    "blowout_limit_list"
   ]
  },
  {
   "cell_type": "markdown",
   "metadata": {},
   "source": [
    "Зададим дф, который будет содержать названия колонок дф find_blowout."
   ]
  },
  {
   "cell_type": "code",
   "execution_count": 63,
   "metadata": {},
   "outputs": [],
   "source": [
    "find_blowout_columns = find_blowout.columns"
   ]
  },
  {
   "cell_type": "markdown",
   "metadata": {},
   "source": [
    "Напишем цикл, который посчитает и выведет значения персентилей для каждого столбца и заменит дф find_blowout на значения, которые меньше 95% персентиля."
   ]
  },
  {
   "cell_type": "code",
   "execution_count": 64,
   "metadata": {},
   "outputs": [
    {
     "name": "stdout",
     "output_type": "stream",
     "text": [
      "Значение 95% персентиля для столбца price_per_meter 160716.29999999996\n",
      "Значение 95% персентиля для столбца ceiling_height 3.13\n",
      "Значение 95% персентиля для столбца last_price_mil 15.3\n",
      "Значение 95% персентиля для столбца total_area 116.0\n",
      "Значение 95% персентиля для столбца floors_total 25.0\n",
      "Значение 95% персентиля для столбца floor 16.0\n",
      "Значение 95% персентиля для столбца living_area 67.0\n",
      "Значение 95% персентиля для столбца kitchen_area 19.6\n",
      "Значение 95% персентиля для столбца cityCenters_nearest 30594.099999999984\n"
     ]
    }
   ],
   "source": [
    "numb = 0\n",
    "while numb < len(blowout_limit_list):\n",
    "    real_column = find_blowout_columns[numb]\n",
    "    real_blowout_limit = blowout_limit_list[numb]\n",
    "    print('Значение 95% персентиля для столбца', real_column, real_blowout_limit)\n",
    "    numb += 1"
   ]
  },
  {
   "cell_type": "code",
   "execution_count": 65,
   "metadata": {},
   "outputs": [],
   "source": [
    "find_blowout = find_blowout.query('price_per_meter <= 160716.29999999996')"
   ]
  },
  {
   "cell_type": "code",
   "execution_count": 66,
   "metadata": {},
   "outputs": [],
   "source": [
    "find_blowout = find_blowout.query('ceiling_height <= 3.3')"
   ]
  },
  {
   "cell_type": "code",
   "execution_count": 67,
   "metadata": {},
   "outputs": [],
   "source": [
    "find_blowout = find_blowout.query('last_price_mil <= 15.0')"
   ]
  },
  {
   "cell_type": "code",
   "execution_count": 68,
   "metadata": {},
   "outputs": [],
   "source": [
    "find_blowout = find_blowout.query('total_area <= 116.0')"
   ]
  },
  {
   "cell_type": "code",
   "execution_count": 69,
   "metadata": {},
   "outputs": [],
   "source": [
    "find_blowout = find_blowout.query('floors_total <= 25.0')"
   ]
  },
  {
   "cell_type": "code",
   "execution_count": 70,
   "metadata": {},
   "outputs": [],
   "source": [
    "find_blowout = find_blowout.query('floor <= 16.0')"
   ]
  },
  {
   "cell_type": "code",
   "execution_count": 71,
   "metadata": {},
   "outputs": [],
   "source": [
    "find_blowout = find_blowout.query('living_area <= 69.0')"
   ]
  },
  {
   "cell_type": "code",
   "execution_count": 72,
   "metadata": {},
   "outputs": [],
   "source": [
    "find_blowout = find_blowout.query('kitchen_area <= 20')"
   ]
  },
  {
   "cell_type": "code",
   "execution_count": 73,
   "metadata": {},
   "outputs": [],
   "source": [
    "find_blowout = find_blowout.query('cityCenters_nearest <= 31671.599999999977')"
   ]
  },
  {
   "cell_type": "code",
   "execution_count": 74,
   "metadata": {},
   "outputs": [
    {
     "data": {
      "text/html": [
       "<div>\n",
       "<style scoped>\n",
       "    .dataframe tbody tr th:only-of-type {\n",
       "        vertical-align: middle;\n",
       "    }\n",
       "\n",
       "    .dataframe tbody tr th {\n",
       "        vertical-align: top;\n",
       "    }\n",
       "\n",
       "    .dataframe thead th {\n",
       "        text-align: right;\n",
       "    }\n",
       "</style>\n",
       "<table border=\"1\" class=\"dataframe\">\n",
       "  <thead>\n",
       "    <tr style=\"text-align: right;\">\n",
       "      <th></th>\n",
       "      <th>price_per_meter</th>\n",
       "      <th>ceiling_height</th>\n",
       "      <th>last_price_mil</th>\n",
       "      <th>total_area</th>\n",
       "      <th>floors_total</th>\n",
       "      <th>floor</th>\n",
       "      <th>living_area</th>\n",
       "      <th>kitchen_area</th>\n",
       "      <th>cityCenters_nearest</th>\n",
       "    </tr>\n",
       "  </thead>\n",
       "  <tbody>\n",
       "    <tr>\n",
       "      <td>count</td>\n",
       "      <td>18701.000000</td>\n",
       "      <td>18701.000000</td>\n",
       "      <td>18701.000000</td>\n",
       "      <td>18701.000000</td>\n",
       "      <td>18701.000000</td>\n",
       "      <td>18701.000000</td>\n",
       "      <td>18701.000000</td>\n",
       "      <td>18701.000000</td>\n",
       "      <td>18701.000000</td>\n",
       "    </tr>\n",
       "    <tr>\n",
       "      <td>mean</td>\n",
       "      <td>90572.475376</td>\n",
       "      <td>2.655996</td>\n",
       "      <td>4.767436</td>\n",
       "      <td>52.668078</td>\n",
       "      <td>13.843003</td>\n",
       "      <td>5.226726</td>\n",
       "      <td>31.220916</td>\n",
       "      <td>9.413913</td>\n",
       "      <td>13562.672130</td>\n",
       "    </tr>\n",
       "    <tr>\n",
       "      <td>std</td>\n",
       "      <td>28466.235859</td>\n",
       "      <td>0.141195</td>\n",
       "      <td>2.302296</td>\n",
       "      <td>17.642361</td>\n",
       "      <td>8.386050</td>\n",
       "      <td>3.752779</td>\n",
       "      <td>12.239149</td>\n",
       "      <td>2.928671</td>\n",
       "      <td>5158.564281</td>\n",
       "    </tr>\n",
       "    <tr>\n",
       "      <td>min</td>\n",
       "      <td>7962.000000</td>\n",
       "      <td>1.000000</td>\n",
       "      <td>0.430000</td>\n",
       "      <td>13.000000</td>\n",
       "      <td>1.000000</td>\n",
       "      <td>1.000000</td>\n",
       "      <td>2.000000</td>\n",
       "      <td>1.300000</td>\n",
       "      <td>287.000000</td>\n",
       "    </tr>\n",
       "    <tr>\n",
       "      <td>25%</td>\n",
       "      <td>73529.000000</td>\n",
       "      <td>2.580000</td>\n",
       "      <td>3.253000</td>\n",
       "      <td>39.000000</td>\n",
       "      <td>5.000000</td>\n",
       "      <td>2.000000</td>\n",
       "      <td>18.900000</td>\n",
       "      <td>7.000000</td>\n",
       "      <td>11725.000000</td>\n",
       "    </tr>\n",
       "    <tr>\n",
       "      <td>50%</td>\n",
       "      <td>92391.000000</td>\n",
       "      <td>2.650000</td>\n",
       "      <td>4.300000</td>\n",
       "      <td>49.000000</td>\n",
       "      <td>14.000000</td>\n",
       "      <td>4.000000</td>\n",
       "      <td>30.100000</td>\n",
       "      <td>9.000000</td>\n",
       "      <td>13098.500000</td>\n",
       "    </tr>\n",
       "    <tr>\n",
       "      <td>75%</td>\n",
       "      <td>108846.000000</td>\n",
       "      <td>2.650000</td>\n",
       "      <td>5.800000</td>\n",
       "      <td>63.000000</td>\n",
       "      <td>24.000000</td>\n",
       "      <td>7.000000</td>\n",
       "      <td>40.100000</td>\n",
       "      <td>11.550000</td>\n",
       "      <td>14971.000000</td>\n",
       "    </tr>\n",
       "    <tr>\n",
       "      <td>max</td>\n",
       "      <td>160714.000000</td>\n",
       "      <td>3.300000</td>\n",
       "      <td>15.000000</td>\n",
       "      <td>116.000000</td>\n",
       "      <td>25.000000</td>\n",
       "      <td>16.000000</td>\n",
       "      <td>69.000000</td>\n",
       "      <td>20.000000</td>\n",
       "      <td>31670.000000</td>\n",
       "    </tr>\n",
       "  </tbody>\n",
       "</table>\n",
       "</div>"
      ],
      "text/plain": [
       "       price_per_meter  ceiling_height  last_price_mil    total_area  \\\n",
       "count     18701.000000    18701.000000    18701.000000  18701.000000   \n",
       "mean      90572.475376        2.655996        4.767436     52.668078   \n",
       "std       28466.235859        0.141195        2.302296     17.642361   \n",
       "min        7962.000000        1.000000        0.430000     13.000000   \n",
       "25%       73529.000000        2.580000        3.253000     39.000000   \n",
       "50%       92391.000000        2.650000        4.300000     49.000000   \n",
       "75%      108846.000000        2.650000        5.800000     63.000000   \n",
       "max      160714.000000        3.300000       15.000000    116.000000   \n",
       "\n",
       "       floors_total         floor   living_area  kitchen_area  \\\n",
       "count  18701.000000  18701.000000  18701.000000  18701.000000   \n",
       "mean      13.843003      5.226726     31.220916      9.413913   \n",
       "std        8.386050      3.752779     12.239149      2.928671   \n",
       "min        1.000000      1.000000      2.000000      1.300000   \n",
       "25%        5.000000      2.000000     18.900000      7.000000   \n",
       "50%       14.000000      4.000000     30.100000      9.000000   \n",
       "75%       24.000000      7.000000     40.100000     11.550000   \n",
       "max       25.000000     16.000000     69.000000     20.000000   \n",
       "\n",
       "       cityCenters_nearest  \n",
       "count         18701.000000  \n",
       "mean          13562.672130  \n",
       "std            5158.564281  \n",
       "min             287.000000  \n",
       "25%           11725.000000  \n",
       "50%           13098.500000  \n",
       "75%           14971.000000  \n",
       "max           31670.000000  "
      ]
     },
     "execution_count": 74,
     "metadata": {},
     "output_type": "execute_result"
    }
   ],
   "source": [
    "find_blowout.describe()"
   ]
  },
  {
   "cell_type": "markdown",
   "metadata": {},
   "source": [
    "Из итоговой таблицы мы можем посмотреть,какие параметры имеет среднестатистическая квартира. Будем смотреть на средние значения столбцов."
   ]
  },
  {
   "cell_type": "markdown",
   "metadata": {},
   "source": [
    "- Большинство квартир находятся в домах в 15 этажей, но продают квартиры на низких этажах. Скорее всего, это связано с тем, что людей больше устраивают квартиры на низких этажах, но если квартира находится выше 5 этажа, это уже неплохо."
   ]
  },
  {
   "cell_type": "markdown",
   "metadata": {},
   "source": [
    "- Высота потолков получилась 2,6 - 2,7. Ничего особенного. Разброс в значениях высоты потолков не такой вышел и большой(при условии, что мы отсеяли потолки высотой 100 метров). "
   ]
  },
  {
   "cell_type": "markdown",
   "metadata": {},
   "source": [
    "- Средняя цена за метр квадратный тоже не вызывает вопросов. 102281 руб. Обычная цена для больших городов."
   ]
  },
  {
   "cell_type": "markdown",
   "metadata": {},
   "source": [
    "- Санкт- Петербург большой город, и то, что самые частопродаваемые квартиры находятся в удалении от центра на всего 10 км. При том, что протяженность города с севера на юг 44 км, с запада на восток 25 км, так и выходим расстояние в среднем."
   ]
  },
  {
   "cell_type": "markdown",
   "metadata": {},
   "source": [
    "#### 4.4. Какие факторы больше всего влияют на стоимость квартиры? Изучение, зависимости цены от квадратного метра, числа комнат, удалённости от центра. Изучение зависимости цены от того, на каком этаже расположена квартира: первом, последнем или другом. Также изучим зависимость от даты размещения: дня недели, месяца и года."
   ]
  },
  {
   "cell_type": "markdown",
   "metadata": {},
   "source": [
    "Создадим выборку для изучения первого пункта задания."
   ]
  },
  {
   "cell_type": "code",
   "execution_count": 75,
   "metadata": {},
   "outputs": [
    {
     "data": {
      "text/html": [
       "<div>\n",
       "<style scoped>\n",
       "    .dataframe tbody tr th:only-of-type {\n",
       "        vertical-align: middle;\n",
       "    }\n",
       "\n",
       "    .dataframe tbody tr th {\n",
       "        vertical-align: top;\n",
       "    }\n",
       "\n",
       "    .dataframe thead th {\n",
       "        text-align: right;\n",
       "    }\n",
       "</style>\n",
       "<table border=\"1\" class=\"dataframe\">\n",
       "  <thead>\n",
       "    <tr style=\"text-align: right;\">\n",
       "      <th></th>\n",
       "      <th>price_per_meter</th>\n",
       "      <th>total_area</th>\n",
       "      <th>rooms</th>\n",
       "      <th>cityCenters_nearest</th>\n",
       "    </tr>\n",
       "  </thead>\n",
       "  <tbody>\n",
       "    <tr>\n",
       "      <td>0</td>\n",
       "      <td>120370</td>\n",
       "      <td>108.0</td>\n",
       "      <td>3</td>\n",
       "      <td>16028.0</td>\n",
       "    </tr>\n",
       "    <tr>\n",
       "      <td>1</td>\n",
       "      <td>82920</td>\n",
       "      <td>40.4</td>\n",
       "      <td>1</td>\n",
       "      <td>18603.0</td>\n",
       "    </tr>\n",
       "    <tr>\n",
       "      <td>2</td>\n",
       "      <td>92785</td>\n",
       "      <td>56.0</td>\n",
       "      <td>2</td>\n",
       "      <td>13933.0</td>\n",
       "    </tr>\n",
       "    <tr>\n",
       "      <td>3</td>\n",
       "      <td>408176</td>\n",
       "      <td>159.0</td>\n",
       "      <td>3</td>\n",
       "      <td>6800.0</td>\n",
       "    </tr>\n",
       "    <tr>\n",
       "      <td>4</td>\n",
       "      <td>100000</td>\n",
       "      <td>100.0</td>\n",
       "      <td>2</td>\n",
       "      <td>8098.0</td>\n",
       "    </tr>\n",
       "  </tbody>\n",
       "</table>\n",
       "</div>"
      ],
      "text/plain": [
       "   price_per_meter  total_area  rooms  cityCenters_nearest\n",
       "0           120370       108.0      3              16028.0\n",
       "1            82920        40.4      1              18603.0\n",
       "2            92785        56.0      2              13933.0\n",
       "3           408176       159.0      3               6800.0\n",
       "4           100000       100.0      2               8098.0"
      ]
     },
     "execution_count": 75,
     "metadata": {},
     "output_type": "execute_result"
    }
   ],
   "source": [
    "factors_flat_price = sale_of_flats[['price_per_meter', 'total_area', 'rooms', 'cityCenters_nearest']]\n",
    "factors_flat_price.head()"
   ]
  },
  {
   "cell_type": "markdown",
   "metadata": {},
   "source": [
    "Для наглядного изучения зависимости лучше всего использовать функцию корреляции corr()."
   ]
  },
  {
   "cell_type": "code",
   "execution_count": 76,
   "metadata": {},
   "outputs": [
    {
     "data": {
      "text/plain": [
       "array([[<matplotlib.axes._subplots.AxesSubplot object at 0x7f54c6f6d490>,\n",
       "        <matplotlib.axes._subplots.AxesSubplot object at 0x7f54c7c80e10>,\n",
       "        <matplotlib.axes._subplots.AxesSubplot object at 0x7f54c7bf8fd0>,\n",
       "        <matplotlib.axes._subplots.AxesSubplot object at 0x7f54c7baf850>],\n",
       "       [<matplotlib.axes._subplots.AxesSubplot object at 0x7f54c7be5b50>,\n",
       "        <matplotlib.axes._subplots.AxesSubplot object at 0x7f54c7b9de50>,\n",
       "        <matplotlib.axes._subplots.AxesSubplot object at 0x7f54c7b5dc90>,\n",
       "        <matplotlib.axes._subplots.AxesSubplot object at 0x7f54c7b16490>],\n",
       "       [<matplotlib.axes._subplots.AxesSubplot object at 0x7f54c7b16f10>,\n",
       "        <matplotlib.axes._subplots.AxesSubplot object at 0x7f54c7adb390>,\n",
       "        <matplotlib.axes._subplots.AxesSubplot object at 0x7f54c7a3ed90>,\n",
       "        <matplotlib.axes._subplots.AxesSubplot object at 0x7f54c7a01b50>],\n",
       "       [<matplotlib.axes._subplots.AxesSubplot object at 0x7f54c79bae50>,\n",
       "        <matplotlib.axes._subplots.AxesSubplot object at 0x7f54c79746d0>,\n",
       "        <matplotlib.axes._subplots.AxesSubplot object at 0x7f54c792c9d0>,\n",
       "        <matplotlib.axes._subplots.AxesSubplot object at 0x7f54c7966cd0>]],\n",
       "      dtype=object)"
      ]
     },
     "execution_count": 76,
     "metadata": {},
     "output_type": "execute_result"
    },
    {
     "data": {
      "image/png": "[encoded data removed]",
      "text/plain": [
       "<Figure size 720x720 with 16 Axes>"
      ]
     },
     "metadata": {
      "needs_background": "light"
     },
     "output_type": "display_data"
    }
   ],
   "source": [
    "factors_flat_price.corr()\n",
    "pd.plotting.scatter_matrix(factors_flat_price, figsize=(10,10))"
   ]
  },
  {
   "cell_type": "markdown",
   "metadata": {},
   "source": [
    "Из расчитанных данных и из графиков попарных точечных диаграмм мы видим, что на цену больше всего влияет цена за квадратный метр, и это прямые зависимости. Площадь это константа, и ее изменение невозможнопо априори. А на третьем месте по влиянию оказалось число комнат. Но все- равно, в любом случае больше учитывается квадрат, а не количество перегородок, грубо говоря."
   ]
  },
  {
   "cell_type": "markdown",
   "metadata": {},
   "source": [
    "Все графики в паре с количеством комнат имеют необычную для графика полосчатую структуру. Это связано с тем, что комнат может быть только исключительно целым числом."
   ]
  },
  {
   "cell_type": "markdown",
   "metadata": {},
   "source": [
    "Значение удаленности от центра имеет обратную зависимость с ценой за кв.м., но значения настолько маленькими. Но учитывая, что большая квартира в удаленном районе города и маленькая в центре могут иметь одну цену за кв.м., вполне имеет место быть, так как в любом случае больше учитываем общие характеристики квартиры."
   ]
  },
  {
   "cell_type": "markdown",
   "metadata": {},
   "source": [
    "Для визуализации матрицы корреляции, создадим тепловую карту из библиотеки Seaborn, где значение меньше, тем темнее(холоднее). На ней мы увидим, где оттенок светлее, тем зависимость больше."
   ]
  },
  {
   "cell_type": "code",
   "execution_count": 77,
   "metadata": {},
   "outputs": [
    {
     "data": {
      "text/plain": [
       "<matplotlib.axes._subplots.AxesSubplot at 0x7f54c7d48ed0>"
      ]
     },
     "execution_count": 77,
     "metadata": {},
     "output_type": "execute_result"
    },
    {
     "data": {
      "image/png": "[encoded data removed]",
      "text/plain": [
       "<Figure size 432x288 with 2 Axes>"
      ]
     },
     "metadata": {
      "needs_background": "light"
     },
     "output_type": "display_data"
    }
   ],
   "source": [
    "sns.heatmap(factors_flat_price.corr(), annot = True)"
   ]
  },
  {
   "cell_type": "markdown",
   "metadata": {},
   "source": [
    "Следующим пунтом будет анализ зависимости между ценой квартиры и того, на каком она этаже. Но, что-то мне подсказывает, что результат очевиден, и чем выше этаж, тем дороже квартира. "
   ]
  },
  {
   "cell_type": "code",
   "execution_count": 78,
   "metadata": {},
   "outputs": [],
   "source": [
    "flat_floor = sale_of_flats[['price_per_meter', 'floor_group']]"
   ]
  },
  {
   "cell_type": "markdown",
   "metadata": {},
   "source": [
    "Сгруппируем сводную таблицу по группе этажа, и подставим медианные значения столбца с ценой по этим категориям."
   ]
  },
  {
   "cell_type": "code",
   "execution_count": 79,
   "metadata": {},
   "outputs": [],
   "source": [
    "flat_floor = (\n",
    "    sale_of_flats\n",
    "    .pivot_table(index='floor_group', values='price_per_meter', aggfunc=['median', 'count'])\n",
    ")"
   ]
  },
  {
   "cell_type": "code",
   "execution_count": 80,
   "metadata": {},
   "outputs": [
    {
     "data": {
      "text/html": [
       "<div>\n",
       "<style scoped>\n",
       "    .dataframe tbody tr th:only-of-type {\n",
       "        vertical-align: middle;\n",
       "    }\n",
       "\n",
       "    .dataframe tbody tr th {\n",
       "        vertical-align: top;\n",
       "    }\n",
       "\n",
       "    .dataframe thead tr th {\n",
       "        text-align: left;\n",
       "    }\n",
       "\n",
       "    .dataframe thead tr:last-of-type th {\n",
       "        text-align: right;\n",
       "    }\n",
       "</style>\n",
       "<table border=\"1\" class=\"dataframe\">\n",
       "  <thead>\n",
       "    <tr>\n",
       "      <th></th>\n",
       "      <th>median</th>\n",
       "      <th>count</th>\n",
       "    </tr>\n",
       "    <tr>\n",
       "      <th></th>\n",
       "      <th>price_per_meter</th>\n",
       "      <th>price_per_meter</th>\n",
       "    </tr>\n",
       "    <tr>\n",
       "      <th>floor_group</th>\n",
       "      <th></th>\n",
       "      <th></th>\n",
       "    </tr>\n",
       "  </thead>\n",
       "  <tbody>\n",
       "    <tr>\n",
       "      <td>Другой</td>\n",
       "      <td>98009</td>\n",
       "      <td>17972</td>\n",
       "    </tr>\n",
       "    <tr>\n",
       "      <td>Первый</td>\n",
       "      <td>81223</td>\n",
       "      <td>2917</td>\n",
       "    </tr>\n",
       "    <tr>\n",
       "      <td>Последний</td>\n",
       "      <td>86250</td>\n",
       "      <td>2810</td>\n",
       "    </tr>\n",
       "  </tbody>\n",
       "</table>\n",
       "</div>"
      ],
      "text/plain": [
       "                     median           count\n",
       "            price_per_meter price_per_meter\n",
       "floor_group                                \n",
       "Другой                98009           17972\n",
       "Первый                81223            2917\n",
       "Последний             86250            2810"
      ]
     },
     "execution_count": 80,
     "metadata": {},
     "output_type": "execute_result"
    }
   ],
   "source": [
    "flat_floor"
   ]
  },
  {
   "cell_type": "markdown",
   "metadata": {},
   "source": [
    "Из таблицы мы можем видеть, что максимальная цена у этажа 'Другой'. Это связано с тем, что первый этаж не совсем комфортен для жилья. И подъезд получается максимально проходной и сама квартира в темное время суток предстает на всеобщее обозрение. С последним этажом все тоже, вроде как, понятно. Зачастую в разных домах проблема с последним этажом появляется весной, когда крыша начинает таять и потолок протекает. Мало приятного, гораздо удобнее допустим в 16-ти этажном доме взять квартиру на 15-ом этаже. Вид из окна тот же, а с потолком проблем нет. Поэтому, цена на 16-ом этаже будет ниже, чтобы повысить шансы на продажу. Ведь если можно сильно сэкономить, то почему бы и нет?"
   ]
  },
  {
   "cell_type": "markdown",
   "metadata": {},
   "source": [
    "Разница медианной стоимости между первым и другим 900000, а между другим и последним 600000. Можно сделать вывод, что охотнее всего купят квартиру на последнем или другом этаже, чем на первом(исходя из того, что цена выше там, где людям хочется купить больше). Так же как и охотнее купят квартиру на последнем этаже, чем на первом."
   ]
  },
  {
   "cell_type": "markdown",
   "metadata": {},
   "source": [
    "И последний пункт: зависимость от даты размещения."
   ]
  },
  {
   "cell_type": "markdown",
   "metadata": {},
   "source": [
    "Для изучения этой зависимости, воспользуемся тем же методом, что и в предыдущем решении."
   ]
  },
  {
   "cell_type": "code",
   "execution_count": 81,
   "metadata": {},
   "outputs": [],
   "source": [
    "price_to_exposition = sale_of_flats[['price_per_meter', 'weekday_exposition', 'mounth_exposition', 'year_exposition']]"
   ]
  },
  {
   "cell_type": "code",
   "execution_count": 82,
   "metadata": {},
   "outputs": [
    {
     "data": {
      "text/html": [
       "<div>\n",
       "<style scoped>\n",
       "    .dataframe tbody tr th:only-of-type {\n",
       "        vertical-align: middle;\n",
       "    }\n",
       "\n",
       "    .dataframe tbody tr th {\n",
       "        vertical-align: top;\n",
       "    }\n",
       "\n",
       "    .dataframe thead th {\n",
       "        text-align: right;\n",
       "    }\n",
       "</style>\n",
       "<table border=\"1\" class=\"dataframe\">\n",
       "  <thead>\n",
       "    <tr style=\"text-align: right;\">\n",
       "      <th></th>\n",
       "      <th>price_per_meter</th>\n",
       "    </tr>\n",
       "    <tr>\n",
       "      <th>weekday_exposition</th>\n",
       "      <th></th>\n",
       "    </tr>\n",
       "  </thead>\n",
       "  <tbody>\n",
       "    <tr>\n",
       "      <td>Воскресенье</td>\n",
       "      <td>94501.0</td>\n",
       "    </tr>\n",
       "    <tr>\n",
       "      <td>Вторник</td>\n",
       "      <td>95634.0</td>\n",
       "    </tr>\n",
       "    <tr>\n",
       "      <td>Понедельник</td>\n",
       "      <td>94688.0</td>\n",
       "    </tr>\n",
       "    <tr>\n",
       "      <td>Пятница</td>\n",
       "      <td>94616.0</td>\n",
       "    </tr>\n",
       "    <tr>\n",
       "      <td>Среда</td>\n",
       "      <td>95473.0</td>\n",
       "    </tr>\n",
       "    <tr>\n",
       "      <td>Суббота</td>\n",
       "      <td>93545.5</td>\n",
       "    </tr>\n",
       "    <tr>\n",
       "      <td>Четверг</td>\n",
       "      <td>95143.0</td>\n",
       "    </tr>\n",
       "  </tbody>\n",
       "</table>\n",
       "</div>"
      ],
      "text/plain": [
       "                    price_per_meter\n",
       "weekday_exposition                 \n",
       "Воскресенье                 94501.0\n",
       "Вторник                     95634.0\n",
       "Понедельник                 94688.0\n",
       "Пятница                     94616.0\n",
       "Среда                       95473.0\n",
       "Суббота                     93545.5\n",
       "Четверг                     95143.0"
      ]
     },
     "execution_count": 82,
     "metadata": {},
     "output_type": "execute_result"
    }
   ],
   "source": [
    "flat_weekday_exposition = (\n",
    "    sale_of_flats\n",
    "    .pivot_table(index='weekday_exposition', values='price_per_meter', aggfunc='median')\n",
    ")\n",
    "flat_weekday_exposition"
   ]
  },
  {
   "cell_type": "code",
   "execution_count": 83,
   "metadata": {},
   "outputs": [
    {
     "data": {
      "text/plain": [
       "Text(0.5, 1.0, 'Зависимость цены за кв.м. от дня выкладывания объявления на сервис')"
      ]
     },
     "execution_count": 83,
     "metadata": {},
     "output_type": "execute_result"
    },
    {
     "data": {
      "image/png": "[encoded data removed]",
      "text/plain": [
       "<Figure size 720x720 with 1 Axes>"
      ]
     },
     "metadata": {
      "needs_background": "light"
     },
     "output_type": "display_data"
    }
   ],
   "source": [
    "flat_weekday_exposition.plot(grid=True, figsize=(10,10))\n",
    "plt.title('Зависимость цены за кв.м. от дня выкладывания объявления на сервис')"
   ]
  },
  {
   "cell_type": "markdown",
   "metadata": {},
   "source": [
    "На самом деле, нет никакой зависимости от того, в какой день недели было размещено объявление. Конечно,есть значения минимальные и максимальные. Разница, между количеством объявлений размещенных в выходной день, чем в будний день большая. Но скорее всего это связано с тем, что в выходные дни люди предпочитают не заниматься деловыыми вопросами. А разница по установленной цене в этом объявлении вообще не устанавливается."
   ]
  },
  {
   "cell_type": "code",
   "execution_count": 84,
   "metadata": {},
   "outputs": [
    {
     "data": {
      "text/html": [
       "<div>\n",
       "<style scoped>\n",
       "    .dataframe tbody tr th:only-of-type {\n",
       "        vertical-align: middle;\n",
       "    }\n",
       "\n",
       "    .dataframe tbody tr th {\n",
       "        vertical-align: top;\n",
       "    }\n",
       "\n",
       "    .dataframe thead th {\n",
       "        text-align: right;\n",
       "    }\n",
       "</style>\n",
       "<table border=\"1\" class=\"dataframe\">\n",
       "  <thead>\n",
       "    <tr style=\"text-align: right;\">\n",
       "      <th></th>\n",
       "      <th>price_per_meter</th>\n",
       "    </tr>\n",
       "    <tr>\n",
       "      <th>mounth_exposition</th>\n",
       "      <th></th>\n",
       "    </tr>\n",
       "  </thead>\n",
       "  <tbody>\n",
       "    <tr>\n",
       "      <td>Август</td>\n",
       "      <td>95000</td>\n",
       "    </tr>\n",
       "    <tr>\n",
       "      <td>Апрель</td>\n",
       "      <td>95238</td>\n",
       "    </tr>\n",
       "    <tr>\n",
       "      <td>Декабрь</td>\n",
       "      <td>95588</td>\n",
       "    </tr>\n",
       "    <tr>\n",
       "      <td>Июль</td>\n",
       "      <td>92799</td>\n",
       "    </tr>\n",
       "    <tr>\n",
       "      <td>Июнь</td>\n",
       "      <td>92857</td>\n",
       "    </tr>\n",
       "    <tr>\n",
       "      <td>Май</td>\n",
       "      <td>96451</td>\n",
       "    </tr>\n",
       "    <tr>\n",
       "      <td>Март</td>\n",
       "      <td>95000</td>\n",
       "    </tr>\n",
       "    <tr>\n",
       "      <td>Ноябрь</td>\n",
       "      <td>94202</td>\n",
       "    </tr>\n",
       "    <tr>\n",
       "      <td>Октябрь</td>\n",
       "      <td>95607</td>\n",
       "    </tr>\n",
       "    <tr>\n",
       "      <td>Сентябрь</td>\n",
       "      <td>96026</td>\n",
       "    </tr>\n",
       "    <tr>\n",
       "      <td>Февраль</td>\n",
       "      <td>95222</td>\n",
       "    </tr>\n",
       "  </tbody>\n",
       "</table>\n",
       "</div>"
      ],
      "text/plain": [
       "                   price_per_meter\n",
       "mounth_exposition                 \n",
       "Август                       95000\n",
       "Апрель                       95238\n",
       "Декабрь                      95588\n",
       "Июль                         92799\n",
       "Июнь                         92857\n",
       "Май                          96451\n",
       "Март                         95000\n",
       "Ноябрь                       94202\n",
       "Октябрь                      95607\n",
       "Сентябрь                     96026\n",
       "Февраль                      95222"
      ]
     },
     "execution_count": 84,
     "metadata": {},
     "output_type": "execute_result"
    }
   ],
   "source": [
    "flat_mounth_exposition = (\n",
    "    sale_of_flats\n",
    "    .pivot_table(index='mounth_exposition', values='price_per_meter', aggfunc='median')\n",
    ")\n",
    "flat_mounth_exposition"
   ]
  },
  {
   "cell_type": "code",
   "execution_count": 85,
   "metadata": {},
   "outputs": [
    {
     "data": {
      "text/plain": [
       "Text(0.5, 1.0, 'Зависимость цены за кв.м. от месяца выкладывания объявления на сервис')"
      ]
     },
     "execution_count": 85,
     "metadata": {},
     "output_type": "execute_result"
    },
    {
     "data": {
      "image/png": "[encoded data removed]",
      "text/plain": [
       "<Figure size 720x720 with 1 Axes>"
      ]
     },
     "metadata": {
      "needs_background": "light"
     },
     "output_type": "display_data"
    }
   ],
   "source": [
    "flat_mounth_exposition.plot(grid=True, figsize=(10,10))\n",
    "plt.title('Зависимость цены за кв.м. от месяца выкладывания объявления на сервис')"
   ]
  },
  {
   "cell_type": "markdown",
   "metadata": {},
   "source": [
    "График, почему-то, не подписывает столбцы, но можно понять их значение по таблице и мы видим, что они расположены в алфавитном порядке. Так же как и в предыдущей задаче, разница по ценам незначительная и не зависимости никакой не присутствует. В интернете, на большом количестве сайтов говорят, что наиболее благоприятное время для покупки жилья - после Нового года. Говорят это, и не приводят никакой статистики. Сейчас ее мы видим сами. И нет никакой такой зависимости. Самая высокая цена в мае, но летом уже цена падает на самый минимум. Возможно, это также связано с тем, что когда обстановка более менее расслабленная, люди не хотят заниматься деловыми вопросами."
   ]
  },
  {
   "cell_type": "code",
   "execution_count": 86,
   "metadata": {},
   "outputs": [
    {
     "data": {
      "text/html": [
       "<div>\n",
       "<style scoped>\n",
       "    .dataframe tbody tr th:only-of-type {\n",
       "        vertical-align: middle;\n",
       "    }\n",
       "\n",
       "    .dataframe tbody tr th {\n",
       "        vertical-align: top;\n",
       "    }\n",
       "\n",
       "    .dataframe thead th {\n",
       "        text-align: right;\n",
       "    }\n",
       "</style>\n",
       "<table border=\"1\" class=\"dataframe\">\n",
       "  <thead>\n",
       "    <tr style=\"text-align: right;\">\n",
       "      <th></th>\n",
       "      <th>price_per_meter</th>\n",
       "    </tr>\n",
       "    <tr>\n",
       "      <th>year_exposition</th>\n",
       "      <th></th>\n",
       "    </tr>\n",
       "  </thead>\n",
       "  <tbody>\n",
       "    <tr>\n",
       "      <td>2014</td>\n",
       "      <td>107000.0</td>\n",
       "    </tr>\n",
       "    <tr>\n",
       "      <td>2015</td>\n",
       "      <td>93414.0</td>\n",
       "    </tr>\n",
       "    <tr>\n",
       "      <td>2016</td>\n",
       "      <td>91743.0</td>\n",
       "    </tr>\n",
       "    <tr>\n",
       "      <td>2017</td>\n",
       "      <td>92564.5</td>\n",
       "    </tr>\n",
       "    <tr>\n",
       "      <td>2018</td>\n",
       "      <td>95689.0</td>\n",
       "    </tr>\n",
       "    <tr>\n",
       "      <td>2019</td>\n",
       "      <td>103305.0</td>\n",
       "    </tr>\n",
       "  </tbody>\n",
       "</table>\n",
       "</div>"
      ],
      "text/plain": [
       "                 price_per_meter\n",
       "year_exposition                 \n",
       "2014                    107000.0\n",
       "2015                     93414.0\n",
       "2016                     91743.0\n",
       "2017                     92564.5\n",
       "2018                     95689.0\n",
       "2019                    103305.0"
      ]
     },
     "execution_count": 86,
     "metadata": {},
     "output_type": "execute_result"
    }
   ],
   "source": [
    "flat_year_exposition = (\n",
    "    sale_of_flats\n",
    "    .pivot_table(index='year_exposition', values='price_per_meter', aggfunc='median')\n",
    ")\n",
    "flat_year_exposition"
   ]
  },
  {
   "cell_type": "code",
   "execution_count": 87,
   "metadata": {},
   "outputs": [
    {
     "data": {
      "text/plain": [
       "Text(0.5, 1.0, 'Зависимость цены за кв.м. от года выкладывания объявления на сервис')"
      ]
     },
     "execution_count": 87,
     "metadata": {},
     "output_type": "execute_result"
    },
    {
     "data": {
      "image/png": "[encoded data removed]",
      "text/plain": [
       "<Figure size 720x720 with 1 Axes>"
      ]
     },
     "metadata": {
      "needs_background": "light"
     },
     "output_type": "display_data"
    }
   ],
   "source": [
    "flat_year_exposition.plot(grid=True, figsize=(10,10))\n",
    "plt.title('Зависимость цены за кв.м. от года выкладывания объявления на сервис')"
   ]
  },
  {
   "cell_type": "markdown",
   "metadata": {},
   "source": [
    "А вот с годом размещения объявления ситуация значительно интереснее. И логичнее. В разные года в мире разная экономика, а в России из-за обрушения рубля и инфляции экономическая ситуация нестабильная."
   ]
  },
  {
   "cell_type": "markdown",
   "metadata": {},
   "source": [
    "Видим, что начиная с 2014 года, когда предложение было низким, а цена высокой, к 2016-ому году ситуация сильно изменилась. Это связано с кризисом 2016-2018 гг. в России. Самая минимальная цена оказалась в 2016 году. Продолжительный кризис, который развивался задолго до 2016 года, привёл к тяжёлому финансовому положению широких слоёв населения. Соответственно у людей не было денег, чтобы покупать жилье. Спрос падал. И цена на жилье резко упала. А продавать стали больше, потому, что думали, что может стать еще хуже. Классическое поведение человека при кризисных ситуациях. Но как мы видим уже в 2019 году ситуация почти стабилизировалась в плане предложения, а цена на жилье стала расти."
   ]
  },
  {
   "cell_type": "markdown",
   "metadata": {},
   "source": [
    "#### 4.5. Выберем 10 населённых пунктов с наибольшим числом объявлений. Расчет средней цены квадратного метра в этих населённых пунктах. Выделение населённых пунктов с самой высокой и низкой стоимостью жилья. "
   ]
  },
  {
   "cell_type": "markdown",
   "metadata": {},
   "source": [
    "Функцией value_counts() выведем количество объявлений для каждого населенного пункта. Так как количество идет от большего к меньшему выведем первые 10 значений."
   ]
  },
  {
   "cell_type": "code",
   "execution_count": 88,
   "metadata": {},
   "outputs": [
    {
     "data": {
      "text/plain": [
       "Санкт-Петербург      15770\n",
       "посёлок Мурино         522\n",
       "посёлок Шушары         440\n",
       "Всеволожск             398\n",
       "Пушкин                 369\n",
       "Колпино                338\n",
       "посёлок Парголово      327\n",
       "Гатчина                307\n",
       "деревня Кудрово        299\n",
       "Выборг                 237\n",
       "Name: locality_name, dtype: int64"
      ]
     },
     "execution_count": 88,
     "metadata": {},
     "output_type": "execute_result"
    }
   ],
   "source": [
    "locality = sale_of_flats['locality_name'].value_counts().head(10)\n",
    "locality"
   ]
  },
  {
   "cell_type": "markdown",
   "metadata": {},
   "source": [
    "Мы видим, что Санкт- Петербург обгоняет населенные пункты в десятки раз. Причем интересен и тот факт, что у поселка Мурино и Шушары количество объявлений больше, чем у некоторых городов. Создадим отдельную таблицу, где к этим значениям будут добавлены необходимые нам количество объявлений и цена за кв.м."
   ]
  },
  {
   "cell_type": "code",
   "execution_count": 89,
   "metadata": {},
   "outputs": [
    {
     "data": {
      "text/html": [
       "<div>\n",
       "<style scoped>\n",
       "    .dataframe tbody tr th:only-of-type {\n",
       "        vertical-align: middle;\n",
       "    }\n",
       "\n",
       "    .dataframe tbody tr th {\n",
       "        vertical-align: top;\n",
       "    }\n",
       "\n",
       "    .dataframe thead th {\n",
       "        text-align: right;\n",
       "    }\n",
       "</style>\n",
       "<table border=\"1\" class=\"dataframe\">\n",
       "  <thead>\n",
       "    <tr style=\"text-align: right;\">\n",
       "      <th></th>\n",
       "      <th>count</th>\n",
       "      <th>price_per_meter</th>\n",
       "    </tr>\n",
       "    <tr>\n",
       "      <th>locality_name</th>\n",
       "      <th></th>\n",
       "      <th></th>\n",
       "    </tr>\n",
       "  </thead>\n",
       "  <tbody>\n",
       "    <tr>\n",
       "      <td>Санкт-Петербург</td>\n",
       "      <td>15770</td>\n",
       "      <td>114784.747242</td>\n",
       "    </tr>\n",
       "    <tr>\n",
       "      <td>посёлок Мурино</td>\n",
       "      <td>522</td>\n",
       "      <td>85751.733716</td>\n",
       "    </tr>\n",
       "    <tr>\n",
       "      <td>посёлок Шушары</td>\n",
       "      <td>440</td>\n",
       "      <td>78676.904545</td>\n",
       "    </tr>\n",
       "    <tr>\n",
       "      <td>Всеволожск</td>\n",
       "      <td>398</td>\n",
       "      <td>68654.007538</td>\n",
       "    </tr>\n",
       "    <tr>\n",
       "      <td>Пушкин</td>\n",
       "      <td>369</td>\n",
       "      <td>103125.373984</td>\n",
       "    </tr>\n",
       "    <tr>\n",
       "      <td>Колпино</td>\n",
       "      <td>338</td>\n",
       "      <td>75424.150888</td>\n",
       "    </tr>\n",
       "    <tr>\n",
       "      <td>посёлок Парголово</td>\n",
       "      <td>327</td>\n",
       "      <td>90175.489297</td>\n",
       "    </tr>\n",
       "    <tr>\n",
       "      <td>Гатчина</td>\n",
       "      <td>307</td>\n",
       "      <td>68745.693811</td>\n",
       "    </tr>\n",
       "    <tr>\n",
       "      <td>деревня Кудрово</td>\n",
       "      <td>299</td>\n",
       "      <td>92473.086957</td>\n",
       "    </tr>\n",
       "    <tr>\n",
       "      <td>Выборг</td>\n",
       "      <td>237</td>\n",
       "      <td>58141.489451</td>\n",
       "    </tr>\n",
       "  </tbody>\n",
       "</table>\n",
       "</div>"
      ],
      "text/plain": [
       "                   count  price_per_meter\n",
       "locality_name                            \n",
       "Санкт-Петербург    15770    114784.747242\n",
       "посёлок Мурино       522     85751.733716\n",
       "посёлок Шушары       440     78676.904545\n",
       "Всеволожск           398     68654.007538\n",
       "Пушкин               369    103125.373984\n",
       "Колпино              338     75424.150888\n",
       "посёлок Парголово    327     90175.489297\n",
       "Гатчина              307     68745.693811\n",
       "деревня Кудрово      299     92473.086957\n",
       "Выборг               237     58141.489451"
      ]
     },
     "execution_count": 89,
     "metadata": {},
     "output_type": "execute_result"
    }
   ],
   "source": [
    "(sale_of_flats.groupby('locality_name').agg({'first_day_exposition':'count', 'price_per_meter':'mean'})\n",
    "    .rename(columns={'first_day_exposition':'count'})\n",
    "    .sort_values(by='count', ascending=False).head(10)\n",
    ")"
   ]
  },
  {
   "cell_type": "markdown",
   "metadata": {},
   "source": [
    "Посмотрев на столбец цены за кв.м. мы видим, что, конечно, максимальная цена будет в Санкт- Петербурге. Оно понятно, большой город и.т.д. А на втором месте оказался город Пушкин. Ну во-первых, он всего в 32 км. от СП, а во-вторых, там расположены чуть- ли не главные достопримечательности: это Большой Екатерининский дворец, и, конечно, Царское Село. Почти каждый турист, который приезжает в Питер едет и туда. "
   ]
  },
  {
   "cell_type": "markdown",
   "metadata": {},
   "source": [
    "Самая маленькая цена за кв.м.в городе Выборг. Это промышленный центр и там очень много производств. Скорее всего, низкие цены обусловлены там большим количеством производств, а из жилья - много панельных многоэтажек, а также значительным отдалением от СП(10 км.)."
   ]
  },
  {
   "cell_type": "markdown",
   "metadata": {},
   "source": [
    "#### 4.6. Изучение расположения квартир. Выделите квартиры в Санкт-Петербурге. Определение того, какая область входит в центр. Расчет средней цены для каждого километра. Построение графика зависимости цены от удалённости от центра. "
   ]
  },
  {
   "cell_type": "markdown",
   "metadata": {},
   "source": [
    "Для начала изменим тип на int, потому, что с целочисленными значениями удобнее работать, а потом переведем столбец с расстоянием из метров в километры."
   ]
  },
  {
   "cell_type": "code",
   "execution_count": 90,
   "metadata": {},
   "outputs": [],
   "source": [
    "sale_of_flats['cityCenters_nearest'] = sale_of_flats['cityCenters_nearest'].astype('int')"
   ]
  },
  {
   "cell_type": "code",
   "execution_count": 91,
   "metadata": {},
   "outputs": [],
   "source": [
    "sale_of_flats['cityCenters_nearest_km'] = sale_of_flats['cityCenters_nearest'] /1000"
   ]
  },
  {
   "cell_type": "markdown",
   "metadata": {},
   "source": [
    "Проверил изменился ли тип данных."
   ]
  },
  {
   "cell_type": "code",
   "execution_count": 92,
   "metadata": {},
   "outputs": [
    {
     "name": "stdout",
     "output_type": "stream",
     "text": [
      "<class 'pandas.core.frame.DataFrame'>\n",
      "RangeIndex: 23699 entries, 0 to 23698\n",
      "Data columns (total 31 columns):\n",
      "total_images              23699 non-null int64\n",
      "last_price                23699 non-null int64\n",
      "total_area                23699 non-null float64\n",
      "first_day_exposition      23699 non-null datetime64[ns]\n",
      "rooms                     23699 non-null int64\n",
      "ceiling_height            23699 non-null float64\n",
      "floors_total              23699 non-null int64\n",
      "living_area               23699 non-null float64\n",
      "floor                     23699 non-null int64\n",
      "is_apartment              23699 non-null bool\n",
      "studio                    23699 non-null bool\n",
      "open_plan                 23699 non-null bool\n",
      "kitchen_area              23698 non-null float64\n",
      "balcony                   23699 non-null int64\n",
      "locality_name             23699 non-null object\n",
      "airports_nearest          18157 non-null float64\n",
      "cityCenters_nearest       23699 non-null int64\n",
      "parks_around3000          18181 non-null float64\n",
      "parks_nearest             8079 non-null float64\n",
      "ponds_around3000          18181 non-null float64\n",
      "ponds_nearest             9110 non-null float64\n",
      "days_exposition           20518 non-null float64\n",
      "price_per_meter           23699 non-null int64\n",
      "weekday_exposition        23699 non-null object\n",
      "mounth_exposition         22058 non-null object\n",
      "year_exposition           23699 non-null int64\n",
      "floor_group               23699 non-null object\n",
      "living_to_total           23699 non-null float64\n",
      "kitchen_to_total          23698 non-null float64\n",
      "last_price_mil            23699 non-null float64\n",
      "cityCenters_nearest_km    23699 non-null float64\n",
      "dtypes: bool(3), datetime64[ns](1), float64(14), int64(9), object(4)\n",
      "memory usage: 5.1+ MB\n"
     ]
    }
   ],
   "source": [
    "sale_of_flats.info()"
   ]
  },
  {
   "cell_type": "markdown",
   "metadata": {},
   "source": [
    "Выделим из общего дф только строки, где в столбце 'locality_name' присутствует \"Санкт-Петербург."
   ]
  },
  {
   "cell_type": "code",
   "execution_count": 93,
   "metadata": {},
   "outputs": [
    {
     "name": "stdout",
     "output_type": "stream",
     "text": [
      "                        price_per_meter\n",
      "cityCenters_nearest_km                 \n",
      "0.181                          195591.0\n",
      "0.208                          172619.0\n",
      "0.215                          109900.0\n",
      "0.287                           88796.0\n",
      "0.291                          101321.0\n",
      "...                                 ...\n",
      "29.343                          73943.0\n",
      "29.493                          56976.0\n",
      "31.813                          47041.0\n",
      "31.897                          81018.0\n",
      "41.294                          96029.0\n",
      "\n",
      "[6314 rows x 1 columns]\n"
     ]
    }
   ],
   "source": [
    "sp = (\n",
    "    sale_of_flats\n",
    "    .query('locality_name == \"Санкт-Петербург\"')\n",
    "    .pivot_table(index='cityCenters_nearest_km', values='price_per_meter', aggfunc='mean')\n",
    ")\n",
    "print(sp)"
   ]
  },
  {
   "cell_type": "code",
   "execution_count": 94,
   "metadata": {},
   "outputs": [
    {
     "data": {
      "text/plain": [
       "<matplotlib.axes._subplots.AxesSubplot at 0x7f54c776a7d0>"
      ]
     },
     "execution_count": 94,
     "metadata": {},
     "output_type": "execute_result"
    },
    {
     "data": {
      "image/png": "[encoded data removed]",
      "text/plain": [
       "<Figure size 432x288 with 1 Axes>"
      ]
     },
     "metadata": {
      "needs_background": "light"
     },
     "output_type": "display_data"
    }
   ],
   "source": [
    "sp.reset_index().plot(x = 'cityCenters_nearest_km', y = 'price_per_meter')"
   ]
  },
  {
   "cell_type": "markdown",
   "metadata": {},
   "source": [
    "На графике мы видим определенный промежуток, где очень высокая цена и минимальное удаление от центра. Так как не существует конкретного понятия центр города, то оно может быть и размыто. Тут максимальное количество объявлений и с максимальными ценами концентрируется от 8 до 9 км. Получается центр города определяется охватываемым его диаметром около 16-18 км. Также видим на графике, что чем ближе к центру, тем цена возрастает буквально в разы. И это еще обуславливается тем, что в центре СП почти все здания исторические, а чем дальше, тем больше новостроек. Так же мы видим пик на промежутке от 25 до 30 км., но не выше, чем пики в самом начале. Это может быть связано с каким- нибудь элитным районом."
   ]
  },
  {
   "cell_type": "markdown",
   "metadata": {},
   "source": [
    "#### 4.7. Выделение сегмента квартир в центре. Анализ этой территории и изучение следующих параметров: площадь, цена, число комнат, высота потолков. Определение факторов, которые влияют на стоимость квартиры (число комнат, этаж, удалённость от центра, дата размещения объявления). "
   ]
  },
  {
   "cell_type": "markdown",
   "metadata": {},
   "source": [
    "Создадим новый дф, чтобы в нем были только нужные для нашего анализа параметры."
   ]
  },
  {
   "cell_type": "code",
   "execution_count": 95,
   "metadata": {},
   "outputs": [],
   "source": [
    "general_parameter_2 = sale_of_flats[['total_area', 'price_per_meter', 'rooms', 'ceiling_height', 'cityCenters_nearest_km', 'days_exposition', 'floor']]"
   ]
  },
  {
   "cell_type": "code",
   "execution_count": 96,
   "metadata": {},
   "outputs": [],
   "source": [
    "flat_in_сenter = general_parameter_2.query('cityCenters_nearest_km < 9')"
   ]
  },
  {
   "cell_type": "code",
   "execution_count": 97,
   "metadata": {},
   "outputs": [
    {
     "data": {
      "text/html": [
       "<div>\n",
       "<style scoped>\n",
       "    .dataframe tbody tr th:only-of-type {\n",
       "        vertical-align: middle;\n",
       "    }\n",
       "\n",
       "    .dataframe tbody tr th {\n",
       "        vertical-align: top;\n",
       "    }\n",
       "\n",
       "    .dataframe thead th {\n",
       "        text-align: right;\n",
       "    }\n",
       "</style>\n",
       "<table border=\"1\" class=\"dataframe\">\n",
       "  <thead>\n",
       "    <tr style=\"text-align: right;\">\n",
       "      <th></th>\n",
       "      <th>total_area</th>\n",
       "      <th>price_per_meter</th>\n",
       "      <th>rooms</th>\n",
       "      <th>ceiling_height</th>\n",
       "      <th>cityCenters_nearest_km</th>\n",
       "      <th>days_exposition</th>\n",
       "      <th>floor</th>\n",
       "    </tr>\n",
       "  </thead>\n",
       "  <tbody>\n",
       "    <tr>\n",
       "      <td>3</td>\n",
       "      <td>159.0</td>\n",
       "      <td>408176</td>\n",
       "      <td>3</td>\n",
       "      <td>2.65</td>\n",
       "      <td>6.800</td>\n",
       "      <td>424.0</td>\n",
       "      <td>9</td>\n",
       "    </tr>\n",
       "    <tr>\n",
       "      <td>4</td>\n",
       "      <td>100.0</td>\n",
       "      <td>100000</td>\n",
       "      <td>2</td>\n",
       "      <td>3.03</td>\n",
       "      <td>8.098</td>\n",
       "      <td>121.0</td>\n",
       "      <td>13</td>\n",
       "    </tr>\n",
       "    <tr>\n",
       "      <td>24</td>\n",
       "      <td>97.2</td>\n",
       "      <td>66872</td>\n",
       "      <td>2</td>\n",
       "      <td>2.65</td>\n",
       "      <td>2.336</td>\n",
       "      <td>265.0</td>\n",
       "      <td>1</td>\n",
       "    </tr>\n",
       "    <tr>\n",
       "      <td>35</td>\n",
       "      <td>149.0</td>\n",
       "      <td>104026</td>\n",
       "      <td>5</td>\n",
       "      <td>2.65</td>\n",
       "      <td>3.502</td>\n",
       "      <td>644.0</td>\n",
       "      <td>4</td>\n",
       "    </tr>\n",
       "    <tr>\n",
       "      <td>51</td>\n",
       "      <td>161.0</td>\n",
       "      <td>279503</td>\n",
       "      <td>3</td>\n",
       "      <td>3.20</td>\n",
       "      <td>6.589</td>\n",
       "      <td>541.0</td>\n",
       "      <td>4</td>\n",
       "    </tr>\n",
       "  </tbody>\n",
       "</table>\n",
       "</div>"
      ],
      "text/plain": [
       "    total_area  price_per_meter  rooms  ceiling_height  \\\n",
       "3        159.0           408176      3            2.65   \n",
       "4        100.0           100000      2            3.03   \n",
       "24        97.2            66872      2            2.65   \n",
       "35       149.0           104026      5            2.65   \n",
       "51       161.0           279503      3            3.20   \n",
       "\n",
       "    cityCenters_nearest_km  days_exposition  floor  \n",
       "3                    6.800            424.0      9  \n",
       "4                    8.098            121.0     13  \n",
       "24                   2.336            265.0      1  \n",
       "35                   3.502            644.0      4  \n",
       "51                   6.589            541.0      4  "
      ]
     },
     "execution_count": 97,
     "metadata": {},
     "output_type": "execute_result"
    }
   ],
   "source": [
    "flat_in_сenter.head()"
   ]
  },
  {
   "cell_type": "markdown",
   "metadata": {},
   "source": [
    "Проверим количество пропущенных значений в столбце с параметром объявления. Поэтому мы просто уберем пропущеные значения из этого столбца."
   ]
  },
  {
   "cell_type": "code",
   "execution_count": 98,
   "metadata": {},
   "outputs": [
    {
     "data": {
      "text/plain": [
       "707"
      ]
     },
     "execution_count": 98,
     "metadata": {},
     "output_type": "execute_result"
    }
   ],
   "source": [
    "flat_in_сenter['days_exposition'].isna().sum()"
   ]
  },
  {
   "cell_type": "code",
   "execution_count": 99,
   "metadata": {},
   "outputs": [
    {
     "name": "stderr",
     "output_type": "stream",
     "text": [
      "/opt/conda/lib/python3.7/site-packages/ipykernel_launcher.py:1: SettingWithCopyWarning: \n",
      "A value is trying to be set on a copy of a slice from a DataFrame.\n",
      "Try using .loc[row_indexer,col_indexer] = value instead\n",
      "\n",
      "See the caveats in the documentation: http://pandas.pydata.org/pandas-docs/stable/user_guide/indexing.html#returning-a-view-versus-a-copy\n",
      "  \"\"\"Entry point for launching an IPython kernel.\n"
     ]
    }
   ],
   "source": [
    "flat_in_сenter['days_exposition']= flat_in_сenter['days_exposition'].fillna(0)"
   ]
  },
  {
   "cell_type": "code",
   "execution_count": 100,
   "metadata": {},
   "outputs": [
    {
     "data": {
      "text/plain": [
       "0"
      ]
     },
     "execution_count": 100,
     "metadata": {},
     "output_type": "execute_result"
    }
   ],
   "source": [
    "flat_in_сenter['days_exposition'].isna().sum()"
   ]
  },
  {
   "cell_type": "markdown",
   "metadata": {},
   "source": [
    "Воспользуемся той же функцией, что и в самом начале анализа."
   ]
  },
  {
   "cell_type": "code",
   "execution_count": 101,
   "metadata": {},
   "outputs": [
    {
     "data": {
      "image/png": "[encoded data removed]",
      "text/plain": [
       "<Figure size 432x288 with 1 Axes>"
      ]
     },
     "metadata": {
      "needs_background": "light"
     },
     "output_type": "display_data"
    },
    {
     "data": {
      "image/png": "[encoded data removed]",
      "text/plain": [
       "<Figure size 432x288 with 1 Axes>"
      ]
     },
     "metadata": {
      "needs_background": "light"
     },
     "output_type": "display_data"
    },
    {
     "data": {
      "image/png": "[encoded data removed]",
      "text/plain": [
       "<Figure size 432x288 with 1 Axes>"
      ]
     },
     "metadata": {
      "needs_background": "light"
     },
     "output_type": "display_data"
    },
    {
     "data": {
      "image/png": "[encoded data removed]",
      "text/plain": [
       "<Figure size 432x288 with 1 Axes>"
      ]
     },
     "metadata": {
      "needs_background": "light"
     },
     "output_type": "display_data"
    },
    {
     "data": {
      "image/png": "[encoded data removed]",
      "text/plain": [
       "<Figure size 432x288 with 1 Axes>"
      ]
     },
     "metadata": {
      "needs_background": "light"
     },
     "output_type": "display_data"
    },
    {
     "data": {
      "image/png": "[encoded data removed]",
      "text/plain": [
       "<Figure size 432x288 with 1 Axes>"
      ]
     },
     "metadata": {
      "needs_background": "light"
     },
     "output_type": "display_data"
    },
    {
     "data": {
      "image/png": "[encoded data removed]",
      "text/plain": [
       "<Figure size 432x288 with 1 Axes>"
      ]
     },
     "metadata": {
      "needs_background": "light"
     },
     "output_type": "display_data"
    }
   ],
   "source": [
    "numb = 0\n",
    "for row in flat_in_сenter:\n",
    "    new_dict = ['Площадь квартиры, кв.м.', 'Цена за кв.м., руб.', 'Количество комнат, шт.', 'Высота потолков, м.', 'Удаленность от центра, км.', 'Кол-во дней объявлению, до продажи', 'На каком этаже']\n",
    "    flat_in_сenter[row].hist(bins=30, range=(np.percentile(flat_in_сenter[row], 5, axis=0), np.percentile(flat_in_сenter[row], 95, axis=0)))\n",
    "    plt.title(new_dict[numb])\n",
    "    numb += 1\n",
    "    plt.show()"
   ]
  },
  {
   "cell_type": "markdown",
   "metadata": {},
   "source": [
    "Так как для визуализации разных параметров необходимо устанавливать определенные лимиты графиков и у каждого свои названия, напишем код для вывода совместных графиков для каждого параметра."
   ]
  },
  {
   "cell_type": "code",
   "execution_count": 102,
   "metadata": {
    "scrolled": true
   },
   "outputs": [
    {
     "data": {
      "image/png": "[encoded data removed]",
      "text/plain": [
       "<Figure size 1080x360 with 4 Axes>"
      ]
     },
     "metadata": {
      "needs_background": "light"
     },
     "output_type": "display_data"
    }
   ],
   "source": [
    "plt.subplots(figsize=(15,5))\n",
    "flat_in_сenter.plot(x='total_area', y='price_per_meter', kind='hexbin', ax=plt.subplot(1,2,1), xlim=(0,200), ylim=(0,250000))\n",
    "plt.title('Отношение цены за кв.м. к общей площади для всех квартир')\n",
    "general_parameter_2.plot(x='total_area', y='price_per_meter', kind='hexbin', ax=plt.subplot(1,2,2), xlim=(0,200), ylim=(0,250000))\n",
    "plt.title('Отношение цены за кв.м. к общей площади для квартир в центре')\n",
    "plt.show()"
   ]
  },
  {
   "cell_type": "code",
   "execution_count": 103,
   "metadata": {},
   "outputs": [
    {
     "data": {
      "image/png": "[encoded data removed]",
      "text/plain": [
       "<Figure size 1080x360 with 4 Axes>"
      ]
     },
     "metadata": {
      "needs_background": "light"
     },
     "output_type": "display_data"
    }
   ],
   "source": [
    "plt.subplots(figsize=(15,5))\n",
    "flat_in_сenter.plot(x='rooms', y='price_per_meter', kind='hexbin', ax=plt.subplot(1,2,1), xlim=(0,10), ylim=(0,400000))\n",
    "plt.title('Отношение цены за кв.м. к кол-ву комнат во всех квартирах')\n",
    "general_parameter_2.plot(x='rooms', y='price_per_meter', kind='hexbin', ax=plt.subplot(1,2,2), xlim=(0,10), ylim=(0,400000))\n",
    "plt.title('Отношение цены за кв.м. к кол-ву комнат в квартирах в центре')\n",
    "plt.show()"
   ]
  },
  {
   "cell_type": "code",
   "execution_count": 104,
   "metadata": {},
   "outputs": [
    {
     "data": {
      "image/png": "[encoded data removed]",
      "text/plain": [
       "<Figure size 1080x360 with 4 Axes>"
      ]
     },
     "metadata": {
      "needs_background": "light"
     },
     "output_type": "display_data"
    }
   ],
   "source": [
    "plt.subplots(figsize=(15,5))\n",
    "flat_in_сenter.plot(x='ceiling_height', y='price_per_meter', kind='hexbin', ax=plt.subplot(1,2,1), xlim=(0,4), ylim=(0,250000))\n",
    "plt.title('Отношение цены за кв.м. к высоте потолков для всех квартир')\n",
    "general_parameter_2.plot(x='ceiling_height', y='price_per_meter', kind='hexbin', ax=plt.subplot(1,2,2), xlim=(0,4), ylim=(0,250000))\n",
    "plt.title('Отношение цены за кв.м. к высоте потолков для квартир в центре')\n",
    "plt.show()"
   ]
  },
  {
   "cell_type": "code",
   "execution_count": 105,
   "metadata": {},
   "outputs": [
    {
     "data": {
      "image/png": "[encoded data removed]",
      "text/plain": [
       "<Figure size 1080x360 with 4 Axes>"
      ]
     },
     "metadata": {
      "needs_background": "light"
     },
     "output_type": "display_data"
    }
   ],
   "source": [
    "plt.subplots(figsize=(15,5))\n",
    "flat_in_сenter.plot(x='floor', y='price_per_meter', kind='hexbin', ax=plt.subplot(1,2,1), xlim=(0,25), ylim=(0,250000))\n",
    "plt.title('Отношение цены за кв.м. к этажу для всех квартир')\n",
    "general_parameter_2.plot(x='floor', y='price_per_meter', kind='hexbin', ax=plt.subplot(1,2,2), xlim=(0,25), ylim=(0,250000))\n",
    "plt.title('Отношение цены за кв.м. к этажу для квартир в центре')\n",
    "plt.show()"
   ]
  },
  {
   "cell_type": "code",
   "execution_count": 106,
   "metadata": {},
   "outputs": [
    {
     "data": {
      "image/png": "[encoded data removed]",
      "text/plain": [
       "<Figure size 1080x360 with 4 Axes>"
      ]
     },
     "metadata": {
      "needs_background": "light"
     },
     "output_type": "display_data"
    }
   ],
   "source": [
    "plt.subplots(figsize=(15,5))\n",
    "flat_in_сenter.plot(x='cityCenters_nearest_km', y='price_per_meter', kind='hexbin', ax=plt.subplot(1,2,1), xlim=(0,100), ylim=(0,250000))\n",
    "plt.title('Отн. цены за кв.м. к удаленности от центра для всех квартир')\n",
    "general_parameter_2.plot(x='cityCenters_nearest_km', y='price_per_meter', kind='hexbin', ax=plt.subplot(1,2,2), xlim=(0,100), ylim=(0,250000))\n",
    "plt.title('Отн. цены за кв.м. к удаленности от центра для квартир в центре')\n",
    "plt.show()"
   ]
  },
  {
   "cell_type": "code",
   "execution_count": 107,
   "metadata": {},
   "outputs": [
    {
     "data": {
      "image/png": "[encoded data removed]",
      "text/plain": [
       "<Figure size 1080x360 with 4 Axes>"
      ]
     },
     "metadata": {
      "needs_background": "light"
     },
     "output_type": "display_data"
    }
   ],
   "source": [
    "plt.subplots(figsize=(15,5))\n",
    "flat_in_сenter.plot(x='days_exposition', y='price_per_meter', kind='hexbin', ax=plt.subplot(1,2,1), xlim=(0,200), ylim=(0,250000))\n",
    "plt.title('Отн. цены за кв.м. к кол-ву дней объявления для всех квартир')\n",
    "general_parameter_2.plot(x='days_exposition', y='price_per_meter', kind='hexbin', ax=plt.subplot(1,2,2), xlim=(0,200), ylim=(0,250000))\n",
    "plt.title('Отн. цены за кв.м. к кол-ву дней объявление для квартир в центре')\n",
    "plt.show()"
   ]
  },
  {
   "cell_type": "markdown",
   "metadata": {},
   "source": [
    "<font color=green> Графики появились. Различие между центром и всеми данными теперь легко обнаружимы. \n",
    "    \n",
    "---"
   ]
  },
  {
   "cell_type": "markdown",
   "metadata": {},
   "source": [
    "А так же таблицу со значениями корреляции."
   ]
  },
  {
   "cell_type": "code",
   "execution_count": 108,
   "metadata": {
    "scrolled": false
   },
   "outputs": [
    {
     "data": {
      "text/plain": [
       "<matplotlib.axes._subplots.AxesSubplot at 0x7f54c7714090>"
      ]
     },
     "execution_count": 108,
     "metadata": {},
     "output_type": "execute_result"
    },
    {
     "data": {
      "image/png": "[encoded data removed]",
      "text/plain": [
       "<Figure size 432x288 with 2 Axes>"
      ]
     },
     "metadata": {
      "needs_background": "light"
     },
     "output_type": "display_data"
    }
   ],
   "source": [
    "sns.heatmap(flat_in_сenter.corr(), annot = True)"
   ]
  },
  {
   "cell_type": "markdown",
   "metadata": {},
   "source": [
    "Чтобы увидеть общую картину и для более удобного написания выводов выведем общие параметры дф."
   ]
  },
  {
   "cell_type": "code",
   "execution_count": 109,
   "metadata": {},
   "outputs": [
    {
     "data": {
      "text/html": [
       "<div>\n",
       "<style scoped>\n",
       "    .dataframe tbody tr th:only-of-type {\n",
       "        vertical-align: middle;\n",
       "    }\n",
       "\n",
       "    .dataframe tbody tr th {\n",
       "        vertical-align: top;\n",
       "    }\n",
       "\n",
       "    .dataframe thead th {\n",
       "        text-align: right;\n",
       "    }\n",
       "</style>\n",
       "<table border=\"1\" class=\"dataframe\">\n",
       "  <thead>\n",
       "    <tr style=\"text-align: right;\">\n",
       "      <th></th>\n",
       "      <th>total_area</th>\n",
       "      <th>price_per_meter</th>\n",
       "      <th>rooms</th>\n",
       "      <th>ceiling_height</th>\n",
       "      <th>cityCenters_nearest_km</th>\n",
       "      <th>days_exposition</th>\n",
       "      <th>floor</th>\n",
       "    </tr>\n",
       "  </thead>\n",
       "  <tbody>\n",
       "    <tr>\n",
       "      <td>count</td>\n",
       "      <td>4404.000000</td>\n",
       "      <td>4.404000e+03</td>\n",
       "      <td>4404.000000</td>\n",
       "      <td>4404.000000</td>\n",
       "      <td>4404.000000</td>\n",
       "      <td>4404.000000</td>\n",
       "      <td>4404.000000</td>\n",
       "    </tr>\n",
       "    <tr>\n",
       "      <td>mean</td>\n",
       "      <td>88.506624</td>\n",
       "      <td>1.405985e+05</td>\n",
       "      <td>2.720936</td>\n",
       "      <td>2.950656</td>\n",
       "      <td>5.270040</td>\n",
       "      <td>199.966848</td>\n",
       "      <td>4.475704</td>\n",
       "    </tr>\n",
       "    <tr>\n",
       "      <td>std</td>\n",
       "      <td>57.829816</td>\n",
       "      <td>8.604233e+04</td>\n",
       "      <td>1.408423</td>\n",
       "      <td>1.673895</td>\n",
       "      <td>2.125503</td>\n",
       "      <td>262.349867</td>\n",
       "      <td>3.275675</td>\n",
       "    </tr>\n",
       "    <tr>\n",
       "      <td>min</td>\n",
       "      <td>12.000000</td>\n",
       "      <td>1.534500e+04</td>\n",
       "      <td>0.000000</td>\n",
       "      <td>2.000000</td>\n",
       "      <td>0.181000</td>\n",
       "      <td>0.000000</td>\n",
       "      <td>1.000000</td>\n",
       "    </tr>\n",
       "    <tr>\n",
       "      <td>25%</td>\n",
       "      <td>53.275000</td>\n",
       "      <td>9.946400e+04</td>\n",
       "      <td>2.000000</td>\n",
       "      <td>2.650000</td>\n",
       "      <td>3.887500</td>\n",
       "      <td>21.000000</td>\n",
       "      <td>2.000000</td>\n",
       "    </tr>\n",
       "    <tr>\n",
       "      <td>50%</td>\n",
       "      <td>75.000000</td>\n",
       "      <td>1.220895e+05</td>\n",
       "      <td>3.000000</td>\n",
       "      <td>2.750000</td>\n",
       "      <td>5.126500</td>\n",
       "      <td>91.000000</td>\n",
       "      <td>4.000000</td>\n",
       "    </tr>\n",
       "    <tr>\n",
       "      <td>75%</td>\n",
       "      <td>104.500000</td>\n",
       "      <td>1.519360e+05</td>\n",
       "      <td>3.000000</td>\n",
       "      <td>3.100000</td>\n",
       "      <td>6.942500</td>\n",
       "      <td>272.000000</td>\n",
       "      <td>5.000000</td>\n",
       "    </tr>\n",
       "    <tr>\n",
       "      <td>max</td>\n",
       "      <td>900.000000</td>\n",
       "      <td>1.907500e+06</td>\n",
       "      <td>19.000000</td>\n",
       "      <td>100.000000</td>\n",
       "      <td>8.990000</td>\n",
       "      <td>1572.000000</td>\n",
       "      <td>25.000000</td>\n",
       "    </tr>\n",
       "  </tbody>\n",
       "</table>\n",
       "</div>"
      ],
      "text/plain": [
       "        total_area  price_per_meter        rooms  ceiling_height  \\\n",
       "count  4404.000000     4.404000e+03  4404.000000     4404.000000   \n",
       "mean     88.506624     1.405985e+05     2.720936        2.950656   \n",
       "std      57.829816     8.604233e+04     1.408423        1.673895   \n",
       "min      12.000000     1.534500e+04     0.000000        2.000000   \n",
       "25%      53.275000     9.946400e+04     2.000000        2.650000   \n",
       "50%      75.000000     1.220895e+05     3.000000        2.750000   \n",
       "75%     104.500000     1.519360e+05     3.000000        3.100000   \n",
       "max     900.000000     1.907500e+06    19.000000      100.000000   \n",
       "\n",
       "       cityCenters_nearest_km  days_exposition        floor  \n",
       "count             4404.000000      4404.000000  4404.000000  \n",
       "mean                 5.270040       199.966848     4.475704  \n",
       "std                  2.125503       262.349867     3.275675  \n",
       "min                  0.181000         0.000000     1.000000  \n",
       "25%                  3.887500        21.000000     2.000000  \n",
       "50%                  5.126500        91.000000     4.000000  \n",
       "75%                  6.942500       272.000000     5.000000  \n",
       "max                  8.990000      1572.000000    25.000000  "
      ]
     },
     "execution_count": 109,
     "metadata": {},
     "output_type": "execute_result"
    }
   ],
   "source": [
    "flat_in_сenter.describe()"
   ]
  },
  {
   "cell_type": "markdown",
   "metadata": {},
   "source": [
    "Подводя итог мы можем сказать, что среднестатистическая квартира в центре имеет:"
   ]
  },
  {
   "cell_type": "markdown",
   "metadata": {},
   "source": [
    "- среднюю площадь 88.5 кв.м."
   ]
  },
  {
   "cell_type": "markdown",
   "metadata": {},
   "source": [
    "- среднюю цену за кв.м. 140598,5 руб."
   ]
  },
  {
   "cell_type": "markdown",
   "metadata": {},
   "source": [
    "- от 2-ух до 3-ёх комнат"
   ]
  },
  {
   "cell_type": "markdown",
   "metadata": {},
   "source": [
    "-  высоту потолков выше, чем в среднем по городу с пригородом"
   ]
  },
  {
   "cell_type": "markdown",
   "metadata": {},
   "source": [
    "Все те же зависимости наблюдаются. Чем больше площадь, тем больше цена за кв.м. Но вот с расстоянием от центра выходит интересно. Понятно, что чем меньше расстояние, тем больше цена, но тут есть еще и большая, относительно остальных, корреляция с количеством комнат. Чем меньше расстояние, тем больше комнат. Еще интересно то, что большинство квартир на низких этажах. Опять-  таки, там просто нет высоких этажей из-за старых построек."
   ]
  },
  {
   "cell_type": "markdown",
   "metadata": {},
   "source": [
    "### Шаг 5. Общий вывод"
   ]
  },
  {
   "cell_type": "markdown",
   "metadata": {},
   "source": [
    "В данной работе мы провели исследовательский анализ недвижимости в г. Санкт- Петербург на сервисе Яндекс.Недвижимость."
   ]
  },
  {
   "cell_type": "markdown",
   "metadata": {},
   "source": [
    "Нам необходимо было определить общие параметры для того или иного вида условий. Мы посмотрели как выглядят среднестатистические квартиры по городу с пригородом и только центр города. Цель была понять, какие параметры могут быть реальными, а какие могут быть установлены мошенниками. "
   ]
  },
  {
   "cell_type": "markdown",
   "metadata": {},
   "source": [
    "Из нашего анализа и из парных графиков, мы увидели, какие параметры имеет среднестатистическая квартира:\n",
    "\n",
    "- Большинство квартир находятся в домах в 15 этажей, но продают квартиры на низких этажах. Скорее всего, это связано с тем, что людей больше устраивают квартиры на низких этажах, но если квартира находится выше 5 этажа, это уже неплохо.\n",
    "\n",
    "- Высота потолков получилась 2,6 - 2,7. Ничего особенного. Разброс в значениях высоты потолков не такой вышел и большой(при условии, что мы отсеяли потолки высотой 100 метров).\n",
    "\n",
    "- Средняя цена за метр квадратный тоже не вызывает вопросов. 102281 руб. Обычная цена для больших городов.\n",
    "\n",
    "- Санкт- Петербург большой город, и то, что самые частопродаваемые квартиры находятся в удалении от центра на всего 10 км. При том, что протяженность города с севера на юг 44 км, с запада на восток 25 км, так и выходим расстояние в среднем."
   ]
  },
  {
   "cell_type": "markdown",
   "metadata": {},
   "source": [
    "И в сравнении получили картину среднестатистической квартиры, которая находится в центре города:\n",
    "- среднюю площадь 88.5 кв.м.\n",
    "- среднюю цену за кв.м. 140598,5 руб.\n",
    "- имеет от 2-ух до 3-ёх комнат\n",
    "- высоту потолков выше, чем в среднем по городу с пригородом"
   ]
  },
  {
   "cell_type": "markdown",
   "metadata": {},
   "source": [
    "Благодаря парным графиком мы определили сравнение квартиры по городу и квартиры в центре:\n",
    "\n",
    "- Мы видим, что в центре площадь квартиры меньше, чем в общем объеме данных.\n",
    "- Комнат в квартирах в центре меньше, чем по городу и в пригородах.\n",
    "- И в центре квартиры расположены на более низких этажах.\n",
    "- В центре квартиры продаются на порядок быстрее.\n",
    "- В центре высота потолков ниже."
   ]
  },
  {
   "cell_type": "markdown",
   "metadata": {},
   "source": [
    "Больше всего объявлений о продаже квартир с маленькой площадью. Чем больше площадь, тем меньше вариантов. Можем предположить, что у людей в принципе во владении оказывается квартира с площадью меньше средней, потому, что процент людей, которые могут себе позволить квартиру побольше, гораздо меньше. Также мы наблюдаем пики на 45 и 60 кв.м. Можно сделать вывод, что эти квартиры находятся в зданиях, которые строят популярные застройщики и у них стандартные площади квартир по всему городу."
   ]
  },
  {
   "cell_type": "markdown",
   "metadata": {},
   "source": [
    "С помощью подобного исследования можно отсеивать ошибочные или мошеннические данные, чтобы пользователи получали только достоверную и качественную информацию."
   ]
  }
 ],
 "metadata": {
  "kernelspec": {
   "display_name": "Python 3",
   "language": "python",
   "name": "python3"
  },
  "language_info": {
   "codemirror_mode": {
    "name": "ipython",
    "version": 3
   },
   "file_extension": ".py",
   "mimetype": "text/x-python",
   "name": "python",
   "nbconvert_exporter": "python",
   "pygments_lexer": "ipython3",
   "version": "3.7.6"
  }
 },
 "nbformat": 4,
 "nbformat_minor": 2
}
