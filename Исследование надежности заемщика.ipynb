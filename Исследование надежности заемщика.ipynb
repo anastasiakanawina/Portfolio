{
 "cells": [
  {
   "cell_type": "markdown",
   "metadata": {},
   "source": [
    "## Исследование надёжности заёмщиков\n",
    "\n",
    "Заказчик — кредитный отдел банка. Нужно разобраться, влияет ли семейное положение и наличие детей клиента на факт погашения кредита в срок. Входные данные от банка — статистика о платёжеспособности клиентов.\n",
    "\n",
    "Результаты исследования будут учтены при построении модели **кредитного скоринга** — специальной системы, которая оценивает способность потенциального заёмщика вернуть кредит банку."
   ]
  },
  {
   "cell_type": "markdown",
   "metadata": {},
   "source": [
    "### Шаг 1. Откройте файл с данными и изучите общую информацию. "
   ]
  },
  {
   "cell_type": "markdown",
   "metadata": {},
   "source": [
    "Импортируем библиотеку Pandas, чтобы получить доступ к данным и инструментам."
   ]
  },
  {
   "cell_type": "code",
   "execution_count": 1,
   "metadata": {
    "scrolled": true
   },
   "outputs": [],
   "source": [
    "import pandas as pd"
   ]
  },
  {
   "cell_type": "markdown",
   "metadata": {},
   "source": [
    "Прочитаем файл data.csv и сохраним его в переменной df."
   ]
  },
  {
   "cell_type": "code",
   "execution_count": 2,
   "metadata": {},
   "outputs": [],
   "source": [
    "df = pd.read_csv('/datasets/data.csv')"
   ]
  },
  {
   "cell_type": "markdown",
   "metadata": {},
   "source": [
    "Просмотрим данную нам таблицу, а также информацию о ней, чтобы иметь понятие о общем объеме данных."
   ]
  },
  {
   "cell_type": "code",
   "execution_count": 3,
   "metadata": {},
   "outputs": [
    {
     "name": "stdout",
     "output_type": "stream",
     "text": [
      "    children  days_employed  dob_years            education  education_id  \\\n",
      "0          1   -8437.673028         42               высшее             0   \n",
      "1          1   -4024.803754         36              среднее             1   \n",
      "2          0   -5623.422610         33              Среднее             1   \n",
      "3          3   -4124.747207         32              среднее             1   \n",
      "4          0  340266.072047         53              среднее             1   \n",
      "5          0    -926.185831         27               высшее             0   \n",
      "6          0   -2879.202052         43               высшее             0   \n",
      "7          0    -152.779569         50              СРЕДНЕЕ             1   \n",
      "8          2   -6929.865299         35               ВЫСШЕЕ             0   \n",
      "9          0   -2188.756445         41              среднее             1   \n",
      "10         2   -4171.483647         36               высшее             0   \n",
      "11         0    -792.701887         40              среднее             1   \n",
      "12         0            NaN         65              среднее             1   \n",
      "13         0   -1846.641941         54  неоконченное высшее             2   \n",
      "14         0   -1844.956182         56               высшее             0   \n",
      "\n",
      "       family_status  family_status_id gender income_type  debt  \\\n",
      "0    женат / замужем                 0      F   сотрудник     0   \n",
      "1    женат / замужем                 0      F   сотрудник     0   \n",
      "2    женат / замужем                 0      M   сотрудник     0   \n",
      "3    женат / замужем                 0      M   сотрудник     0   \n",
      "4   гражданский брак                 1      F   пенсионер     0   \n",
      "5   гражданский брак                 1      M   компаньон     0   \n",
      "6    женат / замужем                 0      F   компаньон     0   \n",
      "7    женат / замужем                 0      M   сотрудник     0   \n",
      "8   гражданский брак                 1      F   сотрудник     0   \n",
      "9    женат / замужем                 0      M   сотрудник     0   \n",
      "10   женат / замужем                 0      M   компаньон     0   \n",
      "11   женат / замужем                 0      F   сотрудник     0   \n",
      "12  гражданский брак                 1      M   пенсионер     0   \n",
      "13   женат / замужем                 0      F   сотрудник     0   \n",
      "14  гражданский брак                 1      F   компаньон     1   \n",
      "\n",
      "     total_income                            purpose  \n",
      "0   253875.639453                      покупка жилья  \n",
      "1   112080.014102            приобретение автомобиля  \n",
      "2   145885.952297                      покупка жилья  \n",
      "3   267628.550329         дополнительное образование  \n",
      "4   158616.077870                    сыграть свадьбу  \n",
      "5   255763.565419                      покупка жилья  \n",
      "6   240525.971920                  операции с жильем  \n",
      "7   135823.934197                        образование  \n",
      "8    95856.832424              на проведение свадьбы  \n",
      "9   144425.938277            покупка жилья для семьи  \n",
      "10  113943.491460               покупка недвижимости  \n",
      "11   77069.234271  покупка коммерческой недвижимости  \n",
      "12            NaN                    сыграть свадьбу  \n",
      "13  130458.228857            приобретение автомобиля  \n",
      "14  165127.911772         покупка жилой недвижимости  \n"
     ]
    }
   ],
   "source": [
    "print(df.head(15))"
   ]
  },
  {
   "cell_type": "code",
   "execution_count": 4,
   "metadata": {},
   "outputs": [
    {
     "name": "stdout",
     "output_type": "stream",
     "text": [
      "<class 'pandas.core.frame.DataFrame'>\n",
      "RangeIndex: 21525 entries, 0 to 21524\n",
      "Data columns (total 12 columns):\n",
      "children            21525 non-null int64\n",
      "days_employed       19351 non-null float64\n",
      "dob_years           21525 non-null int64\n",
      "education           21525 non-null object\n",
      "education_id        21525 non-null int64\n",
      "family_status       21525 non-null object\n",
      "family_status_id    21525 non-null int64\n",
      "gender              21525 non-null object\n",
      "income_type         21525 non-null object\n",
      "debt                21525 non-null int64\n",
      "total_income        19351 non-null float64\n",
      "purpose             21525 non-null object\n",
      "dtypes: float64(2), int64(5), object(5)\n",
      "memory usage: 2.0+ MB\n"
     ]
    }
   ],
   "source": [
    "df.info()"
   ]
  },
  {
   "cell_type": "markdown",
   "metadata": {},
   "source": [
    "### Вывод"
   ]
  },
  {
   "cell_type": "markdown",
   "metadata": {},
   "source": [
    "Нам представлена таблица, с данными клиентов банка. В ней присутствуют данные о 21525 клиентах. Сразу бросаются в глаза разные регистры, артефакты, в виде отрицательных значений, полный разброс в категориях цели займа.  "
   ]
  },
  {
   "cell_type": "markdown",
   "metadata": {},
   "source": [
    "### Шаг 2. Предобработка данных"
   ]
  },
  {
   "cell_type": "markdown",
   "metadata": {},
   "source": [
    "### Обработка пропусков\n"
   ]
  },
  {
   "cell_type": "markdown",
   "metadata": {},
   "source": [
    "Определим, в каких столбцах встречаются пропущенные значения и их количество."
   ]
  },
  {
   "cell_type": "code",
   "execution_count": 5,
   "metadata": {},
   "outputs": [
    {
     "data": {
      "text/plain": [
       "children               0\n",
       "days_employed       2174\n",
       "dob_years              0\n",
       "education              0\n",
       "education_id           0\n",
       "family_status          0\n",
       "family_status_id       0\n",
       "gender                 0\n",
       "income_type            0\n",
       "debt                   0\n",
       "total_income        2174\n",
       "purpose                0\n",
       "dtype: int64"
      ]
     },
     "execution_count": 5,
     "metadata": {},
     "output_type": "execute_result"
    }
   ],
   "source": [
    "df.isnull().sum()"
   ]
  },
  {
   "cell_type": "markdown",
   "metadata": {},
   "source": [
    "Мы видим, что пропущенные значения встречаются в столбцах с количественными переменными."
   ]
  },
  {
   "cell_type": "markdown",
   "metadata": {},
   "source": [
    "Первый столбец с пропущенными значениями 'days_employed'. Он показывает нам трудовой стаж клиента. Если там пусто, можно сделать вывод, что, возможно, у клиента не имеется трудового стажа и его не стали заполнять. Может быть так, что эти пропущенные значения неслучайные, но для того, чтобы сохранялось нормальное распределение данных в этом столбце, мы не будем заполнять его нулями, а заполним медианнымми значениями."
   ]
  },
  {
   "cell_type": "code",
   "execution_count": 6,
   "metadata": {},
   "outputs": [],
   "source": [
    "df['days_employed'] = df['days_employed'].fillna(df['days_employed'].mean())"
   ]
  },
  {
   "cell_type": "code",
   "execution_count": 7,
   "metadata": {},
   "outputs": [],
   "source": [
    "df['total_income'] = df['total_income'].fillna(0)"
   ]
  },
  {
   "cell_type": "markdown",
   "metadata": {},
   "source": [
    "И если в столбце 'days_employed' мы можем заполнить медианным значением всего столбца, то в 'total_income' для точности расчетов мы возьмем медианные значения в каждой группе трудоустроенности."
   ]
  },
  {
   "cell_type": "markdown",
   "metadata": {},
   "source": [
    "Определим количество клиентов в каждой категории."
   ]
  },
  {
   "cell_type": "code",
   "execution_count": 8,
   "metadata": {},
   "outputs": [
    {
     "name": "stdout",
     "output_type": "stream",
     "text": [
      "сотрудник          11119\n",
      "компаньон           5085\n",
      "пенсионер           3856\n",
      "госслужащий         1459\n",
      "предприниматель        2\n",
      "безработный            2\n",
      "студент                1\n",
      "в декрете              1\n",
      "Name: income_type, dtype: int64\n"
     ]
    }
   ],
   "source": [
    "print(df['income_type'].value_counts())"
   ]
  },
  {
   "cell_type": "markdown",
   "metadata": {},
   "source": [
    "Далее создаем сводную таблицу, первым столбцом которой будет категория трудоустроенности, а второй столбец - медиана столбца 'total_income'по каждой категории, использую метод pivot_table(). Мы получили готовые значения, которые нам предстоит записать в столбец главного датафрейма df 'total_income' по каждому виду занятости."
   ]
  },
  {
   "cell_type": "code",
   "execution_count": 9,
   "metadata": {},
   "outputs": [
    {
     "name": "stdout",
     "output_type": "stream",
     "text": [
      "                  total_income\n",
      "income_type                   \n",
      "безработный      131339.751676\n",
      "в декрете         53829.130729\n",
      "госслужащий      153679.631678\n",
      "компаньон        182195.618704\n",
      "пенсионер        122440.317524\n",
      "предприниматель  249581.572474\n",
      "сотрудник        145342.380477\n",
      "студент           98201.625314\n"
     ]
    }
   ],
   "source": [
    "median_income = df.pivot_table(index=['income_type'], values=['total_income'], aggfunc='mean')\n",
    "print(median_income)"
   ]
  },
  {
   "cell_type": "markdown",
   "metadata": {},
   "source": [
    "Далее заменим каждое нулевое значение на медиану по категориям."
   ]
  },
  {
   "cell_type": "code",
   "execution_count": 10,
   "metadata": {},
   "outputs": [],
   "source": [
    "numb = 0\n",
    "while numb < df.shape[0]:\n",
    "    df_line = df.loc[numb, 'income_type']\n",
    "    df_row = df.loc[numb, 'total_income']\n",
    "    if (df_line == 'безработный') & (df_row == 0):\n",
    "        df.loc[numb, 'total_income'] = 131339.751676\n",
    "    elif (df_line == 'в декрете') & (df_row == 0):\n",
    "        df.loc[numb, 'total_income'] = 53829.130729    \n",
    "    elif (df_line == 'госслужащий') & (df_row == 0):\n",
    "        df.loc[numb, 'total_income'] = 170898.309923\n",
    "    elif (df_line == 'компаньон') & (df_row == 0):\n",
    "        df.loc[numb, 'total_income'] = 202417.461462    \n",
    "    elif (df_line == 'пенсионер') & (df_row == 0):\n",
    "        df.loc[numb, 'total_income'] = 137127.465690    \n",
    "    elif (df_line == 'предприниматель') & (df_row == 0):\n",
    "        df.loc[numb, 'total_income'] = 499163.144947    \n",
    "    elif (df_line == 'сотрудник') & (df_row == 0):\n",
    "        df.loc[numb, 'total_income'] = 161380.260488    \n",
    "    elif (df_line == 'студент') & (df_row == 0):\n",
    "        df.loc[numb, 'total_income'] = 98201.625314\n",
    "    numb += 1"
   ]
  },
  {
   "cell_type": "code",
   "execution_count": 11,
   "metadata": {},
   "outputs": [
    {
     "name": "stdout",
     "output_type": "stream",
     "text": [
      "    children  days_employed  dob_years            education  education_id  \\\n",
      "0          1   -8437.673028         42               высшее             0   \n",
      "1          1   -4024.803754         36              среднее             1   \n",
      "2          0   -5623.422610         33              Среднее             1   \n",
      "3          3   -4124.747207         32              среднее             1   \n",
      "4          0  340266.072047         53              среднее             1   \n",
      "5          0    -926.185831         27               высшее             0   \n",
      "6          0   -2879.202052         43               высшее             0   \n",
      "7          0    -152.779569         50              СРЕДНЕЕ             1   \n",
      "8          2   -6929.865299         35               ВЫСШЕЕ             0   \n",
      "9          0   -2188.756445         41              среднее             1   \n",
      "10         2   -4171.483647         36               высшее             0   \n",
      "11         0    -792.701887         40              среднее             1   \n",
      "12         0   63046.497661         65              среднее             1   \n",
      "13         0   -1846.641941         54  неоконченное высшее             2   \n",
      "14         0   -1844.956182         56               высшее             0   \n",
      "15         1    -972.364419         26              среднее             1   \n",
      "16         0   -1719.934226         35              среднее             1   \n",
      "17         0   -2369.999720         33               высшее             0   \n",
      "18         0  400281.136913         53              среднее             1   \n",
      "19         0  -10038.818549         48              СРЕДНЕЕ             1   \n",
      "\n",
      "       family_status  family_status_id gender income_type  debt  \\\n",
      "0    женат / замужем                 0      F   сотрудник     0   \n",
      "1    женат / замужем                 0      F   сотрудник     0   \n",
      "2    женат / замужем                 0      M   сотрудник     0   \n",
      "3    женат / замужем                 0      M   сотрудник     0   \n",
      "4   гражданский брак                 1      F   пенсионер     0   \n",
      "5   гражданский брак                 1      M   компаньон     0   \n",
      "6    женат / замужем                 0      F   компаньон     0   \n",
      "7    женат / замужем                 0      M   сотрудник     0   \n",
      "8   гражданский брак                 1      F   сотрудник     0   \n",
      "9    женат / замужем                 0      M   сотрудник     0   \n",
      "10   женат / замужем                 0      M   компаньон     0   \n",
      "11   женат / замужем                 0      F   сотрудник     0   \n",
      "12  гражданский брак                 1      M   пенсионер     0   \n",
      "13   женат / замужем                 0      F   сотрудник     0   \n",
      "14  гражданский брак                 1      F   компаньон     1   \n",
      "15   женат / замужем                 0      F   сотрудник     0   \n",
      "16   женат / замужем                 0      F   сотрудник     0   \n",
      "17  гражданский брак                 1      M   сотрудник     0   \n",
      "18    вдовец / вдова                 2      F   пенсионер     0   \n",
      "19         в разводе                 3      F   сотрудник     0   \n",
      "\n",
      "     total_income                                 purpose  \n",
      "0   253875.639453                           покупка жилья  \n",
      "1   112080.014102                 приобретение автомобиля  \n",
      "2   145885.952297                           покупка жилья  \n",
      "3   267628.550329              дополнительное образование  \n",
      "4   158616.077870                         сыграть свадьбу  \n",
      "5   255763.565419                           покупка жилья  \n",
      "6   240525.971920                       операции с жильем  \n",
      "7   135823.934197                             образование  \n",
      "8    95856.832424                   на проведение свадьбы  \n",
      "9   144425.938277                 покупка жилья для семьи  \n",
      "10  113943.491460                    покупка недвижимости  \n",
      "11   77069.234271       покупка коммерческой недвижимости  \n",
      "12  137127.465690                         сыграть свадьбу  \n",
      "13  130458.228857                 приобретение автомобиля  \n",
      "14  165127.911772              покупка жилой недвижимости  \n",
      "15  116820.904450  строительство собственной недвижимости  \n",
      "16  289202.704229                            недвижимость  \n",
      "17   90410.586745              строительство недвижимости  \n",
      "18   56823.777243      на покупку подержанного автомобиля  \n",
      "19  242831.107982            на покупку своего автомобиля  \n"
     ]
    }
   ],
   "source": [
    "print(df.head(20))"
   ]
  },
  {
   "cell_type": "markdown",
   "metadata": {},
   "source": [
    "Проверим, работу метода, заполняющего пропущенные значения."
   ]
  },
  {
   "cell_type": "code",
   "execution_count": 12,
   "metadata": {},
   "outputs": [
    {
     "data": {
      "text/plain": [
       "children            0\n",
       "days_employed       0\n",
       "dob_years           0\n",
       "education           0\n",
       "education_id        0\n",
       "family_status       0\n",
       "family_status_id    0\n",
       "gender              0\n",
       "income_type         0\n",
       "debt                0\n",
       "total_income        0\n",
       "purpose             0\n",
       "dtype: int64"
      ]
     },
     "execution_count": 12,
     "metadata": {},
     "output_type": "execute_result"
    }
   ],
   "source": [
    "df.isnull().sum()"
   ]
  },
  {
   "cell_type": "markdown",
   "metadata": {},
   "source": [
    "И замену нуля на медианные значения:"
   ]
  },
  {
   "cell_type": "code",
   "execution_count": 13,
   "metadata": {},
   "outputs": [
    {
     "data": {
      "text/plain": [
       "children            0\n",
       "days_employed       0\n",
       "dob_years           0\n",
       "education           0\n",
       "education_id        0\n",
       "family_status       0\n",
       "family_status_id    0\n",
       "gender              0\n",
       "income_type         0\n",
       "debt                0\n",
       "total_income        0\n",
       "purpose             0\n",
       "dtype: int64"
      ]
     },
     "execution_count": 13,
     "metadata": {},
     "output_type": "execute_result"
    }
   ],
   "source": [
    "df[df['total_income'] == 0].count()"
   ]
  },
  {
   "cell_type": "markdown",
   "metadata": {},
   "source": [
    "### Корректировка невозможных данных"
   ]
  },
  {
   "cell_type": "markdown",
   "metadata": {},
   "source": [
    "Просматривая все данные мы обнаруживаем, что в столбце 'children' присутствуют данные, существование которых явно подразумевает ошибку."
   ]
  },
  {
   "cell_type": "code",
   "execution_count": 14,
   "metadata": {},
   "outputs": [
    {
     "name": "stdout",
     "output_type": "stream",
     "text": [
      " 0     14149\n",
      " 1      4818\n",
      " 2      2055\n",
      " 3       330\n",
      " 20       76\n",
      "-1        47\n",
      " 4        41\n",
      " 5         9\n",
      "Name: children, dtype: int64\n"
     ]
    }
   ],
   "source": [
    "print(df['children'].value_counts())"
   ]
  },
  {
   "cell_type": "markdown",
   "metadata": {},
   "source": [
    "А именно -1 ребенок и 20 детей. Второй вариант, вполне возможен и мог бы иметь место быть, но не в целых 76 семьях. Даже если предположить, что каждый родитель в семье берет кредит, 38 человек все равно невозможное в жизни число. Учитывая малое колличество этих значений, для того, чтобы не портить статистику мы заменим их на более реальные значения. Берем моду столбца (самое часто встречающееся значение = 0) и заменяем значения методом replace()."
   ]
  },
  {
   "cell_type": "code",
   "execution_count": 15,
   "metadata": {},
   "outputs": [],
   "source": [
    "df['children'] = df['children'].replace(-1, 0)\n",
    "df['children'] = df['children'].replace(20, 0)"
   ]
  },
  {
   "cell_type": "markdown",
   "metadata": {},
   "source": [
    "Проверим работу замены."
   ]
  },
  {
   "cell_type": "code",
   "execution_count": 16,
   "metadata": {},
   "outputs": [
    {
     "name": "stdout",
     "output_type": "stream",
     "text": [
      "0    14272\n",
      "1     4818\n",
      "2     2055\n",
      "3      330\n",
      "4       41\n",
      "5        9\n",
      "Name: children, dtype: int64\n"
     ]
    }
   ],
   "source": [
    "print(df['children'].value_counts())"
   ]
  },
  {
   "cell_type": "markdown",
   "metadata": {},
   "source": [
    "### Вывод"
   ]
  },
  {
   "cell_type": "markdown",
   "metadata": {},
   "source": [
    "Для того, чтобы можно было проводить расчеты с таблицей, необходимо, чтобы все параметры присутствовали. Отсутствующие значения в этой таблице появились неслучайно. Так как эти параметры у клиента отсутствуют, то и в таблице их не оказалось. Но так как это количественные переменные, то для дальнейших расчетов или сравнений удобнее будет придать им их логически правильное значение."
   ]
  },
  {
   "cell_type": "markdown",
   "metadata": {},
   "source": [
    "### Замена типа данных"
   ]
  },
  {
   "cell_type": "markdown",
   "metadata": {},
   "source": [
    "Мы видим, что в столбце трудового стажа содержатся артефакты. Этот столбец не нужен нам, для ответа на поставленные нам задачи, но так как он содержит данные, нам необходимо обработать их, настолько, насколько это возможно. Мы уменьшим вес данных, если дни будут представлены в целочисленном виде типа данных - integer(int)."
   ]
  },
  {
   "cell_type": "code",
   "execution_count": 17,
   "metadata": {},
   "outputs": [
    {
     "name": "stdout",
     "output_type": "stream",
     "text": [
      "<class 'pandas.core.frame.DataFrame'>\n",
      "RangeIndex: 21525 entries, 0 to 21524\n",
      "Data columns (total 12 columns):\n",
      "children            21525 non-null int64\n",
      "days_employed       21525 non-null float64\n",
      "dob_years           21525 non-null int64\n",
      "education           21525 non-null object\n",
      "education_id        21525 non-null int64\n",
      "family_status       21525 non-null object\n",
      "family_status_id    21525 non-null int64\n",
      "gender              21525 non-null object\n",
      "income_type         21525 non-null object\n",
      "debt                21525 non-null int64\n",
      "total_income        21525 non-null float64\n",
      "purpose             21525 non-null object\n",
      "dtypes: float64(2), int64(5), object(5)\n",
      "memory usage: 2.0+ MB\n"
     ]
    }
   ],
   "source": [
    "df.info()"
   ]
  },
  {
   "cell_type": "code",
   "execution_count": 18,
   "metadata": {},
   "outputs": [],
   "source": [
    "df['days_employed'] = df['days_employed'].astype('int')"
   ]
  },
  {
   "cell_type": "code",
   "execution_count": 19,
   "metadata": {},
   "outputs": [],
   "source": [
    "df['total_income'] = df['total_income'].astype('int')"
   ]
  },
  {
   "cell_type": "code",
   "execution_count": 20,
   "metadata": {},
   "outputs": [
    {
     "name": "stdout",
     "output_type": "stream",
     "text": [
      "<class 'pandas.core.frame.DataFrame'>\n",
      "RangeIndex: 21525 entries, 0 to 21524\n",
      "Data columns (total 12 columns):\n",
      "children            21525 non-null int64\n",
      "days_employed       21525 non-null int64\n",
      "dob_years           21525 non-null int64\n",
      "education           21525 non-null object\n",
      "education_id        21525 non-null int64\n",
      "family_status       21525 non-null object\n",
      "family_status_id    21525 non-null int64\n",
      "gender              21525 non-null object\n",
      "income_type         21525 non-null object\n",
      "debt                21525 non-null int64\n",
      "total_income        21525 non-null int64\n",
      "purpose             21525 non-null object\n",
      "dtypes: int64(7), object(5)\n",
      "memory usage: 2.0+ MB\n"
     ]
    }
   ],
   "source": [
    "df.info()"
   ]
  },
  {
   "cell_type": "markdown",
   "metadata": {},
   "source": [
    "### Вывод"
   ]
  },
  {
   "cell_type": "markdown",
   "metadata": {},
   "source": [
    "Так как данные выглят лаконичнее, проще и весят меньше, если имеют тип int, а не float, мы заменили их. Цифры буду восприниматься проще, если не будет десятых долей. При этом на расчетах это не сильно отразится отразится."
   ]
  },
  {
   "cell_type": "markdown",
   "metadata": {},
   "source": [
    "### Обработка дубликатов"
   ]
  },
  {
   "cell_type": "markdown",
   "metadata": {},
   "source": [
    "Мы видим, что в столбце education(образование) необходимо привести значения к одному регистру, чтобы эффективно выявить все дубликаты. Воспользуемся методом str.lower()"
   ]
  },
  {
   "cell_type": "code",
   "execution_count": 21,
   "metadata": {},
   "outputs": [
    {
     "name": "stdout",
     "output_type": "stream",
     "text": [
      "    children  days_employed  dob_years            education  education_id  \\\n",
      "0          1          -8437         42               высшее             0   \n",
      "1          1          -4024         36              среднее             1   \n",
      "2          0          -5623         33              среднее             1   \n",
      "3          3          -4124         32              среднее             1   \n",
      "4          0         340266         53              среднее             1   \n",
      "5          0           -926         27               высшее             0   \n",
      "6          0          -2879         43               высшее             0   \n",
      "7          0           -152         50              среднее             1   \n",
      "8          2          -6929         35               высшее             0   \n",
      "9          0          -2188         41              среднее             1   \n",
      "10         2          -4171         36               высшее             0   \n",
      "11         0           -792         40              среднее             1   \n",
      "12         0          63046         65              среднее             1   \n",
      "13         0          -1846         54  неоконченное высшее             2   \n",
      "14         0          -1844         56               высшее             0   \n",
      "\n",
      "       family_status  family_status_id gender income_type  debt  total_income  \\\n",
      "0    женат / замужем                 0      F   сотрудник     0        253875   \n",
      "1    женат / замужем                 0      F   сотрудник     0        112080   \n",
      "2    женат / замужем                 0      M   сотрудник     0        145885   \n",
      "3    женат / замужем                 0      M   сотрудник     0        267628   \n",
      "4   гражданский брак                 1      F   пенсионер     0        158616   \n",
      "5   гражданский брак                 1      M   компаньон     0        255763   \n",
      "6    женат / замужем                 0      F   компаньон     0        240525   \n",
      "7    женат / замужем                 0      M   сотрудник     0        135823   \n",
      "8   гражданский брак                 1      F   сотрудник     0         95856   \n",
      "9    женат / замужем                 0      M   сотрудник     0        144425   \n",
      "10   женат / замужем                 0      M   компаньон     0        113943   \n",
      "11   женат / замужем                 0      F   сотрудник     0         77069   \n",
      "12  гражданский брак                 1      M   пенсионер     0        137127   \n",
      "13   женат / замужем                 0      F   сотрудник     0        130458   \n",
      "14  гражданский брак                 1      F   компаньон     1        165127   \n",
      "\n",
      "                              purpose  \n",
      "0                       покупка жилья  \n",
      "1             приобретение автомобиля  \n",
      "2                       покупка жилья  \n",
      "3          дополнительное образование  \n",
      "4                     сыграть свадьбу  \n",
      "5                       покупка жилья  \n",
      "6                   операции с жильем  \n",
      "7                         образование  \n",
      "8               на проведение свадьбы  \n",
      "9             покупка жилья для семьи  \n",
      "10               покупка недвижимости  \n",
      "11  покупка коммерческой недвижимости  \n",
      "12                    сыграть свадьбу  \n",
      "13            приобретение автомобиля  \n",
      "14         покупка жилой недвижимости  \n"
     ]
    }
   ],
   "source": [
    "df['education'] = df['education'].str.lower()\n",
    "print(df.head(15))"
   ]
  },
  {
   "cell_type": "markdown",
   "metadata": {},
   "source": [
    "Воспользуемся методом df.duplicated().sum() для нахождения дубликатов."
   ]
  },
  {
   "cell_type": "code",
   "execution_count": 22,
   "metadata": {},
   "outputs": [
    {
     "data": {
      "text/plain": [
       "71"
      ]
     },
     "execution_count": 22,
     "metadata": {},
     "output_type": "execute_result"
    }
   ],
   "source": [
    "df.duplicated().sum()"
   ]
  },
  {
   "cell_type": "markdown",
   "metadata": {},
   "source": [
    "Найден 71 дубликат. Необходимо их удалить методом df.drop_duplicates() вместе с методом reset_index(), чтобы вместе с дубликатами удалились и их индексы."
   ]
  },
  {
   "cell_type": "code",
   "execution_count": 23,
   "metadata": {},
   "outputs": [],
   "source": [
    "df = df.drop_duplicates().reset_index(drop=True)"
   ]
  },
  {
   "cell_type": "markdown",
   "metadata": {},
   "source": [
    "Проверим работу этого метода."
   ]
  },
  {
   "cell_type": "code",
   "execution_count": 24,
   "metadata": {},
   "outputs": [
    {
     "data": {
      "text/plain": [
       "0"
      ]
     },
     "execution_count": 24,
     "metadata": {},
     "output_type": "execute_result"
    }
   ],
   "source": [
    "df.duplicated().sum()"
   ]
  },
  {
   "cell_type": "markdown",
   "metadata": {},
   "source": [
    "### Вывод"
   ]
  },
  {
   "cell_type": "markdown",
   "metadata": {},
   "source": [
    "Дубликаты - это повторяющиеся строки. Они влияют на качество расчетов и анализе как количественных, так и качественных переменных. Применив метод drop_duplicates() мы убрали их и теперь они не будут мешать в дальнейшем."
   ]
  },
  {
   "cell_type": "markdown",
   "metadata": {},
   "source": [
    "### Лемматизация"
   ]
  },
  {
   "cell_type": "markdown",
   "metadata": {},
   "source": [
    "Лемматизация - это приведение слов к одной лемме. Простым языком, это замена слов в разных формах на одну общую. Это удобно для того, чтобы можно было группировать и классифицировать определенные наборы слов."
   ]
  },
  {
   "cell_type": "markdown",
   "metadata": {},
   "source": [
    "Для начала получаем лемматизатор для слов."
   ]
  },
  {
   "cell_type": "code",
   "execution_count": 25,
   "metadata": {},
   "outputs": [],
   "source": [
    "from pymystem3 import Mystem\n",
    "m = Mystem()"
   ]
  },
  {
   "cell_type": "markdown",
   "metadata": {},
   "source": [
    "Далее к столбцу, который нам нужно классифицировать, мы применяем метод лемматизации и на выходе получаем, какие объекты содержит каждая строка таблицы."
   ]
  },
  {
   "cell_type": "code",
   "execution_count": 26,
   "metadata": {},
   "outputs": [
    {
     "name": "stdout",
     "output_type": "stream",
     "text": [
      "0                             [покупка,  , жилье, \\n]\n",
      "1                   [приобретение,  , автомобиль, \\n]\n",
      "2                             [покупка,  , жилье, \\n]\n",
      "3                [дополнительный,  , образование, \\n]\n",
      "4                           [сыграть,  , свадьба, \\n]\n",
      "                             ...                     \n",
      "21449                  [операция,  , с,  , жилье, \\n]\n",
      "21450               [сделка,  , с,  , автомобиль, \\n]\n",
      "21451                              [недвижимость, \\n]\n",
      "21452    [на,  , покупка,  , свой,  , автомобиль, \\n]\n",
      "21453             [на,  , покупка,  , автомобиль, \\n]\n",
      "Name: purpose_new, Length: 21454, dtype: object\n"
     ]
    }
   ],
   "source": [
    "df['purpose_new'] = df['purpose'].apply(m.lemmatize)\n",
    "print(df['purpose_new'])"
   ]
  },
  {
   "cell_type": "markdown",
   "metadata": {},
   "source": [
    "Заведем свой словарь слов, какими мы хотим назвать наши категории. Жилье и недвижимость будут в разных категориях, потому, что недвижимость бывает еще и коммерческая."
   ]
  },
  {
   "cell_type": "code",
   "execution_count": 27,
   "metadata": {},
   "outputs": [
    {
     "name": "stdout",
     "output_type": "stream",
     "text": [
      "['жилье', 'недвижимость', 'свадьба', 'образование', 'автомобиль']\n"
     ]
    }
   ],
   "source": [
    "new_dict = ['жилье', 'недвижимость', 'свадьба', 'образование', 'автомобиль']\n",
    "print(new_dict)"
   ]
  },
  {
   "cell_type": "markdown",
   "metadata": {},
   "source": [
    "Далее пишем функцию, которая будет возвращать значения из словаря, если оно будет присутствовать в наших листах в лемматизированном столбце. Потом создаем новый столб, в котором эти значения будут записаны. Таким образом у нас будет всего 5 целей займа."
   ]
  },
  {
   "cell_type": "code",
   "execution_count": 28,
   "metadata": {},
   "outputs": [
    {
     "name": "stdout",
     "output_type": "stream",
     "text": [
      "    children  days_employed  dob_years            education  education_id  \\\n",
      "0          1          -8437         42               высшее             0   \n",
      "1          1          -4024         36              среднее             1   \n",
      "2          0          -5623         33              среднее             1   \n",
      "3          3          -4124         32              среднее             1   \n",
      "4          0         340266         53              среднее             1   \n",
      "5          0           -926         27               высшее             0   \n",
      "6          0          -2879         43               высшее             0   \n",
      "7          0           -152         50              среднее             1   \n",
      "8          2          -6929         35               высшее             0   \n",
      "9          0          -2188         41              среднее             1   \n",
      "10         2          -4171         36               высшее             0   \n",
      "11         0           -792         40              среднее             1   \n",
      "12         0          63046         65              среднее             1   \n",
      "13         0          -1846         54  неоконченное высшее             2   \n",
      "14         0          -1844         56               высшее             0   \n",
      "\n",
      "       family_status  family_status_id gender income_type  debt  total_income  \\\n",
      "0    женат / замужем                 0      F   сотрудник     0        253875   \n",
      "1    женат / замужем                 0      F   сотрудник     0        112080   \n",
      "2    женат / замужем                 0      M   сотрудник     0        145885   \n",
      "3    женат / замужем                 0      M   сотрудник     0        267628   \n",
      "4   гражданский брак                 1      F   пенсионер     0        158616   \n",
      "5   гражданский брак                 1      M   компаньон     0        255763   \n",
      "6    женат / замужем                 0      F   компаньон     0        240525   \n",
      "7    женат / замужем                 0      M   сотрудник     0        135823   \n",
      "8   гражданский брак                 1      F   сотрудник     0         95856   \n",
      "9    женат / замужем                 0      M   сотрудник     0        144425   \n",
      "10   женат / замужем                 0      M   компаньон     0        113943   \n",
      "11   женат / замужем                 0      F   сотрудник     0         77069   \n",
      "12  гражданский брак                 1      M   пенсионер     0        137127   \n",
      "13   женат / замужем                 0      F   сотрудник     0        130458   \n",
      "14  гражданский брак                 1      F   компаньон     1        165127   \n",
      "\n",
      "                              purpose   purpose_new  \n",
      "0                       покупка жилья         жилье  \n",
      "1             приобретение автомобиля    автомобиль  \n",
      "2                       покупка жилья         жилье  \n",
      "3          дополнительное образование   образование  \n",
      "4                     сыграть свадьбу       свадьба  \n",
      "5                       покупка жилья         жилье  \n",
      "6                   операции с жильем         жилье  \n",
      "7                         образование   образование  \n",
      "8               на проведение свадьбы       свадьба  \n",
      "9             покупка жилья для семьи         жилье  \n",
      "10               покупка недвижимости  недвижимость  \n",
      "11  покупка коммерческой недвижимости  недвижимость  \n",
      "12                    сыграть свадьбу       свадьба  \n",
      "13            приобретение автомобиля    автомобиль  \n",
      "14         покупка жилой недвижимости  недвижимость  \n"
     ]
    }
   ],
   "source": [
    "def find_purpose(purpose_list):\n",
    "    for purpose in new_dict:\n",
    "        if purpose in purpose_list:\n",
    "            return purpose\n",
    "\n",
    "df['purpose_new'] = df['purpose_new'].apply(find_purpose)\n",
    "print(df.head(15))"
   ]
  },
  {
   "cell_type": "markdown",
   "metadata": {},
   "source": [
    "Проверим работу функции и все ли заменились элементы в строках. Методом value_counts() определим какие значения присутствуют в столбце 'purpose_new' и сколько существует строк с определенной категорией."
   ]
  },
  {
   "cell_type": "code",
   "execution_count": 29,
   "metadata": {},
   "outputs": [
    {
     "name": "stdout",
     "output_type": "stream",
     "text": [
      "недвижимость    6351\n",
      "жилье           4460\n",
      "автомобиль      4306\n",
      "образование     4013\n",
      "свадьба         2324\n",
      "Name: purpose_new, dtype: int64\n"
     ]
    }
   ],
   "source": [
    "print(df['purpose_new'].value_counts())"
   ]
  },
  {
   "cell_type": "markdown",
   "metadata": {},
   "source": [
    "### Вывод"
   ]
  },
  {
   "cell_type": "markdown",
   "metadata": {},
   "source": [
    "В начале мы получили столбец, с разными целями, не принадлежащими к определенным категориям. Они все типичны, но записаны по- разному, поэтому мы не могли определить их количество. После применения функции и после создания нового столбца мы можем увидеть какие цели займа бывают и сколько человек указали их своей целью."
   ]
  },
  {
   "cell_type": "markdown",
   "metadata": {},
   "source": [
    "### Категоризация данных"
   ]
  },
  {
   "cell_type": "markdown",
   "metadata": {},
   "source": [
    "В столбце ежемесячный доход у нас очень много различных данных и исходя из этого у нас не получится конкретных выводов. Поэтому тут мы представим данные под категориями 'низкий доход', 'средний доход', 'высокий доход'. Значения уровней дохода зададим по распределению с помощью метода describe(), где <25% - низкий доход, 25% - 50% - ниже среднего, 50-75% - средний, >75% высокий."
   ]
  },
  {
   "cell_type": "code",
   "execution_count": 30,
   "metadata": {},
   "outputs": [
    {
     "data": {
      "text/plain": [
       "count      21454\n",
       "mean      167431\n",
       "std        98060\n",
       "min        20667\n",
       "25%       107623\n",
       "50%       151887\n",
       "75%       202417\n",
       "max      2265604\n",
       "Name: total_income, dtype: int64"
      ]
     },
     "execution_count": 30,
     "metadata": {},
     "output_type": "execute_result"
    }
   ],
   "source": [
    "df['total_income'].describe().astype('int')"
   ]
  },
  {
   "cell_type": "code",
   "execution_count": 31,
   "metadata": {},
   "outputs": [],
   "source": [
    "def cat_income(row):\n",
    "    if row <= 107623:\n",
    "        return 'низкий доход'\n",
    "    elif (row > 107623) & (row < 151887):\n",
    "        return 'доход ниже среднего'\n",
    "    elif (row > 151887) & (row < 202417):\n",
    "        return 'средний доход'\n",
    "    else:\n",
    "        return 'высокий доход'"
   ]
  },
  {
   "cell_type": "code",
   "execution_count": 32,
   "metadata": {},
   "outputs": [
    {
     "name": "stdout",
     "output_type": "stream",
     "text": [
      "    children  days_employed  dob_years            education  education_id  \\\n",
      "0          1          -8437         42               высшее             0   \n",
      "1          1          -4024         36              среднее             1   \n",
      "2          0          -5623         33              среднее             1   \n",
      "3          3          -4124         32              среднее             1   \n",
      "4          0         340266         53              среднее             1   \n",
      "5          0           -926         27               высшее             0   \n",
      "6          0          -2879         43               высшее             0   \n",
      "7          0           -152         50              среднее             1   \n",
      "8          2          -6929         35               высшее             0   \n",
      "9          0          -2188         41              среднее             1   \n",
      "10         2          -4171         36               высшее             0   \n",
      "11         0           -792         40              среднее             1   \n",
      "12         0          63046         65              среднее             1   \n",
      "13         0          -1846         54  неоконченное высшее             2   \n",
      "14         0          -1844         56               высшее             0   \n",
      "\n",
      "       family_status  family_status_id gender income_type  debt  total_income  \\\n",
      "0    женат / замужем                 0      F   сотрудник     0        253875   \n",
      "1    женат / замужем                 0      F   сотрудник     0        112080   \n",
      "2    женат / замужем                 0      M   сотрудник     0        145885   \n",
      "3    женат / замужем                 0      M   сотрудник     0        267628   \n",
      "4   гражданский брак                 1      F   пенсионер     0        158616   \n",
      "5   гражданский брак                 1      M   компаньон     0        255763   \n",
      "6    женат / замужем                 0      F   компаньон     0        240525   \n",
      "7    женат / замужем                 0      M   сотрудник     0        135823   \n",
      "8   гражданский брак                 1      F   сотрудник     0         95856   \n",
      "9    женат / замужем                 0      M   сотрудник     0        144425   \n",
      "10   женат / замужем                 0      M   компаньон     0        113943   \n",
      "11   женат / замужем                 0      F   сотрудник     0         77069   \n",
      "12  гражданский брак                 1      M   пенсионер     0        137127   \n",
      "13   женат / замужем                 0      F   сотрудник     0        130458   \n",
      "14  гражданский брак                 1      F   компаньон     1        165127   \n",
      "\n",
      "                              purpose   purpose_new      categody_income  \n",
      "0                       покупка жилья         жилье        высокий доход  \n",
      "1             приобретение автомобиля    автомобиль  доход ниже среднего  \n",
      "2                       покупка жилья         жилье  доход ниже среднего  \n",
      "3          дополнительное образование   образование        высокий доход  \n",
      "4                     сыграть свадьбу       свадьба        средний доход  \n",
      "5                       покупка жилья         жилье        высокий доход  \n",
      "6                   операции с жильем         жилье        высокий доход  \n",
      "7                         образование   образование  доход ниже среднего  \n",
      "8               на проведение свадьбы       свадьба         низкий доход  \n",
      "9             покупка жилья для семьи         жилье  доход ниже среднего  \n",
      "10               покупка недвижимости  недвижимость  доход ниже среднего  \n",
      "11  покупка коммерческой недвижимости  недвижимость         низкий доход  \n",
      "12                    сыграть свадьбу       свадьба  доход ниже среднего  \n",
      "13            приобретение автомобиля    автомобиль  доход ниже среднего  \n",
      "14         покупка жилой недвижимости  недвижимость        средний доход  \n"
     ]
    }
   ],
   "source": [
    "df['categody_income'] = df['total_income'].apply(cat_income)\n",
    "print(df.head(15))"
   ]
  },
  {
   "cell_type": "code",
   "execution_count": 33,
   "metadata": {},
   "outputs": [
    {
     "name": "stdout",
     "output_type": "stream",
     "text": [
      "высокий доход          5410\n",
      "низкий доход           5364\n",
      "доход ниже среднего    5363\n",
      "средний доход          5317\n",
      "Name: categody_income, dtype: int64\n"
     ]
    }
   ],
   "source": [
    "print(df['categody_income'].value_counts())"
   ]
  },
  {
   "cell_type": "markdown",
   "metadata": {},
   "source": [
    "### Вывод"
   ]
  },
  {
   "cell_type": "markdown",
   "metadata": {},
   "source": [
    "Мы распределили ежемесячный доход по трем категориям, чтобы было удобнее считать зависимость. Теперь мы четко видим к какой категории относится каждый заемщик."
   ]
  },
  {
   "cell_type": "markdown",
   "metadata": {},
   "source": [
    "### Шаг 3. Ответьте на вопросы"
   ]
  },
  {
   "cell_type": "markdown",
   "metadata": {},
   "source": [
    "- Есть ли зависимость между наличием детей и возвратом кредита в срок?"
   ]
  },
  {
   "cell_type": "markdown",
   "metadata": {},
   "source": [
    "Для того, чтобы определить зависимость, мы применим группировку к столбцу 'children' и на вывод поставить среднее значение столбца 'debt' по каждой категории. Так как в столбце 'debt' у нас 1 - задолженность, то на выходе мы получаем вероятность невозврата займа. "
   ]
  },
  {
   "cell_type": "markdown",
   "metadata": {},
   "source": [
    "Этот метод мы будем применять, для ответа на все вопросы."
   ]
  },
  {
   "cell_type": "code",
   "execution_count": 34,
   "metadata": {},
   "outputs": [
    {
     "name": "stdout",
     "output_type": "stream",
     "text": [
      "              debt\n",
      "children          \n",
      "0         0.075419\n",
      "1         0.092346\n",
      "2         0.094542\n",
      "3         0.081818\n",
      "4         0.097561\n",
      "5         0.000000\n"
     ]
    }
   ],
   "source": [
    "print(df.groupby('children').agg({'debt':'mean'}))"
   ]
  },
  {
   "cell_type": "markdown",
   "metadata": {},
   "source": [
    "### Вывод"
   ]
  },
  {
   "cell_type": "markdown",
   "metadata": {},
   "source": [
    "Мы можем увидеть, что категория людей без детей чаще всего берут кредиты и при это чаще возвращают. И при этом люди уже хотя бы с одним ребенком реже берут, и при этом чаще задерживают выплаты. И чем больше детей, тем реже люди берут кредиты, мы можем сказать, что наличие хотя- бы одного ребенка, может быть причиной, для задержки выплаты кредита в срок."
   ]
  },
  {
   "cell_type": "markdown",
   "metadata": {},
   "source": [
    "- Есть ли зависимость между семейным положением и возвратом кредита в срок?"
   ]
  },
  {
   "cell_type": "code",
   "execution_count": 35,
   "metadata": {},
   "outputs": [
    {
     "name": "stdout",
     "output_type": "stream",
     "text": [
      "                           debt\n",
      "family_status                  \n",
      "Не женат / не замужем  0.097509\n",
      "в разводе              0.071130\n",
      "вдовец / вдова         0.065693\n",
      "гражданский брак       0.093471\n",
      "женат / замужем        0.075452\n"
     ]
    }
   ],
   "source": [
    "print(df.groupby('family_status').agg({'debt':'mean'}))"
   ]
  },
  {
   "cell_type": "markdown",
   "metadata": {},
   "source": [
    "### Вывод"
   ]
  },
  {
   "cell_type": "markdown",
   "metadata": {},
   "source": [
    "Мы можем увидеть, что если человек не в семье и не был в ней, чаще не возвращает займ в срок, чем человек, обременненый обязательствами. Скорее всего у семейных людей уровень ответственности выше, потому, они не могут себе позволить быть должниками."
   ]
  },
  {
   "cell_type": "markdown",
   "metadata": {},
   "source": [
    "- Есть ли зависимость между уровнем дохода и возвратом кредита в срок?"
   ]
  },
  {
   "cell_type": "code",
   "execution_count": 36,
   "metadata": {},
   "outputs": [
    {
     "name": "stdout",
     "output_type": "stream",
     "text": [
      "                         debt\n",
      "categody_income              \n",
      "высокий доход        0.069316\n",
      "доход ниже среднего  0.088570\n",
      "низкий доход         0.079605\n",
      "средний доход        0.087267\n"
     ]
    }
   ],
   "source": [
    "print(df.groupby('categody_income').agg({'debt':'mean'}))"
   ]
  },
  {
   "cell_type": "markdown",
   "metadata": {},
   "source": [
    "### Вывод"
   ]
  },
  {
   "cell_type": "markdown",
   "metadata": {},
   "source": [
    "Мы видим, что человек с высоким доходом чаще возвращает кредит в срок. Разница между средним и низким доходом не однозначная. Возврат зависит от уровня дохода, чем выше доход, тем чаще возврат."
   ]
  },
  {
   "cell_type": "markdown",
   "metadata": {},
   "source": [
    "- Как разные цели кредита влияют на его возврат в срок?"
   ]
  },
  {
   "cell_type": "code",
   "execution_count": 37,
   "metadata": {},
   "outputs": [
    {
     "name": "stdout",
     "output_type": "stream",
     "text": [
      "                  debt\n",
      "purpose_new           \n",
      "автомобиль    0.093590\n",
      "жилье         0.069058\n",
      "недвижимость  0.074634\n",
      "образование   0.092200\n",
      "свадьба       0.080034\n"
     ]
    }
   ],
   "source": [
    "print(df.groupby('purpose_new').agg({'debt':'mean'}))"
   ]
  },
  {
   "cell_type": "markdown",
   "metadata": {},
   "source": [
    "### Вывод"
   ]
  },
  {
   "cell_type": "markdown",
   "metadata": {},
   "source": [
    "Мы видим, что вероятность невозврата гораздо выше, чем меньше денег нужно на цель займа. Больший невозврат в срок имеют категории 'жилье' и 'образование', и это, по идее, должно быть в разы меньше, чем недвижимость."
   ]
  },
  {
   "cell_type": "markdown",
   "metadata": {},
   "source": [
    "### Шаг 4. Общий вывод"
   ]
  },
  {
   "cell_type": "markdown",
   "metadata": {},
   "source": [
    "Самая большая вероятность по невозврату оказалась у людей с 4 детьми(0.097561), а самая маленькая у вдов/вдовцов(0.065693). Самая явная зависимость видна в категории уровня дохода. И это понятно, чем больше у человека доход, тем больше вероятность, что он сможет отдать займ. Семейный статус имеет очень большой разброс и не покажет вероятность также эффективно."
   ]
  }
 ],
 "metadata": {
  "kernelspec": {
   "display_name": "Python 3",
   "language": "python",
   "name": "python3"
  },
  "language_info": {
   "codemirror_mode": {
    "name": "ipython",
    "version": 3
   },
   "file_extension": ".py",
   "mimetype": "text/x-python",
   "name": "python",
   "nbconvert_exporter": "python",
   "pygments_lexer": "ipython3",
   "version": "3.7.6"
  }
 },
 "nbformat": 4,
 "nbformat_minor": 2
}
