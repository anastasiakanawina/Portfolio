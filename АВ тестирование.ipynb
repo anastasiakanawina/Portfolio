{
 "cells": [
  {
   "cell_type": "markdown",
   "metadata": {},
   "source": [
    "<div class=\"alert alert-block alert-info\">\n",
    "\n",
    "## Проект по А/B-тестированию   \n",
    "\n",
    "#### Задание: провести оценку результатов A/B-теста. \n",
    "Оценить корректность проведения теста.\n",
    "Проанализировать результаты теста.\n",
    "    \n",
    "Чтобы оценить корректность проведения теста, проверим:\n",
    "- пересечение тестовой аудитории с конкурирующим тестом,\n",
    "- совпадение теста и маркетинговых событий, другие проблемы временных границ теста.   \n",
    "    \n",
    "</div>"
   ]
  },
  {
   "cell_type": "markdown",
   "metadata": {},
   "source": [
    "### Техническое задание\n",
    "\n",
    "- Название теста: `recommender_system_test`;\n",
    "- группы: А — контрольная, B — новая платёжная воронка;\n",
    "- дата запуска: 2020-12-07;\n",
    "- дата остановки набора новых пользователей: 2020-12-21;\n",
    "- дата остановки: 2021-01-04;\n",
    "- аудитория: 15% новых пользователей из региона EU;\n",
    "- назначение теста: тестирование изменений, связанных с внедрением улучшенной рекомендательной системы;\n",
    "- ожидаемое количество участников теста: 6000.\n",
    "- ожидаемый эффект: за 14 дней с момента регистрации пользователи покажут улучшение каждой метрики не менее, чем на 10%:\n",
    "    - конверсии в просмотр карточек товаров — событие `product_page`,\n",
    "    - просмотры корзины — `product_cart`,\n",
    "    - покупки — `purchase`."
   ]
  },
  {
   "cell_type": "markdown",
   "metadata": {},
   "source": [
    "### Оглавление:  <a id=\"run\"></a>  \n",
    "</div>\n",
    "\n",
    "1. [Шаг 1](#step1) Загрузка данных, изучение общей информации и предобработка. \n",
    "2. [Шаг 2](#step2) Исследовательский анализ данных.\n",
    "3. [Шаг 3](#step3) Оценка результатов А/В-тестирования.\n",
    "4. [Шаг 4](#step4) Общие выводы."
   ]
  },
  {
   "cell_type": "markdown",
   "metadata": {},
   "source": [
    "Произведем импортирование библиотек."
   ]
  },
  {
   "cell_type": "code",
   "execution_count": 1,
   "metadata": {},
   "outputs": [],
   "source": [
    "import pandas as pd\n",
    "import numpy as np\n",
    "import seaborn as sns\n",
    "import plotly.express as px\n",
    "import matplotlib\n",
    "import matplotlib.pyplot as plt\n",
    "import datetime as dt\n",
    "from plotly import graph_objects as go\n",
    "from scipy import stats as st\n",
    "import math as mth"
   ]
  },
  {
   "cell_type": "code",
   "execution_count": 2,
   "metadata": {},
   "outputs": [],
   "source": [
    "import warnings\n",
    "warnings.filterwarnings('ignore')"
   ]
  },
  {
   "cell_type": "markdown",
   "metadata": {},
   "source": [
    "### [Шаг 1.](#run) Загрузка данных, изучение общей информации и предобработка. <a id=\"step1\"></a>   \n",
    "</div>  "
   ]
  },
  {
   "cell_type": "markdown",
   "metadata": {},
   "source": [
    "Загрузим календарь маркетинговых событий на 2020 год по всем нужным регионам.\n",
    "#### Структура файла:\n",
    "    name — название маркетингового события;\n",
    "    regions — регионы, в которых будет проводиться рекламная кампания;\n",
    "    start_dt — дата начала кампании;\n",
    "    finish_dt — дата завершения кампании."
   ]
  },
  {
   "cell_type": "code",
   "execution_count": 3,
   "metadata": {},
   "outputs": [
    {
     "data": {
      "text/html": [
       "<div>\n",
       "<style scoped>\n",
       "    .dataframe tbody tr th:only-of-type {\n",
       "        vertical-align: middle;\n",
       "    }\n",
       "\n",
       "    .dataframe tbody tr th {\n",
       "        vertical-align: top;\n",
       "    }\n",
       "\n",
       "    .dataframe thead th {\n",
       "        text-align: right;\n",
       "    }\n",
       "</style>\n",
       "<table border=\"1\" class=\"dataframe\">\n",
       "  <thead>\n",
       "    <tr style=\"text-align: right;\">\n",
       "      <th></th>\n",
       "      <th>name</th>\n",
       "      <th>regions</th>\n",
       "      <th>start_dt</th>\n",
       "      <th>finish_dt</th>\n",
       "    </tr>\n",
       "  </thead>\n",
       "  <tbody>\n",
       "    <tr>\n",
       "      <td>0</td>\n",
       "      <td>Christmas&amp;New Year Promo</td>\n",
       "      <td>EU, N.America</td>\n",
       "      <td>2020-12-25</td>\n",
       "      <td>2021-01-03</td>\n",
       "    </tr>\n",
       "    <tr>\n",
       "      <td>1</td>\n",
       "      <td>St. Valentine's Day Giveaway</td>\n",
       "      <td>EU, CIS, APAC, N.America</td>\n",
       "      <td>2020-02-14</td>\n",
       "      <td>2020-02-16</td>\n",
       "    </tr>\n",
       "    <tr>\n",
       "      <td>2</td>\n",
       "      <td>St. Patric's Day Promo</td>\n",
       "      <td>EU, N.America</td>\n",
       "      <td>2020-03-17</td>\n",
       "      <td>2020-03-19</td>\n",
       "    </tr>\n",
       "    <tr>\n",
       "      <td>3</td>\n",
       "      <td>Easter Promo</td>\n",
       "      <td>EU, CIS, APAC, N.America</td>\n",
       "      <td>2020-04-12</td>\n",
       "      <td>2020-04-19</td>\n",
       "    </tr>\n",
       "    <tr>\n",
       "      <td>4</td>\n",
       "      <td>4th of July Promo</td>\n",
       "      <td>N.America</td>\n",
       "      <td>2020-07-04</td>\n",
       "      <td>2020-07-11</td>\n",
       "    </tr>\n",
       "    <tr>\n",
       "      <td>5</td>\n",
       "      <td>Black Friday Ads Campaign</td>\n",
       "      <td>EU, CIS, APAC, N.America</td>\n",
       "      <td>2020-11-26</td>\n",
       "      <td>2020-12-01</td>\n",
       "    </tr>\n",
       "    <tr>\n",
       "      <td>6</td>\n",
       "      <td>Chinese New Year Promo</td>\n",
       "      <td>APAC</td>\n",
       "      <td>2020-01-25</td>\n",
       "      <td>2020-02-07</td>\n",
       "    </tr>\n",
       "    <tr>\n",
       "      <td>7</td>\n",
       "      <td>Labor day (May 1st) Ads Campaign</td>\n",
       "      <td>EU, CIS, APAC</td>\n",
       "      <td>2020-05-01</td>\n",
       "      <td>2020-05-03</td>\n",
       "    </tr>\n",
       "    <tr>\n",
       "      <td>8</td>\n",
       "      <td>International Women's Day Promo</td>\n",
       "      <td>EU, CIS, APAC</td>\n",
       "      <td>2020-03-08</td>\n",
       "      <td>2020-03-10</td>\n",
       "    </tr>\n",
       "    <tr>\n",
       "      <td>9</td>\n",
       "      <td>Victory Day CIS (May 9th) Event</td>\n",
       "      <td>CIS</td>\n",
       "      <td>2020-05-09</td>\n",
       "      <td>2020-05-11</td>\n",
       "    </tr>\n",
       "    <tr>\n",
       "      <td>10</td>\n",
       "      <td>CIS New Year Gift Lottery</td>\n",
       "      <td>CIS</td>\n",
       "      <td>2020-12-30</td>\n",
       "      <td>2021-01-07</td>\n",
       "    </tr>\n",
       "    <tr>\n",
       "      <td>11</td>\n",
       "      <td>Dragon Boat Festival Giveaway</td>\n",
       "      <td>APAC</td>\n",
       "      <td>2020-06-25</td>\n",
       "      <td>2020-07-01</td>\n",
       "    </tr>\n",
       "    <tr>\n",
       "      <td>12</td>\n",
       "      <td>Single's Day Gift Promo</td>\n",
       "      <td>APAC</td>\n",
       "      <td>2020-11-11</td>\n",
       "      <td>2020-11-12</td>\n",
       "    </tr>\n",
       "    <tr>\n",
       "      <td>13</td>\n",
       "      <td>Chinese Moon Festival</td>\n",
       "      <td>APAC</td>\n",
       "      <td>2020-10-01</td>\n",
       "      <td>2020-10-07</td>\n",
       "    </tr>\n",
       "  </tbody>\n",
       "</table>\n",
       "</div>"
      ],
      "text/plain": [
       "                                name                   regions    start_dt  \\\n",
       "0           Christmas&New Year Promo             EU, N.America  2020-12-25   \n",
       "1       St. Valentine's Day Giveaway  EU, CIS, APAC, N.America  2020-02-14   \n",
       "2             St. Patric's Day Promo             EU, N.America  2020-03-17   \n",
       "3                       Easter Promo  EU, CIS, APAC, N.America  2020-04-12   \n",
       "4                  4th of July Promo                 N.America  2020-07-04   \n",
       "5          Black Friday Ads Campaign  EU, CIS, APAC, N.America  2020-11-26   \n",
       "6             Chinese New Year Promo                      APAC  2020-01-25   \n",
       "7   Labor day (May 1st) Ads Campaign             EU, CIS, APAC  2020-05-01   \n",
       "8    International Women's Day Promo             EU, CIS, APAC  2020-03-08   \n",
       "9    Victory Day CIS (May 9th) Event                       CIS  2020-05-09   \n",
       "10         CIS New Year Gift Lottery                       CIS  2020-12-30   \n",
       "11     Dragon Boat Festival Giveaway                      APAC  2020-06-25   \n",
       "12           Single's Day Gift Promo                      APAC  2020-11-11   \n",
       "13             Chinese Moon Festival                      APAC  2020-10-01   \n",
       "\n",
       "     finish_dt  \n",
       "0   2021-01-03  \n",
       "1   2020-02-16  \n",
       "2   2020-03-19  \n",
       "3   2020-04-19  \n",
       "4   2020-07-11  \n",
       "5   2020-12-01  \n",
       "6   2020-02-07  \n",
       "7   2020-05-03  \n",
       "8   2020-03-10  \n",
       "9   2020-05-11  \n",
       "10  2021-01-07  \n",
       "11  2020-07-01  \n",
       "12  2020-11-12  \n",
       "13  2020-10-07  "
      ]
     },
     "execution_count": 3,
     "metadata": {},
     "output_type": "execute_result"
    }
   ],
   "source": [
    "ab_project_marketing_events = pd.read_csv('/datasets/ab_project_marketing_events.csv')\n",
    "ab_project_marketing_events"
   ]
  },
  {
   "cell_type": "markdown",
   "metadata": {},
   "source": [
    "И сразу приведем данные с датой к нужному типу данных(to_datetime())."
   ]
  },
  {
   "cell_type": "code",
   "execution_count": 4,
   "metadata": {},
   "outputs": [],
   "source": [
    "ab_project_marketing_events['start_dt'] = pd.to_datetime(ab_project_marketing_events['start_dt'], format='%Y-%m-%d')\n",
    "ab_project_marketing_events['finish_dt'] = pd.to_datetime(ab_project_marketing_events['finish_dt'], format='%Y-%m-%d')"
   ]
  },
  {
   "cell_type": "markdown",
   "metadata": {},
   "source": [
    "Мы визуально видим, что эта таблица уже готова к дальнейшей работе."
   ]
  },
  {
   "cell_type": "markdown",
   "metadata": {},
   "source": [
    "Загрузим информацию о всех пользователях, зарегистрировавшихся в интернет-магазине в период с 7 по 21 декабря 2020 года.\n",
    "#### Структура файла:\n",
    "    user_id — идентификатор пользователя;\n",
    "    first_date — дата регистрации;\n",
    "    region — регион пользователя;\n",
    "    device — устройство, с которого происходила регистрация."
   ]
  },
  {
   "cell_type": "code",
   "execution_count": 5,
   "metadata": {},
   "outputs": [
    {
     "data": {
      "text/html": [
       "<div>\n",
       "<style scoped>\n",
       "    .dataframe tbody tr th:only-of-type {\n",
       "        vertical-align: middle;\n",
       "    }\n",
       "\n",
       "    .dataframe tbody tr th {\n",
       "        vertical-align: top;\n",
       "    }\n",
       "\n",
       "    .dataframe thead th {\n",
       "        text-align: right;\n",
       "    }\n",
       "</style>\n",
       "<table border=\"1\" class=\"dataframe\">\n",
       "  <thead>\n",
       "    <tr style=\"text-align: right;\">\n",
       "      <th></th>\n",
       "      <th>user_id</th>\n",
       "      <th>first_date</th>\n",
       "      <th>region</th>\n",
       "      <th>device</th>\n",
       "    </tr>\n",
       "  </thead>\n",
       "  <tbody>\n",
       "    <tr>\n",
       "      <td>0</td>\n",
       "      <td>D72A72121175D8BE</td>\n",
       "      <td>2020-12-07</td>\n",
       "      <td>EU</td>\n",
       "      <td>PC</td>\n",
       "    </tr>\n",
       "    <tr>\n",
       "      <td>1</td>\n",
       "      <td>F1C668619DFE6E65</td>\n",
       "      <td>2020-12-07</td>\n",
       "      <td>N.America</td>\n",
       "      <td>Android</td>\n",
       "    </tr>\n",
       "    <tr>\n",
       "      <td>2</td>\n",
       "      <td>2E1BF1D4C37EA01F</td>\n",
       "      <td>2020-12-07</td>\n",
       "      <td>EU</td>\n",
       "      <td>PC</td>\n",
       "    </tr>\n",
       "    <tr>\n",
       "      <td>3</td>\n",
       "      <td>50734A22C0C63768</td>\n",
       "      <td>2020-12-07</td>\n",
       "      <td>EU</td>\n",
       "      <td>iPhone</td>\n",
       "    </tr>\n",
       "    <tr>\n",
       "      <td>4</td>\n",
       "      <td>E1BDDCE0DAFA2679</td>\n",
       "      <td>2020-12-07</td>\n",
       "      <td>N.America</td>\n",
       "      <td>iPhone</td>\n",
       "    </tr>\n",
       "  </tbody>\n",
       "</table>\n",
       "</div>"
      ],
      "text/plain": [
       "            user_id  first_date     region   device\n",
       "0  D72A72121175D8BE  2020-12-07         EU       PC\n",
       "1  F1C668619DFE6E65  2020-12-07  N.America  Android\n",
       "2  2E1BF1D4C37EA01F  2020-12-07         EU       PC\n",
       "3  50734A22C0C63768  2020-12-07         EU   iPhone\n",
       "4  E1BDDCE0DAFA2679  2020-12-07  N.America   iPhone"
      ]
     },
     "execution_count": 5,
     "metadata": {},
     "output_type": "execute_result"
    }
   ],
   "source": [
    "final_ab_new_users = pd.read_csv('/datasets/final_ab_new_users.csv')\n",
    "final_ab_new_users.head()"
   ]
  },
  {
   "cell_type": "code",
   "execution_count": 6,
   "metadata": {},
   "outputs": [
    {
     "name": "stdout",
     "output_type": "stream",
     "text": [
      "<class 'pandas.core.frame.DataFrame'>\n",
      "RangeIndex: 61733 entries, 0 to 61732\n",
      "Data columns (total 4 columns):\n",
      "user_id       61733 non-null object\n",
      "first_date    61733 non-null object\n",
      "region        61733 non-null object\n",
      "device        61733 non-null object\n",
      "dtypes: object(4)\n",
      "memory usage: 1.9+ MB\n"
     ]
    }
   ],
   "source": [
    "final_ab_new_users.info()"
   ]
  },
  {
   "cell_type": "markdown",
   "metadata": {},
   "source": [
    "И преобразуем дату в нужный тип данных."
   ]
  },
  {
   "cell_type": "code",
   "execution_count": 7,
   "metadata": {},
   "outputs": [],
   "source": [
    "final_ab_new_users['first_date'] = pd.to_datetime(final_ab_new_users['first_date'], format='%Y-%m-%d')"
   ]
  },
  {
   "cell_type": "markdown",
   "metadata": {},
   "source": [
    "Мы видим, что в данной таблице нет пропусков, поэтому проверим ее только на дубликаты."
   ]
  },
  {
   "cell_type": "code",
   "execution_count": 8,
   "metadata": {},
   "outputs": [
    {
     "data": {
      "text/plain": [
       "0"
      ]
     },
     "execution_count": 8,
     "metadata": {},
     "output_type": "execute_result"
    }
   ],
   "source": [
    "final_ab_new_users.duplicated().sum()"
   ]
  },
  {
   "cell_type": "markdown",
   "metadata": {},
   "source": [
    "Дубликаты так же отсутсвуют. Таблица готова к дальнейшей работе."
   ]
  },
  {
   "cell_type": "markdown",
   "metadata": {},
   "source": [
    "Загрузим информацию о всех событиях новых пользователей в период с 7 декабря 2020 по 4 января 2021 года.\n",
    "#### Структура файла:\n",
    "    user_id — идентификатор пользователя;\n",
    "    event_dt — дата и время события;\n",
    "    event_name — тип события;\n",
    "    details — дополнительные данные о событии. Например, для покупок, purchase, в этом поле хранится стоимость покупки в долларах."
   ]
  },
  {
   "cell_type": "code",
   "execution_count": 9,
   "metadata": {},
   "outputs": [
    {
     "data": {
      "text/html": [
       "<div>\n",
       "<style scoped>\n",
       "    .dataframe tbody tr th:only-of-type {\n",
       "        vertical-align: middle;\n",
       "    }\n",
       "\n",
       "    .dataframe tbody tr th {\n",
       "        vertical-align: top;\n",
       "    }\n",
       "\n",
       "    .dataframe thead th {\n",
       "        text-align: right;\n",
       "    }\n",
       "</style>\n",
       "<table border=\"1\" class=\"dataframe\">\n",
       "  <thead>\n",
       "    <tr style=\"text-align: right;\">\n",
       "      <th></th>\n",
       "      <th>user_id</th>\n",
       "      <th>event_dt</th>\n",
       "      <th>event_name</th>\n",
       "      <th>details</th>\n",
       "    </tr>\n",
       "  </thead>\n",
       "  <tbody>\n",
       "    <tr>\n",
       "      <td>0</td>\n",
       "      <td>E1BDDCE0DAFA2679</td>\n",
       "      <td>2020-12-07 20:22:03</td>\n",
       "      <td>purchase</td>\n",
       "      <td>99.99</td>\n",
       "    </tr>\n",
       "    <tr>\n",
       "      <td>1</td>\n",
       "      <td>7B6452F081F49504</td>\n",
       "      <td>2020-12-07 09:22:53</td>\n",
       "      <td>purchase</td>\n",
       "      <td>9.99</td>\n",
       "    </tr>\n",
       "    <tr>\n",
       "      <td>2</td>\n",
       "      <td>9CD9F34546DF254C</td>\n",
       "      <td>2020-12-07 12:59:29</td>\n",
       "      <td>purchase</td>\n",
       "      <td>4.99</td>\n",
       "    </tr>\n",
       "    <tr>\n",
       "      <td>3</td>\n",
       "      <td>96F27A054B191457</td>\n",
       "      <td>2020-12-07 04:02:40</td>\n",
       "      <td>purchase</td>\n",
       "      <td>4.99</td>\n",
       "    </tr>\n",
       "    <tr>\n",
       "      <td>4</td>\n",
       "      <td>1FD7660FDF94CA1F</td>\n",
       "      <td>2020-12-07 10:15:09</td>\n",
       "      <td>purchase</td>\n",
       "      <td>4.99</td>\n",
       "    </tr>\n",
       "  </tbody>\n",
       "</table>\n",
       "</div>"
      ],
      "text/plain": [
       "            user_id             event_dt event_name  details\n",
       "0  E1BDDCE0DAFA2679  2020-12-07 20:22:03   purchase    99.99\n",
       "1  7B6452F081F49504  2020-12-07 09:22:53   purchase     9.99\n",
       "2  9CD9F34546DF254C  2020-12-07 12:59:29   purchase     4.99\n",
       "3  96F27A054B191457  2020-12-07 04:02:40   purchase     4.99\n",
       "4  1FD7660FDF94CA1F  2020-12-07 10:15:09   purchase     4.99"
      ]
     },
     "execution_count": 9,
     "metadata": {},
     "output_type": "execute_result"
    }
   ],
   "source": [
    "final_ab_events = pd.read_csv('/datasets/final_ab_events.csv')\n",
    "final_ab_events.head()"
   ]
  },
  {
   "cell_type": "code",
   "execution_count": 10,
   "metadata": {},
   "outputs": [
    {
     "name": "stdout",
     "output_type": "stream",
     "text": [
      "<class 'pandas.core.frame.DataFrame'>\n",
      "RangeIndex: 440317 entries, 0 to 440316\n",
      "Data columns (total 4 columns):\n",
      "user_id       440317 non-null object\n",
      "event_dt      440317 non-null object\n",
      "event_name    440317 non-null object\n",
      "details       62740 non-null float64\n",
      "dtypes: float64(1), object(3)\n",
      "memory usage: 13.4+ MB\n"
     ]
    }
   ],
   "source": [
    "final_ab_events.info()"
   ]
  },
  {
   "cell_type": "markdown",
   "metadata": {},
   "source": [
    "И преобразуем дату в нужный тип данных."
   ]
  },
  {
   "cell_type": "code",
   "execution_count": 11,
   "metadata": {},
   "outputs": [],
   "source": [
    "final_ab_events['event_dt'] = pd.to_datetime(final_ab_events['event_dt'], format='%Y-%m-%d %H:%M:%S')\n",
    "final_ab_events['event_date'] = final_ab_events['event_dt'].dt.strftime('%Y-%m-%d')"
   ]
  },
  {
   "cell_type": "markdown",
   "metadata": {},
   "source": [
    "Проверим на дубликаты."
   ]
  },
  {
   "cell_type": "code",
   "execution_count": 12,
   "metadata": {},
   "outputs": [
    {
     "data": {
      "text/plain": [
       "0"
      ]
     },
     "execution_count": 12,
     "metadata": {},
     "output_type": "execute_result"
    }
   ],
   "source": [
    "final_ab_events.duplicated().sum()"
   ]
  },
  {
   "cell_type": "markdown",
   "metadata": {},
   "source": [
    "Дубликатов нет. Колонка details заполнена только для события типа purchase и там содержится информация о стоимости, а остальные значения в этом столбце не нужны."
   ]
  },
  {
   "cell_type": "markdown",
   "metadata": {},
   "source": [
    "Загрузим информацию об участниках тестов.\n",
    "#### Структура файла:\n",
    "    user_id — идентификатор пользователя;\n",
    "    ab_test — название теста;\n",
    "    group — группа пользователя."
   ]
  },
  {
   "cell_type": "code",
   "execution_count": 13,
   "metadata": {},
   "outputs": [
    {
     "data": {
      "text/html": [
       "<div>\n",
       "<style scoped>\n",
       "    .dataframe tbody tr th:only-of-type {\n",
       "        vertical-align: middle;\n",
       "    }\n",
       "\n",
       "    .dataframe tbody tr th {\n",
       "        vertical-align: top;\n",
       "    }\n",
       "\n",
       "    .dataframe thead th {\n",
       "        text-align: right;\n",
       "    }\n",
       "</style>\n",
       "<table border=\"1\" class=\"dataframe\">\n",
       "  <thead>\n",
       "    <tr style=\"text-align: right;\">\n",
       "      <th></th>\n",
       "      <th>user_id</th>\n",
       "      <th>group</th>\n",
       "      <th>ab_test</th>\n",
       "    </tr>\n",
       "  </thead>\n",
       "  <tbody>\n",
       "    <tr>\n",
       "      <td>0</td>\n",
       "      <td>D1ABA3E2887B6A73</td>\n",
       "      <td>A</td>\n",
       "      <td>recommender_system_test</td>\n",
       "    </tr>\n",
       "    <tr>\n",
       "      <td>1</td>\n",
       "      <td>A7A3664BD6242119</td>\n",
       "      <td>A</td>\n",
       "      <td>recommender_system_test</td>\n",
       "    </tr>\n",
       "    <tr>\n",
       "      <td>2</td>\n",
       "      <td>DABC14FDDFADD29E</td>\n",
       "      <td>A</td>\n",
       "      <td>recommender_system_test</td>\n",
       "    </tr>\n",
       "    <tr>\n",
       "      <td>3</td>\n",
       "      <td>04988C5DF189632E</td>\n",
       "      <td>A</td>\n",
       "      <td>recommender_system_test</td>\n",
       "    </tr>\n",
       "    <tr>\n",
       "      <td>4</td>\n",
       "      <td>482F14783456D21B</td>\n",
       "      <td>B</td>\n",
       "      <td>recommender_system_test</td>\n",
       "    </tr>\n",
       "  </tbody>\n",
       "</table>\n",
       "</div>"
      ],
      "text/plain": [
       "            user_id group                  ab_test\n",
       "0  D1ABA3E2887B6A73     A  recommender_system_test\n",
       "1  A7A3664BD6242119     A  recommender_system_test\n",
       "2  DABC14FDDFADD29E     A  recommender_system_test\n",
       "3  04988C5DF189632E     A  recommender_system_test\n",
       "4  482F14783456D21B     B  recommender_system_test"
      ]
     },
     "execution_count": 13,
     "metadata": {},
     "output_type": "execute_result"
    }
   ],
   "source": [
    "final_ab_participants = pd.read_csv('/datasets/final_ab_participants.csv')\n",
    "final_ab_participants.head()"
   ]
  },
  {
   "cell_type": "code",
   "execution_count": 14,
   "metadata": {},
   "outputs": [
    {
     "name": "stdout",
     "output_type": "stream",
     "text": [
      "<class 'pandas.core.frame.DataFrame'>\n",
      "RangeIndex: 18268 entries, 0 to 18267\n",
      "Data columns (total 3 columns):\n",
      "user_id    18268 non-null object\n",
      "group      18268 non-null object\n",
      "ab_test    18268 non-null object\n",
      "dtypes: object(3)\n",
      "memory usage: 428.3+ KB\n"
     ]
    }
   ],
   "source": [
    "final_ab_participants.info()"
   ]
  },
  {
   "cell_type": "code",
   "execution_count": 15,
   "metadata": {},
   "outputs": [
    {
     "data": {
      "text/plain": [
       "0"
      ]
     },
     "execution_count": 15,
     "metadata": {},
     "output_type": "execute_result"
    }
   ],
   "source": [
    "final_ab_participants.duplicated().sum()"
   ]
  },
  {
   "cell_type": "markdown",
   "metadata": {},
   "source": [
    "В таблице с участниками АВ-теста нет дубликатов. \n",
    "Предобработка данных закончена можно приступать к исследовательскому анализу данных."
   ]
  },
  {
   "cell_type": "markdown",
   "metadata": {},
   "source": [
    "Создадим объединенную таблицу с информацией о всех новых пользователях, зарегистрированных в промежуток, когда работал тест."
   ]
  },
  {
   "cell_type": "code",
   "execution_count": 16,
   "metadata": {},
   "outputs": [
    {
     "data": {
      "text/html": [
       "<div>\n",
       "<style scoped>\n",
       "    .dataframe tbody tr th:only-of-type {\n",
       "        vertical-align: middle;\n",
       "    }\n",
       "\n",
       "    .dataframe tbody tr th {\n",
       "        vertical-align: top;\n",
       "    }\n",
       "\n",
       "    .dataframe thead th {\n",
       "        text-align: right;\n",
       "    }\n",
       "</style>\n",
       "<table border=\"1\" class=\"dataframe\">\n",
       "  <thead>\n",
       "    <tr style=\"text-align: right;\">\n",
       "      <th></th>\n",
       "      <th>user_id</th>\n",
       "      <th>event_dt</th>\n",
       "      <th>event_name</th>\n",
       "      <th>details</th>\n",
       "      <th>event_date</th>\n",
       "      <th>first_date</th>\n",
       "      <th>region</th>\n",
       "      <th>device</th>\n",
       "      <th>group</th>\n",
       "      <th>ab_test</th>\n",
       "    </tr>\n",
       "  </thead>\n",
       "  <tbody>\n",
       "    <tr>\n",
       "      <td>0</td>\n",
       "      <td>E1BDDCE0DAFA2679</td>\n",
       "      <td>2020-12-07 20:22:03</td>\n",
       "      <td>purchase</td>\n",
       "      <td>99.99</td>\n",
       "      <td>2020-12-07</td>\n",
       "      <td>2020-12-07</td>\n",
       "      <td>N.America</td>\n",
       "      <td>iPhone</td>\n",
       "      <td>NaN</td>\n",
       "      <td>NaN</td>\n",
       "    </tr>\n",
       "    <tr>\n",
       "      <td>1</td>\n",
       "      <td>7B6452F081F49504</td>\n",
       "      <td>2020-12-07 09:22:53</td>\n",
       "      <td>purchase</td>\n",
       "      <td>9.99</td>\n",
       "      <td>2020-12-07</td>\n",
       "      <td>2020-12-07</td>\n",
       "      <td>EU</td>\n",
       "      <td>iPhone</td>\n",
       "      <td>NaN</td>\n",
       "      <td>NaN</td>\n",
       "    </tr>\n",
       "    <tr>\n",
       "      <td>2</td>\n",
       "      <td>9CD9F34546DF254C</td>\n",
       "      <td>2020-12-07 12:59:29</td>\n",
       "      <td>purchase</td>\n",
       "      <td>4.99</td>\n",
       "      <td>2020-12-07</td>\n",
       "      <td>2020-12-07</td>\n",
       "      <td>N.America</td>\n",
       "      <td>iPhone</td>\n",
       "      <td>NaN</td>\n",
       "      <td>NaN</td>\n",
       "    </tr>\n",
       "    <tr>\n",
       "      <td>3</td>\n",
       "      <td>96F27A054B191457</td>\n",
       "      <td>2020-12-07 04:02:40</td>\n",
       "      <td>purchase</td>\n",
       "      <td>4.99</td>\n",
       "      <td>2020-12-07</td>\n",
       "      <td>2020-12-07</td>\n",
       "      <td>EU</td>\n",
       "      <td>iPhone</td>\n",
       "      <td>B</td>\n",
       "      <td>interface_eu_test</td>\n",
       "    </tr>\n",
       "    <tr>\n",
       "      <td>4</td>\n",
       "      <td>1FD7660FDF94CA1F</td>\n",
       "      <td>2020-12-07 10:15:09</td>\n",
       "      <td>purchase</td>\n",
       "      <td>4.99</td>\n",
       "      <td>2020-12-07</td>\n",
       "      <td>2020-12-07</td>\n",
       "      <td>EU</td>\n",
       "      <td>Android</td>\n",
       "      <td>NaN</td>\n",
       "      <td>NaN</td>\n",
       "    </tr>\n",
       "  </tbody>\n",
       "</table>\n",
       "</div>"
      ],
      "text/plain": [
       "            user_id            event_dt event_name  details  event_date  \\\n",
       "0  E1BDDCE0DAFA2679 2020-12-07 20:22:03   purchase    99.99  2020-12-07   \n",
       "1  7B6452F081F49504 2020-12-07 09:22:53   purchase     9.99  2020-12-07   \n",
       "2  9CD9F34546DF254C 2020-12-07 12:59:29   purchase     4.99  2020-12-07   \n",
       "3  96F27A054B191457 2020-12-07 04:02:40   purchase     4.99  2020-12-07   \n",
       "4  1FD7660FDF94CA1F 2020-12-07 10:15:09   purchase     4.99  2020-12-07   \n",
       "\n",
       "  first_date     region   device group            ab_test  \n",
       "0 2020-12-07  N.America   iPhone   NaN                NaN  \n",
       "1 2020-12-07         EU   iPhone   NaN                NaN  \n",
       "2 2020-12-07  N.America   iPhone   NaN                NaN  \n",
       "3 2020-12-07         EU   iPhone     B  interface_eu_test  \n",
       "4 2020-12-07         EU  Android   NaN                NaN  "
      ]
     },
     "execution_count": 16,
     "metadata": {},
     "output_type": "execute_result"
    }
   ],
   "source": [
    "users = final_ab_events.merge(final_ab_new_users, on='user_id', how='left')\n",
    "users = users.merge(final_ab_participants, on='user_id', how='left')\n",
    "users.head()"
   ]
  },
  {
   "cell_type": "code",
   "execution_count": 17,
   "metadata": {},
   "outputs": [
    {
     "name": "stdout",
     "output_type": "stream",
     "text": [
      "<class 'pandas.core.frame.DataFrame'>\n",
      "Int64Index: 446211 entries, 0 to 446210\n",
      "Data columns (total 10 columns):\n",
      "user_id       446211 non-null object\n",
      "event_dt      446211 non-null datetime64[ns]\n",
      "event_name    446211 non-null object\n",
      "details       63588 non-null float64\n",
      "event_date    446211 non-null object\n",
      "first_date    446211 non-null datetime64[ns]\n",
      "region        446211 non-null object\n",
      "device        446211 non-null object\n",
      "group         106625 non-null object\n",
      "ab_test       106625 non-null object\n",
      "dtypes: datetime64[ns](2), float64(1), object(7)\n",
      "memory usage: 37.4+ MB\n"
     ]
    }
   ],
   "source": [
    "users.info()"
   ]
  },
  {
   "cell_type": "markdown",
   "metadata": {},
   "source": [
    "Посмотрим появились ли дубликаты в объединенной таблице."
   ]
  },
  {
   "cell_type": "code",
   "execution_count": 18,
   "metadata": {},
   "outputs": [
    {
     "data": {
      "text/plain": [
       "0"
      ]
     },
     "execution_count": 18,
     "metadata": {},
     "output_type": "execute_result"
    }
   ],
   "source": [
    "users.duplicated().sum()"
   ]
  },
  {
   "cell_type": "markdown",
   "metadata": {},
   "source": [
    "Мы видим, что действий пользователей, зарегистрировавшихся в необходимый нам период было 440317. После того, как мы объединили таблицы с информацией о действиях новых пользователях и тестировании получилось информации о 446211 пользователях.\n",
    "\n",
    "Исходя из этого, можно сделать несколько выводов:\n",
    "-  В исходных данных содержится информация примерно о 6000 событий, тех пользователей, которые пришли раньше, чем выбранный нами промежуток для новых пользователей;\n",
    "- Из 446211 действий только 106625 действий относятся к необходимым нам тестам."
   ]
  },
  {
   "cell_type": "markdown",
   "metadata": {},
   "source": [
    "### [Шаг 2.](#run) Исследовательский анализ данных. <a id=\"step2\"></a>   \n",
    "</div> "
   ]
  },
  {
   "cell_type": "markdown",
   "metadata": {},
   "source": [
    "#### Проведем анализ конверсии воронки на разных этапах."
   ]
  },
  {
   "cell_type": "markdown",
   "metadata": {},
   "source": [
    "Создадим отдельный датафрейм с интересующим нас тестом, а затем поделим на выборки по группам."
   ]
  },
  {
   "cell_type": "code",
   "execution_count": 19,
   "metadata": {},
   "outputs": [
    {
     "data": {
      "text/html": [
       "<div>\n",
       "<style scoped>\n",
       "    .dataframe tbody tr th:only-of-type {\n",
       "        vertical-align: middle;\n",
       "    }\n",
       "\n",
       "    .dataframe tbody tr th {\n",
       "        vertical-align: top;\n",
       "    }\n",
       "\n",
       "    .dataframe thead th {\n",
       "        text-align: right;\n",
       "    }\n",
       "</style>\n",
       "<table border=\"1\" class=\"dataframe\">\n",
       "  <thead>\n",
       "    <tr style=\"text-align: right;\">\n",
       "      <th></th>\n",
       "      <th>user_id</th>\n",
       "      <th>event_dt</th>\n",
       "      <th>event_name</th>\n",
       "      <th>details</th>\n",
       "      <th>event_date</th>\n",
       "      <th>first_date</th>\n",
       "      <th>region</th>\n",
       "      <th>device</th>\n",
       "      <th>group</th>\n",
       "      <th>ab_test</th>\n",
       "    </tr>\n",
       "  </thead>\n",
       "  <tbody>\n",
       "    <tr>\n",
       "      <td>5</td>\n",
       "      <td>831887FE7F2D6CBA</td>\n",
       "      <td>2020-12-07 06:50:29</td>\n",
       "      <td>purchase</td>\n",
       "      <td>4.99</td>\n",
       "      <td>2020-12-07</td>\n",
       "      <td>2020-12-07</td>\n",
       "      <td>EU</td>\n",
       "      <td>Android</td>\n",
       "      <td>A</td>\n",
       "      <td>recommender_system_test</td>\n",
       "    </tr>\n",
       "    <tr>\n",
       "      <td>17</td>\n",
       "      <td>3C5DD0288AC4FE23</td>\n",
       "      <td>2020-12-07 19:42:40</td>\n",
       "      <td>purchase</td>\n",
       "      <td>4.99</td>\n",
       "      <td>2020-12-07</td>\n",
       "      <td>2020-12-07</td>\n",
       "      <td>EU</td>\n",
       "      <td>PC</td>\n",
       "      <td>A</td>\n",
       "      <td>recommender_system_test</td>\n",
       "    </tr>\n",
       "    <tr>\n",
       "      <td>58</td>\n",
       "      <td>49EA242586C87836</td>\n",
       "      <td>2020-12-07 06:31:24</td>\n",
       "      <td>purchase</td>\n",
       "      <td>99.99</td>\n",
       "      <td>2020-12-07</td>\n",
       "      <td>2020-12-07</td>\n",
       "      <td>EU</td>\n",
       "      <td>iPhone</td>\n",
       "      <td>B</td>\n",
       "      <td>recommender_system_test</td>\n",
       "    </tr>\n",
       "    <tr>\n",
       "      <td>71</td>\n",
       "      <td>2B06EB547B7AAD08</td>\n",
       "      <td>2020-12-07 21:36:38</td>\n",
       "      <td>purchase</td>\n",
       "      <td>4.99</td>\n",
       "      <td>2020-12-07</td>\n",
       "      <td>2020-12-07</td>\n",
       "      <td>EU</td>\n",
       "      <td>PC</td>\n",
       "      <td>A</td>\n",
       "      <td>recommender_system_test</td>\n",
       "    </tr>\n",
       "    <tr>\n",
       "      <td>75</td>\n",
       "      <td>A640F31CAC7823A6</td>\n",
       "      <td>2020-12-07 18:48:26</td>\n",
       "      <td>purchase</td>\n",
       "      <td>4.99</td>\n",
       "      <td>2020-12-07</td>\n",
       "      <td>2020-12-07</td>\n",
       "      <td>EU</td>\n",
       "      <td>PC</td>\n",
       "      <td>B</td>\n",
       "      <td>recommender_system_test</td>\n",
       "    </tr>\n",
       "  </tbody>\n",
       "</table>\n",
       "</div>"
      ],
      "text/plain": [
       "             user_id            event_dt event_name  details  event_date  \\\n",
       "5   831887FE7F2D6CBA 2020-12-07 06:50:29   purchase     4.99  2020-12-07   \n",
       "17  3C5DD0288AC4FE23 2020-12-07 19:42:40   purchase     4.99  2020-12-07   \n",
       "58  49EA242586C87836 2020-12-07 06:31:24   purchase    99.99  2020-12-07   \n",
       "71  2B06EB547B7AAD08 2020-12-07 21:36:38   purchase     4.99  2020-12-07   \n",
       "75  A640F31CAC7823A6 2020-12-07 18:48:26   purchase     4.99  2020-12-07   \n",
       "\n",
       "   first_date region   device group                  ab_test  \n",
       "5  2020-12-07     EU  Android     A  recommender_system_test  \n",
       "17 2020-12-07     EU       PC     A  recommender_system_test  \n",
       "58 2020-12-07     EU   iPhone     B  recommender_system_test  \n",
       "71 2020-12-07     EU       PC     A  recommender_system_test  \n",
       "75 2020-12-07     EU       PC     B  recommender_system_test  "
      ]
     },
     "execution_count": 19,
     "metadata": {},
     "output_type": "execute_result"
    }
   ],
   "source": [
    "ab_test = users.query('ab_test == \"recommender_system_test\"')\n",
    "ab_test_A = ab_test.query('group == \"A\"')\n",
    "ab_test_B = ab_test.query('group == \"B\"')\n",
    "ab_test.head()"
   ]
  },
  {
   "cell_type": "markdown",
   "metadata": {},
   "source": [
    "Посмотрим сколько всего уникальных пользователей у нас присутствует в тестах."
   ]
  },
  {
   "cell_type": "code",
   "execution_count": 20,
   "metadata": {},
   "outputs": [
    {
     "name": "stdout",
     "output_type": "stream",
     "text": [
      "2747\n",
      "928\n"
     ]
    }
   ],
   "source": [
    "unique_usersA = ab_test_A['user_id'].nunique()\n",
    "print(unique_usersA)\n",
    "unique_usersB = ab_test_B['user_id'].nunique()\n",
    "print(unique_usersB)"
   ]
  },
  {
   "cell_type": "markdown",
   "metadata": {},
   "source": [
    "По разделению выборки составили соотношение 1 к 3."
   ]
  },
  {
   "cell_type": "markdown",
   "metadata": {},
   "source": [
    "И сколько всего уникальных пользователей приняло участие в тестировании."
   ]
  },
  {
   "cell_type": "code",
   "execution_count": 21,
   "metadata": {},
   "outputs": [
    {
     "data": {
      "text/plain": [
       "3675"
      ]
     },
     "execution_count": 21,
     "metadata": {},
     "output_type": "execute_result"
    }
   ],
   "source": [
    "unique_users = ab_test['user_id'].nunique()\n",
    "unique_users"
   ]
  },
  {
   "cell_type": "markdown",
   "metadata": {},
   "source": [
    "В техническом задании было написано, что ожидаемых участников тестирования 6000. А значит произошел недобор."
   ]
  },
  {
   "cell_type": "markdown",
   "metadata": {},
   "source": [
    "Создадим таблицу, в которой будет информация о количестве всех пользователей теста, уникальных пользователей и какую долю от всего количества уникальных пользователей занимают уникальные пользователи на каждом этапе для каждой группы."
   ]
  },
  {
   "cell_type": "code",
   "execution_count": 22,
   "metadata": {},
   "outputs": [
    {
     "data": {
      "text/html": [
       "<div>\n",
       "<style scoped>\n",
       "    .dataframe tbody tr th:only-of-type {\n",
       "        vertical-align: middle;\n",
       "    }\n",
       "\n",
       "    .dataframe tbody tr th {\n",
       "        vertical-align: top;\n",
       "    }\n",
       "\n",
       "    .dataframe thead th {\n",
       "        text-align: right;\n",
       "    }\n",
       "</style>\n",
       "<table border=\"1\" class=\"dataframe\">\n",
       "  <thead>\n",
       "    <tr style=\"text-align: right;\">\n",
       "      <th></th>\n",
       "      <th>event_name</th>\n",
       "      <th>count_usersA</th>\n",
       "      <th>unique_usersA</th>\n",
       "      <th>part_A</th>\n",
       "      <th>count_usersB</th>\n",
       "      <th>unique_usersB</th>\n",
       "      <th>part_B</th>\n",
       "    </tr>\n",
       "  </thead>\n",
       "  <tbody>\n",
       "    <tr>\n",
       "      <td>0</td>\n",
       "      <td>login</td>\n",
       "      <td>8566</td>\n",
       "      <td>2747</td>\n",
       "      <td>1.000000</td>\n",
       "      <td>2624</td>\n",
       "      <td>928</td>\n",
       "      <td>1.000000</td>\n",
       "    </tr>\n",
       "    <tr>\n",
       "      <td>1</td>\n",
       "      <td>product_page</td>\n",
       "      <td>5525</td>\n",
       "      <td>1780</td>\n",
       "      <td>0.647980</td>\n",
       "      <td>1405</td>\n",
       "      <td>523</td>\n",
       "      <td>0.563578</td>\n",
       "    </tr>\n",
       "    <tr>\n",
       "      <td>2</td>\n",
       "      <td>purchase</td>\n",
       "      <td>2655</td>\n",
       "      <td>872</td>\n",
       "      <td>0.317437</td>\n",
       "      <td>676</td>\n",
       "      <td>256</td>\n",
       "      <td>0.275862</td>\n",
       "    </tr>\n",
       "    <tr>\n",
       "      <td>3</td>\n",
       "      <td>product_cart</td>\n",
       "      <td>2558</td>\n",
       "      <td>824</td>\n",
       "      <td>0.299964</td>\n",
       "      <td>689</td>\n",
       "      <td>255</td>\n",
       "      <td>0.274784</td>\n",
       "    </tr>\n",
       "  </tbody>\n",
       "</table>\n",
       "</div>"
      ],
      "text/plain": [
       "     event_name  count_usersA  unique_usersA    part_A  count_usersB  \\\n",
       "0         login          8566           2747  1.000000          2624   \n",
       "1  product_page          5525           1780  0.647980          1405   \n",
       "2      purchase          2655            872  0.317437           676   \n",
       "3  product_cart          2558            824  0.299964           689   \n",
       "\n",
       "   unique_usersB    part_B  \n",
       "0            928  1.000000  \n",
       "1            523  0.563578  \n",
       "2            256  0.275862  \n",
       "3            255  0.274784  "
      ]
     },
     "execution_count": 22,
     "metadata": {},
     "output_type": "execute_result"
    }
   ],
   "source": [
    "A_funnel = ab_test_A.groupby('event_name').agg({'user_id' : 'count'}).sort_values(by='user_id', ascending=False).reset_index()\n",
    "A_funnel2 = ab_test_A.groupby('event_name').agg({'user_id' : 'nunique'}).sort_values(by='user_id', ascending=False).reset_index()\n",
    "A_funnel = A_funnel.merge(A_funnel2, on='event_name', how='left')\n",
    "A_funnel.columns = ['event_name', 'count_usersA', 'unique_usersA']\n",
    "A_funnel['part_A'] = A_funnel['unique_usersA'] / unique_usersA\n",
    "B_funnel = ab_test_B.groupby('event_name').agg({'user_id' : 'count'}).sort_values(by='user_id', ascending=False).reset_index()\n",
    "B_funnel2 = ab_test_B.groupby('event_name').agg({'user_id' : 'nunique'}).sort_values(by='user_id', ascending=False).reset_index()\n",
    "B_funnel = B_funnel.merge(B_funnel2, on='event_name', how='left')\n",
    "B_funnel.columns = ['event_name', 'count_usersB', 'unique_usersB']\n",
    "B_funnel['part_B'] = B_funnel['unique_usersB'] / unique_usersB\n",
    "funnel = A_funnel.merge(B_funnel, on='event_name', how='left')\n",
    "funnel"
   ]
  },
  {
   "cell_type": "markdown",
   "metadata": {},
   "source": [
    "Добавим столбцы с конверсией."
   ]
  },
  {
   "cell_type": "code",
   "execution_count": 23,
   "metadata": {},
   "outputs": [],
   "source": [
    "funnel2 = funnel.copy(deep=True)\n",
    "funnel2['unique_usersA2'] = funnel2['unique_usersA'].shift()\n",
    "funnel2['unique_usersB2'] = funnel2['unique_usersB'].shift()"
   ]
  },
  {
   "cell_type": "code",
   "execution_count": 24,
   "metadata": {},
   "outputs": [],
   "source": [
    "funnel2['convA'] = funnel2['unique_usersA'] / funnel2['unique_usersA2']\n",
    "funnel2['convB'] = funnel2['unique_usersB'] / funnel2['unique_usersB2']\n",
    "funnel2 = funnel2.fillna(1)"
   ]
  },
  {
   "cell_type": "code",
   "execution_count": 25,
   "metadata": {},
   "outputs": [
    {
     "data": {
      "text/html": [
       "<div>\n",
       "<style scoped>\n",
       "    .dataframe tbody tr th:only-of-type {\n",
       "        vertical-align: middle;\n",
       "    }\n",
       "\n",
       "    .dataframe tbody tr th {\n",
       "        vertical-align: top;\n",
       "    }\n",
       "\n",
       "    .dataframe thead th {\n",
       "        text-align: right;\n",
       "    }\n",
       "</style>\n",
       "<table border=\"1\" class=\"dataframe\">\n",
       "  <thead>\n",
       "    <tr style=\"text-align: right;\">\n",
       "      <th></th>\n",
       "      <th>event_name</th>\n",
       "      <th>count_usersA</th>\n",
       "      <th>unique_usersA</th>\n",
       "      <th>part_A</th>\n",
       "      <th>count_usersB</th>\n",
       "      <th>unique_usersB</th>\n",
       "      <th>part_B</th>\n",
       "      <th>convA</th>\n",
       "      <th>convB</th>\n",
       "    </tr>\n",
       "  </thead>\n",
       "  <tbody>\n",
       "    <tr>\n",
       "      <td>0</td>\n",
       "      <td>login</td>\n",
       "      <td>8566</td>\n",
       "      <td>2747</td>\n",
       "      <td>1.000000</td>\n",
       "      <td>2624</td>\n",
       "      <td>928</td>\n",
       "      <td>1.000000</td>\n",
       "      <td>1.000000</td>\n",
       "      <td>1.000000</td>\n",
       "    </tr>\n",
       "    <tr>\n",
       "      <td>1</td>\n",
       "      <td>product_page</td>\n",
       "      <td>5525</td>\n",
       "      <td>1780</td>\n",
       "      <td>0.647980</td>\n",
       "      <td>1405</td>\n",
       "      <td>523</td>\n",
       "      <td>0.563578</td>\n",
       "      <td>0.647980</td>\n",
       "      <td>0.563578</td>\n",
       "    </tr>\n",
       "    <tr>\n",
       "      <td>2</td>\n",
       "      <td>purchase</td>\n",
       "      <td>2655</td>\n",
       "      <td>872</td>\n",
       "      <td>0.317437</td>\n",
       "      <td>676</td>\n",
       "      <td>256</td>\n",
       "      <td>0.275862</td>\n",
       "      <td>0.489888</td>\n",
       "      <td>0.489484</td>\n",
       "    </tr>\n",
       "    <tr>\n",
       "      <td>3</td>\n",
       "      <td>product_cart</td>\n",
       "      <td>2558</td>\n",
       "      <td>824</td>\n",
       "      <td>0.299964</td>\n",
       "      <td>689</td>\n",
       "      <td>255</td>\n",
       "      <td>0.274784</td>\n",
       "      <td>0.944954</td>\n",
       "      <td>0.996094</td>\n",
       "    </tr>\n",
       "  </tbody>\n",
       "</table>\n",
       "</div>"
      ],
      "text/plain": [
       "     event_name  count_usersA  unique_usersA    part_A  count_usersB  \\\n",
       "0         login          8566           2747  1.000000          2624   \n",
       "1  product_page          5525           1780  0.647980          1405   \n",
       "2      purchase          2655            872  0.317437           676   \n",
       "3  product_cart          2558            824  0.299964           689   \n",
       "\n",
       "   unique_usersB    part_B     convA     convB  \n",
       "0            928  1.000000  1.000000  1.000000  \n",
       "1            523  0.563578  0.647980  0.563578  \n",
       "2            256  0.275862  0.489888  0.489484  \n",
       "3            255  0.274784  0.944954  0.996094  "
      ]
     },
     "execution_count": 25,
     "metadata": {},
     "output_type": "execute_result"
    }
   ],
   "source": [
    "funnel['convA'] = funnel2['convA']\n",
    "funnel['convB'] = funnel2['convB']\n",
    "funnel"
   ]
  },
  {
   "cell_type": "markdown",
   "metadata": {},
   "source": [
    "Мы видим, что доля пользователей, которая проходит на следующий этап выше в контрольной группе А, чем в экспериментальной группе В."
   ]
  },
  {
   "cell_type": "markdown",
   "metadata": {},
   "source": [
    "#### Обладают ли выборки одинаковыми распределениями количества событий на пользователя?"
   ]
  },
  {
   "cell_type": "markdown",
   "metadata": {},
   "source": [
    "Посмотрим по каждой выборке, сколько в среднем приходится событий на одного пользователя."
   ]
  },
  {
   "cell_type": "code",
   "execution_count": 26,
   "metadata": {},
   "outputs": [
    {
     "data": {
      "text/plain": [
       "7.027302511831088"
      ]
     },
     "execution_count": 26,
     "metadata": {},
     "output_type": "execute_result"
    }
   ],
   "source": [
    "event_per_userA = ab_test_A.groupby('user_id').agg({'event_name' : 'count'}).sort_values(by='user_id', ascending=False).reset_index()\n",
    "event_per_userA['event_name'].mean()"
   ]
  },
  {
   "cell_type": "code",
   "execution_count": 27,
   "metadata": {},
   "outputs": [
    {
     "data": {
      "text/plain": [
       "5.8125"
      ]
     },
     "execution_count": 27,
     "metadata": {},
     "output_type": "execute_result"
    }
   ],
   "source": [
    "event_per_userB = ab_test_B.groupby('user_id').agg({'event_name' : 'count'}).sort_values(by='user_id', ascending=False).reset_index()\n",
    "event_per_userB['event_name'].mean()"
   ]
  },
  {
   "cell_type": "markdown",
   "metadata": {},
   "source": [
    "Мы видим, что в контрольной группе на одного пользователя приходится в среднем на 1,2 действия больше, чем в экспериментальной. Это может быть связано с тем, что в контрольно в три раза больше выборка и из-за этого может быть больше выбросов."
   ]
  },
  {
   "cell_type": "markdown",
   "metadata": {},
   "source": [
    "#### Присутствуют ли в выборках одни и те же пользователи?"
   ]
  },
  {
   "cell_type": "markdown",
   "metadata": {},
   "source": [
    "Создадим отдельный дф, в котором будут только id пользователей. Необходимо будет сравнить два столбца на предмет совпадений."
   ]
  },
  {
   "cell_type": "code",
   "execution_count": 28,
   "metadata": {},
   "outputs": [
    {
     "data": {
      "text/html": [
       "<div>\n",
       "<style scoped>\n",
       "    .dataframe tbody tr th:only-of-type {\n",
       "        vertical-align: middle;\n",
       "    }\n",
       "\n",
       "    .dataframe tbody tr th {\n",
       "        vertical-align: top;\n",
       "    }\n",
       "\n",
       "    .dataframe thead th {\n",
       "        text-align: right;\n",
       "    }\n",
       "</style>\n",
       "<table border=\"1\" class=\"dataframe\">\n",
       "  <thead>\n",
       "    <tr style=\"text-align: right;\">\n",
       "      <th></th>\n",
       "      <th>user_id_A</th>\n",
       "      <th>user_id_B</th>\n",
       "    </tr>\n",
       "  </thead>\n",
       "  <tbody>\n",
       "    <tr>\n",
       "      <td>0</td>\n",
       "      <td>FFAE9489C76F352B</td>\n",
       "      <td>FFF28D02B1EACBE1</td>\n",
       "    </tr>\n",
       "    <tr>\n",
       "      <td>1</td>\n",
       "      <td>FF825C1D791989B5</td>\n",
       "      <td>FF8CF7057415EB29</td>\n",
       "    </tr>\n",
       "    <tr>\n",
       "      <td>2</td>\n",
       "      <td>FF5B24BCE4387F86</td>\n",
       "      <td>FEA0C585A53E7027</td>\n",
       "    </tr>\n",
       "    <tr>\n",
       "      <td>3</td>\n",
       "      <td>FF5A1CD38F5DD996</td>\n",
       "      <td>FE8F9858BBE502D9</td>\n",
       "    </tr>\n",
       "    <tr>\n",
       "      <td>4</td>\n",
       "      <td>FF44696E39039D29</td>\n",
       "      <td>FE76759FE6BF8C68</td>\n",
       "    </tr>\n",
       "  </tbody>\n",
       "</table>\n",
       "</div>"
      ],
      "text/plain": [
       "          user_id_A         user_id_B\n",
       "0  FFAE9489C76F352B  FFF28D02B1EACBE1\n",
       "1  FF825C1D791989B5  FF8CF7057415EB29\n",
       "2  FF5B24BCE4387F86  FEA0C585A53E7027\n",
       "3  FF5A1CD38F5DD996  FE8F9858BBE502D9\n",
       "4  FF44696E39039D29  FE76759FE6BF8C68"
      ]
     },
     "execution_count": 28,
     "metadata": {},
     "output_type": "execute_result"
    }
   ],
   "source": [
    "event_per_user = event_per_userA.copy(deep=True)\n",
    "event_per_user.columns = ['user_id_A', 'count_user_A']\n",
    "event_per_user['user_id_B'] = event_per_userB['user_id']\n",
    "event_per_user[['user_id_A', 'user_id_B']].head()"
   ]
  },
  {
   "cell_type": "code",
   "execution_count": 29,
   "metadata": {},
   "outputs": [
    {
     "name": "stdout",
     "output_type": "stream",
     "text": [
      "<class 'pandas.core.frame.DataFrame'>\n",
      "Int64Index: 3675 entries, 0 to 3674\n",
      "Data columns (total 3 columns):\n",
      "user_id         3675 non-null object\n",
      "event_name_x    2747 non-null float64\n",
      "event_name_y    928 non-null float64\n",
      "dtypes: float64(2), object(1)\n",
      "memory usage: 114.8+ KB\n"
     ]
    }
   ],
   "source": [
    "merge = event_per_userA.merge(event_per_userB, on='user_id', how='outer')\n",
    "merge.info()"
   ]
  },
  {
   "cell_type": "markdown",
   "metadata": {},
   "source": [
    "После объединения мы видим, что по столбцу 'user_id' не нашлось совпадений и число всех пользователей отдельно по выборкам равно уникальному число пользователей в тесте."
   ]
  },
  {
   "cell_type": "markdown",
   "metadata": {},
   "source": [
    "#### Как число событий распределено по дням?"
   ]
  },
  {
   "cell_type": "code",
   "execution_count": 30,
   "metadata": {},
   "outputs": [],
   "source": [
    "event_per_day = ab_test.groupby('event_date').agg({'event_name' : 'count'}).reset_index()"
   ]
  },
  {
   "cell_type": "code",
   "execution_count": 31,
   "metadata": {},
   "outputs": [
    {
     "data": {
      "text/plain": [
       "Text(0.5, 0, 'Дни тестирования')"
      ]
     },
     "execution_count": 31,
     "metadata": {},
     "output_type": "execute_result"
    },
    {
     "data": {
      "image/png": "[encoded data removed]",
      "text/plain": [
       "<Figure size 1080x360 with 1 Axes>"
      ]
     },
     "metadata": {
      "needs_background": "light"
     },
     "output_type": "display_data"
    }
   ],
   "source": [
    "f, ax = plt.subplots(figsize = (15,5))\n",
    "plt.title('Количество событий по дням тестирования',fontsize=20, weight='light')\n",
    "g = sns.barplot(x= \"event_date\", y= \"event_name\", data= event_per_day)\n",
    "plt.xticks(rotation=45)\n",
    "plt.ylabel('Количество событий')\n",
    "plt.xlabel('Дни тестирования')"
   ]
  },
  {
   "cell_type": "markdown",
   "metadata": {},
   "source": [
    "У нас присутствуют данные с 7 по 30 декабря. Хотя сроки тестирования заявлены до 4 января 2021 года."
   ]
  },
  {
   "cell_type": "markdown",
   "metadata": {},
   "source": [
    "Мы видим, что число событий резко начало расти через неделю запуска тестирования. Причем самый пик событий получился на день, когда набор новых пользователей остановился. После роста на третью неделю тестирования количество событий стало падать. Возможно, это связзано с тем, что сначала рост количества событий был связан с заинтересованностью пользователей. После двух недель теста пользователи не очень оценили улучшения и количество событий стало падать. А, возможно, из-за начала рождественских и новогодних каникул люди стали меньше интересоваться данным магазином и его тематикой. Так как у нас пользователи из региона EU 25 декабря у них начинается Christmas&New Year Promo."
   ]
  },
  {
   "cell_type": "markdown",
   "metadata": {},
   "source": [
    "#### Посмотрим, сработал ли ожидаемый эффект от тестирования изменений, связанных с внедрением улучшенной рекомендательной системы.\n",
    "Ожидаемый эффект: за 14 дней с момента регистрации в системе пользователи покажут улучшение каждой метрики не менее, чем на 10%."
   ]
  },
  {
   "cell_type": "markdown",
   "metadata": {},
   "source": [
    "Посмотрим стало ли больше количество действий в день начала теста и через 2 недели."
   ]
  },
  {
   "cell_type": "code",
   "execution_count": 32,
   "metadata": {},
   "outputs": [
    {
     "data": {
      "text/html": [
       "<div>\n",
       "<style scoped>\n",
       "    .dataframe tbody tr th:only-of-type {\n",
       "        vertical-align: middle;\n",
       "    }\n",
       "\n",
       "    .dataframe tbody tr th {\n",
       "        vertical-align: top;\n",
       "    }\n",
       "\n",
       "    .dataframe thead th {\n",
       "        text-align: right;\n",
       "    }\n",
       "</style>\n",
       "<table border=\"1\" class=\"dataframe\">\n",
       "  <thead>\n",
       "    <tr style=\"text-align: right;\">\n",
       "      <th>event_date</th>\n",
       "      <th>2020-12-07</th>\n",
       "      <th>2020-12-21</th>\n",
       "      <th>partВ</th>\n",
       "    </tr>\n",
       "    <tr>\n",
       "      <th>event_name</th>\n",
       "      <th></th>\n",
       "      <th></th>\n",
       "      <th></th>\n",
       "    </tr>\n",
       "  </thead>\n",
       "  <tbody>\n",
       "    <tr>\n",
       "      <td>login</td>\n",
       "      <td>165.0</td>\n",
       "      <td>206.0</td>\n",
       "      <td>1.248485</td>\n",
       "    </tr>\n",
       "    <tr>\n",
       "      <td>product_cart</td>\n",
       "      <td>46.0</td>\n",
       "      <td>59.0</td>\n",
       "      <td>1.282609</td>\n",
       "    </tr>\n",
       "    <tr>\n",
       "      <td>product_page</td>\n",
       "      <td>108.0</td>\n",
       "      <td>111.0</td>\n",
       "      <td>1.027778</td>\n",
       "    </tr>\n",
       "    <tr>\n",
       "      <td>purchase</td>\n",
       "      <td>59.0</td>\n",
       "      <td>54.0</td>\n",
       "      <td>0.915254</td>\n",
       "    </tr>\n",
       "  </tbody>\n",
       "</table>\n",
       "</div>"
      ],
      "text/plain": [
       "event_date    2020-12-07  2020-12-21     partВ\n",
       "event_name                                    \n",
       "login              165.0       206.0  1.248485\n",
       "product_cart        46.0        59.0  1.282609\n",
       "product_page       108.0       111.0  1.027778\n",
       "purchase            59.0        54.0  0.915254"
      ]
     },
     "execution_count": 32,
     "metadata": {},
     "output_type": "execute_result"
    }
   ],
   "source": [
    "pivotВ = ab_test_B.pivot_table(index='event_name',columns='event_date',values='user_id',aggfunc='count')\n",
    "pivotВ['partВ'] = pivotВ['2020-12-21'] / pivotВ['2020-12-07']\n",
    "pivotВ[['2020-12-07', '2020-12-21', 'partВ']]"
   ]
  },
  {
   "cell_type": "markdown",
   "metadata": {},
   "source": [
    "- событие product_cart(просмотры корзины) увеличило свой показатель на 28%, это больше 10%, а значит эта метрика превзошла ожидания;\n",
    "- событие product_page(просмотр карточек товаров) увеличило свой показатель всего на 2,7%. Это очень маленькое увеличение и эта метрика не оправдала ожиданий;\n",
    "- событие purchase(покупка), является ключевым для бизнеса, так как с помощью покупки интернет-магазин получает прибыль. После тестирования новой рекомендательной системы покупки упали на 8,5%. Уже на этом моменте можно сказать, что новые внедрения не очень удачны."
   ]
  },
  {
   "cell_type": "code",
   "execution_count": 33,
   "metadata": {},
   "outputs": [
    {
     "data": {
      "text/html": [
       "<div>\n",
       "<style scoped>\n",
       "    .dataframe tbody tr th:only-of-type {\n",
       "        vertical-align: middle;\n",
       "    }\n",
       "\n",
       "    .dataframe tbody tr th {\n",
       "        vertical-align: top;\n",
       "    }\n",
       "\n",
       "    .dataframe thead th {\n",
       "        text-align: right;\n",
       "    }\n",
       "</style>\n",
       "<table border=\"1\" class=\"dataframe\">\n",
       "  <thead>\n",
       "    <tr style=\"text-align: right;\">\n",
       "      <th>event_date</th>\n",
       "      <th>2020-12-07</th>\n",
       "      <th>2020-12-21</th>\n",
       "      <th>partА</th>\n",
       "    </tr>\n",
       "    <tr>\n",
       "      <th>event_name</th>\n",
       "      <th></th>\n",
       "      <th></th>\n",
       "      <th></th>\n",
       "    </tr>\n",
       "  </thead>\n",
       "  <tbody>\n",
       "    <tr>\n",
       "      <td>login</td>\n",
       "      <td>154</td>\n",
       "      <td>883</td>\n",
       "      <td>5.733766</td>\n",
       "    </tr>\n",
       "    <tr>\n",
       "      <td>product_cart</td>\n",
       "      <td>35</td>\n",
       "      <td>251</td>\n",
       "      <td>7.171429</td>\n",
       "    </tr>\n",
       "    <tr>\n",
       "      <td>product_page</td>\n",
       "      <td>96</td>\n",
       "      <td>580</td>\n",
       "      <td>6.041667</td>\n",
       "    </tr>\n",
       "    <tr>\n",
       "      <td>purchase</td>\n",
       "      <td>46</td>\n",
       "      <td>297</td>\n",
       "      <td>6.456522</td>\n",
       "    </tr>\n",
       "  </tbody>\n",
       "</table>\n",
       "</div>"
      ],
      "text/plain": [
       "event_date    2020-12-07  2020-12-21     partА\n",
       "event_name                                    \n",
       "login                154         883  5.733766\n",
       "product_cart          35         251  7.171429\n",
       "product_page          96         580  6.041667\n",
       "purchase              46         297  6.456522"
      ]
     },
     "execution_count": 33,
     "metadata": {},
     "output_type": "execute_result"
    }
   ],
   "source": [
    "pivotА = ab_test_A.pivot_table(index='event_name',columns='event_date',values='user_id',aggfunc='count')\n",
    "pivotА['partА'] = pivotА['2020-12-21'] / pivotА['2020-12-07']\n",
    "pivotА[['2020-12-07', '2020-12-21', 'partА']]"
   ]
  },
  {
   "cell_type": "markdown",
   "metadata": {},
   "source": [
    "- событие product_cart(просмотры корзины) увеличило свой показатель на 700%;\n",
    "- событие product_page(просмотр карточек товаров) увеличило свой показатель на 600%;\n",
    "- событие purchase(покупка) увеличило свой показатель на 600%;\n",
    "\n",
    "То есть без новых внедрений ближе к рождественским каникулам, метрики вырастают просто в запредельное количество раз. Значит нововведения сдерживают этот рост. Плюс такие показатели еще могут быть из-за разницы в количестве пользователей в выборке."
   ]
  },
  {
   "cell_type": "markdown",
   "metadata": {},
   "source": [
    "#### Посмотрим какие еще А/В-тесты проводились."
   ]
  },
  {
   "cell_type": "code",
   "execution_count": 34,
   "metadata": {},
   "outputs": [
    {
     "data": {
      "text/html": [
       "<div>\n",
       "<style scoped>\n",
       "    .dataframe tbody tr th:only-of-type {\n",
       "        vertical-align: middle;\n",
       "    }\n",
       "\n",
       "    .dataframe tbody tr th {\n",
       "        vertical-align: top;\n",
       "    }\n",
       "\n",
       "    .dataframe thead th {\n",
       "        text-align: right;\n",
       "    }\n",
       "</style>\n",
       "<table border=\"1\" class=\"dataframe\">\n",
       "  <thead>\n",
       "    <tr style=\"text-align: right;\">\n",
       "      <th></th>\n",
       "      <th>index</th>\n",
       "      <th>ab_test</th>\n",
       "    </tr>\n",
       "  </thead>\n",
       "  <tbody>\n",
       "    <tr>\n",
       "      <td>0</td>\n",
       "      <td>interface_eu_test</td>\n",
       "      <td>81927</td>\n",
       "    </tr>\n",
       "    <tr>\n",
       "      <td>1</td>\n",
       "      <td>recommender_system_test</td>\n",
       "      <td>24698</td>\n",
       "    </tr>\n",
       "  </tbody>\n",
       "</table>\n",
       "</div>"
      ],
      "text/plain": [
       "                     index  ab_test\n",
       "0        interface_eu_test    81927\n",
       "1  recommender_system_test    24698"
      ]
     },
     "execution_count": 34,
     "metadata": {},
     "output_type": "execute_result"
    }
   ],
   "source": [
    "ab_plus = users['ab_test'].value_counts().reset_index()\n",
    "ab_plus"
   ]
  },
  {
   "cell_type": "markdown",
   "metadata": {},
   "source": [
    "Еще одним тестом, который проводился был interface_eu_test. Посмотрим какие у него временные рамки, пересекались ли они с нашим тестом."
   ]
  },
  {
   "cell_type": "code",
   "execution_count": 35,
   "metadata": {},
   "outputs": [],
   "source": [
    "int_test = users.query('ab_test == \"interface_eu_test\"')"
   ]
  },
  {
   "cell_type": "code",
   "execution_count": 36,
   "metadata": {},
   "outputs": [
    {
     "data": {
      "text/plain": [
       "'2020-12-07'"
      ]
     },
     "execution_count": 36,
     "metadata": {},
     "output_type": "execute_result"
    }
   ],
   "source": [
    "int_test['event_date'].min()"
   ]
  },
  {
   "cell_type": "code",
   "execution_count": 37,
   "metadata": {},
   "outputs": [
    {
     "data": {
      "text/plain": [
       "'2020-12-30'"
      ]
     },
     "execution_count": 37,
     "metadata": {},
     "output_type": "execute_result"
    }
   ],
   "source": [
    "int_test['event_date'].max()"
   ]
  },
  {
   "cell_type": "markdown",
   "metadata": {},
   "source": [
    "Мы видим, что у параллельного теста те же временные рамки, что и у нашего теста."
   ]
  },
  {
   "cell_type": "markdown",
   "metadata": {},
   "source": [
    "Проверим как пересекаются пользователи"
   ]
  },
  {
   "cell_type": "code",
   "execution_count": 38,
   "metadata": {},
   "outputs": [],
   "source": [
    "match_int_test = int_test.groupby('user_id').agg({'event_name' : 'count'}).reset_index()\n",
    "match_int_test.columns = ['user_id', 'count_user_int_test']\n",
    "match_ab_test = ab_test.groupby('user_id').agg({'event_name' : 'count'}).reset_index()\n",
    "match_ab_test.columns = ['user_id', 'count_user_ab_test']"
   ]
  },
  {
   "cell_type": "code",
   "execution_count": 39,
   "metadata": {},
   "outputs": [
    {
     "name": "stdout",
     "output_type": "stream",
     "text": [
      "<class 'pandas.core.frame.DataFrame'>\n",
      "RangeIndex: 10850 entries, 0 to 10849\n",
      "Data columns (total 2 columns):\n",
      "user_id                10850 non-null object\n",
      "count_user_int_test    10850 non-null int64\n",
      "dtypes: int64(1), object(1)\n",
      "memory usage: 169.7+ KB\n"
     ]
    }
   ],
   "source": [
    "match_int_test.info()"
   ]
  },
  {
   "cell_type": "code",
   "execution_count": 40,
   "metadata": {},
   "outputs": [
    {
     "name": "stdout",
     "output_type": "stream",
     "text": [
      "<class 'pandas.core.frame.DataFrame'>\n",
      "RangeIndex: 3675 entries, 0 to 3674\n",
      "Data columns (total 2 columns):\n",
      "user_id               3675 non-null object\n",
      "count_user_ab_test    3675 non-null int64\n",
      "dtypes: int64(1), object(1)\n",
      "memory usage: 57.5+ KB\n"
     ]
    }
   ],
   "source": [
    "match_ab_test.info()"
   ]
  },
  {
   "cell_type": "code",
   "execution_count": 41,
   "metadata": {},
   "outputs": [
    {
     "name": "stdout",
     "output_type": "stream",
     "text": [
      "<class 'pandas.core.frame.DataFrame'>\n",
      "Int64Index: 13638 entries, 0 to 13637\n",
      "Data columns (total 3 columns):\n",
      "user_id                13638 non-null object\n",
      "count_user_int_test    10850 non-null float64\n",
      "count_user_ab_test     3675 non-null float64\n",
      "dtypes: float64(2), object(1)\n",
      "memory usage: 426.2+ KB\n"
     ]
    }
   ],
   "source": [
    "merge = match_int_test.merge(match_ab_test, on='user_id', how='outer')\n",
    "merge.info()"
   ]
  },
  {
   "cell_type": "markdown",
   "metadata": {},
   "source": [
    "Но при объединении таблиц мы определили, что пользователи из разных тестов не пересекаются. На результаты другой тест не влияет."
   ]
  },
  {
   "cell_type": "markdown",
   "metadata": {},
   "source": [
    "Учитывая одновременное проведение параллельного теста, а также проведение нашего теста во время маркетинговых событий, можно сказать, что тест проводился в некорректно выбранных условиях."
   ]
  },
  {
   "cell_type": "markdown",
   "metadata": {},
   "source": [
    "### [Шаг 3.](#run) Оценка результатов А/В-тестирования.  <a id=\"step3\"></a>   \n",
    "</div>  "
   ]
  },
  {
   "cell_type": "markdown",
   "metadata": {},
   "source": [
    "#### Проверим, будет ли отличие долей  между выборками выборками A и В."
   ]
  },
  {
   "cell_type": "markdown",
   "metadata": {},
   "source": [
    "#### Зададим две гипотезы:\n",
    "1. Нулевая гипотеза - конверсии выборки А и выборки В равны.\n",
    "2. Альтернативная гипотеза - конверсии выборки А и выборки В не равны."
   ]
  },
  {
   "cell_type": "markdown",
   "metadata": {},
   "source": [
    "Возьмем функцию для Z-теста."
   ]
  },
  {
   "cell_type": "code",
   "execution_count": 42,
   "metadata": {},
   "outputs": [],
   "source": [
    "def z_func(main1, payment1, main2, payment2, alpha, test, event_name):\n",
    "    aplha = alpha\n",
    "    \n",
    "    successes  = np.array([main1, main2])\n",
    "    leads = np.array([payment1, payment2])\n",
    " \n",
    "    # пропорция успехов в первой группе:\n",
    "    p1 = successes [0]/leads[0]\n",
    "    # пропорция успехов во второй группе:    \n",
    "    p2 = successes [1]/leads[1]\n",
    "    # пропорция успехов в комбинированном датасете:\n",
    "    p_combined = (successes [0] + successes [1]) / (leads[0] + leads[1])\n",
    "    # разница пропорций в датасетах\n",
    "    difference = p1 - p2\n",
    "    # считаем статистику в ст.отклонениях стандартного нормального распределения\n",
    "    z_value = difference / mth.sqrt(abs(p_combined * (1 - p_combined) * (1/leads[0] + 1/leads[1])))\n",
    "    # задаем стандартное нормальное распределение (среднее 0, ст.отклонение 1)\n",
    "    distr = st.norm(0, 1)\n",
    " \n",
    "    p_value = (1 - distr.cdf(abs(z_value))) * 2\n",
    " \n",
    "    print('p-значение для события \"{}\": '.format(event_name), p_value)\n",
    " \n",
    "    if (p_value < alpha):\n",
    "        print(\"Отвергаем нулевую гипотезу: между выборками\", test, \"есть значимая разница\")\n",
    "    else:\n",
    "        print(\"Не получилось отвергнуть нулевую гипотезу, нет оснований считать\", test, \"разными\")"
   ]
  },
  {
   "cell_type": "code",
   "execution_count": 47,
   "metadata": {},
   "outputs": [
    {
     "name": "stdout",
     "output_type": "stream",
     "text": [
      "p-значение для события \"login\":  nan\n",
      "Не получилось отвергнуть нулевую гипотезу, нет оснований считать конверсии выборки A и В разными\n"
     ]
    }
   ],
   "source": [
    "z_func(funnel['convA'].values[0], funnel['convA'].values[0], \n",
    " funnel['convB'].values[0], funnel['convB'].values[0], 0.05, \"конверсии выборки A и В\", funnel['event_name'][0])"
   ]
  },
  {
   "cell_type": "code",
   "execution_count": 48,
   "metadata": {},
   "outputs": [
    {
     "name": "stdout",
     "output_type": "stream",
     "text": [
      "p-значение для события \"product_page\":  0.9027986320653953\n",
      "Не получилось отвергнуть нулевую гипотезу, нет оснований считать конверсии выборки A и В разными\n"
     ]
    }
   ],
   "source": [
    "z_func(funnel['convA'].values[1], funnel['convA'].values[0], \n",
    " funnel['convB'].values[1], funnel['convB'].values[0], 0.05, \"конверсии выборки A и В\", funnel['event_name'][1])"
   ]
  },
  {
   "cell_type": "code",
   "execution_count": 49,
   "metadata": {},
   "outputs": [
    {
     "name": "stdout",
     "output_type": "stream",
     "text": [
      "p-значение для события \"purchase\":  0.9995441587593894\n",
      "Не получилось отвергнуть нулевую гипотезу, нет оснований считать конверсии выборки A и В разными\n"
     ]
    }
   ],
   "source": [
    "z_func(funnel['convA'].values[2], funnel['convA'].values[0], \n",
    " funnel['convB'].values[2], funnel['convB'].values[0], 0.05, \"конверсии выборки A и В\", funnel['event_name'][2])"
   ]
  },
  {
   "cell_type": "code",
   "execution_count": 50,
   "metadata": {},
   "outputs": [
    {
     "name": "stdout",
     "output_type": "stream",
     "text": [
      "p-значение для события \"product_cart\":  0.8307041907802712\n",
      "Не получилось отвергнуть нулевую гипотезу, нет оснований считать конверсии выборки A и В разными\n"
     ]
    }
   ],
   "source": [
    "z_func(funnel['convA'].values[3], funnel['convA'].values[0], \n",
    " funnel['convB'].values[3], funnel['convB'].values[0], 0.05, \"конверсии выборки A и В\", funnel['event_name'][3])"
   ]
  },
  {
   "cell_type": "markdown",
   "metadata": {},
   "source": [
    "Различия конверсии между группами отсутствует, значит нет оснований полагать, что тест прошел успешно. Конверсия не выросла и нет статистически значимой разницы между старым и новым функционалом, значит нет необходимости тратить ресурсы на внедрение новоых функций."
   ]
  },
  {
   "cell_type": "markdown",
   "metadata": {},
   "source": [
    "### [Шаг 4.](#run) Общие выводы. <a id=\"step4\"></a>   \n",
    "</div>  "
   ]
  },
  {
   "cell_type": "markdown",
   "metadata": {},
   "source": [
    "- По разделению выборки составили соотношение 1 к 3;\n",
    "- Всего уникальных пользователей в А/B-тесте было 3675, что оказалось меньше ожидаемых 6000;\n",
    "- Доля пользователей, которая проходит на следующий этап выше в контрольной группе А, чем в экспериментальной группе В;\n",
    "- В контрольной группе(7 событий) на одного пользователя приходится в среднем на 1,2 действия больше, чем в экспериментальной(5,8 событий); "
   ]
  },
  {
   "cell_type": "markdown",
   "metadata": {},
   "source": [
    "У нас присутствуют данные с 7 по 30 декабря. Хотя сроки тестирования заявлены до 4 января 2021 года.\n",
    "\n",
    "Число событий резко начало расти через неделю запуска тестирования. Причем самый пик событий получился на день, когда набор новых пользователей остановился. После роста на третью неделю тестирования количество событий стало падать. Возможно, это связзано с тем, что сначала рост количества событий был связан с заинтересованностью пользователей. После двух недель теста пользователи не очень оценили улучшения и количество событий стало падать. А, возможно, из-за начала рождественских и новогодних каникул люди стали меньше интересоваться данным магазином и его тематикой. Так как у нас пользователи из региона EU 25 декабря у них начинается Christmas&New Year Promo."
   ]
  },
  {
   "cell_type": "markdown",
   "metadata": {},
   "source": [
    "По результатам А/B-тестирования:\n",
    "\n",
    "Для экспериментальной выборки В:\n",
    "- событие product_cart(просмотры корзины) увеличило свой показатель на 28%, это больше 10%, а значит эта метрика превзошла ожидания;\n",
    "- событие product_page(просмотр карточек товаров) увеличило свой показатель всего на 2,7%. Это очень маленькое увеличение и эта метрика не оправдала ожиданий;\n",
    "- событие purchase(покупка), является ключевым для бизнеса, так как с помощью покупки интернет-магазин получает прибыль. После тестирования новой рекомендательной системы покупки упали на 8,5%. Уже на этом моменте можно сказать, что новые внедрения не очень удачны.\n",
    "\n",
    "Для контрольной выборки А:\n",
    "- событие product_cart(просмотры корзины) увеличило свой показатель на 700%;\n",
    "- событие product_page(просмотр карточек товаров) увеличило свой показатель на 600%;\n",
    "- событие purchase(покупка) увеличило свой показатель на 600%;\n",
    "\n",
    "\n",
    "То есть без новых внедрений ближе к рождественским каникулам, метрики вырастают просто в запредельное количество раз. Значит нововведения сдерживают этот рост. Плюс такие показатели еще могут быть из-за разницы в количестве пользователей в выборке.\n",
    "\n",
    "Учитывая одновременное проведение параллельного теста, а также проведение нашего теста во время маркетинговых событий, можно сказать, что тест проводился в некорректно выбранных условиях."
   ]
  },
  {
   "cell_type": "markdown",
   "metadata": {},
   "source": [
    "Различия конверсии между группами отсутствует, значит нет оснований полагать, что тест прошел успешно. Конверсия не выросла и нет статистически значимой разницы между старым и новым функционалом, значит нет необходимости тратить ресурсы на внедрение новоых функций."
   ]
  }
 ],
 "metadata": {
  "kernelspec": {
   "display_name": "Python 3",
   "language": "python",
   "name": "python3"
  },
  "language_info": {
   "codemirror_mode": {
    "name": "ipython",
    "version": 3
   },
   "file_extension": ".py",
   "mimetype": "text/x-python",
   "name": "python",
   "nbconvert_exporter": "python",
   "pygments_lexer": "ipython3",
   "version": "3.7.6"
  }
 },
 "nbformat": 4,
 "nbformat_minor": 2
}
