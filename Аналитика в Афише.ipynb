{
 "cells": [
  {
   "cell_type": "markdown",
   "metadata": {},
   "source": [
    "<div class=\"alert alert-block alert-info\">\n",
    "    \n",
    "## Аналитика в Яндекс.Афише\n",
    "\n",
    "#### Задание: помочь маркетологам оптимизировать маркетинговые затраты.\n",
    "    \n",
    "    \n",
    "    \n",
    "</div>"
   ]
  },
  {
   "cell_type": "markdown",
   "metadata": {},
   "source": [
    "### Оглавление:  \n",
    "1. [Шаг 1](#step1) Загрузка данных и подготовка к анализу. \n",
    "2. [Шаг 2](#step2) Построение отчётов и расчет метрик.\n",
    "2. [Шаг 3](#step3) Вывод. Рекомендации маркетологам, куда и сколько им стоит вкладывать денег?"
   ]
  },
  {
   "cell_type": "markdown",
   "metadata": {},
   "source": [
    "### Описание данных:\n",
    "#### Таблица visits (лог сервера с информацией о посещениях сайта):\n",
    "- Uid — уникальный идентификатор пользователя\n",
    "- Device — категория устройства пользователя\n",
    "- Start Ts — дата и время начала сессии\n",
    "- End Ts — дата и время окончания сессии\n",
    "- Source Id — идентификатор рекламного источника, из которого пришел пользователь\n",
    "\n",
    "#### Таблица orders (информация о заказах):\n",
    "- Uid — уникальный id пользователя, который сделал заказ\n",
    "- Buy Ts — дата и время заказа\n",
    "- Revenue — выручка Яндекс.Афиши с этого заказа\n",
    "\n",
    "#### Таблица costs (информация о затратах на маркетинг):\n",
    "- source_id — идентификатор рекламного источника\n",
    "- dt — дата\n",
    "- costs — затраты на этот рекламный источник в этот день"
   ]
  },
  {
   "cell_type": "markdown",
   "metadata": {},
   "source": [
    "Произведем импортирование необходимых для работы библиотек."
   ]
  },
  {
   "cell_type": "code",
   "execution_count": 1,
   "metadata": {},
   "outputs": [],
   "source": [
    "import pandas as pd\n",
    "import matplotlib\n",
    "import matplotlib.pyplot as plt\n",
    "import seaborn as sns\n",
    "import numpy as np"
   ]
  },
  {
   "cell_type": "markdown",
   "metadata": {},
   "source": [
    "### Шаг 1. Загрузка данных и подготовка их к анализу <a id=\"step1\"></a>   \n",
    "</div>"
   ]
  },
  {
   "cell_type": "code",
   "execution_count": 2,
   "metadata": {},
   "outputs": [
    {
     "data": {
      "text/html": [
       "<div>\n",
       "<style scoped>\n",
       "    .dataframe tbody tr th:only-of-type {\n",
       "        vertical-align: middle;\n",
       "    }\n",
       "\n",
       "    .dataframe tbody tr th {\n",
       "        vertical-align: top;\n",
       "    }\n",
       "\n",
       "    .dataframe thead th {\n",
       "        text-align: right;\n",
       "    }\n",
       "</style>\n",
       "<table border=\"1\" class=\"dataframe\">\n",
       "  <thead>\n",
       "    <tr style=\"text-align: right;\">\n",
       "      <th></th>\n",
       "      <th>Device</th>\n",
       "      <th>End Ts</th>\n",
       "      <th>Source Id</th>\n",
       "      <th>Start Ts</th>\n",
       "      <th>Uid</th>\n",
       "    </tr>\n",
       "  </thead>\n",
       "  <tbody>\n",
       "    <tr>\n",
       "      <td>0</td>\n",
       "      <td>touch</td>\n",
       "      <td>2017-12-20 17:38:00</td>\n",
       "      <td>4</td>\n",
       "      <td>2017-12-20 17:20:00</td>\n",
       "      <td>16879256277535980062</td>\n",
       "    </tr>\n",
       "    <tr>\n",
       "      <td>1</td>\n",
       "      <td>desktop</td>\n",
       "      <td>2018-02-19 17:21:00</td>\n",
       "      <td>2</td>\n",
       "      <td>2018-02-19 16:53:00</td>\n",
       "      <td>104060357244891740</td>\n",
       "    </tr>\n",
       "    <tr>\n",
       "      <td>2</td>\n",
       "      <td>touch</td>\n",
       "      <td>2017-07-01 01:54:00</td>\n",
       "      <td>5</td>\n",
       "      <td>2017-07-01 01:54:00</td>\n",
       "      <td>7459035603376831527</td>\n",
       "    </tr>\n",
       "    <tr>\n",
       "      <td>3</td>\n",
       "      <td>desktop</td>\n",
       "      <td>2018-05-20 11:23:00</td>\n",
       "      <td>9</td>\n",
       "      <td>2018-05-20 10:59:00</td>\n",
       "      <td>16174680259334210214</td>\n",
       "    </tr>\n",
       "    <tr>\n",
       "      <td>4</td>\n",
       "      <td>desktop</td>\n",
       "      <td>2017-12-27 14:06:00</td>\n",
       "      <td>3</td>\n",
       "      <td>2017-12-27 14:06:00</td>\n",
       "      <td>9969694820036681168</td>\n",
       "    </tr>\n",
       "  </tbody>\n",
       "</table>\n",
       "</div>"
      ],
      "text/plain": [
       "    Device               End Ts  Source Id             Start Ts  \\\n",
       "0    touch  2017-12-20 17:38:00          4  2017-12-20 17:20:00   \n",
       "1  desktop  2018-02-19 17:21:00          2  2018-02-19 16:53:00   \n",
       "2    touch  2017-07-01 01:54:00          5  2017-07-01 01:54:00   \n",
       "3  desktop  2018-05-20 11:23:00          9  2018-05-20 10:59:00   \n",
       "4  desktop  2017-12-27 14:06:00          3  2017-12-27 14:06:00   \n",
       "\n",
       "                    Uid  \n",
       "0  16879256277535980062  \n",
       "1    104060357244891740  \n",
       "2   7459035603376831527  \n",
       "3  16174680259334210214  \n",
       "4   9969694820036681168  "
      ]
     },
     "execution_count": 2,
     "metadata": {},
     "output_type": "execute_result"
    }
   ],
   "source": [
    "visits = pd.read_csv('/datasets/visits_log.csv')\n",
    "visits.head()"
   ]
  },
  {
   "cell_type": "markdown",
   "metadata": {},
   "source": [
    "Сразу же заменим названия столбцов на более удобные."
   ]
  },
  {
   "cell_type": "code",
   "execution_count": 3,
   "metadata": {},
   "outputs": [],
   "source": [
    "visits.columns = ['device', 'end_ts', 'source_id', 'start_ts', 'uid']"
   ]
  },
  {
   "cell_type": "code",
   "execution_count": 4,
   "metadata": {},
   "outputs": [
    {
     "name": "stdout",
     "output_type": "stream",
     "text": [
      "<class 'pandas.core.frame.DataFrame'>\n",
      "RangeIndex: 359400 entries, 0 to 359399\n",
      "Data columns (total 5 columns):\n",
      "device       359400 non-null object\n",
      "end_ts       359400 non-null object\n",
      "source_id    359400 non-null int64\n",
      "start_ts     359400 non-null object\n",
      "uid          359400 non-null uint64\n",
      "dtypes: int64(1), object(3), uint64(1)\n",
      "memory usage: 13.7+ MB\n"
     ]
    }
   ],
   "source": [
    "visits.info()"
   ]
  },
  {
   "cell_type": "code",
   "execution_count": 5,
   "metadata": {},
   "outputs": [
    {
     "data": {
      "text/html": [
       "<div>\n",
       "<style scoped>\n",
       "    .dataframe tbody tr th:only-of-type {\n",
       "        vertical-align: middle;\n",
       "    }\n",
       "\n",
       "    .dataframe tbody tr th {\n",
       "        vertical-align: top;\n",
       "    }\n",
       "\n",
       "    .dataframe thead th {\n",
       "        text-align: right;\n",
       "    }\n",
       "</style>\n",
       "<table border=\"1\" class=\"dataframe\">\n",
       "  <thead>\n",
       "    <tr style=\"text-align: right;\">\n",
       "      <th></th>\n",
       "      <th>Buy Ts</th>\n",
       "      <th>Revenue</th>\n",
       "      <th>Uid</th>\n",
       "    </tr>\n",
       "  </thead>\n",
       "  <tbody>\n",
       "    <tr>\n",
       "      <td>0</td>\n",
       "      <td>2017-06-01 00:10:00</td>\n",
       "      <td>17.00</td>\n",
       "      <td>10329302124590727494</td>\n",
       "    </tr>\n",
       "    <tr>\n",
       "      <td>1</td>\n",
       "      <td>2017-06-01 00:25:00</td>\n",
       "      <td>0.55</td>\n",
       "      <td>11627257723692907447</td>\n",
       "    </tr>\n",
       "    <tr>\n",
       "      <td>2</td>\n",
       "      <td>2017-06-01 00:27:00</td>\n",
       "      <td>0.37</td>\n",
       "      <td>17903680561304213844</td>\n",
       "    </tr>\n",
       "    <tr>\n",
       "      <td>3</td>\n",
       "      <td>2017-06-01 00:29:00</td>\n",
       "      <td>0.55</td>\n",
       "      <td>16109239769442553005</td>\n",
       "    </tr>\n",
       "    <tr>\n",
       "      <td>4</td>\n",
       "      <td>2017-06-01 07:58:00</td>\n",
       "      <td>0.37</td>\n",
       "      <td>14200605875248379450</td>\n",
       "    </tr>\n",
       "  </tbody>\n",
       "</table>\n",
       "</div>"
      ],
      "text/plain": [
       "                Buy Ts  Revenue                   Uid\n",
       "0  2017-06-01 00:10:00    17.00  10329302124590727494\n",
       "1  2017-06-01 00:25:00     0.55  11627257723692907447\n",
       "2  2017-06-01 00:27:00     0.37  17903680561304213844\n",
       "3  2017-06-01 00:29:00     0.55  16109239769442553005\n",
       "4  2017-06-01 07:58:00     0.37  14200605875248379450"
      ]
     },
     "execution_count": 5,
     "metadata": {},
     "output_type": "execute_result"
    }
   ],
   "source": [
    "orders = pd.read_csv('/datasets/orders_log.csv')\n",
    "orders.head()"
   ]
  },
  {
   "cell_type": "markdown",
   "metadata": {},
   "source": [
    "Сделаем в этом дф название столбца dt, так как необходимо будет объединять с дф costs по двум столбцам: source_id и dt."
   ]
  },
  {
   "cell_type": "code",
   "execution_count": 6,
   "metadata": {},
   "outputs": [],
   "source": [
    "orders.columns = ['buy_ts', 'revenue', 'uid']"
   ]
  },
  {
   "cell_type": "code",
   "execution_count": 7,
   "metadata": {},
   "outputs": [
    {
     "name": "stdout",
     "output_type": "stream",
     "text": [
      "<class 'pandas.core.frame.DataFrame'>\n",
      "RangeIndex: 50415 entries, 0 to 50414\n",
      "Data columns (total 3 columns):\n",
      "buy_ts     50415 non-null object\n",
      "revenue    50415 non-null float64\n",
      "uid        50415 non-null uint64\n",
      "dtypes: float64(1), object(1), uint64(1)\n",
      "memory usage: 1.2+ MB\n"
     ]
    }
   ],
   "source": [
    "orders.info()"
   ]
  },
  {
   "cell_type": "markdown",
   "metadata": {},
   "source": [
    "Для объединения в дальнейшем создадим дополнительный столбец, в котором будет день из даты покупки."
   ]
  },
  {
   "cell_type": "code",
   "execution_count": 8,
   "metadata": {},
   "outputs": [],
   "source": [
    "orders['day'] = pd.DatetimeIndex(orders['buy_ts']).day\n",
    "orders['month'] = pd.DatetimeIndex(orders['buy_ts']).month"
   ]
  },
  {
   "cell_type": "code",
   "execution_count": 9,
   "metadata": {},
   "outputs": [
    {
     "data": {
      "text/html": [
       "<div>\n",
       "<style scoped>\n",
       "    .dataframe tbody tr th:only-of-type {\n",
       "        vertical-align: middle;\n",
       "    }\n",
       "\n",
       "    .dataframe tbody tr th {\n",
       "        vertical-align: top;\n",
       "    }\n",
       "\n",
       "    .dataframe thead th {\n",
       "        text-align: right;\n",
       "    }\n",
       "</style>\n",
       "<table border=\"1\" class=\"dataframe\">\n",
       "  <thead>\n",
       "    <tr style=\"text-align: right;\">\n",
       "      <th></th>\n",
       "      <th>source_id</th>\n",
       "      <th>dt</th>\n",
       "      <th>costs</th>\n",
       "    </tr>\n",
       "  </thead>\n",
       "  <tbody>\n",
       "    <tr>\n",
       "      <td>0</td>\n",
       "      <td>1</td>\n",
       "      <td>2017-06-01</td>\n",
       "      <td>75.20</td>\n",
       "    </tr>\n",
       "    <tr>\n",
       "      <td>1</td>\n",
       "      <td>1</td>\n",
       "      <td>2017-06-02</td>\n",
       "      <td>62.25</td>\n",
       "    </tr>\n",
       "    <tr>\n",
       "      <td>2</td>\n",
       "      <td>1</td>\n",
       "      <td>2017-06-03</td>\n",
       "      <td>36.53</td>\n",
       "    </tr>\n",
       "    <tr>\n",
       "      <td>3</td>\n",
       "      <td>1</td>\n",
       "      <td>2017-06-04</td>\n",
       "      <td>55.00</td>\n",
       "    </tr>\n",
       "    <tr>\n",
       "      <td>4</td>\n",
       "      <td>1</td>\n",
       "      <td>2017-06-05</td>\n",
       "      <td>57.08</td>\n",
       "    </tr>\n",
       "  </tbody>\n",
       "</table>\n",
       "</div>"
      ],
      "text/plain": [
       "   source_id          dt  costs\n",
       "0          1  2017-06-01  75.20\n",
       "1          1  2017-06-02  62.25\n",
       "2          1  2017-06-03  36.53\n",
       "3          1  2017-06-04  55.00\n",
       "4          1  2017-06-05  57.08"
      ]
     },
     "execution_count": 9,
     "metadata": {},
     "output_type": "execute_result"
    }
   ],
   "source": [
    "costs = pd.read_csv('/datasets/costs.csv')\n",
    "costs.head()"
   ]
  },
  {
   "cell_type": "code",
   "execution_count": 10,
   "metadata": {},
   "outputs": [],
   "source": [
    "costs['day'] = pd.DatetimeIndex(costs['dt']).day\n",
    "costs['month'] = pd.DatetimeIndex(costs['dt']).month"
   ]
  },
  {
   "cell_type": "code",
   "execution_count": 11,
   "metadata": {},
   "outputs": [
    {
     "name": "stdout",
     "output_type": "stream",
     "text": [
      "<class 'pandas.core.frame.DataFrame'>\n",
      "RangeIndex: 2542 entries, 0 to 2541\n",
      "Data columns (total 5 columns):\n",
      "source_id    2542 non-null int64\n",
      "dt           2542 non-null object\n",
      "costs        2542 non-null float64\n",
      "day          2542 non-null int64\n",
      "month        2542 non-null int64\n",
      "dtypes: float64(1), int64(3), object(1)\n",
      "memory usage: 99.4+ KB\n"
     ]
    }
   ],
   "source": [
    "costs.info()"
   ]
  },
  {
   "cell_type": "markdown",
   "metadata": {},
   "source": [
    "Cоздадим таблицу профилей пользователей, где каждому пользователю соответствует одна (первая) запись."
   ]
  },
  {
   "cell_type": "code",
   "execution_count": 12,
   "metadata": {},
   "outputs": [],
   "source": [
    "users = (visits.sort_values(by = ['uid', 'start_ts']).groupby('uid')\n",
    "               .agg({'start_ts' : 'first', 'end_ts' : 'first', 'source_id': 'first', 'device': 'first'})\n",
    "        )"
   ]
  },
  {
   "cell_type": "code",
   "execution_count": 13,
   "metadata": {},
   "outputs": [],
   "source": [
    "afisha = users.merge(orders, on='uid', how='inner')"
   ]
  },
  {
   "cell_type": "code",
   "execution_count": 14,
   "metadata": {},
   "outputs": [],
   "source": [
    "afisha = afisha.merge(costs, on=['day', 'month', 'source_id'], how='inner')"
   ]
  },
  {
   "cell_type": "code",
   "execution_count": 15,
   "metadata": {},
   "outputs": [],
   "source": [
    "afisha['start_ts'] = pd.to_datetime(afisha['start_ts'], format='%Y-%m-%d %H:%M:%S')\n",
    "afisha['end_ts'] = pd.to_datetime(afisha['end_ts'], format='%Y-%m-%d %H:%M:%S')"
   ]
  },
  {
   "cell_type": "markdown",
   "metadata": {},
   "source": [
    "Из таблицы afisha не будем убирать все пропущенные значения. В этой таблице остануться без пропущенных значений только те пользователи, которые сделали заказ. Так как если у них нет времени заказа и выручки, то и заказа они не делали. При анализе этой таблицы разберемся почему не производился заказ."
   ]
  },
  {
   "cell_type": "code",
   "execution_count": 16,
   "metadata": {},
   "outputs": [
    {
     "name": "stdout",
     "output_type": "stream",
     "text": [
      "<class 'pandas.core.frame.DataFrame'>\n",
      "Int64Index: 50414 entries, 0 to 50413\n",
      "Data columns (total 11 columns):\n",
      "uid          50414 non-null uint64\n",
      "start_ts     50414 non-null datetime64[ns]\n",
      "end_ts       50414 non-null datetime64[ns]\n",
      "source_id    50414 non-null int64\n",
      "device       50414 non-null object\n",
      "buy_ts       50414 non-null object\n",
      "revenue      50414 non-null float64\n",
      "day          50414 non-null int64\n",
      "month        50414 non-null int64\n",
      "dt           50414 non-null object\n",
      "costs        50414 non-null float64\n",
      "dtypes: datetime64[ns](2), float64(2), int64(3), object(3), uint64(1)\n",
      "memory usage: 4.6+ MB\n"
     ]
    }
   ],
   "source": [
    "afisha.info()"
   ]
  },
  {
   "cell_type": "markdown",
   "metadata": {},
   "source": [
    "Посмотрим пропущенные значения в дф."
   ]
  },
  {
   "cell_type": "code",
   "execution_count": 17,
   "metadata": {},
   "outputs": [
    {
     "data": {
      "text/plain": [
       "uid          0\n",
       "start_ts     0\n",
       "end_ts       0\n",
       "source_id    0\n",
       "device       0\n",
       "buy_ts       0\n",
       "revenue      0\n",
       "day          0\n",
       "month        0\n",
       "dt           0\n",
       "costs        0\n",
       "dtype: int64"
      ]
     },
     "execution_count": 17,
     "metadata": {},
     "output_type": "execute_result"
    }
   ],
   "source": [
    "afisha.isna().sum()"
   ]
  },
  {
   "cell_type": "markdown",
   "metadata": {},
   "source": [
    "Посмотрим также, есть ли дубликаты в дф."
   ]
  },
  {
   "cell_type": "code",
   "execution_count": 18,
   "metadata": {},
   "outputs": [
    {
     "data": {
      "text/plain": [
       "0"
      ]
     },
     "execution_count": 18,
     "metadata": {},
     "output_type": "execute_result"
    }
   ],
   "source": [
    "afisha.duplicated().sum()"
   ]
  },
  {
   "cell_type": "markdown",
   "metadata": {},
   "source": [
    "Объединение таблиц завершено, теперь все данные в одном месте и можно приступать к анализу."
   ]
  },
  {
   "cell_type": "markdown",
   "metadata": {},
   "source": [
    "### Шаг 2. Построение отчётов и расчет метрик <a id=\"step2\"></a>   \n",
    "</div>"
   ]
  },
  {
   "cell_type": "markdown",
   "metadata": {},
   "source": [
    "### Блок 1. Продукт"
   ]
  },
  {
   "cell_type": "markdown",
   "metadata": {},
   "source": [
    "#### 2.1. Сколько людей пользуются в день, неделю, месяц?"
   ]
  },
  {
   "cell_type": "markdown",
   "metadata": {},
   "source": [
    "Добавим столбцы с цифрой дня недели и месяца сессии."
   ]
  },
  {
   "cell_type": "code",
   "execution_count": 19,
   "metadata": {},
   "outputs": [],
   "source": [
    "afisha['day_month'] = afisha['start_ts'].astype('datetime64[D]')\n",
    "afisha['day_session'] = pd.DatetimeIndex(afisha['start_ts']).day\n",
    "afisha['day_session'] = afisha['day_session'].astype('int')\n",
    "afisha['week_session'] = pd.DatetimeIndex(afisha['start_ts']).week\n",
    "afisha['week_session'] = afisha['week_session'].astype('int')\n",
    "afisha['month_session'] = pd.DatetimeIndex(afisha['start_ts']).month\n",
    "afisha['month_session'] = afisha['month_session'].astype('int')"
   ]
  },
  {
   "cell_type": "markdown",
   "metadata": {},
   "source": [
    "Сделаем группировку по дню, неделе и месяцу сессии с количеством пользователей в определенный период. И по этим таблицам сделаем графики. В графике с днем мы увидим цифры за день в каждом месяце. Применим метод nunique, чтобы получить именно уникальное количество пользователей, а не количество всех пользователей с повторениями."
   ]
  },
  {
   "cell_type": "code",
   "execution_count": 20,
   "metadata": {},
   "outputs": [],
   "source": [
    "day_group = afisha.groupby(['day_session', 'day_month']).agg({'uid':'nunique'})\n",
    "day_user_group = day_group.groupby('day_session').agg({'uid':'mean'})"
   ]
  },
  {
   "cell_type": "markdown",
   "metadata": {},
   "source": [
    "Воспользовавшись методом describe() определим общие параметры этой таблицы."
   ]
  },
  {
   "cell_type": "code",
   "execution_count": 21,
   "metadata": {},
   "outputs": [
    {
     "data": {
      "text/html": [
       "<div>\n",
       "<style scoped>\n",
       "    .dataframe tbody tr th:only-of-type {\n",
       "        vertical-align: middle;\n",
       "    }\n",
       "\n",
       "    .dataframe tbody tr th {\n",
       "        vertical-align: top;\n",
       "    }\n",
       "\n",
       "    .dataframe thead th {\n",
       "        text-align: right;\n",
       "    }\n",
       "</style>\n",
       "<table border=\"1\" class=\"dataframe\">\n",
       "  <thead>\n",
       "    <tr style=\"text-align: right;\">\n",
       "      <th></th>\n",
       "      <th>uid</th>\n",
       "    </tr>\n",
       "  </thead>\n",
       "  <tbody>\n",
       "    <tr>\n",
       "      <td>count</td>\n",
       "      <td>31.000000</td>\n",
       "    </tr>\n",
       "    <tr>\n",
       "      <td>mean</td>\n",
       "      <td>101.399560</td>\n",
       "    </tr>\n",
       "    <tr>\n",
       "      <td>std</td>\n",
       "      <td>11.481523</td>\n",
       "    </tr>\n",
       "    <tr>\n",
       "      <td>min</td>\n",
       "      <td>87.250000</td>\n",
       "    </tr>\n",
       "    <tr>\n",
       "      <td>25%</td>\n",
       "      <td>94.977273</td>\n",
       "    </tr>\n",
       "    <tr>\n",
       "      <td>50%</td>\n",
       "      <td>99.083333</td>\n",
       "    </tr>\n",
       "    <tr>\n",
       "      <td>75%</td>\n",
       "      <td>104.416667</td>\n",
       "    </tr>\n",
       "    <tr>\n",
       "      <td>max</td>\n",
       "      <td>148.833333</td>\n",
       "    </tr>\n",
       "  </tbody>\n",
       "</table>\n",
       "</div>"
      ],
      "text/plain": [
       "              uid\n",
       "count   31.000000\n",
       "mean   101.399560\n",
       "std     11.481523\n",
       "min     87.250000\n",
       "25%     94.977273\n",
       "50%     99.083333\n",
       "75%    104.416667\n",
       "max    148.833333"
      ]
     },
     "execution_count": 21,
     "metadata": {},
     "output_type": "execute_result"
    }
   ],
   "source": [
    "day_user_group.describe()"
   ]
  },
  {
   "cell_type": "markdown",
   "metadata": {},
   "source": [
    "Из этих данных мы видим, что в день сервисом пользуется 101 человек."
   ]
  },
  {
   "cell_type": "code",
   "execution_count": 22,
   "metadata": {},
   "outputs": [
    {
     "data": {
      "text/plain": [
       "Text(0.5, 1.0, 'Количество пользователей по дням')"
      ]
     },
     "execution_count": 22,
     "metadata": {},
     "output_type": "execute_result"
    },
    {
     "data": {
      "image/png": "[encoded data removed]",
      "text/plain": [
       "<Figure size 1080x360 with 1 Axes>"
      ]
     },
     "metadata": {
      "needs_background": "light"
     },
     "output_type": "display_data"
    }
   ],
   "source": [
    "day_user_group.plot(kind='bar', grid=True, figsize=(15,5), linewidth=5, color='r', legend=False)\n",
    "plt.ylabel('Количество пользователей')\n",
    "plt.xlabel('Дни')\n",
    "plt.title('Количество пользователей по дням')"
   ]
  },
  {
   "cell_type": "markdown",
   "metadata": {},
   "source": [
    "В течение месяца нет какого то явного распределения пользователей по дням."
   ]
  },
  {
   "cell_type": "code",
   "execution_count": 23,
   "metadata": {},
   "outputs": [],
   "source": [
    "week_group = afisha.groupby('week_session').agg({'uid':'nunique'})"
   ]
  },
  {
   "cell_type": "code",
   "execution_count": 24,
   "metadata": {},
   "outputs": [
    {
     "data": {
      "text/plain": [
       "Text(0.5, 1.0, 'Количество пользователей по неделям')"
      ]
     },
     "execution_count": 24,
     "metadata": {},
     "output_type": "execute_result"
    },
    {
     "data": {
      "image/png": "[encoded data removed]",
      "text/plain": [
       "<Figure size 1080x360 with 1 Axes>"
      ]
     },
     "metadata": {
      "needs_background": "light"
     },
     "output_type": "display_data"
    }
   ],
   "source": [
    "week_group.plot(kind='bar', grid=True, figsize=(15,5), linewidth=5, color='y', legend=False)\n",
    "plt.ylabel('Количество пользователей')\n",
    "plt.xlabel('Недели')\n",
    "plt.title('Количество пользователей по неделям')"
   ]
  },
  {
   "cell_type": "markdown",
   "metadata": {},
   "source": [
    "Также рассмотрим общие данные таблицы распределения пользователей в неделю."
   ]
  },
  {
   "cell_type": "code",
   "execution_count": 25,
   "metadata": {},
   "outputs": [
    {
     "data": {
      "text/html": [
       "<div>\n",
       "<style scoped>\n",
       "    .dataframe tbody tr th:only-of-type {\n",
       "        vertical-align: middle;\n",
       "    }\n",
       "\n",
       "    .dataframe tbody tr th {\n",
       "        vertical-align: top;\n",
       "    }\n",
       "\n",
       "    .dataframe thead th {\n",
       "        text-align: right;\n",
       "    }\n",
       "</style>\n",
       "<table border=\"1\" class=\"dataframe\">\n",
       "  <thead>\n",
       "    <tr style=\"text-align: right;\">\n",
       "      <th></th>\n",
       "      <th>uid</th>\n",
       "    </tr>\n",
       "  </thead>\n",
       "  <tbody>\n",
       "    <tr>\n",
       "      <td>count</td>\n",
       "      <td>52.000000</td>\n",
       "    </tr>\n",
       "    <tr>\n",
       "      <td>mean</td>\n",
       "      <td>702.346154</td>\n",
       "    </tr>\n",
       "    <tr>\n",
       "      <td>std</td>\n",
       "      <td>266.288866</td>\n",
       "    </tr>\n",
       "    <tr>\n",
       "      <td>min</td>\n",
       "      <td>303.000000</td>\n",
       "    </tr>\n",
       "    <tr>\n",
       "      <td>25%</td>\n",
       "      <td>509.250000</td>\n",
       "    </tr>\n",
       "    <tr>\n",
       "      <td>50%</td>\n",
       "      <td>705.500000</td>\n",
       "    </tr>\n",
       "    <tr>\n",
       "      <td>75%</td>\n",
       "      <td>907.750000</td>\n",
       "    </tr>\n",
       "    <tr>\n",
       "      <td>max</td>\n",
       "      <td>1382.000000</td>\n",
       "    </tr>\n",
       "  </tbody>\n",
       "</table>\n",
       "</div>"
      ],
      "text/plain": [
       "               uid\n",
       "count    52.000000\n",
       "mean    702.346154\n",
       "std     266.288866\n",
       "min     303.000000\n",
       "25%     509.250000\n",
       "50%     705.500000\n",
       "75%     907.750000\n",
       "max    1382.000000"
      ]
     },
     "execution_count": 25,
     "metadata": {},
     "output_type": "execute_result"
    }
   ],
   "source": [
    "week_group.describe()"
   ]
  },
  {
   "cell_type": "markdown",
   "metadata": {},
   "source": [
    "А в неделю пользователей сервиса получается 702 человека."
   ]
  },
  {
   "cell_type": "code",
   "execution_count": 26,
   "metadata": {},
   "outputs": [],
   "source": [
    "month_group = afisha.groupby('month_session').agg({'uid':'nunique'})"
   ]
  },
  {
   "cell_type": "code",
   "execution_count": 27,
   "metadata": {},
   "outputs": [
    {
     "data": {
      "text/plain": [
       "Text(0.5, 1.0, 'Количество пользователей в месяц')"
      ]
     },
     "execution_count": 27,
     "metadata": {},
     "output_type": "execute_result"
    },
    {
     "data": {
      "image/png": "[encoded data removed]",
      "text/plain": [
       "<Figure size 1080x360 with 1 Axes>"
      ]
     },
     "metadata": {
      "needs_background": "light"
     },
     "output_type": "display_data"
    }
   ],
   "source": [
    "month_group.plot(kind='bar', grid=True, figsize=(15,5), linewidth=5, color='g', legend=False)\n",
    "plt.ylabel('Количество пользователей')\n",
    "plt.xlabel('Месяц')\n",
    "plt.title('Количество пользователей в месяц')"
   ]
  },
  {
   "cell_type": "code",
   "execution_count": 28,
   "metadata": {},
   "outputs": [
    {
     "data": {
      "text/html": [
       "<div>\n",
       "<style scoped>\n",
       "    .dataframe tbody tr th:only-of-type {\n",
       "        vertical-align: middle;\n",
       "    }\n",
       "\n",
       "    .dataframe tbody tr th {\n",
       "        vertical-align: top;\n",
       "    }\n",
       "\n",
       "    .dataframe thead th {\n",
       "        text-align: right;\n",
       "    }\n",
       "</style>\n",
       "<table border=\"1\" class=\"dataframe\">\n",
       "  <thead>\n",
       "    <tr style=\"text-align: right;\">\n",
       "      <th></th>\n",
       "      <th>uid</th>\n",
       "    </tr>\n",
       "  </thead>\n",
       "  <tbody>\n",
       "    <tr>\n",
       "      <td>count</td>\n",
       "      <td>12.000000</td>\n",
       "    </tr>\n",
       "    <tr>\n",
       "      <td>mean</td>\n",
       "      <td>3043.500000</td>\n",
       "    </tr>\n",
       "    <tr>\n",
       "      <td>std</td>\n",
       "      <td>917.284084</td>\n",
       "    </tr>\n",
       "    <tr>\n",
       "      <td>min</td>\n",
       "      <td>1720.000000</td>\n",
       "    </tr>\n",
       "    <tr>\n",
       "      <td>25%</td>\n",
       "      <td>2422.500000</td>\n",
       "    </tr>\n",
       "    <tr>\n",
       "      <td>50%</td>\n",
       "      <td>2990.500000</td>\n",
       "    </tr>\n",
       "    <tr>\n",
       "      <td>75%</td>\n",
       "      <td>3408.000000</td>\n",
       "    </tr>\n",
       "    <tr>\n",
       "      <td>max</td>\n",
       "      <td>4678.000000</td>\n",
       "    </tr>\n",
       "  </tbody>\n",
       "</table>\n",
       "</div>"
      ],
      "text/plain": [
       "               uid\n",
       "count    12.000000\n",
       "mean   3043.500000\n",
       "std     917.284084\n",
       "min    1720.000000\n",
       "25%    2422.500000\n",
       "50%    2990.500000\n",
       "75%    3408.000000\n",
       "max    4678.000000"
      ]
     },
     "execution_count": 28,
     "metadata": {},
     "output_type": "execute_result"
    }
   ],
   "source": [
    "month_group.describe()"
   ]
  },
  {
   "cell_type": "markdown",
   "metadata": {},
   "source": [
    "По полученным данным получается, что у сервиса 3043 клиента в месяц."
   ]
  },
  {
   "cell_type": "markdown",
   "metadata": {},
   "source": [
    "Мы видим по графику по неделям и по месяцам, что летом количество пользователей Яндекс.Афиши резко уменьшается. Это связано с тем, что летом люди стараюются уехать из города на отдых. Также летом происходят театральные каникулы, а значит некоторый пласт пользователей, который увлекается театром отпадает."
   ]
  },
  {
   "cell_type": "markdown",
   "metadata": {},
   "source": [
    "#### 2.2. Сколько сессий в день?"
   ]
  },
  {
   "cell_type": "markdown",
   "metadata": {},
   "source": [
    "Отобразим графики количества пользователей и количества сессий в день рядом, чтобы отследить одинаковая ли динамика."
   ]
  },
  {
   "cell_type": "code",
   "execution_count": 29,
   "metadata": {},
   "outputs": [],
   "source": [
    "day_session = afisha.groupby(['day_session', 'day_month']).agg({'start_ts':'count'})\n",
    "day_session_group = day_session.groupby('day_session').agg({'start_ts':'mean'})"
   ]
  },
  {
   "cell_type": "code",
   "execution_count": 30,
   "metadata": {},
   "outputs": [
    {
     "data": {
      "text/plain": [
       "Text(0.5, 1.0, 'Количество сессий в день')"
      ]
     },
     "execution_count": 30,
     "metadata": {},
     "output_type": "execute_result"
    },
    {
     "data": {
      "image/png": "[encoded data removed]",
      "text/plain": [
       "<Figure size 1080x360 with 1 Axes>"
      ]
     },
     "metadata": {
      "needs_background": "light"
     },
     "output_type": "display_data"
    },
    {
     "data": {
      "image/png": "[encoded data removed]",
      "text/plain": [
       "<Figure size 1080x360 with 1 Axes>"
      ]
     },
     "metadata": {
      "needs_background": "light"
     },
     "output_type": "display_data"
    }
   ],
   "source": [
    "day_user_group.plot(kind='bar', grid=True, figsize=(15,5), linewidth=5, color='r', legend=False)\n",
    "plt.ylabel('Количество пользователей')\n",
    "plt.xlabel('Дни')\n",
    "plt.title('Количество пользователей в день')\n",
    "day_session_group.plot(kind='bar', grid=True, figsize=(15,5), linewidth=5, color='b', legend=False)\n",
    "plt.ylabel('Количество сессий')\n",
    "plt.xlabel('Дни')\n",
    "plt.title('Количество сессий в день')"
   ]
  },
  {
   "cell_type": "markdown",
   "metadata": {},
   "source": [
    "Когда эти графики рядом мы можем заметить, что когда растет количество пользователей - растет и количество сессий. И в обратную сторону."
   ]
  },
  {
   "cell_type": "code",
   "execution_count": 31,
   "metadata": {},
   "outputs": [
    {
     "data": {
      "text/html": [
       "<div>\n",
       "<style scoped>\n",
       "    .dataframe tbody tr th:only-of-type {\n",
       "        vertical-align: middle;\n",
       "    }\n",
       "\n",
       "    .dataframe tbody tr th {\n",
       "        vertical-align: top;\n",
       "    }\n",
       "\n",
       "    .dataframe thead th {\n",
       "        text-align: right;\n",
       "    }\n",
       "</style>\n",
       "<table border=\"1\" class=\"dataframe\">\n",
       "  <thead>\n",
       "    <tr style=\"text-align: right;\">\n",
       "      <th></th>\n",
       "      <th>start_ts</th>\n",
       "    </tr>\n",
       "  </thead>\n",
       "  <tbody>\n",
       "    <tr>\n",
       "      <td>count</td>\n",
       "      <td>31.000000</td>\n",
       "    </tr>\n",
       "    <tr>\n",
       "      <td>mean</td>\n",
       "      <td>139.773216</td>\n",
       "    </tr>\n",
       "    <tr>\n",
       "      <td>std</td>\n",
       "      <td>22.858076</td>\n",
       "    </tr>\n",
       "    <tr>\n",
       "      <td>min</td>\n",
       "      <td>108.583333</td>\n",
       "    </tr>\n",
       "    <tr>\n",
       "      <td>25%</td>\n",
       "      <td>124.625000</td>\n",
       "    </tr>\n",
       "    <tr>\n",
       "      <td>50%</td>\n",
       "      <td>135.000000</td>\n",
       "    </tr>\n",
       "    <tr>\n",
       "      <td>75%</td>\n",
       "      <td>146.500000</td>\n",
       "    </tr>\n",
       "    <tr>\n",
       "      <td>max</td>\n",
       "      <td>220.454545</td>\n",
       "    </tr>\n",
       "  </tbody>\n",
       "</table>\n",
       "</div>"
      ],
      "text/plain": [
       "         start_ts\n",
       "count   31.000000\n",
       "mean   139.773216\n",
       "std     22.858076\n",
       "min    108.583333\n",
       "25%    124.625000\n",
       "50%    135.000000\n",
       "75%    146.500000\n",
       "max    220.454545"
      ]
     },
     "execution_count": 31,
     "metadata": {},
     "output_type": "execute_result"
    }
   ],
   "source": [
    "day_session_group.describe()"
   ]
  },
  {
   "cell_type": "markdown",
   "metadata": {},
   "source": [
    "Среднее количество сессий в день равно 139,8. Учитывая, что пользователей в день выходит 101, значит клиенты обращаются к сервису в день повторно."
   ]
  },
  {
   "cell_type": "markdown",
   "metadata": {},
   "source": [
    "#### 2.3. Сколько длится одна сессия?"
   ]
  },
  {
   "cell_type": "markdown",
   "metadata": {},
   "source": [
    "Создадим столбец длительность сессии. Вычтем из даты конца сессии дату начала сессии."
   ]
  },
  {
   "cell_type": "code",
   "execution_count": 32,
   "metadata": {},
   "outputs": [],
   "source": [
    "afisha_duration = afisha.copy(deep=True)"
   ]
  },
  {
   "cell_type": "code",
   "execution_count": 33,
   "metadata": {},
   "outputs": [],
   "source": [
    "afisha_duration['start_ts'] = pd.to_datetime(afisha_duration['start_ts'], format='%Y-%m-%d %H:%M:%S')\n",
    "afisha_duration['end_ts'] = pd.to_datetime(afisha_duration['end_ts'], format='%Y-%m-%d %H:%M:%S')"
   ]
  },
  {
   "cell_type": "code",
   "execution_count": 34,
   "metadata": {},
   "outputs": [],
   "source": [
    "afisha_duration['duration_of_session_sec'] = (afisha_duration['end_ts'] - afisha_duration['start_ts']).dt.seconds"
   ]
  },
  {
   "cell_type": "code",
   "execution_count": 35,
   "metadata": {},
   "outputs": [
    {
     "data": {
      "text/plain": [
       "Text(0.5, 1.0, 'Продолжительность сессий, сек.')"
      ]
     },
     "execution_count": 35,
     "metadata": {},
     "output_type": "execute_result"
    },
    {
     "data": {
      "image/png": "[encoded data removed]",
      "text/plain": [
       "<Figure size 1080x360 with 1 Axes>"
      ]
     },
     "metadata": {
      "needs_background": "light"
     },
     "output_type": "display_data"
    }
   ],
   "source": [
    "afisha_duration['duration_of_session_sec'].hist(bins=50, range=(0,5000), figsize=(15,5))\n",
    "plt.title('Продолжительность сессий, сек.')"
   ]
  },
  {
   "cell_type": "markdown",
   "metadata": {},
   "source": [
    "Найдем моду, или наиболее часто встречающееся значение продолжительности сессии в секундах"
   ]
  },
  {
   "cell_type": "code",
   "execution_count": 36,
   "metadata": {},
   "outputs": [
    {
     "name": "stdout",
     "output_type": "stream",
     "text": [
      "0    60\n",
      "dtype: int64\n"
     ]
    }
   ],
   "source": [
    "asl = afisha_duration['duration_of_session_sec'].mode()\n",
    "print(asl)"
   ]
  },
  {
   "cell_type": "markdown",
   "metadata": {},
   "source": [
    "Мы видим, что самое большое количество сессий длятся до 60 секунд. А максимальное количество сессий лежат в промежутке до 2000 секунд, а это примерно 35 минут."
   ]
  },
  {
   "cell_type": "markdown",
   "metadata": {},
   "source": [
    "#### 2.4. Как часто люди возвращаются?"
   ]
  },
  {
   "cell_type": "markdown",
   "metadata": {},
   "source": [
    "Проведем когортный анализ. За основу возьмем исходный датафрейм visits, так как в нем меньше данных, чтобы сократить время обработки. А еще там нет измененных в предобработке данных."
   ]
  },
  {
   "cell_type": "markdown",
   "metadata": {},
   "source": [
    "Сначала создадим series с датой самой первой активности и добавим ее в исходный датафрейм."
   ]
  },
  {
   "cell_type": "code",
   "execution_count": 37,
   "metadata": {},
   "outputs": [],
   "source": [
    "first_activity_dates = visits.groupby('uid')['start_ts'].min()\n",
    "first_activity_dates.name = 'first_activity_dates'\n",
    "visits = visits.join(first_activity_dates,on='uid')"
   ]
  },
  {
   "cell_type": "markdown",
   "metadata": {},
   "source": [
    "Изменим тип данных у столбцов с датами на месяц активности."
   ]
  },
  {
   "cell_type": "code",
   "execution_count": 38,
   "metadata": {},
   "outputs": [],
   "source": [
    "visits['activity_month'] = visits['start_ts'].astype('datetime64[M]')\n",
    "visits['first_activity_month'] = visits['first_activity_dates'].astype('datetime64[M]')"
   ]
  },
  {
   "cell_type": "markdown",
   "metadata": {},
   "source": [
    "Создадим столбец с жизненным циклом когорты."
   ]
  },
  {
   "cell_type": "code",
   "execution_count": 39,
   "metadata": {},
   "outputs": [],
   "source": [
    "visits['cohort_lifetime'] = visits['activity_month'] - visits['first_activity_month']\n",
    "visits['cohort_lifetime'] = visits['cohort_lifetime'] / np.timedelta64(1,'M')\n",
    "visits['cohort_lifetime'] = visits['cohort_lifetime'].round().astype('int')"
   ]
  },
  {
   "cell_type": "code",
   "execution_count": 40,
   "metadata": {},
   "outputs": [],
   "source": [
    "cohorts = visits.groupby(['first_activity_month','cohort_lifetime']).agg({'uid':'nunique'}).reset_index()"
   ]
  },
  {
   "cell_type": "markdown",
   "metadata": {},
   "source": [
    "Определим сколько пользователей было изначально в нулевом жизненном цикле."
   ]
  },
  {
   "cell_type": "code",
   "execution_count": 41,
   "metadata": {},
   "outputs": [],
   "source": [
    "initial_users_count = cohorts[cohorts['cohort_lifetime'] == 0][['first_activity_month','uid']]"
   ]
  },
  {
   "cell_type": "code",
   "execution_count": 42,
   "metadata": {},
   "outputs": [
    {
     "data": {
      "text/html": [
       "<div>\n",
       "<style scoped>\n",
       "    .dataframe tbody tr th:only-of-type {\n",
       "        vertical-align: middle;\n",
       "    }\n",
       "\n",
       "    .dataframe tbody tr th {\n",
       "        vertical-align: top;\n",
       "    }\n",
       "\n",
       "    .dataframe thead th {\n",
       "        text-align: right;\n",
       "    }\n",
       "</style>\n",
       "<table border=\"1\" class=\"dataframe\">\n",
       "  <thead>\n",
       "    <tr style=\"text-align: right;\">\n",
       "      <th></th>\n",
       "      <th>first_activity_month</th>\n",
       "      <th>uid</th>\n",
       "    </tr>\n",
       "  </thead>\n",
       "  <tbody>\n",
       "    <tr>\n",
       "      <td>0</td>\n",
       "      <td>2017-06-01</td>\n",
       "      <td>13259</td>\n",
       "    </tr>\n",
       "    <tr>\n",
       "      <td>12</td>\n",
       "      <td>2017-07-01</td>\n",
       "      <td>13140</td>\n",
       "    </tr>\n",
       "    <tr>\n",
       "      <td>23</td>\n",
       "      <td>2017-08-01</td>\n",
       "      <td>10181</td>\n",
       "    </tr>\n",
       "    <tr>\n",
       "      <td>33</td>\n",
       "      <td>2017-09-01</td>\n",
       "      <td>16704</td>\n",
       "    </tr>\n",
       "    <tr>\n",
       "      <td>42</td>\n",
       "      <td>2017-10-01</td>\n",
       "      <td>25977</td>\n",
       "    </tr>\n",
       "    <tr>\n",
       "      <td>50</td>\n",
       "      <td>2017-11-01</td>\n",
       "      <td>27248</td>\n",
       "    </tr>\n",
       "    <tr>\n",
       "      <td>57</td>\n",
       "      <td>2017-12-01</td>\n",
       "      <td>25268</td>\n",
       "    </tr>\n",
       "    <tr>\n",
       "      <td>63</td>\n",
       "      <td>2018-01-01</td>\n",
       "      <td>22624</td>\n",
       "    </tr>\n",
       "    <tr>\n",
       "      <td>68</td>\n",
       "      <td>2018-02-01</td>\n",
       "      <td>22197</td>\n",
       "    </tr>\n",
       "    <tr>\n",
       "      <td>72</td>\n",
       "      <td>2018-03-01</td>\n",
       "      <td>20589</td>\n",
       "    </tr>\n",
       "    <tr>\n",
       "      <td>75</td>\n",
       "      <td>2018-04-01</td>\n",
       "      <td>15709</td>\n",
       "    </tr>\n",
       "    <tr>\n",
       "      <td>77</td>\n",
       "      <td>2018-05-01</td>\n",
       "      <td>15273</td>\n",
       "    </tr>\n",
       "  </tbody>\n",
       "</table>\n",
       "</div>"
      ],
      "text/plain": [
       "   first_activity_month    uid\n",
       "0            2017-06-01  13259\n",
       "12           2017-07-01  13140\n",
       "23           2017-08-01  10181\n",
       "33           2017-09-01  16704\n",
       "42           2017-10-01  25977\n",
       "50           2017-11-01  27248\n",
       "57           2017-12-01  25268\n",
       "63           2018-01-01  22624\n",
       "68           2018-02-01  22197\n",
       "72           2018-03-01  20589\n",
       "75           2018-04-01  15709\n",
       "77           2018-05-01  15273"
      ]
     },
     "execution_count": 42,
     "metadata": {},
     "output_type": "execute_result"
    }
   ],
   "source": [
    "initial_users_count"
   ]
  },
  {
   "cell_type": "code",
   "execution_count": 43,
   "metadata": {},
   "outputs": [],
   "source": [
    "initial_users_count = initial_users_count.rename(columns={'uid':'cohort_users'})"
   ]
  },
  {
   "cell_type": "code",
   "execution_count": 44,
   "metadata": {},
   "outputs": [],
   "source": [
    "cohorts = cohorts.merge(initial_users_count,on='first_activity_month')"
   ]
  },
  {
   "cell_type": "markdown",
   "metadata": {},
   "source": [
    "Посчитаем retention для когорт."
   ]
  },
  {
   "cell_type": "code",
   "execution_count": 45,
   "metadata": {},
   "outputs": [],
   "source": [
    "cohorts['retention'] = cohorts['uid']/cohorts['cohort_users']"
   ]
  },
  {
   "cell_type": "code",
   "execution_count": 46,
   "metadata": {},
   "outputs": [],
   "source": [
    "cohorts['first_activity_month'] = cohorts['first_activity_month'].dt.strftime('%Y-%m')"
   ]
  },
  {
   "cell_type": "markdown",
   "metadata": {},
   "source": [
    "И в конечном итоге создадим итоговую сводную таблицу с когортами по жизненным циклам."
   ]
  },
  {
   "cell_type": "code",
   "execution_count": 47,
   "metadata": {},
   "outputs": [
    {
     "data": {
      "text/html": [
       "<div>\n",
       "<style scoped>\n",
       "    .dataframe tbody tr th:only-of-type {\n",
       "        vertical-align: middle;\n",
       "    }\n",
       "\n",
       "    .dataframe tbody tr th {\n",
       "        vertical-align: top;\n",
       "    }\n",
       "\n",
       "    .dataframe thead th {\n",
       "        text-align: right;\n",
       "    }\n",
       "</style>\n",
       "<table border=\"1\" class=\"dataframe\">\n",
       "  <thead>\n",
       "    <tr style=\"text-align: right;\">\n",
       "      <th>cohort_lifetime</th>\n",
       "      <th>0</th>\n",
       "      <th>1</th>\n",
       "      <th>2</th>\n",
       "      <th>3</th>\n",
       "      <th>4</th>\n",
       "      <th>5</th>\n",
       "      <th>6</th>\n",
       "      <th>7</th>\n",
       "      <th>8</th>\n",
       "      <th>9</th>\n",
       "      <th>10</th>\n",
       "      <th>11</th>\n",
       "    </tr>\n",
       "    <tr>\n",
       "      <th>first_activity_month</th>\n",
       "      <th></th>\n",
       "      <th></th>\n",
       "      <th></th>\n",
       "      <th></th>\n",
       "      <th></th>\n",
       "      <th></th>\n",
       "      <th></th>\n",
       "      <th></th>\n",
       "      <th></th>\n",
       "      <th></th>\n",
       "      <th></th>\n",
       "      <th></th>\n",
       "    </tr>\n",
       "  </thead>\n",
       "  <tbody>\n",
       "    <tr>\n",
       "      <td>2017-06</td>\n",
       "      <td>1.0</td>\n",
       "      <td>0.078664</td>\n",
       "      <td>0.053775</td>\n",
       "      <td>0.061392</td>\n",
       "      <td>0.068557</td>\n",
       "      <td>0.071423</td>\n",
       "      <td>0.061015</td>\n",
       "      <td>0.057772</td>\n",
       "      <td>0.052342</td>\n",
       "      <td>0.050833</td>\n",
       "      <td>0.040652</td>\n",
       "      <td>0.044951</td>\n",
       "    </tr>\n",
       "    <tr>\n",
       "      <td>2017-07</td>\n",
       "      <td>1.0</td>\n",
       "      <td>0.056088</td>\n",
       "      <td>0.051294</td>\n",
       "      <td>0.056164</td>\n",
       "      <td>0.058219</td>\n",
       "      <td>0.048174</td>\n",
       "      <td>0.045358</td>\n",
       "      <td>0.045738</td>\n",
       "      <td>0.038813</td>\n",
       "      <td>0.028615</td>\n",
       "      <td>0.027473</td>\n",
       "      <td>NaN</td>\n",
       "    </tr>\n",
       "    <tr>\n",
       "      <td>2017-08</td>\n",
       "      <td>1.0</td>\n",
       "      <td>0.076908</td>\n",
       "      <td>0.062862</td>\n",
       "      <td>0.062764</td>\n",
       "      <td>0.050093</td>\n",
       "      <td>0.044004</td>\n",
       "      <td>0.036342</td>\n",
       "      <td>0.039485</td>\n",
       "      <td>0.027895</td>\n",
       "      <td>0.026029</td>\n",
       "      <td>NaN</td>\n",
       "      <td>NaN</td>\n",
       "    </tr>\n",
       "    <tr>\n",
       "      <td>2017-09</td>\n",
       "      <td>1.0</td>\n",
       "      <td>0.085489</td>\n",
       "      <td>0.069205</td>\n",
       "      <td>0.050706</td>\n",
       "      <td>0.039392</td>\n",
       "      <td>0.037835</td>\n",
       "      <td>0.035860</td>\n",
       "      <td>0.024186</td>\n",
       "      <td>0.022809</td>\n",
       "      <td>NaN</td>\n",
       "      <td>NaN</td>\n",
       "      <td>NaN</td>\n",
       "    </tr>\n",
       "    <tr>\n",
       "      <td>2017-10</td>\n",
       "      <td>1.0</td>\n",
       "      <td>0.078608</td>\n",
       "      <td>0.052239</td>\n",
       "      <td>0.038958</td>\n",
       "      <td>0.034261</td>\n",
       "      <td>0.032221</td>\n",
       "      <td>0.021365</td>\n",
       "      <td>0.020364</td>\n",
       "      <td>NaN</td>\n",
       "      <td>NaN</td>\n",
       "      <td>NaN</td>\n",
       "      <td>NaN</td>\n",
       "    </tr>\n",
       "    <tr>\n",
       "      <td>2017-11</td>\n",
       "      <td>1.0</td>\n",
       "      <td>0.078281</td>\n",
       "      <td>0.044113</td>\n",
       "      <td>0.038682</td>\n",
       "      <td>0.033727</td>\n",
       "      <td>0.023415</td>\n",
       "      <td>0.021800</td>\n",
       "      <td>NaN</td>\n",
       "      <td>NaN</td>\n",
       "      <td>NaN</td>\n",
       "      <td>NaN</td>\n",
       "      <td>NaN</td>\n",
       "    </tr>\n",
       "    <tr>\n",
       "      <td>2017-12</td>\n",
       "      <td>1.0</td>\n",
       "      <td>0.055802</td>\n",
       "      <td>0.037993</td>\n",
       "      <td>0.031107</td>\n",
       "      <td>0.020263</td>\n",
       "      <td>0.019036</td>\n",
       "      <td>NaN</td>\n",
       "      <td>NaN</td>\n",
       "      <td>NaN</td>\n",
       "      <td>NaN</td>\n",
       "      <td>NaN</td>\n",
       "      <td>NaN</td>\n",
       "    </tr>\n",
       "    <tr>\n",
       "      <td>2018-01</td>\n",
       "      <td>1.0</td>\n",
       "      <td>0.059715</td>\n",
       "      <td>0.039339</td>\n",
       "      <td>0.024973</td>\n",
       "      <td>0.020244</td>\n",
       "      <td>NaN</td>\n",
       "      <td>NaN</td>\n",
       "      <td>NaN</td>\n",
       "      <td>NaN</td>\n",
       "      <td>NaN</td>\n",
       "      <td>NaN</td>\n",
       "      <td>NaN</td>\n",
       "    </tr>\n",
       "    <tr>\n",
       "      <td>2018-02</td>\n",
       "      <td>1.0</td>\n",
       "      <td>0.057080</td>\n",
       "      <td>0.025454</td>\n",
       "      <td>0.020093</td>\n",
       "      <td>NaN</td>\n",
       "      <td>NaN</td>\n",
       "      <td>NaN</td>\n",
       "      <td>NaN</td>\n",
       "      <td>NaN</td>\n",
       "      <td>NaN</td>\n",
       "      <td>NaN</td>\n",
       "      <td>NaN</td>\n",
       "    </tr>\n",
       "    <tr>\n",
       "      <td>2018-03</td>\n",
       "      <td>1.0</td>\n",
       "      <td>0.041818</td>\n",
       "      <td>0.027053</td>\n",
       "      <td>NaN</td>\n",
       "      <td>NaN</td>\n",
       "      <td>NaN</td>\n",
       "      <td>NaN</td>\n",
       "      <td>NaN</td>\n",
       "      <td>NaN</td>\n",
       "      <td>NaN</td>\n",
       "      <td>NaN</td>\n",
       "      <td>NaN</td>\n",
       "    </tr>\n",
       "    <tr>\n",
       "      <td>2018-04</td>\n",
       "      <td>1.0</td>\n",
       "      <td>0.048380</td>\n",
       "      <td>NaN</td>\n",
       "      <td>NaN</td>\n",
       "      <td>NaN</td>\n",
       "      <td>NaN</td>\n",
       "      <td>NaN</td>\n",
       "      <td>NaN</td>\n",
       "      <td>NaN</td>\n",
       "      <td>NaN</td>\n",
       "      <td>NaN</td>\n",
       "      <td>NaN</td>\n",
       "    </tr>\n",
       "    <tr>\n",
       "      <td>2018-05</td>\n",
       "      <td>1.0</td>\n",
       "      <td>NaN</td>\n",
       "      <td>NaN</td>\n",
       "      <td>NaN</td>\n",
       "      <td>NaN</td>\n",
       "      <td>NaN</td>\n",
       "      <td>NaN</td>\n",
       "      <td>NaN</td>\n",
       "      <td>NaN</td>\n",
       "      <td>NaN</td>\n",
       "      <td>NaN</td>\n",
       "      <td>NaN</td>\n",
       "    </tr>\n",
       "  </tbody>\n",
       "</table>\n",
       "</div>"
      ],
      "text/plain": [
       "cohort_lifetime        0         1         2         3         4         5   \\\n",
       "first_activity_month                                                          \n",
       "2017-06               1.0  0.078664  0.053775  0.061392  0.068557  0.071423   \n",
       "2017-07               1.0  0.056088  0.051294  0.056164  0.058219  0.048174   \n",
       "2017-08               1.0  0.076908  0.062862  0.062764  0.050093  0.044004   \n",
       "2017-09               1.0  0.085489  0.069205  0.050706  0.039392  0.037835   \n",
       "2017-10               1.0  0.078608  0.052239  0.038958  0.034261  0.032221   \n",
       "2017-11               1.0  0.078281  0.044113  0.038682  0.033727  0.023415   \n",
       "2017-12               1.0  0.055802  0.037993  0.031107  0.020263  0.019036   \n",
       "2018-01               1.0  0.059715  0.039339  0.024973  0.020244       NaN   \n",
       "2018-02               1.0  0.057080  0.025454  0.020093       NaN       NaN   \n",
       "2018-03               1.0  0.041818  0.027053       NaN       NaN       NaN   \n",
       "2018-04               1.0  0.048380       NaN       NaN       NaN       NaN   \n",
       "2018-05               1.0       NaN       NaN       NaN       NaN       NaN   \n",
       "\n",
       "cohort_lifetime             6         7         8         9         10  \\\n",
       "first_activity_month                                                     \n",
       "2017-06               0.061015  0.057772  0.052342  0.050833  0.040652   \n",
       "2017-07               0.045358  0.045738  0.038813  0.028615  0.027473   \n",
       "2017-08               0.036342  0.039485  0.027895  0.026029       NaN   \n",
       "2017-09               0.035860  0.024186  0.022809       NaN       NaN   \n",
       "2017-10               0.021365  0.020364       NaN       NaN       NaN   \n",
       "2017-11               0.021800       NaN       NaN       NaN       NaN   \n",
       "2017-12                    NaN       NaN       NaN       NaN       NaN   \n",
       "2018-01                    NaN       NaN       NaN       NaN       NaN   \n",
       "2018-02                    NaN       NaN       NaN       NaN       NaN   \n",
       "2018-03                    NaN       NaN       NaN       NaN       NaN   \n",
       "2018-04                    NaN       NaN       NaN       NaN       NaN   \n",
       "2018-05                    NaN       NaN       NaN       NaN       NaN   \n",
       "\n",
       "cohort_lifetime             11  \n",
       "first_activity_month            \n",
       "2017-06               0.044951  \n",
       "2017-07                    NaN  \n",
       "2017-08                    NaN  \n",
       "2017-09                    NaN  \n",
       "2017-10                    NaN  \n",
       "2017-11                    NaN  \n",
       "2017-12                    NaN  \n",
       "2018-01                    NaN  \n",
       "2018-02                    NaN  \n",
       "2018-03                    NaN  \n",
       "2018-04                    NaN  \n",
       "2018-05                    NaN  "
      ]
     },
     "execution_count": 47,
     "metadata": {},
     "output_type": "execute_result"
    }
   ],
   "source": [
    "retention_pivot = cohorts.pivot_table(index='first_activity_month',columns='cohort_lifetime',values='retention',aggfunc='sum')\n",
    "retention_pivot"
   ]
  },
  {
   "cell_type": "markdown",
   "metadata": {},
   "source": [
    "Для наглядности построим heatmap."
   ]
  },
  {
   "cell_type": "code",
   "execution_count": 48,
   "metadata": {},
   "outputs": [
    {
     "data": {
      "text/plain": [
       "Text(114.0, 0.5, 'Когорты')"
      ]
     },
     "execution_count": 48,
     "metadata": {},
     "output_type": "execute_result"
    },
    {
     "data": {
      "image/png": "[encoded data removed]",
      "text/plain": [
       "<Figure size 1080x648 with 2 Axes>"
      ]
     },
     "metadata": {
      "needs_background": "light"
     },
     "output_type": "display_data"
    }
   ],
   "source": [
    "plt.figure(figsize=(15, 9))\n",
    "plt.title('Retention пользователей по когортам')\n",
    "sns.heatmap(retention_pivot, annot=True, fmt='.2%', linewidths=0.5, linecolor='gray', vmin=0, vmax= 0.1)\n",
    "plt.xlabel('Жизненный цикл')\n",
    "plt.ylabel('Когорты')"
   ]
  },
  {
   "cell_type": "markdown",
   "metadata": {},
   "source": [
    "Мы видим, что возвращаются люди очень редко по сравнению с самым первым циклом. \n",
    "- Больше всех показатель возвращаемости у первой когорты. Там отметка возврата не падает ниже 4%. \n",
    "- На второй период больше всего вернулось пользователей в когорте 2017-09.\n",
    "\n",
    "Возможно сервису необходимо вести более активную рекламную кампанию и придумать какие- нибудь программы лояльности, чтобы пользователи чаще возвращались."
   ]
  },
  {
   "cell_type": "markdown",
   "metadata": {},
   "source": [
    "### Блок 2. Продажи"
   ]
  },
  {
   "cell_type": "markdown",
   "metadata": {},
   "source": [
    "Для этого блока будем использовать когортный анализ."
   ]
  },
  {
   "cell_type": "markdown",
   "metadata": {},
   "source": [
    "#### 2.6. Когда люди начинают покупать?"
   ]
  },
  {
   "cell_type": "markdown",
   "metadata": {},
   "source": [
    "Сначала создадим series c самой первой покупккой для каждого пользователя."
   ]
  },
  {
   "cell_type": "markdown",
   "metadata": {},
   "source": [
    "Чтобы продолжать работу с исключительно покупающими пользователями - мы уберем пропущенные значения из дф afisha."
   ]
  },
  {
   "cell_type": "code",
   "execution_count": 49,
   "metadata": {},
   "outputs": [],
   "source": [
    "afisha_order = afisha.dropna()\n",
    "afisha_order = afisha_order.reset_index()\n",
    "afisha_order = afisha_order.drop('index', axis=True)"
   ]
  },
  {
   "cell_type": "code",
   "execution_count": 50,
   "metadata": {},
   "outputs": [],
   "source": [
    "first_order_dates = afisha_order.groupby('uid')['buy_ts'].min()\n",
    "first_order_dates.name = 'first_order_dates'"
   ]
  },
  {
   "cell_type": "code",
   "execution_count": 51,
   "metadata": {},
   "outputs": [],
   "source": [
    "afisha_order = afisha_order.join(first_order_dates, on='uid')\n",
    "afisha_order['order_month'] = afisha_order['buy_ts'].astype('datetime64[M]')\n",
    "afisha_order['first_order_month'] = afisha_order['first_order_dates'].astype('datetime64[M]')"
   ]
  },
  {
   "cell_type": "markdown",
   "metadata": {},
   "source": [
    "Когортой станет столбец first_order_month."
   ]
  },
  {
   "cell_type": "markdown",
   "metadata": {},
   "source": [
    "Посмотрим на распределение покупателей по когортам."
   ]
  },
  {
   "cell_type": "code",
   "execution_count": 52,
   "metadata": {},
   "outputs": [
    {
     "data": {
      "text/html": [
       "<div>\n",
       "<style scoped>\n",
       "    .dataframe tbody tr th:only-of-type {\n",
       "        vertical-align: middle;\n",
       "    }\n",
       "\n",
       "    .dataframe tbody tr th {\n",
       "        vertical-align: top;\n",
       "    }\n",
       "\n",
       "    .dataframe thead th {\n",
       "        text-align: right;\n",
       "    }\n",
       "</style>\n",
       "<table border=\"1\" class=\"dataframe\">\n",
       "  <thead>\n",
       "    <tr style=\"text-align: right;\">\n",
       "      <th></th>\n",
       "      <th>uid</th>\n",
       "      <th>revenue</th>\n",
       "    </tr>\n",
       "    <tr>\n",
       "      <th>first_order_month</th>\n",
       "      <th></th>\n",
       "      <th></th>\n",
       "    </tr>\n",
       "  </thead>\n",
       "  <tbody>\n",
       "    <tr>\n",
       "      <td>2017-06-01</td>\n",
       "      <td>2023</td>\n",
       "      <td>24031.69</td>\n",
       "    </tr>\n",
       "    <tr>\n",
       "      <td>2017-07-01</td>\n",
       "      <td>1923</td>\n",
       "      <td>16127.92</td>\n",
       "    </tr>\n",
       "    <tr>\n",
       "      <td>2017-08-01</td>\n",
       "      <td>1369</td>\n",
       "      <td>11605.04</td>\n",
       "    </tr>\n",
       "    <tr>\n",
       "      <td>2017-09-01</td>\n",
       "      <td>2581</td>\n",
       "      <td>34676.32</td>\n",
       "    </tr>\n",
       "    <tr>\n",
       "      <td>2017-10-01</td>\n",
       "      <td>4340</td>\n",
       "      <td>27603.45</td>\n",
       "    </tr>\n",
       "    <tr>\n",
       "      <td>2017-11-01</td>\n",
       "      <td>4081</td>\n",
       "      <td>26098.99</td>\n",
       "    </tr>\n",
       "    <tr>\n",
       "      <td>2017-12-01</td>\n",
       "      <td>4383</td>\n",
       "      <td>33485.74</td>\n",
       "    </tr>\n",
       "    <tr>\n",
       "      <td>2018-01-01</td>\n",
       "      <td>3373</td>\n",
       "      <td>16663.13</td>\n",
       "    </tr>\n",
       "    <tr>\n",
       "      <td>2018-02-01</td>\n",
       "      <td>3651</td>\n",
       "      <td>16750.50</td>\n",
       "    </tr>\n",
       "    <tr>\n",
       "      <td>2018-03-01</td>\n",
       "      <td>3533</td>\n",
       "      <td>19273.41</td>\n",
       "    </tr>\n",
       "    <tr>\n",
       "      <td>2018-04-01</td>\n",
       "      <td>2276</td>\n",
       "      <td>11810.61</td>\n",
       "    </tr>\n",
       "    <tr>\n",
       "      <td>2018-05-01</td>\n",
       "      <td>2988</td>\n",
       "      <td>13925.76</td>\n",
       "    </tr>\n",
       "    <tr>\n",
       "      <td>2018-06-01</td>\n",
       "      <td>1</td>\n",
       "      <td>3.42</td>\n",
       "    </tr>\n",
       "  </tbody>\n",
       "</table>\n",
       "</div>"
      ],
      "text/plain": [
       "                    uid   revenue\n",
       "first_order_month                \n",
       "2017-06-01         2023  24031.69\n",
       "2017-07-01         1923  16127.92\n",
       "2017-08-01         1369  11605.04\n",
       "2017-09-01         2581  34676.32\n",
       "2017-10-01         4340  27603.45\n",
       "2017-11-01         4081  26098.99\n",
       "2017-12-01         4383  33485.74\n",
       "2018-01-01         3373  16663.13\n",
       "2018-02-01         3651  16750.50\n",
       "2018-03-01         3533  19273.41\n",
       "2018-04-01         2276  11810.61\n",
       "2018-05-01         2988  13925.76\n",
       "2018-06-01            1      3.42"
      ]
     },
     "execution_count": 52,
     "metadata": {},
     "output_type": "execute_result"
    }
   ],
   "source": [
    "cohort_grouped_one = afisha_order.groupby('first_order_month').agg({'uid':'nunique', 'revenue':'sum'})\n",
    "cohort_grouped_one"
   ]
  },
  {
   "cell_type": "markdown",
   "metadata": {},
   "source": [
    "Мы видим, что в наши данные затесался лишний пользователь с покупкой вне необходимого нам периода времени. Сделаем срез, чтобы удалить его. А так же добавим в cohort_grouped_one группировку еще по месяцу продажи, а не только по первому, так как до этого она бы нам мешала посмотреть таблицу по каждой когорте."
   ]
  },
  {
   "cell_type": "code",
   "execution_count": 53,
   "metadata": {},
   "outputs": [],
   "source": [
    "afisha_order = afisha_order.query('first_order_month != \"2018-06-01\"')"
   ]
  },
  {
   "cell_type": "markdown",
   "metadata": {},
   "source": [
    "Больше всего пользователей и больше всего выручка в когортах за сентябрь и за январь. Это также может быть связано с тем, что в сентябре открывается театральный сезон, а в январе много выходных для различного рода досуга."
   ]
  },
  {
   "cell_type": "markdown",
   "metadata": {},
   "source": [
    "Также определим сколько времени прошло между первой активностью и первой покупкой."
   ]
  },
  {
   "cell_type": "markdown",
   "metadata": {},
   "source": [
    "Сделаем группировку и проведем арифметические вычисления разности. Для удобства вычисления переведем всю дату в часы."
   ]
  },
  {
   "cell_type": "code",
   "execution_count": 54,
   "metadata": {},
   "outputs": [],
   "source": [
    "between = afisha.copy(deep=True) "
   ]
  },
  {
   "cell_type": "code",
   "execution_count": 55,
   "metadata": {},
   "outputs": [],
   "source": [
    "between['start_ts'] = pd.to_datetime(afisha_duration['start_ts'], format='%Y-%m-%d %H:%M:%S')\n",
    "between['buy_ts'] = pd.to_datetime(afisha_duration['end_ts'], format='%Y-%m-%d %H:%M:%S')"
   ]
  },
  {
   "cell_type": "code",
   "execution_count": 56,
   "metadata": {},
   "outputs": [],
   "source": [
    "between = between.groupby('uid').agg({'start_ts':'first', 'buy_ts':'first', 'revenue':'sum'}).reset_index()"
   ]
  },
  {
   "cell_type": "code",
   "execution_count": 57,
   "metadata": {},
   "outputs": [],
   "source": [
    "between['between_start_and_order'] = (between['buy_ts'] - between['start_ts']) / np.timedelta64(1,'h')"
   ]
  },
  {
   "cell_type": "code",
   "execution_count": 58,
   "metadata": {},
   "outputs": [
    {
     "data": {
      "text/plain": [
       "count    36522.000000\n",
       "mean         0.248797\n",
       "std          0.299801\n",
       "min          0.000000\n",
       "25%          0.050000\n",
       "50%          0.150000\n",
       "75%          0.333333\n",
       "max          6.533333\n",
       "Name: between_start_and_order, dtype: float64"
      ]
     },
     "execution_count": 58,
     "metadata": {},
     "output_type": "execute_result"
    }
   ],
   "source": [
    "between['between_start_and_order'].describe()"
   ]
  },
  {
   "cell_type": "code",
   "execution_count": 59,
   "metadata": {},
   "outputs": [
    {
     "data": {
      "text/plain": [
       "<matplotlib.axes._subplots.AxesSubplot at 0x7f69d56ff190>"
      ]
     },
     "execution_count": 59,
     "metadata": {},
     "output_type": "execute_result"
    },
    {
     "data": {
      "image/png": "[encoded data removed]",
      "text/plain": [
       "<Figure size 432x288 with 1 Axes>"
      ]
     },
     "metadata": {
      "needs_background": "light"
     },
     "output_type": "display_data"
    }
   ],
   "source": [
    "between['between_start_and_order'].hist()"
   ]
  },
  {
   "cell_type": "markdown",
   "metadata": {},
   "source": [
    "Мы видим, что максимальные значения находились до 800 часов примерно, а все остальное по минимуму. Сделаем срез, чтобы посчитать среднее не по всем значениям, а по наиболее встречающимся."
   ]
  },
  {
   "cell_type": "code",
   "execution_count": 60,
   "metadata": {},
   "outputs": [
    {
     "data": {
      "text/plain": [
       "count    36522.000000\n",
       "mean         0.248797\n",
       "std          0.299801\n",
       "min          0.000000\n",
       "25%          0.050000\n",
       "50%          0.150000\n",
       "75%          0.333333\n",
       "max          6.533333\n",
       "Name: between_start_and_order, dtype: float64"
      ]
     },
     "execution_count": 60,
     "metadata": {},
     "output_type": "execute_result"
    }
   ],
   "source": [
    "between_mean = between.query('between_start_and_order < 800')\n",
    "between_mean['between_start_and_order'].describe()"
   ]
  },
  {
   "cell_type": "markdown",
   "metadata": {},
   "source": [
    "Из данного среза мы видим, что в среднем между первой активностью и первой покупкой произошло 45.8 минут. Похоже на правду, ведь в это время входит выбор продукта, а также оформление заказа."
   ]
  },
  {
   "cell_type": "markdown",
   "metadata": {},
   "source": [
    "#### 2.6. Сколько раз покупают за период?"
   ]
  },
  {
   "cell_type": "markdown",
   "metadata": {},
   "source": [
    "Определим изменение в количестве покупателей по периодам для каждой когорты."
   ]
  },
  {
   "cell_type": "code",
   "execution_count": 61,
   "metadata": {},
   "outputs": [],
   "source": [
    "buy_per_period = afisha_order.copy(deep=True) "
   ]
  },
  {
   "cell_type": "code",
   "execution_count": 62,
   "metadata": {},
   "outputs": [],
   "source": [
    "buy_per_period['order_month'] = buy_per_period['order_month'].dt.strftime('%Y-%m')"
   ]
  },
  {
   "cell_type": "code",
   "execution_count": 63,
   "metadata": {},
   "outputs": [],
   "source": [
    "cohort_grouped = buy_per_period.groupby('order_month').agg({'first_order_month':'count', 'uid':'nunique', 'revenue':'sum'})"
   ]
  },
  {
   "cell_type": "code",
   "execution_count": 64,
   "metadata": {},
   "outputs": [
    {
     "data": {
      "text/html": [
       "<div>\n",
       "<style scoped>\n",
       "    .dataframe tbody tr th:only-of-type {\n",
       "        vertical-align: middle;\n",
       "    }\n",
       "\n",
       "    .dataframe tbody tr th {\n",
       "        vertical-align: top;\n",
       "    }\n",
       "\n",
       "    .dataframe thead th {\n",
       "        text-align: right;\n",
       "    }\n",
       "</style>\n",
       "<table border=\"1\" class=\"dataframe\">\n",
       "  <thead>\n",
       "    <tr style=\"text-align: right;\">\n",
       "      <th></th>\n",
       "      <th>total_buyers</th>\n",
       "      <th>n_buyers</th>\n",
       "      <th>revenue</th>\n",
       "      <th>buy_per_buyers</th>\n",
       "    </tr>\n",
       "    <tr>\n",
       "      <th>order_month</th>\n",
       "      <th></th>\n",
       "      <th></th>\n",
       "      <th></th>\n",
       "      <th></th>\n",
       "    </tr>\n",
       "  </thead>\n",
       "  <tbody>\n",
       "    <tr>\n",
       "      <td>2017-06</td>\n",
       "      <td>2354</td>\n",
       "      <td>2023</td>\n",
       "      <td>9557.49</td>\n",
       "      <td>1.163618</td>\n",
       "    </tr>\n",
       "    <tr>\n",
       "      <td>2017-07</td>\n",
       "      <td>2363</td>\n",
       "      <td>1984</td>\n",
       "      <td>12539.47</td>\n",
       "      <td>1.191028</td>\n",
       "    </tr>\n",
       "    <tr>\n",
       "      <td>2017-08</td>\n",
       "      <td>1806</td>\n",
       "      <td>1471</td>\n",
       "      <td>8757.56</td>\n",
       "      <td>1.227736</td>\n",
       "    </tr>\n",
       "    <tr>\n",
       "      <td>2017-09</td>\n",
       "      <td>3387</td>\n",
       "      <td>2750</td>\n",
       "      <td>18345.51</td>\n",
       "      <td>1.231636</td>\n",
       "    </tr>\n",
       "    <tr>\n",
       "      <td>2017-10</td>\n",
       "      <td>5679</td>\n",
       "      <td>4675</td>\n",
       "      <td>27987.70</td>\n",
       "      <td>1.214759</td>\n",
       "    </tr>\n",
       "  </tbody>\n",
       "</table>\n",
       "</div>"
      ],
      "text/plain": [
       "             total_buyers  n_buyers   revenue  buy_per_buyers\n",
       "order_month                                                  \n",
       "2017-06              2354      2023   9557.49        1.163618\n",
       "2017-07              2363      1984  12539.47        1.191028\n",
       "2017-08              1806      1471   8757.56        1.227736\n",
       "2017-09              3387      2750  18345.51        1.231636\n",
       "2017-10              5679      4675  27987.70        1.214759"
      ]
     },
     "execution_count": 64,
     "metadata": {},
     "output_type": "execute_result"
    }
   ],
   "source": [
    "cohort_grouped = buy_per_period.groupby('order_month').agg({'first_order_month':'count', 'uid':'nunique', 'revenue':'sum'})\n",
    "cohort_grouped.columns = ['total_buyers', 'n_buyers', 'revenue']\n",
    "cohort_grouped['buy_per_buyers'] = cohort_grouped['total_buyers'] / cohort_grouped['n_buyers']\n",
    "cohort_grouped.head()"
   ]
  },
  {
   "cell_type": "code",
   "execution_count": 65,
   "metadata": {},
   "outputs": [],
   "source": [
    "buyers = cohort_grouped.groupby('order_month').agg({'buy_per_buyers':'mean'})"
   ]
  },
  {
   "cell_type": "code",
   "execution_count": 66,
   "metadata": {},
   "outputs": [
    {
     "data": {
      "text/plain": [
       "Text(0.5, 1.0, 'Количество покупок на человека')"
      ]
     },
     "execution_count": 66,
     "metadata": {},
     "output_type": "execute_result"
    },
    {
     "data": {
      "image/png": "[encoded data removed]",
      "text/plain": [
       "<Figure size 1080x360 with 1 Axes>"
      ]
     },
     "metadata": {
      "needs_background": "light"
     },
     "output_type": "display_data"
    }
   ],
   "source": [
    "buyers.plot(kind='bar', grid=True, figsize=(15,5), linewidth=5, color='b', legend=False)\n",
    "plt.ylabel('Количество пользователей')\n",
    "plt.xlabel('Месяц')\n",
    "plt.title('Количество покупок на человека')"
   ]
  },
  {
   "cell_type": "markdown",
   "metadata": {},
   "source": [
    "По таблице мы видим, что:\n",
    "- максимальное количество покупок на покупателя происходит в ноябре, декабре, феврале и марте.  Возможно, это связано с тем, что почти все люди покупают подарки. Затем количество покупок начинает стремительно уменьшаться;\n",
    "- но также мы видим, что везде среднее число покупок больше единицы, это связано с тем, что в сервис люди все же возвращаются.\n"
   ]
  },
  {
   "cell_type": "markdown",
   "metadata": {},
   "source": [
    "#### 2.7. Какой средний чек?"
   ]
  },
  {
   "cell_type": "markdown",
   "metadata": {},
   "source": [
    "Найдём средний чек покупателя в когорте revenue_per_user — разделим показатель revenue на uid:"
   ]
  },
  {
   "cell_type": "code",
   "execution_count": 67,
   "metadata": {},
   "outputs": [],
   "source": [
    "cohort_grouped_2 = buy_per_period.groupby(['first_order_month', 'order_month']).agg({'uid':'nunique', 'revenue':'sum'})\n",
    "cohort_grouped_2.columns = ['n_buyers', 'revenue']"
   ]
  },
  {
   "cell_type": "code",
   "execution_count": 68,
   "metadata": {},
   "outputs": [
    {
     "data": {
      "text/html": [
       "<div>\n",
       "<style scoped>\n",
       "    .dataframe tbody tr th:only-of-type {\n",
       "        vertical-align: middle;\n",
       "    }\n",
       "\n",
       "    .dataframe tbody tr th {\n",
       "        vertical-align: top;\n",
       "    }\n",
       "\n",
       "    .dataframe thead th {\n",
       "        text-align: right;\n",
       "    }\n",
       "</style>\n",
       "<table border=\"1\" class=\"dataframe\">\n",
       "  <thead>\n",
       "    <tr style=\"text-align: right;\">\n",
       "      <th></th>\n",
       "      <th></th>\n",
       "      <th>n_buyers</th>\n",
       "      <th>revenue</th>\n",
       "      <th>revenue_per_user</th>\n",
       "    </tr>\n",
       "    <tr>\n",
       "      <th>first_order_month</th>\n",
       "      <th>order_month</th>\n",
       "      <th></th>\n",
       "      <th></th>\n",
       "      <th></th>\n",
       "    </tr>\n",
       "  </thead>\n",
       "  <tbody>\n",
       "    <tr>\n",
       "      <td rowspan=\"5\" valign=\"top\">2017-06-01</td>\n",
       "      <td>2017-06</td>\n",
       "      <td>2023</td>\n",
       "      <td>9557.49</td>\n",
       "      <td>4.724414</td>\n",
       "    </tr>\n",
       "    <tr>\n",
       "      <td>2017-07</td>\n",
       "      <td>61</td>\n",
       "      <td>981.82</td>\n",
       "      <td>16.095410</td>\n",
       "    </tr>\n",
       "    <tr>\n",
       "      <td>2017-08</td>\n",
       "      <td>50</td>\n",
       "      <td>885.34</td>\n",
       "      <td>17.706800</td>\n",
       "    </tr>\n",
       "    <tr>\n",
       "      <td>2017-09</td>\n",
       "      <td>54</td>\n",
       "      <td>1931.30</td>\n",
       "      <td>35.764815</td>\n",
       "    </tr>\n",
       "    <tr>\n",
       "      <td>2017-10</td>\n",
       "      <td>88</td>\n",
       "      <td>2068.58</td>\n",
       "      <td>23.506591</td>\n",
       "    </tr>\n",
       "  </tbody>\n",
       "</table>\n",
       "</div>"
      ],
      "text/plain": [
       "                               n_buyers  revenue  revenue_per_user\n",
       "first_order_month order_month                                     \n",
       "2017-06-01        2017-06          2023  9557.49          4.724414\n",
       "                  2017-07            61   981.82         16.095410\n",
       "                  2017-08            50   885.34         17.706800\n",
       "                  2017-09            54  1931.30         35.764815\n",
       "                  2017-10            88  2068.58         23.506591"
      ]
     },
     "execution_count": 68,
     "metadata": {},
     "output_type": "execute_result"
    }
   ],
   "source": [
    "cohort_grouped_2['revenue_per_user'] = cohort_grouped_2['revenue'] / cohort_grouped_2['n_buyers']\n",
    "cohort_grouped_2.head()"
   ]
  },
  {
   "cell_type": "markdown",
   "metadata": {},
   "source": [
    "Определим средний чек по периодам."
   ]
  },
  {
   "cell_type": "code",
   "execution_count": 69,
   "metadata": {
    "scrolled": false
   },
   "outputs": [
    {
     "data": {
      "text/html": [
       "<div>\n",
       "<style scoped>\n",
       "    .dataframe tbody tr th:only-of-type {\n",
       "        vertical-align: middle;\n",
       "    }\n",
       "\n",
       "    .dataframe tbody tr th {\n",
       "        vertical-align: top;\n",
       "    }\n",
       "\n",
       "    .dataframe thead th {\n",
       "        text-align: right;\n",
       "    }\n",
       "</style>\n",
       "<table border=\"1\" class=\"dataframe\">\n",
       "  <thead>\n",
       "    <tr style=\"text-align: right;\">\n",
       "      <th>order_month</th>\n",
       "      <th>2017-06</th>\n",
       "      <th>2017-07</th>\n",
       "      <th>2017-08</th>\n",
       "      <th>2017-09</th>\n",
       "      <th>2017-10</th>\n",
       "      <th>2017-11</th>\n",
       "      <th>2017-12</th>\n",
       "      <th>2018-01</th>\n",
       "      <th>2018-02</th>\n",
       "      <th>2018-03</th>\n",
       "      <th>2018-04</th>\n",
       "      <th>2018-05</th>\n",
       "    </tr>\n",
       "    <tr>\n",
       "      <th>first_order_month</th>\n",
       "      <th></th>\n",
       "      <th></th>\n",
       "      <th></th>\n",
       "      <th></th>\n",
       "      <th></th>\n",
       "      <th></th>\n",
       "      <th></th>\n",
       "      <th></th>\n",
       "      <th></th>\n",
       "      <th></th>\n",
       "      <th></th>\n",
       "      <th></th>\n",
       "    </tr>\n",
       "  </thead>\n",
       "  <tbody>\n",
       "    <tr>\n",
       "      <td>2017-06-01</td>\n",
       "      <td>4.724414</td>\n",
       "      <td>16.095410</td>\n",
       "      <td>17.706800</td>\n",
       "      <td>35.764815</td>\n",
       "      <td>23.506591</td>\n",
       "      <td>22.207761</td>\n",
       "      <td>31.011935</td>\n",
       "      <td>25.033191</td>\n",
       "      <td>19.295690</td>\n",
       "      <td>27.233556</td>\n",
       "      <td>25.681333</td>\n",
       "      <td>9.804151</td>\n",
       "    </tr>\n",
       "    <tr>\n",
       "      <td>2017-07-01</td>\n",
       "      <td>NaN</td>\n",
       "      <td>6.010218</td>\n",
       "      <td>12.396346</td>\n",
       "      <td>21.035965</td>\n",
       "      <td>10.786094</td>\n",
       "      <td>6.938163</td>\n",
       "      <td>7.896842</td>\n",
       "      <td>6.421111</td>\n",
       "      <td>6.992821</td>\n",
       "      <td>7.382143</td>\n",
       "      <td>12.861818</td>\n",
       "      <td>11.513846</td>\n",
       "    </tr>\n",
       "    <tr>\n",
       "      <td>2017-08-01</td>\n",
       "      <td>NaN</td>\n",
       "      <td>NaN</td>\n",
       "      <td>5.279481</td>\n",
       "      <td>11.148793</td>\n",
       "      <td>11.851321</td>\n",
       "      <td>12.182955</td>\n",
       "      <td>16.921250</td>\n",
       "      <td>12.139063</td>\n",
       "      <td>9.620333</td>\n",
       "      <td>12.610455</td>\n",
       "      <td>21.070000</td>\n",
       "      <td>8.307419</td>\n",
       "    </tr>\n",
       "    <tr>\n",
       "      <td>2017-09-01</td>\n",
       "      <td>NaN</td>\n",
       "      <td>NaN</td>\n",
       "      <td>NaN</td>\n",
       "      <td>5.644529</td>\n",
       "      <td>22.188385</td>\n",
       "      <td>13.445200</td>\n",
       "      <td>138.669189</td>\n",
       "      <td>19.881538</td>\n",
       "      <td>26.095000</td>\n",
       "      <td>27.437121</td>\n",
       "      <td>16.961351</td>\n",
       "      <td>11.044651</td>\n",
       "    </tr>\n",
       "    <tr>\n",
       "      <td>2017-10-01</td>\n",
       "      <td>NaN</td>\n",
       "      <td>NaN</td>\n",
       "      <td>NaN</td>\n",
       "      <td>NaN</td>\n",
       "      <td>5.003733</td>\n",
       "      <td>11.287427</td>\n",
       "      <td>6.753252</td>\n",
       "      <td>7.413152</td>\n",
       "      <td>7.072796</td>\n",
       "      <td>7.255139</td>\n",
       "      <td>6.573214</td>\n",
       "      <td>7.479701</td>\n",
       "    </tr>\n",
       "    <tr>\n",
       "      <td>2017-11-01</td>\n",
       "      <td>NaN</td>\n",
       "      <td>NaN</td>\n",
       "      <td>NaN</td>\n",
       "      <td>NaN</td>\n",
       "      <td>NaN</td>\n",
       "      <td>5.154683</td>\n",
       "      <td>7.339054</td>\n",
       "      <td>6.786583</td>\n",
       "      <td>12.510660</td>\n",
       "      <td>7.457284</td>\n",
       "      <td>4.580833</td>\n",
       "      <td>7.564839</td>\n",
       "    </tr>\n",
       "    <tr>\n",
       "      <td>2017-12-01</td>\n",
       "      <td>NaN</td>\n",
       "      <td>NaN</td>\n",
       "      <td>NaN</td>\n",
       "      <td>NaN</td>\n",
       "      <td>NaN</td>\n",
       "      <td>NaN</td>\n",
       "      <td>4.738191</td>\n",
       "      <td>7.816575</td>\n",
       "      <td>39.366019</td>\n",
       "      <td>48.135052</td>\n",
       "      <td>27.431400</td>\n",
       "      <td>23.518413</td>\n",
       "    </tr>\n",
       "    <tr>\n",
       "      <td>2018-01-01</td>\n",
       "      <td>NaN</td>\n",
       "      <td>NaN</td>\n",
       "      <td>NaN</td>\n",
       "      <td>NaN</td>\n",
       "      <td>NaN</td>\n",
       "      <td>NaN</td>\n",
       "      <td>NaN</td>\n",
       "      <td>4.135636</td>\n",
       "      <td>8.721228</td>\n",
       "      <td>12.365542</td>\n",
       "      <td>11.199767</td>\n",
       "      <td>4.699556</td>\n",
       "    </tr>\n",
       "    <tr>\n",
       "      <td>2018-02-01</td>\n",
       "      <td>NaN</td>\n",
       "      <td>NaN</td>\n",
       "      <td>NaN</td>\n",
       "      <td>NaN</td>\n",
       "      <td>NaN</td>\n",
       "      <td>NaN</td>\n",
       "      <td>NaN</td>\n",
       "      <td>NaN</td>\n",
       "      <td>4.156987</td>\n",
       "      <td>8.610000</td>\n",
       "      <td>4.942414</td>\n",
       "      <td>6.941026</td>\n",
       "    </tr>\n",
       "    <tr>\n",
       "      <td>2018-03-01</td>\n",
       "      <td>NaN</td>\n",
       "      <td>NaN</td>\n",
       "      <td>NaN</td>\n",
       "      <td>NaN</td>\n",
       "      <td>NaN</td>\n",
       "      <td>NaN</td>\n",
       "      <td>NaN</td>\n",
       "      <td>NaN</td>\n",
       "      <td>NaN</td>\n",
       "      <td>4.838803</td>\n",
       "      <td>11.811667</td>\n",
       "      <td>19.221897</td>\n",
       "    </tr>\n",
       "    <tr>\n",
       "      <td>2018-04-01</td>\n",
       "      <td>NaN</td>\n",
       "      <td>NaN</td>\n",
       "      <td>NaN</td>\n",
       "      <td>NaN</td>\n",
       "      <td>NaN</td>\n",
       "      <td>NaN</td>\n",
       "      <td>NaN</td>\n",
       "      <td>NaN</td>\n",
       "      <td>NaN</td>\n",
       "      <td>NaN</td>\n",
       "      <td>4.657597</td>\n",
       "      <td>17.535072</td>\n",
       "    </tr>\n",
       "    <tr>\n",
       "      <td>2018-05-01</td>\n",
       "      <td>NaN</td>\n",
       "      <td>NaN</td>\n",
       "      <td>NaN</td>\n",
       "      <td>NaN</td>\n",
       "      <td>NaN</td>\n",
       "      <td>NaN</td>\n",
       "      <td>NaN</td>\n",
       "      <td>NaN</td>\n",
       "      <td>NaN</td>\n",
       "      <td>NaN</td>\n",
       "      <td>NaN</td>\n",
       "      <td>4.660562</td>\n",
       "    </tr>\n",
       "  </tbody>\n",
       "</table>\n",
       "</div>"
      ],
      "text/plain": [
       "order_month         2017-06    2017-07    2017-08    2017-09    2017-10  \\\n",
       "first_order_month                                                         \n",
       "2017-06-01         4.724414  16.095410  17.706800  35.764815  23.506591   \n",
       "2017-07-01              NaN   6.010218  12.396346  21.035965  10.786094   \n",
       "2017-08-01              NaN        NaN   5.279481  11.148793  11.851321   \n",
       "2017-09-01              NaN        NaN        NaN   5.644529  22.188385   \n",
       "2017-10-01              NaN        NaN        NaN        NaN   5.003733   \n",
       "2017-11-01              NaN        NaN        NaN        NaN        NaN   \n",
       "2017-12-01              NaN        NaN        NaN        NaN        NaN   \n",
       "2018-01-01              NaN        NaN        NaN        NaN        NaN   \n",
       "2018-02-01              NaN        NaN        NaN        NaN        NaN   \n",
       "2018-03-01              NaN        NaN        NaN        NaN        NaN   \n",
       "2018-04-01              NaN        NaN        NaN        NaN        NaN   \n",
       "2018-05-01              NaN        NaN        NaN        NaN        NaN   \n",
       "\n",
       "order_month          2017-11     2017-12    2018-01    2018-02    2018-03  \\\n",
       "first_order_month                                                           \n",
       "2017-06-01         22.207761   31.011935  25.033191  19.295690  27.233556   \n",
       "2017-07-01          6.938163    7.896842   6.421111   6.992821   7.382143   \n",
       "2017-08-01         12.182955   16.921250  12.139063   9.620333  12.610455   \n",
       "2017-09-01         13.445200  138.669189  19.881538  26.095000  27.437121   \n",
       "2017-10-01         11.287427    6.753252   7.413152   7.072796   7.255139   \n",
       "2017-11-01          5.154683    7.339054   6.786583  12.510660   7.457284   \n",
       "2017-12-01               NaN    4.738191   7.816575  39.366019  48.135052   \n",
       "2018-01-01               NaN         NaN   4.135636   8.721228  12.365542   \n",
       "2018-02-01               NaN         NaN        NaN   4.156987   8.610000   \n",
       "2018-03-01               NaN         NaN        NaN        NaN   4.838803   \n",
       "2018-04-01               NaN         NaN        NaN        NaN        NaN   \n",
       "2018-05-01               NaN         NaN        NaN        NaN        NaN   \n",
       "\n",
       "order_month          2018-04    2018-05  \n",
       "first_order_month                        \n",
       "2017-06-01         25.681333   9.804151  \n",
       "2017-07-01         12.861818  11.513846  \n",
       "2017-08-01         21.070000   8.307419  \n",
       "2017-09-01         16.961351  11.044651  \n",
       "2017-10-01          6.573214   7.479701  \n",
       "2017-11-01          4.580833   7.564839  \n",
       "2017-12-01         27.431400  23.518413  \n",
       "2018-01-01         11.199767   4.699556  \n",
       "2018-02-01          4.942414   6.941026  \n",
       "2018-03-01         11.811667  19.221897  \n",
       "2018-04-01          4.657597  17.535072  \n",
       "2018-05-01               NaN   4.660562  "
      ]
     },
     "execution_count": 69,
     "metadata": {},
     "output_type": "execute_result"
    }
   ],
   "source": [
    "cohort_grouped_2.pivot_table(index='first_order_month',columns='order_month',values='revenue_per_user',aggfunc='mean')"
   ]
  },
  {
   "cell_type": "markdown",
   "metadata": {},
   "source": [
    "А теперь необходимо посчитать какой средний чек выйдет в месяц на пользователя."
   ]
  },
  {
   "cell_type": "code",
   "execution_count": 70,
   "metadata": {},
   "outputs": [],
   "source": [
    "cohort_grouped['revenue_per_user'] = cohort_grouped['revenue'] / cohort_grouped['n_buyers']"
   ]
  },
  {
   "cell_type": "code",
   "execution_count": 71,
   "metadata": {},
   "outputs": [],
   "source": [
    "cheque = cohort_grouped.groupby('order_month').agg({'revenue_per_user':'mean'})"
   ]
  },
  {
   "cell_type": "code",
   "execution_count": 72,
   "metadata": {},
   "outputs": [
    {
     "data": {
      "text/plain": [
       "Text(0.5, 1.0, 'Средний чек на пользователя')"
      ]
     },
     "execution_count": 72,
     "metadata": {},
     "output_type": "execute_result"
    },
    {
     "data": {
      "image/png": "[encoded data removed]",
      "text/plain": [
       "<Figure size 1080x360 with 1 Axes>"
      ]
     },
     "metadata": {
      "needs_background": "light"
     },
     "output_type": "display_data"
    }
   ],
   "source": [
    "cheque.plot(kind='bar', grid=True, figsize=(15,5), linewidth=5, color='b', legend=False)\n",
    "plt.ylabel('Сумма')\n",
    "plt.xlabel('Месяц')\n",
    "plt.title('Средний чек на пользователя')"
   ]
  },
  {
   "cell_type": "markdown",
   "metadata": {},
   "source": [
    "Максимальный средний чек выходит в декабрьской когорте, когда все покупают подарки но Новый год."
   ]
  },
  {
   "cell_type": "markdown",
   "metadata": {},
   "source": [
    "#### 2.8. Сколько денег приносят? (LTV)"
   ]
  },
  {
   "cell_type": "markdown",
   "metadata": {},
   "source": [
    "LTV удобно считать по когортам. Для этого нужно:\n",
    "1. найти дату первой покупки каждого покупателя;"
   ]
  },
  {
   "cell_type": "code",
   "execution_count": 73,
   "metadata": {},
   "outputs": [],
   "source": [
    "orders['buy_ts'] = pd.to_datetime(orders['buy_ts'])\n",
    "\n",
    "orders['order_month'] = orders['buy_ts'].astype('datetime64[M]')\n",
    "\n",
    "first_orders = orders.groupby('uid').agg({'order_month': 'min'}).reset_index()\n",
    "first_orders.columns = ['uid', 'first_order_month']\n",
    "first_orders = first_orders.query('first_order_month != \"2018-06-01\"')\n",
    "cohort_sizes = first_orders.groupby('first_order_month').agg({'uid': 'nunique'}).reset_index()\n",
    "cohort_sizes.columns = ['first_order_month', 'n_buyers']"
   ]
  },
  {
   "cell_type": "markdown",
   "metadata": {},
   "source": [
    "2. вычислить число новых покупателей за каждую дату;\n",
    "3. добавить дату первой покупки в таблицу с заказами;\n",
    "4. сгруппировать таблицу и посчитать выручку."
   ]
  },
  {
   "cell_type": "code",
   "execution_count": 74,
   "metadata": {},
   "outputs": [],
   "source": [
    "first_order_month = pd.merge(orders,first_orders, on='uid')\n",
    "cohorts = first_order_month.groupby(['first_order_month','order_month']).agg({'revenue': 'sum'}).reset_index()\n",
    "report = pd.merge(cohort_sizes, cohorts, on='first_order_month')"
   ]
  },
  {
   "cell_type": "markdown",
   "metadata": {},
   "source": [
    "Получили дробные числа. Это связано с тем, что константа np.timedelta64(1,'M') представляет собой среднюю длину месяца в году. В месяце бывает от 28 дней до 31, вот и числа вышли не целые. Округлим значения столбца cohort_lifetime методом round(), а затем приведём их к типу 'int'."
   ]
  },
  {
   "cell_type": "code",
   "execution_count": 75,
   "metadata": {},
   "outputs": [],
   "source": [
    "report['age'] = (report['order_month'] - report['first_order_month']) / np.timedelta64(1, 'M')\n",
    "report['age'] = report['age'].round().astype('int')"
   ]
  },
  {
   "cell_type": "markdown",
   "metadata": {},
   "source": [
    "Получили целое число месяцев, обозначающее порядковый месяц совершения покупки относительно месяца первой покупки."
   ]
  },
  {
   "cell_type": "code",
   "execution_count": 76,
   "metadata": {},
   "outputs": [],
   "source": [
    "report['ltv'] = report['revenue'] / report['n_buyers']"
   ]
  },
  {
   "cell_type": "code",
   "execution_count": 77,
   "metadata": {},
   "outputs": [],
   "source": [
    "report['first_order_month'] = report['first_order_month'].astype('datetime64[M]')\n",
    "report['first_order_month'] = report['first_order_month'].dt.strftime('%Y-%m')"
   ]
  },
  {
   "cell_type": "code",
   "execution_count": 78,
   "metadata": {},
   "outputs": [
    {
     "data": {
      "text/html": [
       "<div>\n",
       "<style scoped>\n",
       "    .dataframe tbody tr th:only-of-type {\n",
       "        vertical-align: middle;\n",
       "    }\n",
       "\n",
       "    .dataframe tbody tr th {\n",
       "        vertical-align: top;\n",
       "    }\n",
       "\n",
       "    .dataframe thead th {\n",
       "        text-align: right;\n",
       "    }\n",
       "</style>\n",
       "<table border=\"1\" class=\"dataframe\">\n",
       "  <thead>\n",
       "    <tr style=\"text-align: right;\">\n",
       "      <th>age</th>\n",
       "      <th>0</th>\n",
       "      <th>1</th>\n",
       "      <th>2</th>\n",
       "      <th>3</th>\n",
       "      <th>4</th>\n",
       "      <th>5</th>\n",
       "      <th>6</th>\n",
       "      <th>7</th>\n",
       "      <th>8</th>\n",
       "      <th>9</th>\n",
       "      <th>10</th>\n",
       "      <th>11</th>\n",
       "    </tr>\n",
       "    <tr>\n",
       "      <th>first_order_month</th>\n",
       "      <th></th>\n",
       "      <th></th>\n",
       "      <th></th>\n",
       "      <th></th>\n",
       "      <th></th>\n",
       "      <th></th>\n",
       "      <th></th>\n",
       "      <th></th>\n",
       "      <th></th>\n",
       "      <th></th>\n",
       "      <th></th>\n",
       "      <th></th>\n",
       "    </tr>\n",
       "  </thead>\n",
       "  <tbody>\n",
       "    <tr>\n",
       "      <td>2017-06</td>\n",
       "      <td>4.724414</td>\n",
       "      <td>0.485329</td>\n",
       "      <td>0.437637</td>\n",
       "      <td>0.954671</td>\n",
       "      <td>1.022531</td>\n",
       "      <td>0.735502</td>\n",
       "      <td>0.950440</td>\n",
       "      <td>0.581592</td>\n",
       "      <td>0.553213</td>\n",
       "      <td>0.605788</td>\n",
       "      <td>0.571261</td>\n",
       "      <td>0.256856</td>\n",
       "    </tr>\n",
       "    <tr>\n",
       "      <td>2017-07</td>\n",
       "      <td>6.010218</td>\n",
       "      <td>0.335211</td>\n",
       "      <td>0.623531</td>\n",
       "      <td>0.358976</td>\n",
       "      <td>0.176791</td>\n",
       "      <td>0.156048</td>\n",
       "      <td>0.120208</td>\n",
       "      <td>0.141820</td>\n",
       "      <td>0.161232</td>\n",
       "      <td>0.147145</td>\n",
       "      <td>0.155673</td>\n",
       "      <td>NaN</td>\n",
       "    </tr>\n",
       "    <tr>\n",
       "      <td>2017-08</td>\n",
       "      <td>5.276518</td>\n",
       "      <td>0.471993</td>\n",
       "      <td>0.458482</td>\n",
       "      <td>0.391277</td>\n",
       "      <td>0.494051</td>\n",
       "      <td>0.283540</td>\n",
       "      <td>0.210664</td>\n",
       "      <td>0.405007</td>\n",
       "      <td>0.292212</td>\n",
       "      <td>0.187978</td>\n",
       "      <td>NaN</td>\n",
       "      <td>NaN</td>\n",
       "    </tr>\n",
       "    <tr>\n",
       "      <td>2017-09</td>\n",
       "      <td>5.644529</td>\n",
       "      <td>1.117586</td>\n",
       "      <td>0.520930</td>\n",
       "      <td>3.975792</td>\n",
       "      <td>0.400558</td>\n",
       "      <td>0.647067</td>\n",
       "      <td>0.701608</td>\n",
       "      <td>0.243150</td>\n",
       "      <td>0.184006</td>\n",
       "      <td>NaN</td>\n",
       "      <td>NaN</td>\n",
       "      <td>NaN</td>\n",
       "    </tr>\n",
       "    <tr>\n",
       "      <td>2017-10</td>\n",
       "      <td>5.003733</td>\n",
       "      <td>0.535763</td>\n",
       "      <td>0.191394</td>\n",
       "      <td>0.157145</td>\n",
       "      <td>0.151560</td>\n",
       "      <td>0.120362</td>\n",
       "      <td>0.084816</td>\n",
       "      <td>0.115470</td>\n",
       "      <td>NaN</td>\n",
       "      <td>NaN</td>\n",
       "      <td>NaN</td>\n",
       "      <td>NaN</td>\n",
       "    </tr>\n",
       "    <tr>\n",
       "      <td>2017-11</td>\n",
       "      <td>5.154683</td>\n",
       "      <td>0.399233</td>\n",
       "      <td>0.199556</td>\n",
       "      <td>0.324952</td>\n",
       "      <td>0.148013</td>\n",
       "      <td>0.053879</td>\n",
       "      <td>0.114928</td>\n",
       "      <td>NaN</td>\n",
       "      <td>NaN</td>\n",
       "      <td>NaN</td>\n",
       "      <td>NaN</td>\n",
       "      <td>NaN</td>\n",
       "    </tr>\n",
       "    <tr>\n",
       "      <td>2017-12</td>\n",
       "      <td>4.738191</td>\n",
       "      <td>0.260374</td>\n",
       "      <td>0.925097</td>\n",
       "      <td>1.065275</td>\n",
       "      <td>0.312930</td>\n",
       "      <td>0.338047</td>\n",
       "      <td>NaN</td>\n",
       "      <td>NaN</td>\n",
       "      <td>NaN</td>\n",
       "      <td>NaN</td>\n",
       "      <td>NaN</td>\n",
       "      <td>NaN</td>\n",
       "    </tr>\n",
       "    <tr>\n",
       "      <td>2018-01</td>\n",
       "      <td>4.135636</td>\n",
       "      <td>0.294758</td>\n",
       "      <td>0.304281</td>\n",
       "      <td>0.142778</td>\n",
       "      <td>0.062698</td>\n",
       "      <td>NaN</td>\n",
       "      <td>NaN</td>\n",
       "      <td>NaN</td>\n",
       "      <td>NaN</td>\n",
       "      <td>NaN</td>\n",
       "      <td>NaN</td>\n",
       "      <td>NaN</td>\n",
       "    </tr>\n",
       "    <tr>\n",
       "      <td>2018-02</td>\n",
       "      <td>4.156987</td>\n",
       "      <td>0.278274</td>\n",
       "      <td>0.078515</td>\n",
       "      <td>0.074144</td>\n",
       "      <td>NaN</td>\n",
       "      <td>NaN</td>\n",
       "      <td>NaN</td>\n",
       "      <td>NaN</td>\n",
       "      <td>NaN</td>\n",
       "      <td>NaN</td>\n",
       "      <td>NaN</td>\n",
       "      <td>NaN</td>\n",
       "    </tr>\n",
       "    <tr>\n",
       "      <td>2018-03</td>\n",
       "      <td>4.838803</td>\n",
       "      <td>0.300892</td>\n",
       "      <td>0.315559</td>\n",
       "      <td>NaN</td>\n",
       "      <td>NaN</td>\n",
       "      <td>NaN</td>\n",
       "      <td>NaN</td>\n",
       "      <td>NaN</td>\n",
       "      <td>NaN</td>\n",
       "      <td>NaN</td>\n",
       "      <td>NaN</td>\n",
       "      <td>NaN</td>\n",
       "    </tr>\n",
       "    <tr>\n",
       "      <td>2018-04</td>\n",
       "      <td>4.657597</td>\n",
       "      <td>0.531599</td>\n",
       "      <td>NaN</td>\n",
       "      <td>NaN</td>\n",
       "      <td>NaN</td>\n",
       "      <td>NaN</td>\n",
       "      <td>NaN</td>\n",
       "      <td>NaN</td>\n",
       "      <td>NaN</td>\n",
       "      <td>NaN</td>\n",
       "      <td>NaN</td>\n",
       "      <td>NaN</td>\n",
       "    </tr>\n",
       "    <tr>\n",
       "      <td>2018-05</td>\n",
       "      <td>4.660562</td>\n",
       "      <td>NaN</td>\n",
       "      <td>NaN</td>\n",
       "      <td>NaN</td>\n",
       "      <td>NaN</td>\n",
       "      <td>NaN</td>\n",
       "      <td>NaN</td>\n",
       "      <td>NaN</td>\n",
       "      <td>NaN</td>\n",
       "      <td>NaN</td>\n",
       "      <td>NaN</td>\n",
       "      <td>NaN</td>\n",
       "    </tr>\n",
       "  </tbody>\n",
       "</table>\n",
       "</div>"
      ],
      "text/plain": [
       "age                      0         1         2         3         4         5   \\\n",
       "first_order_month                                                               \n",
       "2017-06            4.724414  0.485329  0.437637  0.954671  1.022531  0.735502   \n",
       "2017-07            6.010218  0.335211  0.623531  0.358976  0.176791  0.156048   \n",
       "2017-08            5.276518  0.471993  0.458482  0.391277  0.494051  0.283540   \n",
       "2017-09            5.644529  1.117586  0.520930  3.975792  0.400558  0.647067   \n",
       "2017-10            5.003733  0.535763  0.191394  0.157145  0.151560  0.120362   \n",
       "2017-11            5.154683  0.399233  0.199556  0.324952  0.148013  0.053879   \n",
       "2017-12            4.738191  0.260374  0.925097  1.065275  0.312930  0.338047   \n",
       "2018-01            4.135636  0.294758  0.304281  0.142778  0.062698       NaN   \n",
       "2018-02            4.156987  0.278274  0.078515  0.074144       NaN       NaN   \n",
       "2018-03            4.838803  0.300892  0.315559       NaN       NaN       NaN   \n",
       "2018-04            4.657597  0.531599       NaN       NaN       NaN       NaN   \n",
       "2018-05            4.660562       NaN       NaN       NaN       NaN       NaN   \n",
       "\n",
       "age                      6         7         8         9         10        11  \n",
       "first_order_month                                                              \n",
       "2017-06            0.950440  0.581592  0.553213  0.605788  0.571261  0.256856  \n",
       "2017-07            0.120208  0.141820  0.161232  0.147145  0.155673       NaN  \n",
       "2017-08            0.210664  0.405007  0.292212  0.187978       NaN       NaN  \n",
       "2017-09            0.701608  0.243150  0.184006       NaN       NaN       NaN  \n",
       "2017-10            0.084816  0.115470       NaN       NaN       NaN       NaN  \n",
       "2017-11            0.114928       NaN       NaN       NaN       NaN       NaN  \n",
       "2017-12                 NaN       NaN       NaN       NaN       NaN       NaN  \n",
       "2018-01                 NaN       NaN       NaN       NaN       NaN       NaN  \n",
       "2018-02                 NaN       NaN       NaN       NaN       NaN       NaN  \n",
       "2018-03                 NaN       NaN       NaN       NaN       NaN       NaN  \n",
       "2018-04                 NaN       NaN       NaN       NaN       NaN       NaN  \n",
       "2018-05                 NaN       NaN       NaN       NaN       NaN       NaN  "
      ]
     },
     "execution_count": 78,
     "metadata": {},
     "output_type": "execute_result"
    }
   ],
   "source": [
    "result = report.pivot_table(\n",
    "    index='first_order_month', \n",
    "    columns='age', \n",
    "    values='ltv', \n",
    "    aggfunc='mean')\n",
    "\n",
    "result"
   ]
  },
  {
   "cell_type": "markdown",
   "metadata": {},
   "source": [
    "Создадим тепловую карту по полученной таблице."
   ]
  },
  {
   "cell_type": "code",
   "execution_count": 79,
   "metadata": {},
   "outputs": [
    {
     "data": {
      "text/plain": [
       "Text(114.0, 0.5, 'Когорты')"
      ]
     },
     "execution_count": 79,
     "metadata": {},
     "output_type": "execute_result"
    },
    {
     "data": {
      "image/png": "[encoded data removed]",
      "text/plain": [
       "<Figure size 1080x648 with 2 Axes>"
      ]
     },
     "metadata": {
      "needs_background": "light"
     },
     "output_type": "display_data"
    }
   ],
   "source": [
    "plt.figure(figsize=(15, 9))\n",
    "plt.title('LTV')\n",
    "sns.heatmap(result, annot=True, fmt='.2f', linewidths=0.5, linecolor='gray', vmin=0, vmax= 1.5)\n",
    "plt.xlabel('Жизненный цикл')\n",
    "plt.ylabel('Когорты')"
   ]
  },
  {
   "cell_type": "markdown",
   "metadata": {},
   "source": [
    "Мы видим, что средний чек когорты 2017-09 сильно выделяется за 4 период. Он равен 3,98 и это максимальное значение во всей тепловой карте. Также в этом же периоде выделяется когорта 2017-06 и 2017-12. Видимо в этом периоде происходили какие- то массовые, популярные мероприятия. "
   ]
  },
  {
   "cell_type": "markdown",
   "metadata": {},
   "source": [
    "У когорт 2017-07 и 2017-10 оказались самые маленькие LTV."
   ]
  },
  {
   "cell_type": "markdown",
   "metadata": {},
   "source": [
    "### Блок 3. Маркетинг"
   ]
  },
  {
   "cell_type": "markdown",
   "metadata": {},
   "source": [
    "#### 2.9. Сколько денег потратили? Всего / на каждый источник / по времени."
   ]
  },
  {
   "cell_type": "markdown",
   "metadata": {},
   "source": [
    "Чтобы ответить на данные вопросы сгруппируем по заданной теме затраты на маркетинг, а для наглдяности визуализируем, чтобы была видна динамика."
   ]
  },
  {
   "cell_type": "markdown",
   "metadata": {},
   "source": [
    "Всего на рекламную кампанию потратили:"
   ]
  },
  {
   "cell_type": "code",
   "execution_count": 80,
   "metadata": {},
   "outputs": [
    {
     "data": {
      "text/plain": [
       "329131.62"
      ]
     },
     "execution_count": 80,
     "metadata": {},
     "output_type": "execute_result"
    }
   ],
   "source": [
    "total_costs = costs['costs'].sum()\n",
    "total_costs"
   ]
  },
  {
   "cell_type": "markdown",
   "metadata": {},
   "source": [
    "Маркетинговые расходы разбитые по каждому источнику."
   ]
  },
  {
   "cell_type": "code",
   "execution_count": 81,
   "metadata": {},
   "outputs": [],
   "source": [
    "costs_per_source = costs.groupby('source_id').agg({'costs':'sum'})"
   ]
  },
  {
   "cell_type": "code",
   "execution_count": 82,
   "metadata": {
    "scrolled": false
   },
   "outputs": [
    {
     "data": {
      "text/plain": [
       "Text(0.5, 1.0, 'Затраты на маркетинг по каждому источнику трафика')"
      ]
     },
     "execution_count": 82,
     "metadata": {},
     "output_type": "execute_result"
    },
    {
     "data": {
      "image/png": "[encoded data removed]",
      "text/plain": [
       "<Figure size 1080x360 with 1 Axes>"
      ]
     },
     "metadata": {
      "needs_background": "light"
     },
     "output_type": "display_data"
    }
   ],
   "source": [
    "costs_per_source.plot(kind='bar', grid=True, figsize=(15,5), linewidth=5, color='r', legend=False)\n",
    "plt.ylabel('Затраты на маркетинг')\n",
    "plt.xlabel('Источник')\n",
    "plt.title('Затраты на маркетинг по каждому источнику трафика')"
   ]
  },
  {
   "cell_type": "markdown",
   "metadata": {},
   "source": [
    "Мы видим, что максимальные затраты пришлись на третий источник. А минимальные затраты на 9 и 10."
   ]
  },
  {
   "cell_type": "code",
   "execution_count": 83,
   "metadata": {},
   "outputs": [
    {
     "name": "stdout",
     "output_type": "stream",
     "text": [
      "<class 'pandas.core.frame.DataFrame'>\n",
      "RangeIndex: 2542 entries, 0 to 2541\n",
      "Data columns (total 5 columns):\n",
      "source_id    2542 non-null int64\n",
      "dt           2542 non-null object\n",
      "costs        2542 non-null float64\n",
      "day          2542 non-null int64\n",
      "month        2542 non-null int64\n",
      "dtypes: float64(1), int64(3), object(1)\n",
      "memory usage: 99.4+ KB\n"
     ]
    }
   ],
   "source": [
    "costs.info()"
   ]
  },
  {
   "cell_type": "code",
   "execution_count": 84,
   "metadata": {},
   "outputs": [
    {
     "data": {
      "text/html": [
       "<div>\n",
       "<style scoped>\n",
       "    .dataframe tbody tr th:only-of-type {\n",
       "        vertical-align: middle;\n",
       "    }\n",
       "\n",
       "    .dataframe tbody tr th {\n",
       "        vertical-align: top;\n",
       "    }\n",
       "\n",
       "    .dataframe thead th {\n",
       "        text-align: right;\n",
       "    }\n",
       "</style>\n",
       "<table border=\"1\" class=\"dataframe\">\n",
       "  <thead>\n",
       "    <tr style=\"text-align: right;\">\n",
       "      <th></th>\n",
       "      <th>order_month</th>\n",
       "      <th>source_id</th>\n",
       "      <th>costs</th>\n",
       "    </tr>\n",
       "  </thead>\n",
       "  <tbody>\n",
       "    <tr>\n",
       "      <td>0</td>\n",
       "      <td>2017-06-01</td>\n",
       "      <td>1</td>\n",
       "      <td>1125.61</td>\n",
       "    </tr>\n",
       "    <tr>\n",
       "      <td>1</td>\n",
       "      <td>2017-06-01</td>\n",
       "      <td>2</td>\n",
       "      <td>2427.38</td>\n",
       "    </tr>\n",
       "    <tr>\n",
       "      <td>2</td>\n",
       "      <td>2017-06-01</td>\n",
       "      <td>3</td>\n",
       "      <td>7731.65</td>\n",
       "    </tr>\n",
       "    <tr>\n",
       "      <td>3</td>\n",
       "      <td>2017-06-01</td>\n",
       "      <td>4</td>\n",
       "      <td>3514.80</td>\n",
       "    </tr>\n",
       "    <tr>\n",
       "      <td>4</td>\n",
       "      <td>2017-06-01</td>\n",
       "      <td>5</td>\n",
       "      <td>2616.12</td>\n",
       "    </tr>\n",
       "  </tbody>\n",
       "</table>\n",
       "</div>"
      ],
      "text/plain": [
       "  order_month  source_id    costs\n",
       "0  2017-06-01          1  1125.61\n",
       "1  2017-06-01          2  2427.38\n",
       "2  2017-06-01          3  7731.65\n",
       "3  2017-06-01          4  3514.80\n",
       "4  2017-06-01          5  2616.12"
      ]
     },
     "execution_count": 84,
     "metadata": {},
     "output_type": "execute_result"
    }
   ],
   "source": [
    "costs['dt'] = costs['dt'].astype('datetime64[M]')\n",
    "costs.columns = ['source_id', 'order_month', 'costs', 'day', 'month']\n",
    "costs_per_time = costs.groupby(['order_month', 'source_id']).agg({'costs':'sum'}).reset_index()\n",
    "costs_per_time.head()"
   ]
  },
  {
   "cell_type": "code",
   "execution_count": 85,
   "metadata": {},
   "outputs": [],
   "source": [
    "costs_per_time_2 = afisha_order.groupby('order_month').agg({'uid':'nunique'}).reset_index()\n",
    "costs_per_time_2.columns = ['order_month', 'uid']"
   ]
  },
  {
   "cell_type": "code",
   "execution_count": 86,
   "metadata": {},
   "outputs": [],
   "source": [
    "costs_month = costs_per_time.merge(costs_per_time_2, on='order_month')"
   ]
  },
  {
   "cell_type": "code",
   "execution_count": 87,
   "metadata": {},
   "outputs": [],
   "source": [
    "costs_month['order_month'] = costs_month['order_month'].dt.strftime('%Y-%m')"
   ]
  },
  {
   "cell_type": "code",
   "execution_count": 88,
   "metadata": {},
   "outputs": [],
   "source": [
    "costs_month_plot = costs_month.groupby('order_month').agg({'costs':'sum'})"
   ]
  },
  {
   "cell_type": "code",
   "execution_count": 89,
   "metadata": {},
   "outputs": [
    {
     "data": {
      "text/plain": [
       "Text(0.5, 1.0, 'Затраты на маркетинг по времени')"
      ]
     },
     "execution_count": 89,
     "metadata": {},
     "output_type": "execute_result"
    },
    {
     "data": {
      "image/png": "[encoded data removed]",
      "text/plain": [
       "<Figure size 1080x360 with 1 Axes>"
      ]
     },
     "metadata": {
      "needs_background": "light"
     },
     "output_type": "display_data"
    }
   ],
   "source": [
    "costs_month_plot.plot(kind='bar', grid=True, figsize=(15,5), linewidth=5, color='b', legend=False)\n",
    "plt.ylabel('Затраты на маркетинг')\n",
    "plt.xlabel('Дата покупки')\n",
    "plt.title('Затраты на маркетинг по времени')"
   ]
  },
  {
   "cell_type": "markdown",
   "metadata": {},
   "source": [
    "Выходит очень логичная ситуация. Минимальные затраты на рекламу приходятся на лето, когда человек старается максимально проводить время на улице. А максимальные затраты приходятся на предновогодний период, когда люди находятся в поисках новогодних подарков."
   ]
  },
  {
   "cell_type": "markdown",
   "metadata": {},
   "source": [
    "В графике пользователей мы видели аналогичную ситуацию, а значит рекламная кампания работает."
   ]
  },
  {
   "cell_type": "markdown",
   "metadata": {},
   "source": [
    "#### 2.10. Сколько стоило привлечение одного покупателя из каждого источника?"
   ]
  },
  {
   "cell_type": "markdown",
   "metadata": {},
   "source": [
    "Создадим дополнительный дф, в котором будет группировка специально для расчета экономических показателей с группировкой по рекламным источникам."
   ]
  },
  {
   "cell_type": "code",
   "execution_count": 90,
   "metadata": {},
   "outputs": [],
   "source": [
    "order_cac = users.merge(orders, on='uid', how='left')\n",
    "order_cac = order_cac.dropna()"
   ]
  },
  {
   "cell_type": "markdown",
   "metadata": {},
   "source": [
    "Cгруппируем покупателей по источникам"
   ]
  },
  {
   "cell_type": "code",
   "execution_count": 91,
   "metadata": {},
   "outputs": [],
   "source": [
    "uid_per_source = order_cac.groupby('source_id').agg({'uid':'nunique'})"
   ]
  },
  {
   "cell_type": "markdown",
   "metadata": {},
   "source": [
    "Объединим с группировкой расходов по источникам."
   ]
  },
  {
   "cell_type": "code",
   "execution_count": 92,
   "metadata": {},
   "outputs": [
    {
     "data": {
      "text/html": [
       "<div>\n",
       "<style scoped>\n",
       "    .dataframe tbody tr th:only-of-type {\n",
       "        vertical-align: middle;\n",
       "    }\n",
       "\n",
       "    .dataframe tbody tr th {\n",
       "        vertical-align: top;\n",
       "    }\n",
       "\n",
       "    .dataframe thead th {\n",
       "        text-align: right;\n",
       "    }\n",
       "</style>\n",
       "<table border=\"1\" class=\"dataframe\">\n",
       "  <thead>\n",
       "    <tr style=\"text-align: right;\">\n",
       "      <th></th>\n",
       "      <th>costs</th>\n",
       "      <th>uid</th>\n",
       "      <th>cac</th>\n",
       "    </tr>\n",
       "    <tr>\n",
       "      <th>source_id</th>\n",
       "      <th></th>\n",
       "      <th></th>\n",
       "      <th></th>\n",
       "    </tr>\n",
       "  </thead>\n",
       "  <tbody>\n",
       "    <tr>\n",
       "      <td>1</td>\n",
       "      <td>20833.27</td>\n",
       "      <td>2899</td>\n",
       "      <td>7.186364</td>\n",
       "    </tr>\n",
       "    <tr>\n",
       "      <td>2</td>\n",
       "      <td>42806.04</td>\n",
       "      <td>3506</td>\n",
       "      <td>12.209367</td>\n",
       "    </tr>\n",
       "    <tr>\n",
       "      <td>3</td>\n",
       "      <td>141321.63</td>\n",
       "      <td>10473</td>\n",
       "      <td>13.493901</td>\n",
       "    </tr>\n",
       "    <tr>\n",
       "      <td>4</td>\n",
       "      <td>61073.60</td>\n",
       "      <td>10296</td>\n",
       "      <td>5.931779</td>\n",
       "    </tr>\n",
       "    <tr>\n",
       "      <td>5</td>\n",
       "      <td>51757.10</td>\n",
       "      <td>6931</td>\n",
       "      <td>7.467479</td>\n",
       "    </tr>\n",
       "    <tr>\n",
       "      <td>9</td>\n",
       "      <td>5517.49</td>\n",
       "      <td>1088</td>\n",
       "      <td>5.071222</td>\n",
       "    </tr>\n",
       "    <tr>\n",
       "      <td>10</td>\n",
       "      <td>5822.49</td>\n",
       "      <td>1329</td>\n",
       "      <td>4.381106</td>\n",
       "    </tr>\n",
       "  </tbody>\n",
       "</table>\n",
       "</div>"
      ],
      "text/plain": [
       "               costs    uid        cac\n",
       "source_id                             \n",
       "1           20833.27   2899   7.186364\n",
       "2           42806.04   3506  12.209367\n",
       "3          141321.63  10473  13.493901\n",
       "4           61073.60  10296   5.931779\n",
       "5           51757.10   6931   7.467479\n",
       "9            5517.49   1088   5.071222\n",
       "10           5822.49   1329   4.381106"
      ]
     },
     "execution_count": 92,
     "metadata": {},
     "output_type": "execute_result"
    }
   ],
   "source": [
    "cac_step = pd.merge(costs_per_source,uid_per_source, on='source_id')\n",
    "cac_step['cac'] = cac_step['costs'] / cac_step['uid']\n",
    "cac_step"
   ]
  },
  {
   "cell_type": "markdown",
   "metadata": {},
   "source": [
    "Проверим правильное ли количество покупателей мы использовали."
   ]
  },
  {
   "cell_type": "code",
   "execution_count": 93,
   "metadata": {},
   "outputs": [
    {
     "data": {
      "text/plain": [
       "36523"
      ]
     },
     "execution_count": 93,
     "metadata": {},
     "output_type": "execute_result"
    }
   ],
   "source": [
    "order_cac['uid'].nunique()"
   ]
  },
  {
   "cell_type": "code",
   "execution_count": 94,
   "metadata": {},
   "outputs": [
    {
     "data": {
      "text/plain": [
       "36522"
      ]
     },
     "execution_count": 94,
     "metadata": {},
     "output_type": "execute_result"
    }
   ],
   "source": [
    "cac_step['uid'].sum()"
   ]
  },
  {
   "cell_type": "markdown",
   "metadata": {},
   "source": [
    "Получим месяц первой покупки каждого покупателя:"
   ]
  },
  {
   "cell_type": "code",
   "execution_count": 95,
   "metadata": {},
   "outputs": [],
   "source": [
    "market_grouped = pd.merge(orders, users, on='uid')\n",
    "market_grouped = market_grouped.dropna()\n",
    "first_orders2 = market_grouped.groupby(['uid', 'source_id']).agg({'order_month': 'min'}).reset_index()\n",
    "first_orders2.columns = ['uid', 'source_id', 'first_order_month']"
   ]
  },
  {
   "cell_type": "markdown",
   "metadata": {},
   "source": [
    "Посчитаем количество новых покупателей (n_buyers) за каждый месяц."
   ]
  },
  {
   "cell_type": "code",
   "execution_count": 96,
   "metadata": {},
   "outputs": [
    {
     "data": {
      "text/html": [
       "<div>\n",
       "<style scoped>\n",
       "    .dataframe tbody tr th:only-of-type {\n",
       "        vertical-align: middle;\n",
       "    }\n",
       "\n",
       "    .dataframe tbody tr th {\n",
       "        vertical-align: top;\n",
       "    }\n",
       "\n",
       "    .dataframe thead th {\n",
       "        text-align: right;\n",
       "    }\n",
       "</style>\n",
       "<table border=\"1\" class=\"dataframe\">\n",
       "  <thead>\n",
       "    <tr style=\"text-align: right;\">\n",
       "      <th></th>\n",
       "      <th>first_order_month</th>\n",
       "      <th>source_id</th>\n",
       "      <th>n_buyers</th>\n",
       "    </tr>\n",
       "  </thead>\n",
       "  <tbody>\n",
       "    <tr>\n",
       "      <td>0</td>\n",
       "      <td>2017-06-01</td>\n",
       "      <td>1</td>\n",
       "      <td>190</td>\n",
       "    </tr>\n",
       "    <tr>\n",
       "      <td>1</td>\n",
       "      <td>2017-06-01</td>\n",
       "      <td>2</td>\n",
       "      <td>235</td>\n",
       "    </tr>\n",
       "    <tr>\n",
       "      <td>2</td>\n",
       "      <td>2017-06-01</td>\n",
       "      <td>3</td>\n",
       "      <td>638</td>\n",
       "    </tr>\n",
       "    <tr>\n",
       "      <td>3</td>\n",
       "      <td>2017-06-01</td>\n",
       "      <td>4</td>\n",
       "      <td>413</td>\n",
       "    </tr>\n",
       "    <tr>\n",
       "      <td>4</td>\n",
       "      <td>2017-06-01</td>\n",
       "      <td>5</td>\n",
       "      <td>384</td>\n",
       "    </tr>\n",
       "    <tr>\n",
       "      <td>...</td>\n",
       "      <td>...</td>\n",
       "      <td>...</td>\n",
       "      <td>...</td>\n",
       "    </tr>\n",
       "    <tr>\n",
       "      <td>81</td>\n",
       "      <td>2018-05-01</td>\n",
       "      <td>4</td>\n",
       "      <td>804</td>\n",
       "    </tr>\n",
       "    <tr>\n",
       "      <td>82</td>\n",
       "      <td>2018-05-01</td>\n",
       "      <td>5</td>\n",
       "      <td>497</td>\n",
       "    </tr>\n",
       "    <tr>\n",
       "      <td>83</td>\n",
       "      <td>2018-05-01</td>\n",
       "      <td>9</td>\n",
       "      <td>60</td>\n",
       "    </tr>\n",
       "    <tr>\n",
       "      <td>84</td>\n",
       "      <td>2018-05-01</td>\n",
       "      <td>10</td>\n",
       "      <td>130</td>\n",
       "    </tr>\n",
       "    <tr>\n",
       "      <td>85</td>\n",
       "      <td>2018-06-01</td>\n",
       "      <td>4</td>\n",
       "      <td>1</td>\n",
       "    </tr>\n",
       "  </tbody>\n",
       "</table>\n",
       "<p>86 rows × 3 columns</p>\n",
       "</div>"
      ],
      "text/plain": [
       "   first_order_month  source_id  n_buyers\n",
       "0         2017-06-01          1       190\n",
       "1         2017-06-01          2       235\n",
       "2         2017-06-01          3       638\n",
       "3         2017-06-01          4       413\n",
       "4         2017-06-01          5       384\n",
       "..               ...        ...       ...\n",
       "81        2018-05-01          4       804\n",
       "82        2018-05-01          5       497\n",
       "83        2018-05-01          9        60\n",
       "84        2018-05-01         10       130\n",
       "85        2018-06-01          4         1\n",
       "\n",
       "[86 rows x 3 columns]"
      ]
     },
     "execution_count": 96,
     "metadata": {},
     "output_type": "execute_result"
    }
   ],
   "source": [
    "cohort_sizes2 = first_orders2.groupby(['first_order_month', 'source_id']).agg({'uid': 'nunique'}).reset_index()\n",
    "cohort_sizes2.columns = ['first_order_month', 'source_id', 'n_buyers']\n",
    "cohort_sizes2.head()"
   ]
  },
  {
   "cell_type": "code",
   "execution_count": 97,
   "metadata": {},
   "outputs": [],
   "source": [
    "orders_first_month = pd.merge(market_grouped,first_orders2, on=['uid', 'source_id'])"
   ]
  },
  {
   "cell_type": "code",
   "execution_count": 98,
   "metadata": {},
   "outputs": [
    {
     "data": {
      "text/html": [
       "<div>\n",
       "<style scoped>\n",
       "    .dataframe tbody tr th:only-of-type {\n",
       "        vertical-align: middle;\n",
       "    }\n",
       "\n",
       "    .dataframe tbody tr th {\n",
       "        vertical-align: top;\n",
       "    }\n",
       "\n",
       "    .dataframe thead th {\n",
       "        text-align: right;\n",
       "    }\n",
       "</style>\n",
       "<table border=\"1\" class=\"dataframe\">\n",
       "  <thead>\n",
       "    <tr style=\"text-align: right;\">\n",
       "      <th></th>\n",
       "      <th>first_order_month</th>\n",
       "      <th>order_month</th>\n",
       "      <th>source_id</th>\n",
       "      <th>revenue</th>\n",
       "    </tr>\n",
       "  </thead>\n",
       "  <tbody>\n",
       "    <tr>\n",
       "      <td>0</td>\n",
       "      <td>2017-06-01</td>\n",
       "      <td>2017-06-01</td>\n",
       "      <td>1</td>\n",
       "      <td>1378.70</td>\n",
       "    </tr>\n",
       "    <tr>\n",
       "      <td>1</td>\n",
       "      <td>2017-06-01</td>\n",
       "      <td>2017-06-01</td>\n",
       "      <td>2</td>\n",
       "      <td>1043.68</td>\n",
       "    </tr>\n",
       "    <tr>\n",
       "      <td>2</td>\n",
       "      <td>2017-06-01</td>\n",
       "      <td>2017-06-01</td>\n",
       "      <td>3</td>\n",
       "      <td>2804.34</td>\n",
       "    </tr>\n",
       "    <tr>\n",
       "      <td>3</td>\n",
       "      <td>2017-06-01</td>\n",
       "      <td>2017-06-01</td>\n",
       "      <td>4</td>\n",
       "      <td>1959.84</td>\n",
       "    </tr>\n",
       "    <tr>\n",
       "      <td>4</td>\n",
       "      <td>2017-06-01</td>\n",
       "      <td>2017-06-01</td>\n",
       "      <td>5</td>\n",
       "      <td>1898.89</td>\n",
       "    </tr>\n",
       "  </tbody>\n",
       "</table>\n",
       "</div>"
      ],
      "text/plain": [
       "  first_order_month order_month  source_id  revenue\n",
       "0        2017-06-01  2017-06-01          1  1378.70\n",
       "1        2017-06-01  2017-06-01          2  1043.68\n",
       "2        2017-06-01  2017-06-01          3  2804.34\n",
       "3        2017-06-01  2017-06-01          4  1959.84\n",
       "4        2017-06-01  2017-06-01          5  1898.89"
      ]
     },
     "execution_count": 98,
     "metadata": {},
     "output_type": "execute_result"
    }
   ],
   "source": [
    "cohorts2 = orders_first_month.groupby(['first_order_month','order_month','source_id']).agg({'revenue': 'sum'}).reset_index()\n",
    "cohorts2.head()"
   ]
  },
  {
   "cell_type": "code",
   "execution_count": 99,
   "metadata": {},
   "outputs": [
    {
     "data": {
      "text/html": [
       "<div>\n",
       "<style scoped>\n",
       "    .dataframe tbody tr th:only-of-type {\n",
       "        vertical-align: middle;\n",
       "    }\n",
       "\n",
       "    .dataframe tbody tr th {\n",
       "        vertical-align: top;\n",
       "    }\n",
       "\n",
       "    .dataframe thead th {\n",
       "        text-align: right;\n",
       "    }\n",
       "</style>\n",
       "<table border=\"1\" class=\"dataframe\">\n",
       "  <thead>\n",
       "    <tr style=\"text-align: right;\">\n",
       "      <th></th>\n",
       "      <th>first_order_month</th>\n",
       "      <th>source_id</th>\n",
       "      <th>n_buyers</th>\n",
       "      <th>order_month</th>\n",
       "      <th>revenue</th>\n",
       "    </tr>\n",
       "  </thead>\n",
       "  <tbody>\n",
       "    <tr>\n",
       "      <td>0</td>\n",
       "      <td>2017-06-01</td>\n",
       "      <td>1</td>\n",
       "      <td>190</td>\n",
       "      <td>2017-06-01</td>\n",
       "      <td>1378.70</td>\n",
       "    </tr>\n",
       "    <tr>\n",
       "      <td>1</td>\n",
       "      <td>2017-06-01</td>\n",
       "      <td>1</td>\n",
       "      <td>190</td>\n",
       "      <td>2017-07-01</td>\n",
       "      <td>414.98</td>\n",
       "    </tr>\n",
       "    <tr>\n",
       "      <td>2</td>\n",
       "      <td>2017-06-01</td>\n",
       "      <td>1</td>\n",
       "      <td>190</td>\n",
       "      <td>2017-08-01</td>\n",
       "      <td>419.43</td>\n",
       "    </tr>\n",
       "    <tr>\n",
       "      <td>3</td>\n",
       "      <td>2017-06-01</td>\n",
       "      <td>1</td>\n",
       "      <td>190</td>\n",
       "      <td>2017-09-01</td>\n",
       "      <td>714.24</td>\n",
       "    </tr>\n",
       "    <tr>\n",
       "      <td>4</td>\n",
       "      <td>2017-06-01</td>\n",
       "      <td>1</td>\n",
       "      <td>190</td>\n",
       "      <td>2017-10-01</td>\n",
       "      <td>811.20</td>\n",
       "    </tr>\n",
       "  </tbody>\n",
       "</table>\n",
       "</div>"
      ],
      "text/plain": [
       "  first_order_month  source_id  n_buyers order_month  revenue\n",
       "0        2017-06-01          1       190  2017-06-01  1378.70\n",
       "1        2017-06-01          1       190  2017-07-01   414.98\n",
       "2        2017-06-01          1       190  2017-08-01   419.43\n",
       "3        2017-06-01          1       190  2017-09-01   714.24\n",
       "4        2017-06-01          1       190  2017-10-01   811.20"
      ]
     },
     "execution_count": 99,
     "metadata": {},
     "output_type": "execute_result"
    }
   ],
   "source": [
    "report2 = pd.merge(cohort_sizes2, cohorts2, on=['first_order_month', 'source_id'])\n",
    "report2.head()"
   ]
  },
  {
   "cell_type": "code",
   "execution_count": 100,
   "metadata": {},
   "outputs": [
    {
     "data": {
      "text/html": [
       "<div>\n",
       "<style scoped>\n",
       "    .dataframe tbody tr th:only-of-type {\n",
       "        vertical-align: middle;\n",
       "    }\n",
       "\n",
       "    .dataframe tbody tr th {\n",
       "        vertical-align: top;\n",
       "    }\n",
       "\n",
       "    .dataframe thead th {\n",
       "        text-align: right;\n",
       "    }\n",
       "</style>\n",
       "<table border=\"1\" class=\"dataframe\">\n",
       "  <thead>\n",
       "    <tr style=\"text-align: right;\">\n",
       "      <th></th>\n",
       "      <th>order_month</th>\n",
       "      <th>source_id</th>\n",
       "      <th>costs</th>\n",
       "    </tr>\n",
       "  </thead>\n",
       "  <tbody>\n",
       "    <tr>\n",
       "      <td>0</td>\n",
       "      <td>2017-06-01</td>\n",
       "      <td>1</td>\n",
       "      <td>1125.61</td>\n",
       "    </tr>\n",
       "    <tr>\n",
       "      <td>1</td>\n",
       "      <td>2017-06-01</td>\n",
       "      <td>2</td>\n",
       "      <td>2427.38</td>\n",
       "    </tr>\n",
       "    <tr>\n",
       "      <td>2</td>\n",
       "      <td>2017-06-01</td>\n",
       "      <td>3</td>\n",
       "      <td>7731.65</td>\n",
       "    </tr>\n",
       "    <tr>\n",
       "      <td>3</td>\n",
       "      <td>2017-06-01</td>\n",
       "      <td>4</td>\n",
       "      <td>3514.80</td>\n",
       "    </tr>\n",
       "    <tr>\n",
       "      <td>4</td>\n",
       "      <td>2017-06-01</td>\n",
       "      <td>5</td>\n",
       "      <td>2616.12</td>\n",
       "    </tr>\n",
       "  </tbody>\n",
       "</table>\n",
       "</div>"
      ],
      "text/plain": [
       "  order_month  source_id    costs\n",
       "0  2017-06-01          1  1125.61\n",
       "1  2017-06-01          2  2427.38\n",
       "2  2017-06-01          3  7731.65\n",
       "3  2017-06-01          4  3514.80\n",
       "4  2017-06-01          5  2616.12"
      ]
     },
     "execution_count": 100,
     "metadata": {},
     "output_type": "execute_result"
    }
   ],
   "source": [
    "costs_grouped = costs.groupby(['order_month', 'source_id']).agg({'costs': 'sum'}).reset_index()\n",
    "costs_grouped.head()"
   ]
  },
  {
   "cell_type": "code",
   "execution_count": 101,
   "metadata": {},
   "outputs": [
    {
     "data": {
      "text/html": [
       "<div>\n",
       "<style scoped>\n",
       "    .dataframe tbody tr th:only-of-type {\n",
       "        vertical-align: middle;\n",
       "    }\n",
       "\n",
       "    .dataframe tbody tr th {\n",
       "        vertical-align: top;\n",
       "    }\n",
       "\n",
       "    .dataframe thead th {\n",
       "        text-align: right;\n",
       "    }\n",
       "</style>\n",
       "<table border=\"1\" class=\"dataframe\">\n",
       "  <thead>\n",
       "    <tr style=\"text-align: right;\">\n",
       "      <th></th>\n",
       "      <th>first_order_month</th>\n",
       "      <th>source_id</th>\n",
       "      <th>n_buyers</th>\n",
       "      <th>order_month</th>\n",
       "      <th>revenue</th>\n",
       "      <th>costs</th>\n",
       "    </tr>\n",
       "  </thead>\n",
       "  <tbody>\n",
       "    <tr>\n",
       "      <td>0</td>\n",
       "      <td>2017-06-01</td>\n",
       "      <td>1</td>\n",
       "      <td>190</td>\n",
       "      <td>2017-06-01</td>\n",
       "      <td>1378.70</td>\n",
       "      <td>1125.61</td>\n",
       "    </tr>\n",
       "    <tr>\n",
       "      <td>1</td>\n",
       "      <td>2017-06-01</td>\n",
       "      <td>1</td>\n",
       "      <td>190</td>\n",
       "      <td>2017-07-01</td>\n",
       "      <td>414.98</td>\n",
       "      <td>1072.88</td>\n",
       "    </tr>\n",
       "    <tr>\n",
       "      <td>2</td>\n",
       "      <td>2017-07-01</td>\n",
       "      <td>1</td>\n",
       "      <td>160</td>\n",
       "      <td>2017-07-01</td>\n",
       "      <td>1166.70</td>\n",
       "      <td>1072.88</td>\n",
       "    </tr>\n",
       "    <tr>\n",
       "      <td>3</td>\n",
       "      <td>2017-06-01</td>\n",
       "      <td>1</td>\n",
       "      <td>190</td>\n",
       "      <td>2017-08-01</td>\n",
       "      <td>419.43</td>\n",
       "      <td>951.81</td>\n",
       "    </tr>\n",
       "    <tr>\n",
       "      <td>4</td>\n",
       "      <td>2017-07-01</td>\n",
       "      <td>1</td>\n",
       "      <td>160</td>\n",
       "      <td>2017-08-01</td>\n",
       "      <td>175.31</td>\n",
       "      <td>951.81</td>\n",
       "    </tr>\n",
       "  </tbody>\n",
       "</table>\n",
       "</div>"
      ],
      "text/plain": [
       "  first_order_month  source_id  n_buyers order_month  revenue    costs\n",
       "0        2017-06-01          1       190  2017-06-01  1378.70  1125.61\n",
       "1        2017-06-01          1       190  2017-07-01   414.98  1072.88\n",
       "2        2017-07-01          1       160  2017-07-01  1166.70  1072.88\n",
       "3        2017-06-01          1       190  2017-08-01   419.43   951.81\n",
       "4        2017-07-01          1       160  2017-08-01   175.31   951.81"
      ]
     },
     "execution_count": 101,
     "metadata": {},
     "output_type": "execute_result"
    }
   ],
   "source": [
    "cac = pd.merge(report2,costs_grouped, on=['order_month', 'source_id'])\n",
    "cac.head()"
   ]
  },
  {
   "cell_type": "code",
   "execution_count": 102,
   "metadata": {},
   "outputs": [],
   "source": [
    "cac['order_month'] = pd.to_datetime(cac['order_month'])\n",
    "cac['first_order_month'] = pd.to_datetime(cac['first_order_month'])"
   ]
  },
  {
   "cell_type": "code",
   "execution_count": 103,
   "metadata": {},
   "outputs": [],
   "source": [
    "cac['age'] = (cac['order_month'] - cac['first_order_month']) / np.timedelta64(1, 'M')\n",
    "cac['age'] = cac['age'].round().astype('int')"
   ]
  },
  {
   "cell_type": "markdown",
   "metadata": {},
   "source": [
    "Расчитаем дополнительные столбцы с LTV и CAC, чтобы определить какой расход на рекламу на одного клиента и сколько этот клиент приносит выручки."
   ]
  },
  {
   "cell_type": "code",
   "execution_count": 104,
   "metadata": {},
   "outputs": [],
   "source": [
    "cac['ltv'] = cac['revenue'] / cac['n_buyers']\n",
    "cac['cac'] = cac['costs'] / cac['n_buyers']"
   ]
  },
  {
   "cell_type": "markdown",
   "metadata": {},
   "source": [
    "Вынесем полученные данные в отдельную таблицу."
   ]
  },
  {
   "cell_type": "code",
   "execution_count": 105,
   "metadata": {},
   "outputs": [
    {
     "data": {
      "text/html": [
       "<div>\n",
       "<style scoped>\n",
       "    .dataframe tbody tr th:only-of-type {\n",
       "        vertical-align: middle;\n",
       "    }\n",
       "\n",
       "    .dataframe tbody tr th {\n",
       "        vertical-align: top;\n",
       "    }\n",
       "\n",
       "    .dataframe thead th {\n",
       "        text-align: right;\n",
       "    }\n",
       "</style>\n",
       "<table border=\"1\" class=\"dataframe\">\n",
       "  <thead>\n",
       "    <tr style=\"text-align: right;\">\n",
       "      <th>age</th>\n",
       "      <th>0</th>\n",
       "      <th>1</th>\n",
       "      <th>2</th>\n",
       "      <th>3</th>\n",
       "      <th>4</th>\n",
       "      <th>5</th>\n",
       "      <th>6</th>\n",
       "      <th>7</th>\n",
       "      <th>8</th>\n",
       "      <th>9</th>\n",
       "      <th>10</th>\n",
       "      <th>11</th>\n",
       "    </tr>\n",
       "    <tr>\n",
       "      <th>first_order_month</th>\n",
       "      <th></th>\n",
       "      <th></th>\n",
       "      <th></th>\n",
       "      <th></th>\n",
       "      <th></th>\n",
       "      <th></th>\n",
       "      <th></th>\n",
       "      <th></th>\n",
       "      <th></th>\n",
       "      <th></th>\n",
       "      <th></th>\n",
       "      <th></th>\n",
       "    </tr>\n",
       "  </thead>\n",
       "  <tbody>\n",
       "    <tr>\n",
       "      <td>2017-06-01</td>\n",
       "      <td>4.538087</td>\n",
       "      <td>0.560005</td>\n",
       "      <td>0.645660</td>\n",
       "      <td>1.322436</td>\n",
       "      <td>1.366870</td>\n",
       "      <td>0.898439</td>\n",
       "      <td>1.196362</td>\n",
       "      <td>0.829692</td>\n",
       "      <td>0.711626</td>\n",
       "      <td>0.720439</td>\n",
       "      <td>0.682914</td>\n",
       "      <td>0.467524</td>\n",
       "    </tr>\n",
       "    <tr>\n",
       "      <td>2017-07-01</td>\n",
       "      <td>5.798336</td>\n",
       "      <td>0.384558</td>\n",
       "      <td>1.116743</td>\n",
       "      <td>0.453061</td>\n",
       "      <td>0.311879</td>\n",
       "      <td>0.231463</td>\n",
       "      <td>0.199387</td>\n",
       "      <td>0.188278</td>\n",
       "      <td>0.238480</td>\n",
       "      <td>0.232743</td>\n",
       "      <td>0.252983</td>\n",
       "      <td>NaN</td>\n",
       "    </tr>\n",
       "    <tr>\n",
       "      <td>2017-08-01</td>\n",
       "      <td>5.356883</td>\n",
       "      <td>0.502769</td>\n",
       "      <td>0.487162</td>\n",
       "      <td>0.421881</td>\n",
       "      <td>0.499426</td>\n",
       "      <td>0.275007</td>\n",
       "      <td>0.245140</td>\n",
       "      <td>0.570430</td>\n",
       "      <td>0.452788</td>\n",
       "      <td>0.217570</td>\n",
       "      <td>NaN</td>\n",
       "      <td>NaN</td>\n",
       "    </tr>\n",
       "    <tr>\n",
       "      <td>2017-09-01</td>\n",
       "      <td>5.336339</td>\n",
       "      <td>1.704064</td>\n",
       "      <td>0.657591</td>\n",
       "      <td>2.769371</td>\n",
       "      <td>0.445724</td>\n",
       "      <td>0.595561</td>\n",
       "      <td>0.946744</td>\n",
       "      <td>0.325135</td>\n",
       "      <td>0.324358</td>\n",
       "      <td>NaN</td>\n",
       "      <td>NaN</td>\n",
       "      <td>NaN</td>\n",
       "    </tr>\n",
       "    <tr>\n",
       "      <td>2017-10-01</td>\n",
       "      <td>5.089034</td>\n",
       "      <td>0.708755</td>\n",
       "      <td>0.249292</td>\n",
       "      <td>0.193893</td>\n",
       "      <td>0.183837</td>\n",
       "      <td>0.172989</td>\n",
       "      <td>0.081489</td>\n",
       "      <td>0.129642</td>\n",
       "      <td>NaN</td>\n",
       "      <td>NaN</td>\n",
       "      <td>NaN</td>\n",
       "      <td>NaN</td>\n",
       "    </tr>\n",
       "    <tr>\n",
       "      <td>2017-11-01</td>\n",
       "      <td>5.282587</td>\n",
       "      <td>0.376777</td>\n",
       "      <td>0.268943</td>\n",
       "      <td>0.389857</td>\n",
       "      <td>0.159761</td>\n",
       "      <td>0.063625</td>\n",
       "      <td>0.094769</td>\n",
       "      <td>NaN</td>\n",
       "      <td>NaN</td>\n",
       "      <td>NaN</td>\n",
       "      <td>NaN</td>\n",
       "      <td>NaN</td>\n",
       "    </tr>\n",
       "    <tr>\n",
       "      <td>2017-12-01</td>\n",
       "      <td>4.909693</td>\n",
       "      <td>0.380088</td>\n",
       "      <td>1.686074</td>\n",
       "      <td>1.979828</td>\n",
       "      <td>0.542301</td>\n",
       "      <td>0.523458</td>\n",
       "      <td>NaN</td>\n",
       "      <td>NaN</td>\n",
       "      <td>NaN</td>\n",
       "      <td>NaN</td>\n",
       "      <td>NaN</td>\n",
       "      <td>NaN</td>\n",
       "    </tr>\n",
       "    <tr>\n",
       "      <td>2018-01-01</td>\n",
       "      <td>4.041890</td>\n",
       "      <td>0.319214</td>\n",
       "      <td>0.393299</td>\n",
       "      <td>0.239937</td>\n",
       "      <td>0.085312</td>\n",
       "      <td>NaN</td>\n",
       "      <td>NaN</td>\n",
       "      <td>NaN</td>\n",
       "      <td>NaN</td>\n",
       "      <td>NaN</td>\n",
       "      <td>NaN</td>\n",
       "      <td>NaN</td>\n",
       "    </tr>\n",
       "    <tr>\n",
       "      <td>2018-02-01</td>\n",
       "      <td>4.225858</td>\n",
       "      <td>0.349753</td>\n",
       "      <td>0.091439</td>\n",
       "      <td>0.142982</td>\n",
       "      <td>NaN</td>\n",
       "      <td>NaN</td>\n",
       "      <td>NaN</td>\n",
       "      <td>NaN</td>\n",
       "      <td>NaN</td>\n",
       "      <td>NaN</td>\n",
       "      <td>NaN</td>\n",
       "      <td>NaN</td>\n",
       "    </tr>\n",
       "    <tr>\n",
       "      <td>2018-03-01</td>\n",
       "      <td>4.911998</td>\n",
       "      <td>0.443221</td>\n",
       "      <td>0.375911</td>\n",
       "      <td>NaN</td>\n",
       "      <td>NaN</td>\n",
       "      <td>NaN</td>\n",
       "      <td>NaN</td>\n",
       "      <td>NaN</td>\n",
       "      <td>NaN</td>\n",
       "      <td>NaN</td>\n",
       "      <td>NaN</td>\n",
       "      <td>NaN</td>\n",
       "    </tr>\n",
       "    <tr>\n",
       "      <td>2018-04-01</td>\n",
       "      <td>4.537041</td>\n",
       "      <td>0.494538</td>\n",
       "      <td>NaN</td>\n",
       "      <td>NaN</td>\n",
       "      <td>NaN</td>\n",
       "      <td>NaN</td>\n",
       "      <td>NaN</td>\n",
       "      <td>NaN</td>\n",
       "      <td>NaN</td>\n",
       "      <td>NaN</td>\n",
       "      <td>NaN</td>\n",
       "      <td>NaN</td>\n",
       "    </tr>\n",
       "    <tr>\n",
       "      <td>2018-05-01</td>\n",
       "      <td>4.601035</td>\n",
       "      <td>NaN</td>\n",
       "      <td>NaN</td>\n",
       "      <td>NaN</td>\n",
       "      <td>NaN</td>\n",
       "      <td>NaN</td>\n",
       "      <td>NaN</td>\n",
       "      <td>NaN</td>\n",
       "      <td>NaN</td>\n",
       "      <td>NaN</td>\n",
       "      <td>NaN</td>\n",
       "      <td>NaN</td>\n",
       "    </tr>\n",
       "  </tbody>\n",
       "</table>\n",
       "</div>"
      ],
      "text/plain": [
       "age                      0         1         2         3         4         5   \\\n",
       "first_order_month                                                               \n",
       "2017-06-01         4.538087  0.560005  0.645660  1.322436  1.366870  0.898439   \n",
       "2017-07-01         5.798336  0.384558  1.116743  0.453061  0.311879  0.231463   \n",
       "2017-08-01         5.356883  0.502769  0.487162  0.421881  0.499426  0.275007   \n",
       "2017-09-01         5.336339  1.704064  0.657591  2.769371  0.445724  0.595561   \n",
       "2017-10-01         5.089034  0.708755  0.249292  0.193893  0.183837  0.172989   \n",
       "2017-11-01         5.282587  0.376777  0.268943  0.389857  0.159761  0.063625   \n",
       "2017-12-01         4.909693  0.380088  1.686074  1.979828  0.542301  0.523458   \n",
       "2018-01-01         4.041890  0.319214  0.393299  0.239937  0.085312       NaN   \n",
       "2018-02-01         4.225858  0.349753  0.091439  0.142982       NaN       NaN   \n",
       "2018-03-01         4.911998  0.443221  0.375911       NaN       NaN       NaN   \n",
       "2018-04-01         4.537041  0.494538       NaN       NaN       NaN       NaN   \n",
       "2018-05-01         4.601035       NaN       NaN       NaN       NaN       NaN   \n",
       "\n",
       "age                      6         7         8         9         10        11  \n",
       "first_order_month                                                              \n",
       "2017-06-01         1.196362  0.829692  0.711626  0.720439  0.682914  0.467524  \n",
       "2017-07-01         0.199387  0.188278  0.238480  0.232743  0.252983       NaN  \n",
       "2017-08-01         0.245140  0.570430  0.452788  0.217570       NaN       NaN  \n",
       "2017-09-01         0.946744  0.325135  0.324358       NaN       NaN       NaN  \n",
       "2017-10-01         0.081489  0.129642       NaN       NaN       NaN       NaN  \n",
       "2017-11-01         0.094769       NaN       NaN       NaN       NaN       NaN  \n",
       "2017-12-01              NaN       NaN       NaN       NaN       NaN       NaN  \n",
       "2018-01-01              NaN       NaN       NaN       NaN       NaN       NaN  \n",
       "2018-02-01              NaN       NaN       NaN       NaN       NaN       NaN  \n",
       "2018-03-01              NaN       NaN       NaN       NaN       NaN       NaN  \n",
       "2018-04-01              NaN       NaN       NaN       NaN       NaN       NaN  \n",
       "2018-05-01              NaN       NaN       NaN       NaN       NaN       NaN  "
      ]
     },
     "execution_count": 105,
     "metadata": {},
     "output_type": "execute_result"
    }
   ],
   "source": [
    "LTV = (cac.pivot_table(index='first_order_month', \n",
    "                                     columns='age', \n",
    "                                     values='ltv', \n",
    "                                     aggfunc='mean')\n",
    "         )\n",
    "LTV "
   ]
  },
  {
   "cell_type": "markdown",
   "metadata": {},
   "source": [
    "Мы видим, что только первый lifetime доходы с покупателя превышают 1. В остальных случаях это скорее исключения."
   ]
  },
  {
   "cell_type": "code",
   "execution_count": 106,
   "metadata": {},
   "outputs": [
    {
     "data": {
      "text/html": [
       "<div>\n",
       "<style scoped>\n",
       "    .dataframe tbody tr th:only-of-type {\n",
       "        vertical-align: middle;\n",
       "    }\n",
       "\n",
       "    .dataframe tbody tr th {\n",
       "        vertical-align: top;\n",
       "    }\n",
       "\n",
       "    .dataframe thead th {\n",
       "        text-align: right;\n",
       "    }\n",
       "</style>\n",
       "<table border=\"1\" class=\"dataframe\">\n",
       "  <thead>\n",
       "    <tr style=\"text-align: right;\">\n",
       "      <th>age</th>\n",
       "      <th>0</th>\n",
       "      <th>1</th>\n",
       "      <th>2</th>\n",
       "      <th>3</th>\n",
       "      <th>4</th>\n",
       "      <th>5</th>\n",
       "      <th>6</th>\n",
       "      <th>7</th>\n",
       "      <th>8</th>\n",
       "      <th>9</th>\n",
       "      <th>10</th>\n",
       "      <th>11</th>\n",
       "    </tr>\n",
       "    <tr>\n",
       "      <th>first_order_month</th>\n",
       "      <th></th>\n",
       "      <th></th>\n",
       "      <th></th>\n",
       "      <th></th>\n",
       "      <th></th>\n",
       "      <th></th>\n",
       "      <th></th>\n",
       "      <th></th>\n",
       "      <th></th>\n",
       "      <th></th>\n",
       "      <th></th>\n",
       "      <th></th>\n",
       "    </tr>\n",
       "  </thead>\n",
       "  <tbody>\n",
       "    <tr>\n",
       "      <td>2017-06-01</td>\n",
       "      <td>7.313904</td>\n",
       "      <td>7.411255</td>\n",
       "      <td>6.581214</td>\n",
       "      <td>10.822503</td>\n",
       "      <td>16.166618</td>\n",
       "      <td>16.908716</td>\n",
       "      <td>17.025372</td>\n",
       "      <td>14.761293</td>\n",
       "      <td>13.307604</td>\n",
       "      <td>13.423391</td>\n",
       "      <td>9.930355</td>\n",
       "      <td>10.736035</td>\n",
       "    </tr>\n",
       "    <tr>\n",
       "      <td>2017-07-01</td>\n",
       "      <td>8.444521</td>\n",
       "      <td>6.770211</td>\n",
       "      <td>11.722854</td>\n",
       "      <td>16.939384</td>\n",
       "      <td>18.713158</td>\n",
       "      <td>18.541782</td>\n",
       "      <td>16.179848</td>\n",
       "      <td>16.120394</td>\n",
       "      <td>14.019407</td>\n",
       "      <td>10.805657</td>\n",
       "      <td>10.712568</td>\n",
       "      <td>NaN</td>\n",
       "    </tr>\n",
       "    <tr>\n",
       "      <td>2017-08-01</td>\n",
       "      <td>9.618958</td>\n",
       "      <td>16.064138</td>\n",
       "      <td>24.077362</td>\n",
       "      <td>26.589377</td>\n",
       "      <td>26.414939</td>\n",
       "      <td>23.039993</td>\n",
       "      <td>23.022319</td>\n",
       "      <td>19.992641</td>\n",
       "      <td>15.427462</td>\n",
       "      <td>14.636562</td>\n",
       "      <td>NaN</td>\n",
       "      <td>NaN</td>\n",
       "    </tr>\n",
       "    <tr>\n",
       "      <td>2017-09-01</td>\n",
       "      <td>8.336191</td>\n",
       "      <td>12.463938</td>\n",
       "      <td>13.322149</td>\n",
       "      <td>13.043476</td>\n",
       "      <td>11.406282</td>\n",
       "      <td>12.134340</td>\n",
       "      <td>11.041085</td>\n",
       "      <td>7.645946</td>\n",
       "      <td>7.569528</td>\n",
       "      <td>NaN</td>\n",
       "      <td>NaN</td>\n",
       "      <td>NaN</td>\n",
       "    </tr>\n",
       "    <tr>\n",
       "      <td>2017-10-01</td>\n",
       "      <td>7.446573</td>\n",
       "      <td>7.961002</td>\n",
       "      <td>7.773346</td>\n",
       "      <td>6.818153</td>\n",
       "      <td>6.721683</td>\n",
       "      <td>6.155849</td>\n",
       "      <td>4.546096</td>\n",
       "      <td>4.513135</td>\n",
       "      <td>NaN</td>\n",
       "      <td>NaN</td>\n",
       "      <td>NaN</td>\n",
       "      <td>NaN</td>\n",
       "    </tr>\n",
       "    <tr>\n",
       "      <td>2017-11-01</td>\n",
       "      <td>8.477261</td>\n",
       "      <td>8.207638</td>\n",
       "      <td>7.236029</td>\n",
       "      <td>7.068335</td>\n",
       "      <td>6.504860</td>\n",
       "      <td>4.810164</td>\n",
       "      <td>4.800301</td>\n",
       "      <td>NaN</td>\n",
       "      <td>NaN</td>\n",
       "      <td>NaN</td>\n",
       "      <td>NaN</td>\n",
       "      <td>NaN</td>\n",
       "    </tr>\n",
       "    <tr>\n",
       "      <td>2017-12-01</td>\n",
       "      <td>8.353483</td>\n",
       "      <td>7.387751</td>\n",
       "      <td>7.415174</td>\n",
       "      <td>6.695834</td>\n",
       "      <td>4.959395</td>\n",
       "      <td>4.896257</td>\n",
       "      <td>NaN</td>\n",
       "      <td>NaN</td>\n",
       "      <td>NaN</td>\n",
       "      <td>NaN</td>\n",
       "      <td>NaN</td>\n",
       "      <td>NaN</td>\n",
       "    </tr>\n",
       "    <tr>\n",
       "      <td>2018-01-01</td>\n",
       "      <td>9.399983</td>\n",
       "      <td>9.199486</td>\n",
       "      <td>8.445596</td>\n",
       "      <td>6.590485</td>\n",
       "      <td>6.523314</td>\n",
       "      <td>NaN</td>\n",
       "      <td>NaN</td>\n",
       "      <td>NaN</td>\n",
       "      <td>NaN</td>\n",
       "      <td>NaN</td>\n",
       "      <td>NaN</td>\n",
       "      <td>NaN</td>\n",
       "    </tr>\n",
       "    <tr>\n",
       "      <td>2018-02-01</td>\n",
       "      <td>8.490899</td>\n",
       "      <td>7.769916</td>\n",
       "      <td>5.758705</td>\n",
       "      <td>6.471381</td>\n",
       "      <td>NaN</td>\n",
       "      <td>NaN</td>\n",
       "      <td>NaN</td>\n",
       "      <td>NaN</td>\n",
       "      <td>NaN</td>\n",
       "      <td>NaN</td>\n",
       "      <td>NaN</td>\n",
       "      <td>NaN</td>\n",
       "    </tr>\n",
       "    <tr>\n",
       "      <td>2018-03-01</td>\n",
       "      <td>7.426440</td>\n",
       "      <td>5.488304</td>\n",
       "      <td>5.474078</td>\n",
       "      <td>NaN</td>\n",
       "      <td>NaN</td>\n",
       "      <td>NaN</td>\n",
       "      <td>NaN</td>\n",
       "      <td>NaN</td>\n",
       "      <td>NaN</td>\n",
       "      <td>NaN</td>\n",
       "      <td>NaN</td>\n",
       "      <td>NaN</td>\n",
       "    </tr>\n",
       "    <tr>\n",
       "      <td>2018-04-01</td>\n",
       "      <td>9.079308</td>\n",
       "      <td>9.881959</td>\n",
       "      <td>NaN</td>\n",
       "      <td>NaN</td>\n",
       "      <td>NaN</td>\n",
       "      <td>NaN</td>\n",
       "      <td>NaN</td>\n",
       "      <td>NaN</td>\n",
       "      <td>NaN</td>\n",
       "      <td>NaN</td>\n",
       "      <td>NaN</td>\n",
       "      <td>NaN</td>\n",
       "    </tr>\n",
       "    <tr>\n",
       "      <td>2018-05-01</td>\n",
       "      <td>6.511760</td>\n",
       "      <td>NaN</td>\n",
       "      <td>NaN</td>\n",
       "      <td>NaN</td>\n",
       "      <td>NaN</td>\n",
       "      <td>NaN</td>\n",
       "      <td>NaN</td>\n",
       "      <td>NaN</td>\n",
       "      <td>NaN</td>\n",
       "      <td>NaN</td>\n",
       "      <td>NaN</td>\n",
       "      <td>NaN</td>\n",
       "    </tr>\n",
       "  </tbody>\n",
       "</table>\n",
       "</div>"
      ],
      "text/plain": [
       "age                      0          1          2          3          4   \\\n",
       "first_order_month                                                         \n",
       "2017-06-01         7.313904   7.411255   6.581214  10.822503  16.166618   \n",
       "2017-07-01         8.444521   6.770211  11.722854  16.939384  18.713158   \n",
       "2017-08-01         9.618958  16.064138  24.077362  26.589377  26.414939   \n",
       "2017-09-01         8.336191  12.463938  13.322149  13.043476  11.406282   \n",
       "2017-10-01         7.446573   7.961002   7.773346   6.818153   6.721683   \n",
       "2017-11-01         8.477261   8.207638   7.236029   7.068335   6.504860   \n",
       "2017-12-01         8.353483   7.387751   7.415174   6.695834   4.959395   \n",
       "2018-01-01         9.399983   9.199486   8.445596   6.590485   6.523314   \n",
       "2018-02-01         8.490899   7.769916   5.758705   6.471381        NaN   \n",
       "2018-03-01         7.426440   5.488304   5.474078        NaN        NaN   \n",
       "2018-04-01         9.079308   9.881959        NaN        NaN        NaN   \n",
       "2018-05-01         6.511760        NaN        NaN        NaN        NaN   \n",
       "\n",
       "age                       5          6          7          8          9   \\\n",
       "first_order_month                                                          \n",
       "2017-06-01         16.908716  17.025372  14.761293  13.307604  13.423391   \n",
       "2017-07-01         18.541782  16.179848  16.120394  14.019407  10.805657   \n",
       "2017-08-01         23.039993  23.022319  19.992641  15.427462  14.636562   \n",
       "2017-09-01         12.134340  11.041085   7.645946   7.569528        NaN   \n",
       "2017-10-01          6.155849   4.546096   4.513135        NaN        NaN   \n",
       "2017-11-01          4.810164   4.800301        NaN        NaN        NaN   \n",
       "2017-12-01          4.896257        NaN        NaN        NaN        NaN   \n",
       "2018-01-01               NaN        NaN        NaN        NaN        NaN   \n",
       "2018-02-01               NaN        NaN        NaN        NaN        NaN   \n",
       "2018-03-01               NaN        NaN        NaN        NaN        NaN   \n",
       "2018-04-01               NaN        NaN        NaN        NaN        NaN   \n",
       "2018-05-01               NaN        NaN        NaN        NaN        NaN   \n",
       "\n",
       "age                       10         11  \n",
       "first_order_month                        \n",
       "2017-06-01          9.930355  10.736035  \n",
       "2017-07-01         10.712568        NaN  \n",
       "2017-08-01               NaN        NaN  \n",
       "2017-09-01               NaN        NaN  \n",
       "2017-10-01               NaN        NaN  \n",
       "2017-11-01               NaN        NaN  \n",
       "2017-12-01               NaN        NaN  \n",
       "2018-01-01               NaN        NaN  \n",
       "2018-02-01               NaN        NaN  \n",
       "2018-03-01               NaN        NaN  \n",
       "2018-04-01               NaN        NaN  \n",
       "2018-05-01               NaN        NaN  "
      ]
     },
     "execution_count": 106,
     "metadata": {},
     "output_type": "execute_result"
    }
   ],
   "source": [
    "CAC = (cac.pivot_table(index='first_order_month', \n",
    "                                     columns='age', \n",
    "                                     values='cac', \n",
    "                                     aggfunc='mean')\n",
    "         )\n",
    "CAC "
   ]
  },
  {
   "cell_type": "markdown",
   "metadata": {},
   "source": [
    "И при этом в первых четырех когортах расходы на рекламу на покупателя только росли."
   ]
  },
  {
   "cell_type": "markdown",
   "metadata": {},
   "source": [
    "#### 2.11. На сколько окупились расходы? (ROMI)"
   ]
  },
  {
   "cell_type": "markdown",
   "metadata": {},
   "source": [
    "Рассчитаем ROMI: поделим LTV на CAC.\n",
    "Чтобы посчитать накопительный ROMI, вызовем метод cumsum(). Он последовательно складывает элементы множества."
   ]
  },
  {
   "cell_type": "code",
   "execution_count": 107,
   "metadata": {},
   "outputs": [],
   "source": [
    "cac['romi'] = cac['ltv'] / cac['cac']"
   ]
  },
  {
   "cell_type": "code",
   "execution_count": 108,
   "metadata": {},
   "outputs": [
    {
     "data": {
      "text/plain": [
       "10.623903440304352"
      ]
     },
     "execution_count": 108,
     "metadata": {},
     "output_type": "execute_result"
    }
   ],
   "source": [
    "cac['cac'].mean()"
   ]
  },
  {
   "cell_type": "code",
   "execution_count": 109,
   "metadata": {},
   "outputs": [],
   "source": [
    "cac['first_order_month'] = cac['first_order_month'].dt.strftime('%Y-%m')"
   ]
  },
  {
   "cell_type": "code",
   "execution_count": 110,
   "metadata": {
    "scrolled": false
   },
   "outputs": [
    {
     "data": {
      "text/html": [
       "<div>\n",
       "<style scoped>\n",
       "    .dataframe tbody tr th:only-of-type {\n",
       "        vertical-align: middle;\n",
       "    }\n",
       "\n",
       "    .dataframe tbody tr th {\n",
       "        vertical-align: top;\n",
       "    }\n",
       "\n",
       "    .dataframe thead th {\n",
       "        text-align: right;\n",
       "    }\n",
       "</style>\n",
       "<table border=\"1\" class=\"dataframe\">\n",
       "  <thead>\n",
       "    <tr style=\"text-align: right;\">\n",
       "      <th>age</th>\n",
       "      <th>0</th>\n",
       "      <th>1</th>\n",
       "      <th>2</th>\n",
       "      <th>3</th>\n",
       "      <th>4</th>\n",
       "      <th>5</th>\n",
       "      <th>6</th>\n",
       "      <th>7</th>\n",
       "      <th>8</th>\n",
       "      <th>9</th>\n",
       "      <th>10</th>\n",
       "      <th>11</th>\n",
       "    </tr>\n",
       "    <tr>\n",
       "      <th>first_order_month</th>\n",
       "      <th></th>\n",
       "      <th></th>\n",
       "      <th></th>\n",
       "      <th></th>\n",
       "      <th></th>\n",
       "      <th></th>\n",
       "      <th></th>\n",
       "      <th></th>\n",
       "      <th></th>\n",
       "      <th></th>\n",
       "      <th></th>\n",
       "      <th></th>\n",
       "    </tr>\n",
       "  </thead>\n",
       "  <tbody>\n",
       "    <tr>\n",
       "      <td>2017-06</td>\n",
       "      <td>0.70</td>\n",
       "      <td>0.79</td>\n",
       "      <td>0.91</td>\n",
       "      <td>1.06</td>\n",
       "      <td>1.15</td>\n",
       "      <td>1.22</td>\n",
       "      <td>1.30</td>\n",
       "      <td>1.36</td>\n",
       "      <td>1.42</td>\n",
       "      <td>1.48</td>\n",
       "      <td>1.55</td>\n",
       "      <td>1.61</td>\n",
       "    </tr>\n",
       "    <tr>\n",
       "      <td>2017-07</td>\n",
       "      <td>0.73</td>\n",
       "      <td>0.79</td>\n",
       "      <td>0.91</td>\n",
       "      <td>0.94</td>\n",
       "      <td>0.96</td>\n",
       "      <td>0.97</td>\n",
       "      <td>0.99</td>\n",
       "      <td>1.00</td>\n",
       "      <td>1.02</td>\n",
       "      <td>1.04</td>\n",
       "      <td>1.07</td>\n",
       "      <td>NaN</td>\n",
       "    </tr>\n",
       "    <tr>\n",
       "      <td>2017-08</td>\n",
       "      <td>0.67</td>\n",
       "      <td>0.71</td>\n",
       "      <td>0.74</td>\n",
       "      <td>0.76</td>\n",
       "      <td>0.78</td>\n",
       "      <td>0.80</td>\n",
       "      <td>0.82</td>\n",
       "      <td>0.85</td>\n",
       "      <td>0.89</td>\n",
       "      <td>0.91</td>\n",
       "      <td>NaN</td>\n",
       "      <td>NaN</td>\n",
       "    </tr>\n",
       "    <tr>\n",
       "      <td>2017-09</td>\n",
       "      <td>0.68</td>\n",
       "      <td>0.79</td>\n",
       "      <td>0.84</td>\n",
       "      <td>1.11</td>\n",
       "      <td>1.15</td>\n",
       "      <td>1.21</td>\n",
       "      <td>1.29</td>\n",
       "      <td>1.34</td>\n",
       "      <td>1.39</td>\n",
       "      <td>NaN</td>\n",
       "      <td>NaN</td>\n",
       "      <td>NaN</td>\n",
       "    </tr>\n",
       "    <tr>\n",
       "      <td>2017-10</td>\n",
       "      <td>0.77</td>\n",
       "      <td>0.85</td>\n",
       "      <td>0.88</td>\n",
       "      <td>0.91</td>\n",
       "      <td>0.94</td>\n",
       "      <td>0.97</td>\n",
       "      <td>0.99</td>\n",
       "      <td>1.02</td>\n",
       "      <td>NaN</td>\n",
       "      <td>NaN</td>\n",
       "      <td>NaN</td>\n",
       "      <td>NaN</td>\n",
       "    </tr>\n",
       "    <tr>\n",
       "      <td>2017-11</td>\n",
       "      <td>0.71</td>\n",
       "      <td>0.76</td>\n",
       "      <td>0.80</td>\n",
       "      <td>0.86</td>\n",
       "      <td>0.89</td>\n",
       "      <td>0.90</td>\n",
       "      <td>0.92</td>\n",
       "      <td>NaN</td>\n",
       "      <td>NaN</td>\n",
       "      <td>NaN</td>\n",
       "      <td>NaN</td>\n",
       "      <td>NaN</td>\n",
       "    </tr>\n",
       "    <tr>\n",
       "      <td>2017-12</td>\n",
       "      <td>0.61</td>\n",
       "      <td>0.66</td>\n",
       "      <td>0.81</td>\n",
       "      <td>1.02</td>\n",
       "      <td>1.09</td>\n",
       "      <td>1.17</td>\n",
       "      <td>NaN</td>\n",
       "      <td>NaN</td>\n",
       "      <td>NaN</td>\n",
       "      <td>NaN</td>\n",
       "      <td>NaN</td>\n",
       "      <td>NaN</td>\n",
       "    </tr>\n",
       "    <tr>\n",
       "      <td>2018-01</td>\n",
       "      <td>0.47</td>\n",
       "      <td>0.50</td>\n",
       "      <td>0.54</td>\n",
       "      <td>0.58</td>\n",
       "      <td>0.59</td>\n",
       "      <td>NaN</td>\n",
       "      <td>NaN</td>\n",
       "      <td>NaN</td>\n",
       "      <td>NaN</td>\n",
       "      <td>NaN</td>\n",
       "      <td>NaN</td>\n",
       "      <td>NaN</td>\n",
       "    </tr>\n",
       "    <tr>\n",
       "      <td>2018-02</td>\n",
       "      <td>0.57</td>\n",
       "      <td>0.61</td>\n",
       "      <td>0.62</td>\n",
       "      <td>0.65</td>\n",
       "      <td>NaN</td>\n",
       "      <td>NaN</td>\n",
       "      <td>NaN</td>\n",
       "      <td>NaN</td>\n",
       "      <td>NaN</td>\n",
       "      <td>NaN</td>\n",
       "      <td>NaN</td>\n",
       "      <td>NaN</td>\n",
       "    </tr>\n",
       "    <tr>\n",
       "      <td>2018-03</td>\n",
       "      <td>0.81</td>\n",
       "      <td>0.89</td>\n",
       "      <td>0.95</td>\n",
       "      <td>NaN</td>\n",
       "      <td>NaN</td>\n",
       "      <td>NaN</td>\n",
       "      <td>NaN</td>\n",
       "      <td>NaN</td>\n",
       "      <td>NaN</td>\n",
       "      <td>NaN</td>\n",
       "      <td>NaN</td>\n",
       "      <td>NaN</td>\n",
       "    </tr>\n",
       "    <tr>\n",
       "      <td>2018-04</td>\n",
       "      <td>0.56</td>\n",
       "      <td>0.60</td>\n",
       "      <td>NaN</td>\n",
       "      <td>NaN</td>\n",
       "      <td>NaN</td>\n",
       "      <td>NaN</td>\n",
       "      <td>NaN</td>\n",
       "      <td>NaN</td>\n",
       "      <td>NaN</td>\n",
       "      <td>NaN</td>\n",
       "      <td>NaN</td>\n",
       "      <td>NaN</td>\n",
       "    </tr>\n",
       "    <tr>\n",
       "      <td>2018-05</td>\n",
       "      <td>0.78</td>\n",
       "      <td>NaN</td>\n",
       "      <td>NaN</td>\n",
       "      <td>NaN</td>\n",
       "      <td>NaN</td>\n",
       "      <td>NaN</td>\n",
       "      <td>NaN</td>\n",
       "      <td>NaN</td>\n",
       "      <td>NaN</td>\n",
       "      <td>NaN</td>\n",
       "      <td>NaN</td>\n",
       "      <td>NaN</td>\n",
       "    </tr>\n",
       "  </tbody>\n",
       "</table>\n",
       "</div>"
      ],
      "text/plain": [
       "age                  0     1     2     3     4     5     6     7     8     9   \\\n",
       "first_order_month                                                               \n",
       "2017-06            0.70  0.79  0.91  1.06  1.15  1.22  1.30  1.36  1.42  1.48   \n",
       "2017-07            0.73  0.79  0.91  0.94  0.96  0.97  0.99  1.00  1.02  1.04   \n",
       "2017-08            0.67  0.71  0.74  0.76  0.78  0.80  0.82  0.85  0.89  0.91   \n",
       "2017-09            0.68  0.79  0.84  1.11  1.15  1.21  1.29  1.34  1.39   NaN   \n",
       "2017-10            0.77  0.85  0.88  0.91  0.94  0.97  0.99  1.02   NaN   NaN   \n",
       "2017-11            0.71  0.76  0.80  0.86  0.89  0.90  0.92   NaN   NaN   NaN   \n",
       "2017-12            0.61  0.66  0.81  1.02  1.09  1.17   NaN   NaN   NaN   NaN   \n",
       "2018-01            0.47  0.50  0.54  0.58  0.59   NaN   NaN   NaN   NaN   NaN   \n",
       "2018-02            0.57  0.61  0.62  0.65   NaN   NaN   NaN   NaN   NaN   NaN   \n",
       "2018-03            0.81  0.89  0.95   NaN   NaN   NaN   NaN   NaN   NaN   NaN   \n",
       "2018-04            0.56  0.60   NaN   NaN   NaN   NaN   NaN   NaN   NaN   NaN   \n",
       "2018-05            0.78   NaN   NaN   NaN   NaN   NaN   NaN   NaN   NaN   NaN   \n",
       "\n",
       "age                  10    11  \n",
       "first_order_month              \n",
       "2017-06            1.55  1.61  \n",
       "2017-07            1.07   NaN  \n",
       "2017-08             NaN   NaN  \n",
       "2017-09             NaN   NaN  \n",
       "2017-10             NaN   NaN  \n",
       "2017-11             NaN   NaN  \n",
       "2017-12             NaN   NaN  \n",
       "2018-01             NaN   NaN  \n",
       "2018-02             NaN   NaN  \n",
       "2018-03             NaN   NaN  \n",
       "2018-04             NaN   NaN  \n",
       "2018-05             NaN   NaN  "
      ]
     },
     "execution_count": 110,
     "metadata": {},
     "output_type": "execute_result"
    }
   ],
   "source": [
    "output = (cac.pivot_table(index='first_order_month', \n",
    "                                     columns='age', \n",
    "                                     values='romi', \n",
    "                                     aggfunc='mean')\n",
    "         )\n",
    "output.cumsum(axis=1).round(2)         "
   ]
  },
  {
   "cell_type": "code",
   "execution_count": 111,
   "metadata": {
    "scrolled": false
   },
   "outputs": [
    {
     "data": {
      "text/plain": [
       "Text(114.0, 0.5, 'Когорты')"
      ]
     },
     "execution_count": 111,
     "metadata": {},
     "output_type": "execute_result"
    },
    {
     "data": {
      "image/png": "[encoded data removed]",
      "text/plain": [
       "<Figure size 1080x648 with 2 Axes>"
      ]
     },
     "metadata": {
      "needs_background": "light"
     },
     "output_type": "display_data"
    }
   ],
   "source": [
    "plt.figure(figsize=(15, 9))\n",
    "plt.title('Окупаемость')\n",
    "sns.heatmap(output.cumsum(axis=1).round(2), annot=True, fmt='.2f', linewidths=0.5, linecolor='gray')\n",
    "plt.xlabel('Жизненный цикл')\n",
    "plt.ylabel('Когорты')"
   ]
  },
  {
   "cell_type": "markdown",
   "metadata": {},
   "source": [
    "Мы видим, что 4 когорты окупились, причем весьма быстро."
   ]
  },
  {
   "cell_type": "markdown",
   "metadata": {},
   "source": [
    "1. Июньская когорта окупилась на 3 месяц (ROMI = 1.06).\n",
    "2. Июльская когорта окупилась на 7 месяц тоже (ROMI = 1.00).\n",
    "3. Сентябрьская когорта окупилась на 3 месяц (ROMI = 1.10).\n",
    "4. Декабрьская когорта окупилась на 3 месяц тоже (ROMI = 1.02)."
   ]
  },
  {
   "cell_type": "markdown",
   "metadata": {},
   "source": [
    "Узнаем, как быстро в среднем когорты окупаются."
   ]
  },
  {
   "cell_type": "code",
   "execution_count": 112,
   "metadata": {},
   "outputs": [
    {
     "data": {
      "text/plain": [
       "age\n",
       "0     0.671704\n",
       "1     0.722460\n",
       "2     0.800356\n",
       "3     0.875083\n",
       "4     0.943710\n",
       "5     1.034912\n",
       "6     1.050649\n",
       "7     1.113914\n",
       "8     1.179290\n",
       "9     1.144248\n",
       "10    1.310714\n",
       "11    1.606402\n",
       "dtype: float64"
      ]
     },
     "execution_count": 112,
     "metadata": {},
     "output_type": "execute_result"
    }
   ],
   "source": [
    "output.cumsum(axis=1).mean(axis=0)"
   ]
  },
  {
   "cell_type": "markdown",
   "metadata": {},
   "source": [
    "Из отчета мы видим, что в среднем когорты окупаются на 5 месяц жизни."
   ]
  },
  {
   "cell_type": "markdown",
   "metadata": {},
   "source": [
    "Ниже представлены таблицы сданными об изменении доходов и расходов с течением времени по источнику трафика и по определенному устройству."
   ]
  },
  {
   "cell_type": "code",
   "execution_count": 113,
   "metadata": {},
   "outputs": [],
   "source": [
    "result_grouped = afisha_order.groupby(['order_month', 'source_id', 'device']).agg({'uid':'nunique', 'revenue':'sum', 'costs':'mean'}).reset_index()"
   ]
  },
  {
   "cell_type": "markdown",
   "metadata": {},
   "source": [
    "#### Изменение доходов по месяцам для источников трафика."
   ]
  },
  {
   "cell_type": "code",
   "execution_count": 114,
   "metadata": {},
   "outputs": [
    {
     "data": {
      "text/html": [
       "<div>\n",
       "<style scoped>\n",
       "    .dataframe tbody tr th:only-of-type {\n",
       "        vertical-align: middle;\n",
       "    }\n",
       "\n",
       "    .dataframe tbody tr th {\n",
       "        vertical-align: top;\n",
       "    }\n",
       "\n",
       "    .dataframe thead th {\n",
       "        text-align: right;\n",
       "    }\n",
       "</style>\n",
       "<table border=\"1\" class=\"dataframe\">\n",
       "  <thead>\n",
       "    <tr style=\"text-align: right;\">\n",
       "      <th>order_month</th>\n",
       "      <th>2017-06-01</th>\n",
       "      <th>2017-07-01</th>\n",
       "      <th>2017-08-01</th>\n",
       "      <th>2017-09-01</th>\n",
       "      <th>2017-10-01</th>\n",
       "      <th>2017-11-01</th>\n",
       "      <th>2017-12-01</th>\n",
       "      <th>2018-01-01</th>\n",
       "      <th>2018-02-01</th>\n",
       "      <th>2018-03-01</th>\n",
       "      <th>2018-04-01</th>\n",
       "      <th>2018-05-01</th>\n",
       "    </tr>\n",
       "    <tr>\n",
       "      <th>source_id</th>\n",
       "      <th></th>\n",
       "      <th></th>\n",
       "      <th></th>\n",
       "      <th></th>\n",
       "      <th></th>\n",
       "      <th></th>\n",
       "      <th></th>\n",
       "      <th></th>\n",
       "      <th></th>\n",
       "      <th></th>\n",
       "      <th></th>\n",
       "      <th></th>\n",
       "    </tr>\n",
       "  </thead>\n",
       "  <tbody>\n",
       "    <tr>\n",
       "      <td>1</td>\n",
       "      <td>689.350</td>\n",
       "      <td>790.840</td>\n",
       "      <td>720.745</td>\n",
       "      <td>1535.805</td>\n",
       "      <td>1810.910</td>\n",
       "      <td>1759.740</td>\n",
       "      <td>1374.185</td>\n",
       "      <td>1277.410</td>\n",
       "      <td>1175.545</td>\n",
       "      <td>1939.385</td>\n",
       "      <td>1223.32</td>\n",
       "      <td>1248.040</td>\n",
       "    </tr>\n",
       "    <tr>\n",
       "      <td>2</td>\n",
       "      <td>521.840</td>\n",
       "      <td>934.455</td>\n",
       "      <td>464.510</td>\n",
       "      <td>1205.090</td>\n",
       "      <td>2658.395</td>\n",
       "      <td>2306.550</td>\n",
       "      <td>2331.055</td>\n",
       "      <td>1486.680</td>\n",
       "      <td>3282.750</td>\n",
       "      <td>3955.995</td>\n",
       "      <td>1715.75</td>\n",
       "      <td>2598.735</td>\n",
       "    </tr>\n",
       "    <tr>\n",
       "      <td>3</td>\n",
       "      <td>1402.170</td>\n",
       "      <td>1598.895</td>\n",
       "      <td>982.485</td>\n",
       "      <td>2329.435</td>\n",
       "      <td>3062.570</td>\n",
       "      <td>3235.515</td>\n",
       "      <td>3022.800</td>\n",
       "      <td>2358.010</td>\n",
       "      <td>2494.580</td>\n",
       "      <td>2588.700</td>\n",
       "      <td>1703.65</td>\n",
       "      <td>2476.810</td>\n",
       "    </tr>\n",
       "    <tr>\n",
       "      <td>4</td>\n",
       "      <td>979.920</td>\n",
       "      <td>1441.645</td>\n",
       "      <td>906.540</td>\n",
       "      <td>1550.345</td>\n",
       "      <td>3002.095</td>\n",
       "      <td>3572.195</td>\n",
       "      <td>3763.125</td>\n",
       "      <td>2261.910</td>\n",
       "      <td>2838.080</td>\n",
       "      <td>3390.890</td>\n",
       "      <td>2311.81</td>\n",
       "      <td>2328.150</td>\n",
       "    </tr>\n",
       "    <tr>\n",
       "      <td>5</td>\n",
       "      <td>949.445</td>\n",
       "      <td>1291.470</td>\n",
       "      <td>1062.870</td>\n",
       "      <td>2224.005</td>\n",
       "      <td>2768.760</td>\n",
       "      <td>1988.715</td>\n",
       "      <td>7204.375</td>\n",
       "      <td>1980.915</td>\n",
       "      <td>2530.890</td>\n",
       "      <td>1863.740</td>\n",
       "      <td>1171.63</td>\n",
       "      <td>1275.195</td>\n",
       "    </tr>\n",
       "    <tr>\n",
       "      <td>9</td>\n",
       "      <td>121.345</td>\n",
       "      <td>118.635</td>\n",
       "      <td>148.385</td>\n",
       "      <td>229.935</td>\n",
       "      <td>404.760</td>\n",
       "      <td>364.205</td>\n",
       "      <td>325.005</td>\n",
       "      <td>191.375</td>\n",
       "      <td>289.275</td>\n",
       "      <td>338.830</td>\n",
       "      <td>159.62</td>\n",
       "      <td>188.330</td>\n",
       "    </tr>\n",
       "    <tr>\n",
       "      <td>10</td>\n",
       "      <td>114.675</td>\n",
       "      <td>93.795</td>\n",
       "      <td>93.245</td>\n",
       "      <td>98.140</td>\n",
       "      <td>286.360</td>\n",
       "      <td>308.045</td>\n",
       "      <td>173.755</td>\n",
       "      <td>152.265</td>\n",
       "      <td>169.150</td>\n",
       "      <td>339.755</td>\n",
       "      <td>143.25</td>\n",
       "      <td>252.730</td>\n",
       "    </tr>\n",
       "  </tbody>\n",
       "</table>\n",
       "</div>"
      ],
      "text/plain": [
       "order_month  2017-06-01  2017-07-01  2017-08-01  2017-09-01  2017-10-01  \\\n",
       "source_id                                                                 \n",
       "1               689.350     790.840     720.745    1535.805    1810.910   \n",
       "2               521.840     934.455     464.510    1205.090    2658.395   \n",
       "3              1402.170    1598.895     982.485    2329.435    3062.570   \n",
       "4               979.920    1441.645     906.540    1550.345    3002.095   \n",
       "5               949.445    1291.470    1062.870    2224.005    2768.760   \n",
       "9               121.345     118.635     148.385     229.935     404.760   \n",
       "10              114.675      93.795      93.245      98.140     286.360   \n",
       "\n",
       "order_month  2017-11-01  2017-12-01  2018-01-01  2018-02-01  2018-03-01  \\\n",
       "source_id                                                                 \n",
       "1              1759.740    1374.185    1277.410    1175.545    1939.385   \n",
       "2              2306.550    2331.055    1486.680    3282.750    3955.995   \n",
       "3              3235.515    3022.800    2358.010    2494.580    2588.700   \n",
       "4              3572.195    3763.125    2261.910    2838.080    3390.890   \n",
       "5              1988.715    7204.375    1980.915    2530.890    1863.740   \n",
       "9               364.205     325.005     191.375     289.275     338.830   \n",
       "10              308.045     173.755     152.265     169.150     339.755   \n",
       "\n",
       "order_month  2018-04-01  2018-05-01  \n",
       "source_id                            \n",
       "1               1223.32    1248.040  \n",
       "2               1715.75    2598.735  \n",
       "3               1703.65    2476.810  \n",
       "4               2311.81    2328.150  \n",
       "5               1171.63    1275.195  \n",
       "9                159.62     188.330  \n",
       "10               143.25     252.730  "
      ]
     },
     "execution_count": 114,
     "metadata": {},
     "output_type": "execute_result"
    }
   ],
   "source": [
    "source_grouped_1 = (result_grouped.pivot_table(index='source_id', \n",
    "                                     columns='order_month', \n",
    "                                     values='revenue')\n",
    "         )\n",
    "source_grouped_1"
   ]
  },
  {
   "cell_type": "markdown",
   "metadata": {},
   "source": [
    "#### Изменение расходов по месяцам для источников трафика."
   ]
  },
  {
   "cell_type": "code",
   "execution_count": 115,
   "metadata": {},
   "outputs": [
    {
     "data": {
      "text/html": [
       "<div>\n",
       "<style scoped>\n",
       "    .dataframe tbody tr th:only-of-type {\n",
       "        vertical-align: middle;\n",
       "    }\n",
       "\n",
       "    .dataframe tbody tr th {\n",
       "        vertical-align: top;\n",
       "    }\n",
       "\n",
       "    .dataframe thead th {\n",
       "        text-align: right;\n",
       "    }\n",
       "</style>\n",
       "<table border=\"1\" class=\"dataframe\">\n",
       "  <thead>\n",
       "    <tr style=\"text-align: right;\">\n",
       "      <th>order_month</th>\n",
       "      <th>2017-06-01</th>\n",
       "      <th>2017-07-01</th>\n",
       "      <th>2017-08-01</th>\n",
       "      <th>2017-09-01</th>\n",
       "      <th>2017-10-01</th>\n",
       "      <th>2017-11-01</th>\n",
       "      <th>2017-12-01</th>\n",
       "      <th>2018-01-01</th>\n",
       "      <th>2018-02-01</th>\n",
       "      <th>2018-03-01</th>\n",
       "      <th>2018-04-01</th>\n",
       "      <th>2018-05-01</th>\n",
       "    </tr>\n",
       "    <tr>\n",
       "      <th>source_id</th>\n",
       "      <th></th>\n",
       "      <th></th>\n",
       "      <th></th>\n",
       "      <th></th>\n",
       "      <th></th>\n",
       "      <th></th>\n",
       "      <th></th>\n",
       "      <th></th>\n",
       "      <th></th>\n",
       "      <th></th>\n",
       "      <th></th>\n",
       "      <th></th>\n",
       "    </tr>\n",
       "  </thead>\n",
       "  <tbody>\n",
       "    <tr>\n",
       "      <td>1</td>\n",
       "      <td>43.610619</td>\n",
       "      <td>40.951786</td>\n",
       "      <td>28.740732</td>\n",
       "      <td>58.431097</td>\n",
       "      <td>75.626719</td>\n",
       "      <td>110.740903</td>\n",
       "      <td>76.450863</td>\n",
       "      <td>73.447350</td>\n",
       "      <td>80.608760</td>\n",
       "      <td>66.999800</td>\n",
       "      <td>46.903196</td>\n",
       "      <td>61.985143</td>\n",
       "    </tr>\n",
       "    <tr>\n",
       "      <td>2</td>\n",
       "      <td>90.673180</td>\n",
       "      <td>100.738803</td>\n",
       "      <td>63.475571</td>\n",
       "      <td>108.700696</td>\n",
       "      <td>163.619952</td>\n",
       "      <td>235.870671</td>\n",
       "      <td>160.665073</td>\n",
       "      <td>138.604675</td>\n",
       "      <td>166.086113</td>\n",
       "      <td>134.378166</td>\n",
       "      <td>105.470560</td>\n",
       "      <td>138.811334</td>\n",
       "    </tr>\n",
       "    <tr>\n",
       "      <td>3</td>\n",
       "      <td>320.605576</td>\n",
       "      <td>269.794604</td>\n",
       "      <td>201.567026</td>\n",
       "      <td>353.803006</td>\n",
       "      <td>540.328772</td>\n",
       "      <td>728.845753</td>\n",
       "      <td>523.131188</td>\n",
       "      <td>482.066119</td>\n",
       "      <td>533.775730</td>\n",
       "      <td>457.886531</td>\n",
       "      <td>328.238462</td>\n",
       "      <td>372.111490</td>\n",
       "    </tr>\n",
       "    <tr>\n",
       "      <td>4</td>\n",
       "      <td>115.224736</td>\n",
       "      <td>139.876319</td>\n",
       "      <td>108.349364</td>\n",
       "      <td>184.017315</td>\n",
       "      <td>208.138509</td>\n",
       "      <td>181.190051</td>\n",
       "      <td>253.902529</td>\n",
       "      <td>200.086335</td>\n",
       "      <td>213.543705</td>\n",
       "      <td>201.795578</td>\n",
       "      <td>155.530805</td>\n",
       "      <td>163.655665</td>\n",
       "    </tr>\n",
       "    <tr>\n",
       "      <td>5</td>\n",
       "      <td>95.782287</td>\n",
       "      <td>102.160649</td>\n",
       "      <td>74.312455</td>\n",
       "      <td>134.944182</td>\n",
       "      <td>188.567280</td>\n",
       "      <td>244.929462</td>\n",
       "      <td>190.763302</td>\n",
       "      <td>172.322714</td>\n",
       "      <td>181.012137</td>\n",
       "      <td>161.876689</td>\n",
       "      <td>125.742269</td>\n",
       "      <td>143.357052</td>\n",
       "    </tr>\n",
       "    <tr>\n",
       "      <td>9</td>\n",
       "      <td>9.842524</td>\n",
       "      <td>10.066636</td>\n",
       "      <td>7.854587</td>\n",
       "      <td>14.147457</td>\n",
       "      <td>20.217109</td>\n",
       "      <td>31.064614</td>\n",
       "      <td>22.213620</td>\n",
       "      <td>18.590777</td>\n",
       "      <td>21.108559</td>\n",
       "      <td>20.194514</td>\n",
       "      <td>12.949201</td>\n",
       "      <td>12.979062</td>\n",
       "    </tr>\n",
       "    <tr>\n",
       "      <td>10</td>\n",
       "      <td>13.837857</td>\n",
       "      <td>10.334264</td>\n",
       "      <td>10.439770</td>\n",
       "      <td>14.971706</td>\n",
       "      <td>21.886450</td>\n",
       "      <td>32.127492</td>\n",
       "      <td>22.239667</td>\n",
       "      <td>17.487884</td>\n",
       "      <td>19.503627</td>\n",
       "      <td>19.764472</td>\n",
       "      <td>13.760387</td>\n",
       "      <td>16.016092</td>\n",
       "    </tr>\n",
       "  </tbody>\n",
       "</table>\n",
       "</div>"
      ],
      "text/plain": [
       "order_month  2017-06-01  2017-07-01  2017-08-01  2017-09-01  2017-10-01  \\\n",
       "source_id                                                                 \n",
       "1             43.610619   40.951786   28.740732   58.431097   75.626719   \n",
       "2             90.673180  100.738803   63.475571  108.700696  163.619952   \n",
       "3            320.605576  269.794604  201.567026  353.803006  540.328772   \n",
       "4            115.224736  139.876319  108.349364  184.017315  208.138509   \n",
       "5             95.782287  102.160649   74.312455  134.944182  188.567280   \n",
       "9              9.842524   10.066636    7.854587   14.147457   20.217109   \n",
       "10            13.837857   10.334264   10.439770   14.971706   21.886450   \n",
       "\n",
       "order_month  2017-11-01  2017-12-01  2018-01-01  2018-02-01  2018-03-01  \\\n",
       "source_id                                                                 \n",
       "1            110.740903   76.450863   73.447350   80.608760   66.999800   \n",
       "2            235.870671  160.665073  138.604675  166.086113  134.378166   \n",
       "3            728.845753  523.131188  482.066119  533.775730  457.886531   \n",
       "4            181.190051  253.902529  200.086335  213.543705  201.795578   \n",
       "5            244.929462  190.763302  172.322714  181.012137  161.876689   \n",
       "9             31.064614   22.213620   18.590777   21.108559   20.194514   \n",
       "10            32.127492   22.239667   17.487884   19.503627   19.764472   \n",
       "\n",
       "order_month  2018-04-01  2018-05-01  \n",
       "source_id                            \n",
       "1             46.903196   61.985143  \n",
       "2            105.470560  138.811334  \n",
       "3            328.238462  372.111490  \n",
       "4            155.530805  163.655665  \n",
       "5            125.742269  143.357052  \n",
       "9             12.949201   12.979062  \n",
       "10            13.760387   16.016092  "
      ]
     },
     "execution_count": 115,
     "metadata": {},
     "output_type": "execute_result"
    }
   ],
   "source": [
    "source_grouped_2 = (result_grouped.pivot_table(index='source_id', \n",
    "                                     columns='order_month', \n",
    "                                     values='costs')\n",
    "         )\n",
    "source_grouped_2"
   ]
  },
  {
   "cell_type": "markdown",
   "metadata": {},
   "source": [
    "#### Изменение доходов по месяцам для устройств."
   ]
  },
  {
   "cell_type": "code",
   "execution_count": 116,
   "metadata": {},
   "outputs": [
    {
     "data": {
      "text/html": [
       "<div>\n",
       "<style scoped>\n",
       "    .dataframe tbody tr th:only-of-type {\n",
       "        vertical-align: middle;\n",
       "    }\n",
       "\n",
       "    .dataframe tbody tr th {\n",
       "        vertical-align: top;\n",
       "    }\n",
       "\n",
       "    .dataframe thead th {\n",
       "        text-align: right;\n",
       "    }\n",
       "</style>\n",
       "<table border=\"1\" class=\"dataframe\">\n",
       "  <thead>\n",
       "    <tr style=\"text-align: right;\">\n",
       "      <th>order_month</th>\n",
       "      <th>2017-06-01</th>\n",
       "      <th>2017-07-01</th>\n",
       "      <th>2017-08-01</th>\n",
       "      <th>2017-09-01</th>\n",
       "      <th>2017-10-01</th>\n",
       "      <th>2017-11-01</th>\n",
       "      <th>2017-12-01</th>\n",
       "      <th>2018-01-01</th>\n",
       "      <th>2018-02-01</th>\n",
       "      <th>2018-03-01</th>\n",
       "      <th>2018-04-01</th>\n",
       "      <th>2018-05-01</th>\n",
       "    </tr>\n",
       "    <tr>\n",
       "      <th>device</th>\n",
       "      <th></th>\n",
       "      <th></th>\n",
       "      <th></th>\n",
       "      <th></th>\n",
       "      <th></th>\n",
       "      <th></th>\n",
       "      <th></th>\n",
       "      <th></th>\n",
       "      <th></th>\n",
       "      <th></th>\n",
       "      <th></th>\n",
       "      <th></th>\n",
       "    </tr>\n",
       "  </thead>\n",
       "  <tbody>\n",
       "    <tr>\n",
       "      <td>desktop</td>\n",
       "      <td>1188.767143</td>\n",
       "      <td>1464.541429</td>\n",
       "      <td>1036.767143</td>\n",
       "      <td>2233.052857</td>\n",
       "      <td>3299.250000</td>\n",
       "      <td>3099.044286</td>\n",
       "      <td>4586.552857</td>\n",
       "      <td>2334.911429</td>\n",
       "      <td>3090.375714</td>\n",
       "      <td>3327.865714</td>\n",
       "      <td>2006.361429</td>\n",
       "      <td>2521.814286</td>\n",
       "    </tr>\n",
       "    <tr>\n",
       "      <td>touch</td>\n",
       "      <td>176.588571</td>\n",
       "      <td>326.811429</td>\n",
       "      <td>214.312857</td>\n",
       "      <td>387.734286</td>\n",
       "      <td>698.992857</td>\n",
       "      <td>768.088571</td>\n",
       "      <td>611.818571</td>\n",
       "      <td>438.964286</td>\n",
       "      <td>561.130000</td>\n",
       "      <td>791.361429</td>\n",
       "      <td>401.932857</td>\n",
       "      <td>440.468571</td>\n",
       "    </tr>\n",
       "  </tbody>\n",
       "</table>\n",
       "</div>"
      ],
      "text/plain": [
       "order_month   2017-06-01   2017-07-01   2017-08-01   2017-09-01   2017-10-01  \\\n",
       "device                                                                         \n",
       "desktop      1188.767143  1464.541429  1036.767143  2233.052857  3299.250000   \n",
       "touch         176.588571   326.811429   214.312857   387.734286   698.992857   \n",
       "\n",
       "order_month   2017-11-01   2017-12-01   2018-01-01   2018-02-01   2018-03-01  \\\n",
       "device                                                                         \n",
       "desktop      3099.044286  4586.552857  2334.911429  3090.375714  3327.865714   \n",
       "touch         768.088571   611.818571   438.964286   561.130000   791.361429   \n",
       "\n",
       "order_month   2018-04-01   2018-05-01  \n",
       "device                                 \n",
       "desktop      2006.361429  2521.814286  \n",
       "touch         401.932857   440.468571  "
      ]
     },
     "execution_count": 116,
     "metadata": {},
     "output_type": "execute_result"
    }
   ],
   "source": [
    "device_grouped_1 = (result_grouped.pivot_table(index='device', \n",
    "                                     columns='order_month', \n",
    "                                     values='revenue')\n",
    "         )\n",
    "device_grouped_1"
   ]
  },
  {
   "cell_type": "markdown",
   "metadata": {},
   "source": [
    "#### Изменение расходов по месяцам для устройств."
   ]
  },
  {
   "cell_type": "code",
   "execution_count": 117,
   "metadata": {},
   "outputs": [
    {
     "data": {
      "text/html": [
       "<div>\n",
       "<style scoped>\n",
       "    .dataframe tbody tr th:only-of-type {\n",
       "        vertical-align: middle;\n",
       "    }\n",
       "\n",
       "    .dataframe tbody tr th {\n",
       "        vertical-align: top;\n",
       "    }\n",
       "\n",
       "    .dataframe thead th {\n",
       "        text-align: right;\n",
       "    }\n",
       "</style>\n",
       "<table border=\"1\" class=\"dataframe\">\n",
       "  <thead>\n",
       "    <tr style=\"text-align: right;\">\n",
       "      <th>order_month</th>\n",
       "      <th>2017-06-01</th>\n",
       "      <th>2017-07-01</th>\n",
       "      <th>2017-08-01</th>\n",
       "      <th>2017-09-01</th>\n",
       "      <th>2017-10-01</th>\n",
       "      <th>2017-11-01</th>\n",
       "      <th>2017-12-01</th>\n",
       "      <th>2018-01-01</th>\n",
       "      <th>2018-02-01</th>\n",
       "      <th>2018-03-01</th>\n",
       "      <th>2018-04-01</th>\n",
       "      <th>2018-05-01</th>\n",
       "    </tr>\n",
       "    <tr>\n",
       "      <th>device</th>\n",
       "      <th></th>\n",
       "      <th></th>\n",
       "      <th></th>\n",
       "      <th></th>\n",
       "      <th></th>\n",
       "      <th></th>\n",
       "      <th></th>\n",
       "      <th></th>\n",
       "      <th></th>\n",
       "      <th></th>\n",
       "      <th></th>\n",
       "      <th></th>\n",
       "    </tr>\n",
       "  </thead>\n",
       "  <tbody>\n",
       "    <tr>\n",
       "      <td>desktop</td>\n",
       "      <td>101.934669</td>\n",
       "      <td>98.250879</td>\n",
       "      <td>72.578612</td>\n",
       "      <td>123.685609</td>\n",
       "      <td>172.869959</td>\n",
       "      <td>227.442474</td>\n",
       "      <td>180.772446</td>\n",
       "      <td>157.625731</td>\n",
       "      <td>171.470932</td>\n",
       "      <td>151.501738</td>\n",
       "      <td>114.044654</td>\n",
       "      <td>126.178805</td>\n",
       "    </tr>\n",
       "    <tr>\n",
       "      <td>touch</td>\n",
       "      <td>95.087268</td>\n",
       "      <td>94.298567</td>\n",
       "      <td>68.775533</td>\n",
       "      <td>124.604522</td>\n",
       "      <td>175.239981</td>\n",
       "      <td>219.634368</td>\n",
       "      <td>176.189338</td>\n",
       "      <td>157.404513</td>\n",
       "      <td>175.854391</td>\n",
       "      <td>152.182762</td>\n",
       "      <td>111.268168</td>\n",
       "      <td>133.511435</td>\n",
       "    </tr>\n",
       "  </tbody>\n",
       "</table>\n",
       "</div>"
      ],
      "text/plain": [
       "order_month  2017-06-01  2017-07-01  2017-08-01  2017-09-01  2017-10-01  \\\n",
       "device                                                                    \n",
       "desktop      101.934669   98.250879   72.578612  123.685609  172.869959   \n",
       "touch         95.087268   94.298567   68.775533  124.604522  175.239981   \n",
       "\n",
       "order_month  2017-11-01  2017-12-01  2018-01-01  2018-02-01  2018-03-01  \\\n",
       "device                                                                    \n",
       "desktop      227.442474  180.772446  157.625731  171.470932  151.501738   \n",
       "touch        219.634368  176.189338  157.404513  175.854391  152.182762   \n",
       "\n",
       "order_month  2018-04-01  2018-05-01  \n",
       "device                               \n",
       "desktop      114.044654  126.178805  \n",
       "touch        111.268168  133.511435  "
      ]
     },
     "execution_count": 117,
     "metadata": {},
     "output_type": "execute_result"
    }
   ],
   "source": [
    "device_grouped_2 = (result_grouped.pivot_table(index='device', \n",
    "                                     columns='order_month', \n",
    "                                     values='costs')\n",
    "         )\n",
    "device_grouped_2"
   ]
  },
  {
   "cell_type": "markdown",
   "metadata": {},
   "source": [
    "### Шаг 3. Вывод. Рекомендации маркетологам, куда и сколько им стоит вкладывать денег? <a id=\"step3\"></a>   \n",
    "</div>"
   ]
  },
  {
   "cell_type": "markdown",
   "metadata": {},
   "source": [
    "По полученным данным получается, что у сервиса 3043 клиента в месяц, 702 в неделю и 101 в день в среднем."
   ]
  },
  {
   "cell_type": "markdown",
   "metadata": {},
   "source": [
    "Летом количество пользователей Яндекс.Афиши резко уменьшается. Это связано с тем, что летом люди стараются уехать из города на отдых. Также летом происходят театральные каникулы, а значит некоторый пласт пользователей, который увлекается театром отпадает."
   ]
  },
  {
   "cell_type": "markdown",
   "metadata": {},
   "source": [
    "Среднее количество сессий в день равно 139,8. Учитывая, что пользователей в день выходит 101, значит клиенты обращаются к сервису в день повторно."
   ]
  },
  {
   "cell_type": "markdown",
   "metadata": {},
   "source": [
    "Самое большое количество сессий длятся до 60 секунд."
   ]
  },
  {
   "cell_type": "markdown",
   "metadata": {},
   "source": [
    "Возвращаются люди очень редко по сравнению с самым первым циклом.\n",
    "\n",
    "- Больше всех показатель возвращаемости у первой когорты. Там отметка возврата не падает ниже 4%.\n",
    "- На второй период больше всего вернулось пользователей в когорте 2017-09.\n",
    "\n",
    "Возможно сервису необходимо вести более активную рекламную кампанию и придумать какие- нибудь программы лояльности, чтобы пользователи чаще возвращались."
   ]
  },
  {
   "cell_type": "markdown",
   "metadata": {},
   "source": [
    "По ходу изучения данной нам информации мы увидели, что в среднем когорты окупаются на 5 месяц жизни. Такой результат очень медленный, а значит необходимо менять маркетинговую стратегию."
   ]
  },
  {
   "cell_type": "markdown",
   "metadata": {},
   "source": [
    "1. Июньская когорта окупилась на 3 месяц (ROMI = 1.06).\n",
    "2. Июльская когорта окупилась на 7 месяц тоже (ROMI = 1.00).\n",
    "3. Сентябрьская когорта окупилась на 3 месяц (ROMI = 1.10).\n",
    "4. Декабрьская когорта окупилась на 3 месяц тоже (ROMI = 1.02)."
   ]
  },
  {
   "cell_type": "markdown",
   "metadata": {},
   "source": [
    "Средний САС равен 10.6."
   ]
  },
  {
   "cell_type": "markdown",
   "metadata": {},
   "source": [
    "Вашему вниманию представлены две диаграммы, на которых мы можем увидеть какой процент расхода и дохода вложен в определенном источнике трафика."
   ]
  },
  {
   "cell_type": "code",
   "execution_count": 118,
   "metadata": {
    "scrolled": false
   },
   "outputs": [
    {
     "data": {
      "image/png": "[encoded data removed]",
      "text/plain": [
       "<Figure size 1080x1080 with 2 Axes>"
      ]
     },
     "metadata": {},
     "output_type": "display_data"
    }
   ],
   "source": [
    "plt.subplots(figsize=(15,15))\n",
    "pie_revenue = result_grouped.groupby('source_id').agg({'revenue':'sum'})\n",
    "pie_costs = result_grouped.groupby('source_id').agg({'costs':'sum'})\n",
    "pie_revenue.plot(kind='pie', y='revenue', grid=True, autopct='%1.1f%%', legend=False, ax=plt.subplot(1,2,1))\n",
    "plt.title('Доход по источникам трафика, %')\n",
    "pie_costs.plot(kind='pie', y='costs', grid=True, autopct='%1.1f%%', legend=False, ax=plt.subplot(1,2,2))\n",
    "plt.title('Расход по источникам трафика, %')\n",
    "plt.show()"
   ]
  },
  {
   "cell_type": "markdown",
   "metadata": {},
   "source": [
    "Так как нам необходимо было выявить погрешности в распределении рекламного бюджета, то тут мы видим, что источник трафика под номером 3 не окупает себя. В него мы вкладываем половину от бюджета, а приносит он только 21,6% от всего дохода. Это даже не самый максимальный доход. При это источники трафика 2 и 5 окупают себя примерно в 1,5 раза. В связи с этим маркетинговому отделу рекомендуется для этих источников увеличить бюджет."
   ]
  },
  {
   "cell_type": "code",
   "execution_count": 119,
   "metadata": {},
   "outputs": [
    {
     "data": {
      "image/png": "[encoded data removed]",
      "text/plain": [
       "<Figure size 1080x1080 with 2 Axes>"
      ]
     },
     "metadata": {},
     "output_type": "display_data"
    }
   ],
   "source": [
    "plt.subplots(figsize=(15,15))\n",
    "pie_revenue = result_grouped.groupby('device').agg({'revenue':'sum'})\n",
    "pie_costs = result_grouped.groupby('device').agg({'costs':'sum'})\n",
    "pie_revenue.plot(kind='pie', y='revenue', grid=True, autopct='%1.1f%%', legend=False, ax=plt.subplot(1,2,1))\n",
    "plt.title('Доход по устройствам, %')\n",
    "pie_costs.plot(kind='pie', y='costs', grid=True, autopct='%1.1f%%', legend=False, ax=plt.subplot(1,2,2))\n",
    "plt.title('Расход по устройствам, %')\n",
    "plt.show()"
   ]
  }
 ],
 "metadata": {
  "kernelspec": {
   "display_name": "Python 3",
   "language": "python",
   "name": "python3"
  },
  "language_info": {
   "codemirror_mode": {
    "name": "ipython",
    "version": 3
   },
   "file_extension": ".py",
   "mimetype": "text/x-python",
   "name": "python",
   "nbconvert_exporter": "python",
   "pygments_lexer": "ipython3",
   "version": "3.7.6"
  }
 },
 "nbformat": 4,
 "nbformat_minor": 2
}
