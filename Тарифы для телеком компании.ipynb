{
 "cells": [
  {
   "cell_type": "markdown",
   "metadata": {},
   "source": [
    "# Определение перспективного тарифа для телеком компании"
   ]
  },
  {
   "cell_type": "markdown",
   "metadata": {},
   "source": [
    "#### Описание проекта"
   ]
  },
  {
   "cell_type": "markdown",
   "metadata": {},
   "source": [
    "Для корректировки рекламного бюджета, коммерческий департамент хочет понять, какой тариф приносит больше денег.\n",
    "Нам предстоит сделать предварительный анализ тарифов на небольшой выборке клиентов. В нашем распоряжении данные 500 пользователей «Мегалайна»: кто они, откуда, каким тарифом пользуются, сколько звонков и сообщений каждый отправил за 2018 год."
   ]
  },
  {
   "cell_type": "markdown",
   "metadata": {},
   "source": [
    "По анализу поведения клиентов мы определим, какой тариф лучше и приносит большую прибыль, чтобы вкладывать в него бюджет в дальнейшем."
   ]
  },
  {
   "cell_type": "markdown",
   "metadata": {},
   "source": [
    "#### Описание тарифов"
   ]
  },
  {
   "cell_type": "markdown",
   "metadata": {},
   "source": [
    "#### Тариф «Смарт»\n",
    "1. Ежемесячная плата: 550 рублей\n",
    "2. Включено 500 минут разговора, 50 сообщений и 15 Гб интернет-трафика\n",
    "3. Стоимость услуг сверх тарифного пакета:\n",
    " - минута разговора: 3 рубля\n",
    " - сообщение: 3 рубля\n",
    " - 1 Гб интернет-трафика: 200 рублей"
   ]
  },
  {
   "cell_type": "markdown",
   "metadata": {},
   "source": [
    "#### Тариф «Ультра»\n",
    "1. Ежемесячная плата: 1950 рублей\n",
    "2. Включено 3000 минут разговора, 1000 сообщений и 30 Гб интернет-трафика\n",
    "3. Стоимость услуг сверх тарифного пакета:\n",
    " - минута разговора: 1 рубль\n",
    " - сообщение: 1 рубль\n",
    " - 1 Гб интернет-трафика: 150 рублей"
   ]
  },
  {
   "cell_type": "markdown",
   "metadata": {},
   "source": [
    "#### Описание данных"
   ]
  },
  {
   "cell_type": "markdown",
   "metadata": {},
   "source": [
    "Таблица users (информация о пользователях):\n",
    " - user_id — уникальный идентификатор пользователя\n",
    " - first_name — имя пользователя\n",
    " - last_name — фамилия пользователя\n",
    " - age — возраст пользователя (годы)\n",
    " - reg_date — дата подключения тарифа (день, месяц, год)\n",
    " - churn_date — дата прекращения пользования тарифом (если значение пропущено, то тариф ещё действовал на момент выгрузки данных)\n",
    " - city — город проживания пользователя\n",
    " - tariff — название тарифного плана"
   ]
  },
  {
   "cell_type": "markdown",
   "metadata": {},
   "source": [
    "Таблица calls (информация о звонках):\n",
    " - id — уникальный номер звонка\n",
    " - call_date — дата звонка\n",
    " - duration — длительность звонка в минутах\n",
    " - user_id — идентификатор пользователя, сделавшего звонок"
   ]
  },
  {
   "cell_type": "markdown",
   "metadata": {},
   "source": [
    "Таблица messages (информация о сообщениях):\n",
    " - id — уникальный номер сообщения\n",
    " - message_date — дата сообщения\n",
    " - user_id — идентификатор пользователя, отправившего сообщение"
   ]
  },
  {
   "cell_type": "markdown",
   "metadata": {},
   "source": [
    "Таблица internet (информация об интернет-сессиях):\n",
    " - id — уникальный номер сессии\n",
    " - mb_used — объём потраченного за сессию интернет-трафика (в мегабайтах)\n",
    " - session_date — дата интернет-сессии\n",
    " - user_id — идентификатор пользователя"
   ]
  },
  {
   "cell_type": "markdown",
   "metadata": {},
   "source": [
    "Таблица tariffs (информация о тарифах):\n",
    " - tariff_name — название тарифа\n",
    " - rub_monthly_fee — ежемесячная абонентская плата в рублях\n",
    " - minutes_included — количество минут разговора в месяц, включённых в абонентскую плату\n",
    " - messages_included — количество сообщений в месяц, включённых в абонентскую плату\n",
    " - mb_per_month_included — объём интернет-трафика, включённого в абонентскую плату (в мегабайтах)\n",
    " - rub_per_minute — стоимость минуты разговора сверх тарифного пакета (например, если в тарифе 100 минут разговора в месяц, то со 101 минуты будет взиматься плата)\n",
    " - rub_per_message — стоимость отправки сообщения сверх тарифного пакета\n",
    " - rub_per_gb — стоимость дополнительного гигабайта интернет-трафика сверх тарифного пакета (1 гигабайт = 1024 мегабайта)"
   ]
  },
  {
   "cell_type": "markdown",
   "metadata": {},
   "source": [
    "### Шаг 1. Откроем файл с данными и изучим общую информацию. "
   ]
  },
  {
   "cell_type": "markdown",
   "metadata": {},
   "source": [
    "Для начала импортируем бибилиотеки, которые пригодятся нам в дальнейшем."
   ]
  },
  {
   "cell_type": "code",
   "execution_count": 1,
   "metadata": {},
   "outputs": [],
   "source": [
    "import pandas as pd\n",
    "import matplotlib\n",
    "import matplotlib.pyplot as plt\n",
    "import numpy as np\n",
    "import seaborn as sns"
   ]
  },
  {
   "cell_type": "markdown",
   "metadata": {},
   "source": [
    "Воспользуемся методом read_csv, чтобы прочитать информацию, которую нам дал заказчик. И сразу же проверим содержание пропущеннных значений в столбцах. Это необходимо учитывать, так как в дальнейшем мы планируем объединять почти все датафреймы."
   ]
  },
  {
   "cell_type": "code",
   "execution_count": 2,
   "metadata": {},
   "outputs": [
    {
     "data": {
      "text/html": [
       "<div>\n",
       "<style scoped>\n",
       "    .dataframe tbody tr th:only-of-type {\n",
       "        vertical-align: middle;\n",
       "    }\n",
       "\n",
       "    .dataframe tbody tr th {\n",
       "        vertical-align: top;\n",
       "    }\n",
       "\n",
       "    .dataframe thead th {\n",
       "        text-align: right;\n",
       "    }\n",
       "</style>\n",
       "<table border=\"1\" class=\"dataframe\">\n",
       "  <thead>\n",
       "    <tr style=\"text-align: right;\">\n",
       "      <th></th>\n",
       "      <th>id</th>\n",
       "      <th>call_date</th>\n",
       "      <th>duration</th>\n",
       "      <th>user_id</th>\n",
       "    </tr>\n",
       "  </thead>\n",
       "  <tbody>\n",
       "    <tr>\n",
       "      <td>0</td>\n",
       "      <td>1000_0</td>\n",
       "      <td>2018-07-25</td>\n",
       "      <td>0.00</td>\n",
       "      <td>1000</td>\n",
       "    </tr>\n",
       "    <tr>\n",
       "      <td>1</td>\n",
       "      <td>1000_1</td>\n",
       "      <td>2018-08-17</td>\n",
       "      <td>0.00</td>\n",
       "      <td>1000</td>\n",
       "    </tr>\n",
       "    <tr>\n",
       "      <td>2</td>\n",
       "      <td>1000_2</td>\n",
       "      <td>2018-06-11</td>\n",
       "      <td>2.85</td>\n",
       "      <td>1000</td>\n",
       "    </tr>\n",
       "    <tr>\n",
       "      <td>3</td>\n",
       "      <td>1000_3</td>\n",
       "      <td>2018-09-21</td>\n",
       "      <td>13.80</td>\n",
       "      <td>1000</td>\n",
       "    </tr>\n",
       "    <tr>\n",
       "      <td>4</td>\n",
       "      <td>1000_4</td>\n",
       "      <td>2018-12-15</td>\n",
       "      <td>5.18</td>\n",
       "      <td>1000</td>\n",
       "    </tr>\n",
       "  </tbody>\n",
       "</table>\n",
       "</div>"
      ],
      "text/plain": [
       "       id   call_date  duration  user_id\n",
       "0  1000_0  2018-07-25      0.00     1000\n",
       "1  1000_1  2018-08-17      0.00     1000\n",
       "2  1000_2  2018-06-11      2.85     1000\n",
       "3  1000_3  2018-09-21     13.80     1000\n",
       "4  1000_4  2018-12-15      5.18     1000"
      ]
     },
     "execution_count": 2,
     "metadata": {},
     "output_type": "execute_result"
    }
   ],
   "source": [
    "calls = pd.read_csv('/datasets/calls.csv')\n",
    "calls.head()"
   ]
  },
  {
   "cell_type": "code",
   "execution_count": 3,
   "metadata": {},
   "outputs": [
    {
     "data": {
      "text/html": [
       "<div>\n",
       "<style scoped>\n",
       "    .dataframe tbody tr th:only-of-type {\n",
       "        vertical-align: middle;\n",
       "    }\n",
       "\n",
       "    .dataframe tbody tr th {\n",
       "        vertical-align: top;\n",
       "    }\n",
       "\n",
       "    .dataframe thead th {\n",
       "        text-align: right;\n",
       "    }\n",
       "</style>\n",
       "<table border=\"1\" class=\"dataframe\">\n",
       "  <thead>\n",
       "    <tr style=\"text-align: right;\">\n",
       "      <th></th>\n",
       "      <th>id</th>\n",
       "      <th>message_date</th>\n",
       "      <th>user_id</th>\n",
       "    </tr>\n",
       "  </thead>\n",
       "  <tbody>\n",
       "    <tr>\n",
       "      <td>0</td>\n",
       "      <td>1000_0</td>\n",
       "      <td>2018-06-27</td>\n",
       "      <td>1000</td>\n",
       "    </tr>\n",
       "    <tr>\n",
       "      <td>1</td>\n",
       "      <td>1000_1</td>\n",
       "      <td>2018-10-08</td>\n",
       "      <td>1000</td>\n",
       "    </tr>\n",
       "    <tr>\n",
       "      <td>2</td>\n",
       "      <td>1000_2</td>\n",
       "      <td>2018-08-04</td>\n",
       "      <td>1000</td>\n",
       "    </tr>\n",
       "    <tr>\n",
       "      <td>3</td>\n",
       "      <td>1000_3</td>\n",
       "      <td>2018-06-16</td>\n",
       "      <td>1000</td>\n",
       "    </tr>\n",
       "    <tr>\n",
       "      <td>4</td>\n",
       "      <td>1000_4</td>\n",
       "      <td>2018-12-05</td>\n",
       "      <td>1000</td>\n",
       "    </tr>\n",
       "  </tbody>\n",
       "</table>\n",
       "</div>"
      ],
      "text/plain": [
       "       id message_date  user_id\n",
       "0  1000_0   2018-06-27     1000\n",
       "1  1000_1   2018-10-08     1000\n",
       "2  1000_2   2018-08-04     1000\n",
       "3  1000_3   2018-06-16     1000\n",
       "4  1000_4   2018-12-05     1000"
      ]
     },
     "execution_count": 3,
     "metadata": {},
     "output_type": "execute_result"
    }
   ],
   "source": [
    "messages = pd.read_csv('/datasets/messages.csv')\n",
    "messages.head()"
   ]
  },
  {
   "cell_type": "code",
   "execution_count": 4,
   "metadata": {},
   "outputs": [
    {
     "data": {
      "text/html": [
       "<div>\n",
       "<style scoped>\n",
       "    .dataframe tbody tr th:only-of-type {\n",
       "        vertical-align: middle;\n",
       "    }\n",
       "\n",
       "    .dataframe tbody tr th {\n",
       "        vertical-align: top;\n",
       "    }\n",
       "\n",
       "    .dataframe thead th {\n",
       "        text-align: right;\n",
       "    }\n",
       "</style>\n",
       "<table border=\"1\" class=\"dataframe\">\n",
       "  <thead>\n",
       "    <tr style=\"text-align: right;\">\n",
       "      <th></th>\n",
       "      <th>Unnamed: 0</th>\n",
       "      <th>id</th>\n",
       "      <th>mb_used</th>\n",
       "      <th>session_date</th>\n",
       "      <th>user_id</th>\n",
       "    </tr>\n",
       "  </thead>\n",
       "  <tbody>\n",
       "    <tr>\n",
       "      <td>0</td>\n",
       "      <td>0</td>\n",
       "      <td>1000_0</td>\n",
       "      <td>112.95</td>\n",
       "      <td>2018-11-25</td>\n",
       "      <td>1000</td>\n",
       "    </tr>\n",
       "    <tr>\n",
       "      <td>1</td>\n",
       "      <td>1</td>\n",
       "      <td>1000_1</td>\n",
       "      <td>1052.81</td>\n",
       "      <td>2018-09-07</td>\n",
       "      <td>1000</td>\n",
       "    </tr>\n",
       "    <tr>\n",
       "      <td>2</td>\n",
       "      <td>2</td>\n",
       "      <td>1000_2</td>\n",
       "      <td>1197.26</td>\n",
       "      <td>2018-06-25</td>\n",
       "      <td>1000</td>\n",
       "    </tr>\n",
       "    <tr>\n",
       "      <td>3</td>\n",
       "      <td>3</td>\n",
       "      <td>1000_3</td>\n",
       "      <td>550.27</td>\n",
       "      <td>2018-08-22</td>\n",
       "      <td>1000</td>\n",
       "    </tr>\n",
       "    <tr>\n",
       "      <td>4</td>\n",
       "      <td>4</td>\n",
       "      <td>1000_4</td>\n",
       "      <td>302.56</td>\n",
       "      <td>2018-09-24</td>\n",
       "      <td>1000</td>\n",
       "    </tr>\n",
       "  </tbody>\n",
       "</table>\n",
       "</div>"
      ],
      "text/plain": [
       "   Unnamed: 0      id  mb_used session_date  user_id\n",
       "0           0  1000_0   112.95   2018-11-25     1000\n",
       "1           1  1000_1  1052.81   2018-09-07     1000\n",
       "2           2  1000_2  1197.26   2018-06-25     1000\n",
       "3           3  1000_3   550.27   2018-08-22     1000\n",
       "4           4  1000_4   302.56   2018-09-24     1000"
      ]
     },
     "execution_count": 4,
     "metadata": {},
     "output_type": "execute_result"
    }
   ],
   "source": [
    "internet = pd.read_csv('/datasets/internet.csv')\n",
    "internet.head()"
   ]
  },
  {
   "cell_type": "code",
   "execution_count": 5,
   "metadata": {},
   "outputs": [
    {
     "data": {
      "text/html": [
       "<div>\n",
       "<style scoped>\n",
       "    .dataframe tbody tr th:only-of-type {\n",
       "        vertical-align: middle;\n",
       "    }\n",
       "\n",
       "    .dataframe tbody tr th {\n",
       "        vertical-align: top;\n",
       "    }\n",
       "\n",
       "    .dataframe thead th {\n",
       "        text-align: right;\n",
       "    }\n",
       "</style>\n",
       "<table border=\"1\" class=\"dataframe\">\n",
       "  <thead>\n",
       "    <tr style=\"text-align: right;\">\n",
       "      <th></th>\n",
       "      <th>messages_included</th>\n",
       "      <th>mb_per_month_included</th>\n",
       "      <th>minutes_included</th>\n",
       "      <th>rub_monthly_fee</th>\n",
       "      <th>rub_per_gb</th>\n",
       "      <th>rub_per_message</th>\n",
       "      <th>rub_per_minute</th>\n",
       "      <th>tariff_name</th>\n",
       "    </tr>\n",
       "  </thead>\n",
       "  <tbody>\n",
       "    <tr>\n",
       "      <td>0</td>\n",
       "      <td>50</td>\n",
       "      <td>15360</td>\n",
       "      <td>500</td>\n",
       "      <td>550</td>\n",
       "      <td>200</td>\n",
       "      <td>3</td>\n",
       "      <td>3</td>\n",
       "      <td>smart</td>\n",
       "    </tr>\n",
       "    <tr>\n",
       "      <td>1</td>\n",
       "      <td>1000</td>\n",
       "      <td>30720</td>\n",
       "      <td>3000</td>\n",
       "      <td>1950</td>\n",
       "      <td>150</td>\n",
       "      <td>1</td>\n",
       "      <td>1</td>\n",
       "      <td>ultra</td>\n",
       "    </tr>\n",
       "  </tbody>\n",
       "</table>\n",
       "</div>"
      ],
      "text/plain": [
       "   messages_included  mb_per_month_included  minutes_included  \\\n",
       "0                 50                  15360               500   \n",
       "1               1000                  30720              3000   \n",
       "\n",
       "   rub_monthly_fee  rub_per_gb  rub_per_message  rub_per_minute tariff_name  \n",
       "0              550         200                3               3       smart  \n",
       "1             1950         150                1               1       ultra  "
      ]
     },
     "execution_count": 5,
     "metadata": {},
     "output_type": "execute_result"
    }
   ],
   "source": [
    "tariffs = pd.read_csv('/datasets/tariffs.csv')\n",
    "tariffs"
   ]
  },
  {
   "cell_type": "code",
   "execution_count": 6,
   "metadata": {},
   "outputs": [
    {
     "data": {
      "text/html": [
       "<div>\n",
       "<style scoped>\n",
       "    .dataframe tbody tr th:only-of-type {\n",
       "        vertical-align: middle;\n",
       "    }\n",
       "\n",
       "    .dataframe tbody tr th {\n",
       "        vertical-align: top;\n",
       "    }\n",
       "\n",
       "    .dataframe thead th {\n",
       "        text-align: right;\n",
       "    }\n",
       "</style>\n",
       "<table border=\"1\" class=\"dataframe\">\n",
       "  <thead>\n",
       "    <tr style=\"text-align: right;\">\n",
       "      <th></th>\n",
       "      <th>user_id</th>\n",
       "      <th>age</th>\n",
       "      <th>churn_date</th>\n",
       "      <th>city</th>\n",
       "      <th>first_name</th>\n",
       "      <th>last_name</th>\n",
       "      <th>reg_date</th>\n",
       "      <th>tariff</th>\n",
       "    </tr>\n",
       "  </thead>\n",
       "  <tbody>\n",
       "    <tr>\n",
       "      <td>0</td>\n",
       "      <td>1000</td>\n",
       "      <td>52</td>\n",
       "      <td>NaN</td>\n",
       "      <td>Краснодар</td>\n",
       "      <td>Рафаил</td>\n",
       "      <td>Верещагин</td>\n",
       "      <td>2018-05-25</td>\n",
       "      <td>ultra</td>\n",
       "    </tr>\n",
       "    <tr>\n",
       "      <td>1</td>\n",
       "      <td>1001</td>\n",
       "      <td>41</td>\n",
       "      <td>NaN</td>\n",
       "      <td>Москва</td>\n",
       "      <td>Иван</td>\n",
       "      <td>Ежов</td>\n",
       "      <td>2018-11-01</td>\n",
       "      <td>smart</td>\n",
       "    </tr>\n",
       "    <tr>\n",
       "      <td>2</td>\n",
       "      <td>1002</td>\n",
       "      <td>59</td>\n",
       "      <td>NaN</td>\n",
       "      <td>Стерлитамак</td>\n",
       "      <td>Евгений</td>\n",
       "      <td>Абрамович</td>\n",
       "      <td>2018-06-17</td>\n",
       "      <td>smart</td>\n",
       "    </tr>\n",
       "    <tr>\n",
       "      <td>3</td>\n",
       "      <td>1003</td>\n",
       "      <td>23</td>\n",
       "      <td>NaN</td>\n",
       "      <td>Москва</td>\n",
       "      <td>Белла</td>\n",
       "      <td>Белякова</td>\n",
       "      <td>2018-08-17</td>\n",
       "      <td>ultra</td>\n",
       "    </tr>\n",
       "    <tr>\n",
       "      <td>4</td>\n",
       "      <td>1004</td>\n",
       "      <td>68</td>\n",
       "      <td>NaN</td>\n",
       "      <td>Новокузнецк</td>\n",
       "      <td>Татьяна</td>\n",
       "      <td>Авдеенко</td>\n",
       "      <td>2018-05-14</td>\n",
       "      <td>ultra</td>\n",
       "    </tr>\n",
       "  </tbody>\n",
       "</table>\n",
       "</div>"
      ],
      "text/plain": [
       "   user_id  age churn_date         city first_name  last_name    reg_date  \\\n",
       "0     1000   52        NaN    Краснодар     Рафаил  Верещагин  2018-05-25   \n",
       "1     1001   41        NaN       Москва       Иван       Ежов  2018-11-01   \n",
       "2     1002   59        NaN  Стерлитамак    Евгений  Абрамович  2018-06-17   \n",
       "3     1003   23        NaN       Москва      Белла   Белякова  2018-08-17   \n",
       "4     1004   68        NaN  Новокузнецк    Татьяна   Авдеенко  2018-05-14   \n",
       "\n",
       "  tariff  \n",
       "0  ultra  \n",
       "1  smart  \n",
       "2  smart  \n",
       "3  ultra  \n",
       "4  ultra  "
      ]
     },
     "execution_count": 6,
     "metadata": {},
     "output_type": "execute_result"
    }
   ],
   "source": [
    "users = pd.read_csv('/datasets/users.csv')\n",
    "users.head()"
   ]
  },
  {
   "cell_type": "markdown",
   "metadata": {},
   "source": [
    "Нашему вниманию представлены 5 таблиц со всеми необходимыми данными. Такие, как, информация о звонках, сообщениях, интернет- трафике, о самих тарифах, и, конечно, о пользователях."
   ]
  },
  {
   "cell_type": "markdown",
   "metadata": {},
   "source": [
    "Для более удобной работы с информацией, необходимо объединить все таблицы в одну общую. Чтобы все, что нам необходимо было в одном месте."
   ]
  },
  {
   "cell_type": "markdown",
   "metadata": {},
   "source": [
    "Для этого сначала сгруппируем датафреймы по столбцу 'user_id' и 'month'. Столбец с месяцем создадим сами, потому, что нас интересует помесячная тарификация и для этого нам не нужна информация по дням. Хватит и месяца."
   ]
  },
  {
   "cell_type": "markdown",
   "metadata": {},
   "source": [
    "Сначала проверим какие типы данных содержат столбцы в дф, чтобы можно было работать с датой."
   ]
  },
  {
   "cell_type": "code",
   "execution_count": 7,
   "metadata": {},
   "outputs": [
    {
     "name": "stdout",
     "output_type": "stream",
     "text": [
      "<class 'pandas.core.frame.DataFrame'>\n",
      "RangeIndex: 202607 entries, 0 to 202606\n",
      "Data columns (total 4 columns):\n",
      "id           202607 non-null object\n",
      "call_date    202607 non-null object\n",
      "duration     202607 non-null float64\n",
      "user_id      202607 non-null int64\n",
      "dtypes: float64(1), int64(1), object(2)\n",
      "memory usage: 6.2+ MB\n"
     ]
    }
   ],
   "source": [
    "calls.info()"
   ]
  },
  {
   "cell_type": "code",
   "execution_count": 8,
   "metadata": {},
   "outputs": [
    {
     "name": "stdout",
     "output_type": "stream",
     "text": [
      "<class 'pandas.core.frame.DataFrame'>\n",
      "RangeIndex: 123036 entries, 0 to 123035\n",
      "Data columns (total 3 columns):\n",
      "id              123036 non-null object\n",
      "message_date    123036 non-null object\n",
      "user_id         123036 non-null int64\n",
      "dtypes: int64(1), object(2)\n",
      "memory usage: 2.8+ MB\n"
     ]
    }
   ],
   "source": [
    "messages.info()"
   ]
  },
  {
   "cell_type": "code",
   "execution_count": 9,
   "metadata": {},
   "outputs": [
    {
     "name": "stdout",
     "output_type": "stream",
     "text": [
      "<class 'pandas.core.frame.DataFrame'>\n",
      "RangeIndex: 149396 entries, 0 to 149395\n",
      "Data columns (total 5 columns):\n",
      "Unnamed: 0      149396 non-null int64\n",
      "id              149396 non-null object\n",
      "mb_used         149396 non-null float64\n",
      "session_date    149396 non-null object\n",
      "user_id         149396 non-null int64\n",
      "dtypes: float64(1), int64(2), object(2)\n",
      "memory usage: 5.7+ MB\n"
     ]
    }
   ],
   "source": [
    "internet.info()"
   ]
  },
  {
   "cell_type": "markdown",
   "metadata": {},
   "source": [
    "Мы видим, что столбцы с датой находятся не в типе данных datetime, а в object. Изменим тип данных у этих столбцов."
   ]
  },
  {
   "cell_type": "code",
   "execution_count": 10,
   "metadata": {},
   "outputs": [],
   "source": [
    "calls['call_date'] = pd.to_datetime(calls['call_date'], format='%Y.%m.%d')\n",
    "messages['message_date'] = pd.to_datetime(messages['message_date'], format='%Y.%m.%d')\n",
    "internet['session_date'] = pd.to_datetime(internet['session_date'], format='%Y.%m.%d')"
   ]
  },
  {
   "cell_type": "markdown",
   "metadata": {},
   "source": [
    "Создаем новый столбец с номером месяца."
   ]
  },
  {
   "cell_type": "code",
   "execution_count": 11,
   "metadata": {},
   "outputs": [],
   "source": [
    "calls['month'] = calls['call_date'].dt.month\n",
    "messages['month'] = messages['message_date'].dt.month\n",
    "internet['month'] = internet['session_date'].dt.month"
   ]
  },
  {
   "cell_type": "code",
   "execution_count": 12,
   "metadata": {},
   "outputs": [
    {
     "name": "stdout",
     "output_type": "stream",
     "text": [
      "<class 'pandas.core.frame.DataFrame'>\n",
      "RangeIndex: 202607 entries, 0 to 202606\n",
      "Data columns (total 5 columns):\n",
      "id           202607 non-null object\n",
      "call_date    202607 non-null datetime64[ns]\n",
      "duration     202607 non-null float64\n",
      "user_id      202607 non-null int64\n",
      "month        202607 non-null int64\n",
      "dtypes: datetime64[ns](1), float64(1), int64(2), object(1)\n",
      "memory usage: 7.7+ MB\n"
     ]
    }
   ],
   "source": [
    "calls.info()"
   ]
  },
  {
   "cell_type": "markdown",
   "metadata": {},
   "source": [
    "И проведем группировку. Заодно выведем первые 5 строк каждой таблицы, чтобы посмотреть как это выглядит. Также сбросим индексы у дф, чтобы в дальнейшем было удобнее с ними работать и не терять столбцы."
   ]
  },
  {
   "cell_type": "code",
   "execution_count": 13,
   "metadata": {},
   "outputs": [
    {
     "data": {
      "text/html": [
       "<div>\n",
       "<style scoped>\n",
       "    .dataframe tbody tr th:only-of-type {\n",
       "        vertical-align: middle;\n",
       "    }\n",
       "\n",
       "    .dataframe tbody tr th {\n",
       "        vertical-align: top;\n",
       "    }\n",
       "\n",
       "    .dataframe thead th {\n",
       "        text-align: right;\n",
       "    }\n",
       "</style>\n",
       "<table border=\"1\" class=\"dataframe\">\n",
       "  <thead>\n",
       "    <tr style=\"text-align: right;\">\n",
       "      <th></th>\n",
       "      <th></th>\n",
       "      <th>duration</th>\n",
       "      <th>calls_count</th>\n",
       "    </tr>\n",
       "    <tr>\n",
       "      <th>user_id</th>\n",
       "      <th>month</th>\n",
       "      <th></th>\n",
       "      <th></th>\n",
       "    </tr>\n",
       "  </thead>\n",
       "  <tbody>\n",
       "    <tr>\n",
       "      <td rowspan=\"5\" valign=\"top\">1000</td>\n",
       "      <td>5</td>\n",
       "      <td>150.06</td>\n",
       "      <td>22</td>\n",
       "    </tr>\n",
       "    <tr>\n",
       "      <td>6</td>\n",
       "      <td>158.90</td>\n",
       "      <td>43</td>\n",
       "    </tr>\n",
       "    <tr>\n",
       "      <td>7</td>\n",
       "      <td>318.80</td>\n",
       "      <td>47</td>\n",
       "    </tr>\n",
       "    <tr>\n",
       "      <td>8</td>\n",
       "      <td>389.87</td>\n",
       "      <td>52</td>\n",
       "    </tr>\n",
       "    <tr>\n",
       "      <td>9</td>\n",
       "      <td>440.14</td>\n",
       "      <td>58</td>\n",
       "    </tr>\n",
       "  </tbody>\n",
       "</table>\n",
       "</div>"
      ],
      "text/plain": [
       "               duration  calls_count\n",
       "user_id month                       \n",
       "1000    5        150.06           22\n",
       "        6        158.90           43\n",
       "        7        318.80           47\n",
       "        8        389.87           52\n",
       "        9        440.14           58"
      ]
     },
     "execution_count": 13,
     "metadata": {},
     "output_type": "execute_result"
    }
   ],
   "source": [
    "calls_group = (calls.groupby(['user_id', 'month'])\n",
    "               .agg({'duration':'sum', 'id':'count'})\n",
    "               .rename(columns={'id':'calls_count'})\n",
    "              )\n",
    "calls_group.head()"
   ]
  },
  {
   "cell_type": "code",
   "execution_count": 14,
   "metadata": {},
   "outputs": [
    {
     "data": {
      "text/html": [
       "<div>\n",
       "<style scoped>\n",
       "    .dataframe tbody tr th:only-of-type {\n",
       "        vertical-align: middle;\n",
       "    }\n",
       "\n",
       "    .dataframe tbody tr th {\n",
       "        vertical-align: top;\n",
       "    }\n",
       "\n",
       "    .dataframe thead th {\n",
       "        text-align: right;\n",
       "    }\n",
       "</style>\n",
       "<table border=\"1\" class=\"dataframe\">\n",
       "  <thead>\n",
       "    <tr style=\"text-align: right;\">\n",
       "      <th></th>\n",
       "      <th></th>\n",
       "      <th>messages_count</th>\n",
       "    </tr>\n",
       "    <tr>\n",
       "      <th>user_id</th>\n",
       "      <th>month</th>\n",
       "      <th></th>\n",
       "    </tr>\n",
       "  </thead>\n",
       "  <tbody>\n",
       "    <tr>\n",
       "      <td rowspan=\"5\" valign=\"top\">1000</td>\n",
       "      <td>5</td>\n",
       "      <td>22</td>\n",
       "    </tr>\n",
       "    <tr>\n",
       "      <td>6</td>\n",
       "      <td>60</td>\n",
       "    </tr>\n",
       "    <tr>\n",
       "      <td>7</td>\n",
       "      <td>75</td>\n",
       "    </tr>\n",
       "    <tr>\n",
       "      <td>8</td>\n",
       "      <td>81</td>\n",
       "    </tr>\n",
       "    <tr>\n",
       "      <td>9</td>\n",
       "      <td>57</td>\n",
       "    </tr>\n",
       "  </tbody>\n",
       "</table>\n",
       "</div>"
      ],
      "text/plain": [
       "               messages_count\n",
       "user_id month                \n",
       "1000    5                  22\n",
       "        6                  60\n",
       "        7                  75\n",
       "        8                  81\n",
       "        9                  57"
      ]
     },
     "execution_count": 14,
     "metadata": {},
     "output_type": "execute_result"
    }
   ],
   "source": [
    "messages_group = (messages.groupby(['user_id', 'month'])\n",
    "                  .agg({'id':'count'})\n",
    "                  .rename(columns={'id':'messages_count'})\n",
    "                 )\n",
    "messages_group.head()"
   ]
  },
  {
   "cell_type": "code",
   "execution_count": 15,
   "metadata": {},
   "outputs": [
    {
     "data": {
      "text/html": [
       "<div>\n",
       "<style scoped>\n",
       "    .dataframe tbody tr th:only-of-type {\n",
       "        vertical-align: middle;\n",
       "    }\n",
       "\n",
       "    .dataframe tbody tr th {\n",
       "        vertical-align: top;\n",
       "    }\n",
       "\n",
       "    .dataframe thead th {\n",
       "        text-align: right;\n",
       "    }\n",
       "</style>\n",
       "<table border=\"1\" class=\"dataframe\">\n",
       "  <thead>\n",
       "    <tr style=\"text-align: right;\">\n",
       "      <th></th>\n",
       "      <th></th>\n",
       "      <th>mb_used</th>\n",
       "    </tr>\n",
       "    <tr>\n",
       "      <th>user_id</th>\n",
       "      <th>month</th>\n",
       "      <th></th>\n",
       "    </tr>\n",
       "  </thead>\n",
       "  <tbody>\n",
       "    <tr>\n",
       "      <td rowspan=\"5\" valign=\"top\">1000</td>\n",
       "      <td>5</td>\n",
       "      <td>2253.49</td>\n",
       "    </tr>\n",
       "    <tr>\n",
       "      <td>6</td>\n",
       "      <td>23233.77</td>\n",
       "    </tr>\n",
       "    <tr>\n",
       "      <td>7</td>\n",
       "      <td>14003.64</td>\n",
       "    </tr>\n",
       "    <tr>\n",
       "      <td>8</td>\n",
       "      <td>14055.93</td>\n",
       "    </tr>\n",
       "    <tr>\n",
       "      <td>9</td>\n",
       "      <td>14568.91</td>\n",
       "    </tr>\n",
       "  </tbody>\n",
       "</table>\n",
       "</div>"
      ],
      "text/plain": [
       "                mb_used\n",
       "user_id month          \n",
       "1000    5       2253.49\n",
       "        6      23233.77\n",
       "        7      14003.64\n",
       "        8      14055.93\n",
       "        9      14568.91"
      ]
     },
     "execution_count": 15,
     "metadata": {},
     "output_type": "execute_result"
    }
   ],
   "source": [
    "internet_group = internet.groupby(['user_id', 'month']).agg({'mb_used':'sum'})\n",
    "internet_group.head()"
   ]
  },
  {
   "cell_type": "markdown",
   "metadata": {},
   "source": [
    "Мы получили три таблицы с информацией о том, каким пользователем было использовано сколько минут, смс и трафика. И в каком месяце сколько он потратил."
   ]
  },
  {
   "cell_type": "markdown",
   "metadata": {},
   "source": [
    "Объединим эти три таблицы, группируя по столбцу 'user_id' и 'month'."
   ]
  },
  {
   "cell_type": "code",
   "execution_count": 16,
   "metadata": {},
   "outputs": [
    {
     "data": {
      "text/html": [
       "<div>\n",
       "<style scoped>\n",
       "    .dataframe tbody tr th:only-of-type {\n",
       "        vertical-align: middle;\n",
       "    }\n",
       "\n",
       "    .dataframe tbody tr th {\n",
       "        vertical-align: top;\n",
       "    }\n",
       "\n",
       "    .dataframe thead th {\n",
       "        text-align: right;\n",
       "    }\n",
       "</style>\n",
       "<table border=\"1\" class=\"dataframe\">\n",
       "  <thead>\n",
       "    <tr style=\"text-align: right;\">\n",
       "      <th></th>\n",
       "      <th></th>\n",
       "      <th>duration</th>\n",
       "      <th>calls_count</th>\n",
       "      <th>messages_count</th>\n",
       "    </tr>\n",
       "    <tr>\n",
       "      <th>user_id</th>\n",
       "      <th>month</th>\n",
       "      <th></th>\n",
       "      <th></th>\n",
       "      <th></th>\n",
       "    </tr>\n",
       "  </thead>\n",
       "  <tbody>\n",
       "    <tr>\n",
       "      <td rowspan=\"5\" valign=\"top\">1000</td>\n",
       "      <td>5</td>\n",
       "      <td>150.06</td>\n",
       "      <td>22.0</td>\n",
       "      <td>22.0</td>\n",
       "    </tr>\n",
       "    <tr>\n",
       "      <td>6</td>\n",
       "      <td>158.90</td>\n",
       "      <td>43.0</td>\n",
       "      <td>60.0</td>\n",
       "    </tr>\n",
       "    <tr>\n",
       "      <td>7</td>\n",
       "      <td>318.80</td>\n",
       "      <td>47.0</td>\n",
       "      <td>75.0</td>\n",
       "    </tr>\n",
       "    <tr>\n",
       "      <td>8</td>\n",
       "      <td>389.87</td>\n",
       "      <td>52.0</td>\n",
       "      <td>81.0</td>\n",
       "    </tr>\n",
       "    <tr>\n",
       "      <td>9</td>\n",
       "      <td>440.14</td>\n",
       "      <td>58.0</td>\n",
       "      <td>57.0</td>\n",
       "    </tr>\n",
       "  </tbody>\n",
       "</table>\n",
       "</div>"
      ],
      "text/plain": [
       "               duration  calls_count  messages_count\n",
       "user_id month                                       \n",
       "1000    5        150.06         22.0            22.0\n",
       "        6        158.90         43.0            60.0\n",
       "        7        318.80         47.0            75.0\n",
       "        8        389.87         52.0            81.0\n",
       "        9        440.14         58.0            57.0"
      ]
     },
     "execution_count": 16,
     "metadata": {},
     "output_type": "execute_result"
    }
   ],
   "source": [
    "megaline = calls_group.merge(messages_group, on=['user_id', 'month'], how='outer')\n",
    "megaline.head()"
   ]
  },
  {
   "cell_type": "code",
   "execution_count": 17,
   "metadata": {},
   "outputs": [
    {
     "data": {
      "text/html": [
       "<div>\n",
       "<style scoped>\n",
       "    .dataframe tbody tr th:only-of-type {\n",
       "        vertical-align: middle;\n",
       "    }\n",
       "\n",
       "    .dataframe tbody tr th {\n",
       "        vertical-align: top;\n",
       "    }\n",
       "\n",
       "    .dataframe thead th {\n",
       "        text-align: right;\n",
       "    }\n",
       "</style>\n",
       "<table border=\"1\" class=\"dataframe\">\n",
       "  <thead>\n",
       "    <tr style=\"text-align: right;\">\n",
       "      <th></th>\n",
       "      <th>user_id</th>\n",
       "      <th>month</th>\n",
       "      <th>duration</th>\n",
       "      <th>calls_count</th>\n",
       "      <th>messages_count</th>\n",
       "      <th>mb_used</th>\n",
       "    </tr>\n",
       "  </thead>\n",
       "  <tbody>\n",
       "    <tr>\n",
       "      <td>0</td>\n",
       "      <td>1000</td>\n",
       "      <td>5</td>\n",
       "      <td>150.06</td>\n",
       "      <td>22.0</td>\n",
       "      <td>22.0</td>\n",
       "      <td>2253.49</td>\n",
       "    </tr>\n",
       "    <tr>\n",
       "      <td>1</td>\n",
       "      <td>1000</td>\n",
       "      <td>6</td>\n",
       "      <td>158.90</td>\n",
       "      <td>43.0</td>\n",
       "      <td>60.0</td>\n",
       "      <td>23233.77</td>\n",
       "    </tr>\n",
       "    <tr>\n",
       "      <td>2</td>\n",
       "      <td>1000</td>\n",
       "      <td>7</td>\n",
       "      <td>318.80</td>\n",
       "      <td>47.0</td>\n",
       "      <td>75.0</td>\n",
       "      <td>14003.64</td>\n",
       "    </tr>\n",
       "    <tr>\n",
       "      <td>3</td>\n",
       "      <td>1000</td>\n",
       "      <td>8</td>\n",
       "      <td>389.87</td>\n",
       "      <td>52.0</td>\n",
       "      <td>81.0</td>\n",
       "      <td>14055.93</td>\n",
       "    </tr>\n",
       "    <tr>\n",
       "      <td>4</td>\n",
       "      <td>1000</td>\n",
       "      <td>9</td>\n",
       "      <td>440.14</td>\n",
       "      <td>58.0</td>\n",
       "      <td>57.0</td>\n",
       "      <td>14568.91</td>\n",
       "    </tr>\n",
       "  </tbody>\n",
       "</table>\n",
       "</div>"
      ],
      "text/plain": [
       "   user_id  month  duration  calls_count  messages_count   mb_used\n",
       "0     1000      5    150.06         22.0            22.0   2253.49\n",
       "1     1000      6    158.90         43.0            60.0  23233.77\n",
       "2     1000      7    318.80         47.0            75.0  14003.64\n",
       "3     1000      8    389.87         52.0            81.0  14055.93\n",
       "4     1000      9    440.14         58.0            57.0  14568.91"
      ]
     },
     "execution_count": 17,
     "metadata": {},
     "output_type": "execute_result"
    }
   ],
   "source": [
    "megaline = megaline.merge(internet_group, on=['user_id', 'month'], how='outer').reset_index()\n",
    "megaline.head()"
   ]
  },
  {
   "cell_type": "markdown",
   "metadata": {},
   "source": [
    "В итоге мы получили общую таблицу, в которой содержится информация о помесячном использовании тарифа, определенным пользователем."
   ]
  },
  {
   "cell_type": "markdown",
   "metadata": {},
   "source": [
    "И теперь эту таблицу объединяем с общей информацией о пользователях."
   ]
  },
  {
   "cell_type": "code",
   "execution_count": 18,
   "metadata": {},
   "outputs": [
    {
     "data": {
      "text/html": [
       "<div>\n",
       "<style scoped>\n",
       "    .dataframe tbody tr th:only-of-type {\n",
       "        vertical-align: middle;\n",
       "    }\n",
       "\n",
       "    .dataframe tbody tr th {\n",
       "        vertical-align: top;\n",
       "    }\n",
       "\n",
       "    .dataframe thead th {\n",
       "        text-align: right;\n",
       "    }\n",
       "</style>\n",
       "<table border=\"1\" class=\"dataframe\">\n",
       "  <thead>\n",
       "    <tr style=\"text-align: right;\">\n",
       "      <th></th>\n",
       "      <th>user_id</th>\n",
       "      <th>month</th>\n",
       "      <th>duration</th>\n",
       "      <th>calls_count</th>\n",
       "      <th>messages_count</th>\n",
       "      <th>mb_used</th>\n",
       "      <th>age</th>\n",
       "      <th>churn_date</th>\n",
       "      <th>city</th>\n",
       "      <th>first_name</th>\n",
       "      <th>last_name</th>\n",
       "      <th>reg_date</th>\n",
       "      <th>tariff</th>\n",
       "    </tr>\n",
       "  </thead>\n",
       "  <tbody>\n",
       "    <tr>\n",
       "      <td>0</td>\n",
       "      <td>1000</td>\n",
       "      <td>5</td>\n",
       "      <td>150.06</td>\n",
       "      <td>22.0</td>\n",
       "      <td>22.0</td>\n",
       "      <td>2253.49</td>\n",
       "      <td>52</td>\n",
       "      <td>NaN</td>\n",
       "      <td>Краснодар</td>\n",
       "      <td>Рафаил</td>\n",
       "      <td>Верещагин</td>\n",
       "      <td>2018-05-25</td>\n",
       "      <td>ultra</td>\n",
       "    </tr>\n",
       "    <tr>\n",
       "      <td>1</td>\n",
       "      <td>1000</td>\n",
       "      <td>6</td>\n",
       "      <td>158.90</td>\n",
       "      <td>43.0</td>\n",
       "      <td>60.0</td>\n",
       "      <td>23233.77</td>\n",
       "      <td>52</td>\n",
       "      <td>NaN</td>\n",
       "      <td>Краснодар</td>\n",
       "      <td>Рафаил</td>\n",
       "      <td>Верещагин</td>\n",
       "      <td>2018-05-25</td>\n",
       "      <td>ultra</td>\n",
       "    </tr>\n",
       "    <tr>\n",
       "      <td>2</td>\n",
       "      <td>1000</td>\n",
       "      <td>7</td>\n",
       "      <td>318.80</td>\n",
       "      <td>47.0</td>\n",
       "      <td>75.0</td>\n",
       "      <td>14003.64</td>\n",
       "      <td>52</td>\n",
       "      <td>NaN</td>\n",
       "      <td>Краснодар</td>\n",
       "      <td>Рафаил</td>\n",
       "      <td>Верещагин</td>\n",
       "      <td>2018-05-25</td>\n",
       "      <td>ultra</td>\n",
       "    </tr>\n",
       "    <tr>\n",
       "      <td>3</td>\n",
       "      <td>1000</td>\n",
       "      <td>8</td>\n",
       "      <td>389.87</td>\n",
       "      <td>52.0</td>\n",
       "      <td>81.0</td>\n",
       "      <td>14055.93</td>\n",
       "      <td>52</td>\n",
       "      <td>NaN</td>\n",
       "      <td>Краснодар</td>\n",
       "      <td>Рафаил</td>\n",
       "      <td>Верещагин</td>\n",
       "      <td>2018-05-25</td>\n",
       "      <td>ultra</td>\n",
       "    </tr>\n",
       "    <tr>\n",
       "      <td>4</td>\n",
       "      <td>1000</td>\n",
       "      <td>9</td>\n",
       "      <td>440.14</td>\n",
       "      <td>58.0</td>\n",
       "      <td>57.0</td>\n",
       "      <td>14568.91</td>\n",
       "      <td>52</td>\n",
       "      <td>NaN</td>\n",
       "      <td>Краснодар</td>\n",
       "      <td>Рафаил</td>\n",
       "      <td>Верещагин</td>\n",
       "      <td>2018-05-25</td>\n",
       "      <td>ultra</td>\n",
       "    </tr>\n",
       "  </tbody>\n",
       "</table>\n",
       "</div>"
      ],
      "text/plain": [
       "   user_id  month  duration  calls_count  messages_count   mb_used  age  \\\n",
       "0     1000      5    150.06         22.0            22.0   2253.49   52   \n",
       "1     1000      6    158.90         43.0            60.0  23233.77   52   \n",
       "2     1000      7    318.80         47.0            75.0  14003.64   52   \n",
       "3     1000      8    389.87         52.0            81.0  14055.93   52   \n",
       "4     1000      9    440.14         58.0            57.0  14568.91   52   \n",
       "\n",
       "  churn_date       city first_name  last_name    reg_date tariff  \n",
       "0        NaN  Краснодар     Рафаил  Верещагин  2018-05-25  ultra  \n",
       "1        NaN  Краснодар     Рафаил  Верещагин  2018-05-25  ultra  \n",
       "2        NaN  Краснодар     Рафаил  Верещагин  2018-05-25  ultra  \n",
       "3        NaN  Краснодар     Рафаил  Верещагин  2018-05-25  ultra  \n",
       "4        NaN  Краснодар     Рафаил  Верещагин  2018-05-25  ultra  "
      ]
     },
     "execution_count": 18,
     "metadata": {},
     "output_type": "execute_result"
    }
   ],
   "source": [
    "megaline = megaline.merge(users, on='user_id', how='left')\n",
    "megaline.head()"
   ]
  },
  {
   "cell_type": "markdown",
   "metadata": {},
   "source": [
    "Для дальнейщих расчетов удобнее будет, если в этом же дф будет и сразу информация о тарифе, который используется. Поэтому завершим объединение, присоединяя к этому дф информацию о тарифе. Но для начала в дф, с описанием тарифа сменим название столбца с 'tariff_name' на 'tariff', как и в нашем дф."
   ]
  },
  {
   "cell_type": "code",
   "execution_count": 19,
   "metadata": {},
   "outputs": [],
   "source": [
    "tariffs = tariffs.rename(columns={'tariff_name':'tariff'})"
   ]
  },
  {
   "cell_type": "code",
   "execution_count": 20,
   "metadata": {
    "scrolled": true
   },
   "outputs": [
    {
     "data": {
      "text/html": [
       "<div>\n",
       "<style scoped>\n",
       "    .dataframe tbody tr th:only-of-type {\n",
       "        vertical-align: middle;\n",
       "    }\n",
       "\n",
       "    .dataframe tbody tr th {\n",
       "        vertical-align: top;\n",
       "    }\n",
       "\n",
       "    .dataframe thead th {\n",
       "        text-align: right;\n",
       "    }\n",
       "</style>\n",
       "<table border=\"1\" class=\"dataframe\">\n",
       "  <thead>\n",
       "    <tr style=\"text-align: right;\">\n",
       "      <th></th>\n",
       "      <th>user_id</th>\n",
       "      <th>month</th>\n",
       "      <th>duration</th>\n",
       "      <th>calls_count</th>\n",
       "      <th>messages_count</th>\n",
       "      <th>mb_used</th>\n",
       "      <th>age</th>\n",
       "      <th>churn_date</th>\n",
       "      <th>city</th>\n",
       "      <th>first_name</th>\n",
       "      <th>last_name</th>\n",
       "      <th>reg_date</th>\n",
       "      <th>tariff</th>\n",
       "      <th>messages_included</th>\n",
       "      <th>mb_per_month_included</th>\n",
       "      <th>minutes_included</th>\n",
       "      <th>rub_monthly_fee</th>\n",
       "      <th>rub_per_gb</th>\n",
       "      <th>rub_per_message</th>\n",
       "      <th>rub_per_minute</th>\n",
       "    </tr>\n",
       "  </thead>\n",
       "  <tbody>\n",
       "    <tr>\n",
       "      <td>0</td>\n",
       "      <td>1000</td>\n",
       "      <td>5</td>\n",
       "      <td>150.06</td>\n",
       "      <td>22.0</td>\n",
       "      <td>22.0</td>\n",
       "      <td>2253.49</td>\n",
       "      <td>52</td>\n",
       "      <td>NaN</td>\n",
       "      <td>Краснодар</td>\n",
       "      <td>Рафаил</td>\n",
       "      <td>Верещагин</td>\n",
       "      <td>2018-05-25</td>\n",
       "      <td>ultra</td>\n",
       "      <td>1000</td>\n",
       "      <td>30720</td>\n",
       "      <td>3000</td>\n",
       "      <td>1950</td>\n",
       "      <td>150</td>\n",
       "      <td>1</td>\n",
       "      <td>1</td>\n",
       "    </tr>\n",
       "    <tr>\n",
       "      <td>1</td>\n",
       "      <td>1000</td>\n",
       "      <td>6</td>\n",
       "      <td>158.90</td>\n",
       "      <td>43.0</td>\n",
       "      <td>60.0</td>\n",
       "      <td>23233.77</td>\n",
       "      <td>52</td>\n",
       "      <td>NaN</td>\n",
       "      <td>Краснодар</td>\n",
       "      <td>Рафаил</td>\n",
       "      <td>Верещагин</td>\n",
       "      <td>2018-05-25</td>\n",
       "      <td>ultra</td>\n",
       "      <td>1000</td>\n",
       "      <td>30720</td>\n",
       "      <td>3000</td>\n",
       "      <td>1950</td>\n",
       "      <td>150</td>\n",
       "      <td>1</td>\n",
       "      <td>1</td>\n",
       "    </tr>\n",
       "    <tr>\n",
       "      <td>2</td>\n",
       "      <td>1000</td>\n",
       "      <td>7</td>\n",
       "      <td>318.80</td>\n",
       "      <td>47.0</td>\n",
       "      <td>75.0</td>\n",
       "      <td>14003.64</td>\n",
       "      <td>52</td>\n",
       "      <td>NaN</td>\n",
       "      <td>Краснодар</td>\n",
       "      <td>Рафаил</td>\n",
       "      <td>Верещагин</td>\n",
       "      <td>2018-05-25</td>\n",
       "      <td>ultra</td>\n",
       "      <td>1000</td>\n",
       "      <td>30720</td>\n",
       "      <td>3000</td>\n",
       "      <td>1950</td>\n",
       "      <td>150</td>\n",
       "      <td>1</td>\n",
       "      <td>1</td>\n",
       "    </tr>\n",
       "    <tr>\n",
       "      <td>3</td>\n",
       "      <td>1000</td>\n",
       "      <td>8</td>\n",
       "      <td>389.87</td>\n",
       "      <td>52.0</td>\n",
       "      <td>81.0</td>\n",
       "      <td>14055.93</td>\n",
       "      <td>52</td>\n",
       "      <td>NaN</td>\n",
       "      <td>Краснодар</td>\n",
       "      <td>Рафаил</td>\n",
       "      <td>Верещагин</td>\n",
       "      <td>2018-05-25</td>\n",
       "      <td>ultra</td>\n",
       "      <td>1000</td>\n",
       "      <td>30720</td>\n",
       "      <td>3000</td>\n",
       "      <td>1950</td>\n",
       "      <td>150</td>\n",
       "      <td>1</td>\n",
       "      <td>1</td>\n",
       "    </tr>\n",
       "    <tr>\n",
       "      <td>4</td>\n",
       "      <td>1000</td>\n",
       "      <td>9</td>\n",
       "      <td>440.14</td>\n",
       "      <td>58.0</td>\n",
       "      <td>57.0</td>\n",
       "      <td>14568.91</td>\n",
       "      <td>52</td>\n",
       "      <td>NaN</td>\n",
       "      <td>Краснодар</td>\n",
       "      <td>Рафаил</td>\n",
       "      <td>Верещагин</td>\n",
       "      <td>2018-05-25</td>\n",
       "      <td>ultra</td>\n",
       "      <td>1000</td>\n",
       "      <td>30720</td>\n",
       "      <td>3000</td>\n",
       "      <td>1950</td>\n",
       "      <td>150</td>\n",
       "      <td>1</td>\n",
       "      <td>1</td>\n",
       "    </tr>\n",
       "  </tbody>\n",
       "</table>\n",
       "</div>"
      ],
      "text/plain": [
       "   user_id  month  duration  calls_count  messages_count   mb_used  age  \\\n",
       "0     1000      5    150.06         22.0            22.0   2253.49   52   \n",
       "1     1000      6    158.90         43.0            60.0  23233.77   52   \n",
       "2     1000      7    318.80         47.0            75.0  14003.64   52   \n",
       "3     1000      8    389.87         52.0            81.0  14055.93   52   \n",
       "4     1000      9    440.14         58.0            57.0  14568.91   52   \n",
       "\n",
       "  churn_date       city first_name  last_name    reg_date tariff  \\\n",
       "0        NaN  Краснодар     Рафаил  Верещагин  2018-05-25  ultra   \n",
       "1        NaN  Краснодар     Рафаил  Верещагин  2018-05-25  ultra   \n",
       "2        NaN  Краснодар     Рафаил  Верещагин  2018-05-25  ultra   \n",
       "3        NaN  Краснодар     Рафаил  Верещагин  2018-05-25  ultra   \n",
       "4        NaN  Краснодар     Рафаил  Верещагин  2018-05-25  ultra   \n",
       "\n",
       "   messages_included  mb_per_month_included  minutes_included  \\\n",
       "0               1000                  30720              3000   \n",
       "1               1000                  30720              3000   \n",
       "2               1000                  30720              3000   \n",
       "3               1000                  30720              3000   \n",
       "4               1000                  30720              3000   \n",
       "\n",
       "   rub_monthly_fee  rub_per_gb  rub_per_message  rub_per_minute  \n",
       "0             1950         150                1               1  \n",
       "1             1950         150                1               1  \n",
       "2             1950         150                1               1  \n",
       "3             1950         150                1               1  \n",
       "4             1950         150                1               1  "
      ]
     },
     "execution_count": 20,
     "metadata": {},
     "output_type": "execute_result"
    }
   ],
   "source": [
    "megaline = megaline.merge(tariffs, on='tariff', how='left')\n",
    "megaline.head()"
   ]
  },
  {
   "cell_type": "markdown",
   "metadata": {},
   "source": [
    "Теперь мы получили готовую таблицу, содержащую всю информацию, что нам необходима. Посмотрим, какие она содержит типы данных, сколько у нееимеется строк, столбцов и посмотрим на все названия столбцов."
   ]
  },
  {
   "cell_type": "code",
   "execution_count": 21,
   "metadata": {},
   "outputs": [
    {
     "name": "stdout",
     "output_type": "stream",
     "text": [
      "<class 'pandas.core.frame.DataFrame'>\n",
      "Int64Index: 3214 entries, 0 to 3213\n",
      "Data columns (total 20 columns):\n",
      "user_id                  3214 non-null int64\n",
      "month                    3214 non-null int64\n",
      "duration                 3174 non-null float64\n",
      "calls_count              3174 non-null float64\n",
      "messages_count           2717 non-null float64\n",
      "mb_used                  3203 non-null float64\n",
      "age                      3214 non-null int64\n",
      "churn_date               187 non-null object\n",
      "city                     3214 non-null object\n",
      "first_name               3214 non-null object\n",
      "last_name                3214 non-null object\n",
      "reg_date                 3214 non-null object\n",
      "tariff                   3214 non-null object\n",
      "messages_included        3214 non-null int64\n",
      "mb_per_month_included    3214 non-null int64\n",
      "minutes_included         3214 non-null int64\n",
      "rub_monthly_fee          3214 non-null int64\n",
      "rub_per_gb               3214 non-null int64\n",
      "rub_per_message          3214 non-null int64\n",
      "rub_per_minute           3214 non-null int64\n",
      "dtypes: float64(4), int64(10), object(6)\n",
      "memory usage: 527.3+ KB\n"
     ]
    }
   ],
   "source": [
    "megaline.info()"
   ]
  },
  {
   "cell_type": "markdown",
   "metadata": {},
   "source": [
    "Мы видим, что в нескольких столбцах у нас присутствуют пропущенные значения. Это связано с тем, что мы присоединяли меньший дф к большему. И получается, что у нас и не было этих значений. Пропуски в столбце 'churn_date'(дата прекращения пользования тарифом) присутствуют потому, что тариф еще действовал, а договор был не расторгнут, на момент выгрузки общей информации. В следующем шаге мы не будем заменять его пропущенные значения на какие-либо, потому, что у нас нет необходимости в этом столбце для исследования."
   ]
  },
  {
   "cell_type": "markdown",
   "metadata": {},
   "source": [
    "### Шаг 2. Подготовка данных"
   ]
  },
  {
   "cell_type": "markdown",
   "metadata": {},
   "source": [
    "- Приводим данные к нужным типам;\n",
    "- Найдем и исправим ошибки в данных."
   ]
  },
  {
   "cell_type": "markdown",
   "metadata": {},
   "source": [
    "Из очевидного, заменим тип данных в столбце 'reg_date' с object на datetime."
   ]
  },
  {
   "cell_type": "code",
   "execution_count": 22,
   "metadata": {},
   "outputs": [],
   "source": [
    "megaline['reg_date'] = pd.to_datetime(megaline['reg_date'], format='%Y.%m.%d')"
   ]
  },
  {
   "cell_type": "markdown",
   "metadata": {},
   "source": [
    "Cтолбец 'messages_count' можно заменить на тип данных integer, но прежде необходимо заполнить пропущенные значения. Если в этом столбце есть NaN, это означает то, что этим пользователем в этот месяц не были совершены отправки сообщений. Соответветственно, статистике не навредит, если мы пропущенные значения заменим на 0. Наоборот, это покажет, что есть люди, которые в данном ключе этим тарифом не пользуются. Они появились лишь после merge. Это означает то, что эти люди не отправляли смс."
   ]
  },
  {
   "cell_type": "code",
   "execution_count": 23,
   "metadata": {},
   "outputs": [],
   "source": [
    "megaline['messages_count'] = megaline['messages_count'].fillna(0)\n",
    "megaline['messages_count'] = megaline['messages_count'].astype('int')"
   ]
  },
  {
   "cell_type": "markdown",
   "metadata": {},
   "source": [
    "Также поступим со столбцом с количеством звонков(calls_count)."
   ]
  },
  {
   "cell_type": "code",
   "execution_count": 24,
   "metadata": {},
   "outputs": [],
   "source": [
    "megaline['calls_count'] = megaline['calls_count'].fillna(0)\n",
    "megaline['calls_count'] = megaline['calls_count'].astype('int')"
   ]
  },
  {
   "cell_type": "markdown",
   "metadata": {},
   "source": [
    "По заданию нам дано: «Мегалайн» всегда округляет вверх значения минут и мегабайтов. Если пользователь проговорил всего 1 секунду, в тарифе засчитывается целая минута. В соответствии с этим, округлим значения времени разговора и трафика."
   ]
  },
  {
   "cell_type": "markdown",
   "metadata": {},
   "source": [
    "Далее, у нас изначально были 0 в значениях столбца продолжительности разговора и трафика. По условию задачи мы считаем, что у нас присутствуют данные с ошибками. И эта ошибка это нулевые значение в столбце продолжительности разговора. Сначала мы добавим к столбцу продолжительности разговора 1, а уже потом заменим пропущенные значения на 0, так как пропущенные значения означают 100% факт не использования данной услуги."
   ]
  },
  {
   "cell_type": "code",
   "execution_count": 25,
   "metadata": {},
   "outputs": [],
   "source": [
    "megaline['duration'] = megaline['duration'] + 1\n",
    "megaline['mb_used'] = megaline['mb_used'] + 1"
   ]
  },
  {
   "cell_type": "code",
   "execution_count": 26,
   "metadata": {},
   "outputs": [],
   "source": [
    "megaline['duration'] = megaline['duration'].fillna(0)\n",
    "megaline['mb_used'] = megaline['mb_used'].fillna(0)"
   ]
  },
  {
   "cell_type": "markdown",
   "metadata": {},
   "source": [
    "И заменим тип данных на целочисленный, так как оператор сам округляет значения в большую сторону, значит десятые доли нам для расчетов не пригодятся."
   ]
  },
  {
   "cell_type": "code",
   "execution_count": 27,
   "metadata": {},
   "outputs": [],
   "source": [
    "megaline['duration'] = megaline['duration'].astype('int')\n",
    "megaline['mb_used'] = megaline['mb_used'].astype('int')"
   ]
  },
  {
   "cell_type": "markdown",
   "metadata": {},
   "source": [
    "Проверим как у нас работала замена пропущенных данных."
   ]
  },
  {
   "cell_type": "code",
   "execution_count": 28,
   "metadata": {},
   "outputs": [
    {
     "name": "stdout",
     "output_type": "stream",
     "text": [
      "<class 'pandas.core.frame.DataFrame'>\n",
      "Int64Index: 3214 entries, 0 to 3213\n",
      "Data columns (total 20 columns):\n",
      "user_id                  3214 non-null int64\n",
      "month                    3214 non-null int64\n",
      "duration                 3214 non-null int64\n",
      "calls_count              3214 non-null int64\n",
      "messages_count           3214 non-null int64\n",
      "mb_used                  3214 non-null int64\n",
      "age                      3214 non-null int64\n",
      "churn_date               187 non-null object\n",
      "city                     3214 non-null object\n",
      "first_name               3214 non-null object\n",
      "last_name                3214 non-null object\n",
      "reg_date                 3214 non-null datetime64[ns]\n",
      "tariff                   3214 non-null object\n",
      "messages_included        3214 non-null int64\n",
      "mb_per_month_included    3214 non-null int64\n",
      "minutes_included         3214 non-null int64\n",
      "rub_monthly_fee          3214 non-null int64\n",
      "rub_per_gb               3214 non-null int64\n",
      "rub_per_message          3214 non-null int64\n",
      "rub_per_minute           3214 non-null int64\n",
      "dtypes: datetime64[ns](1), int64(14), object(5)\n",
      "memory usage: 527.3+ KB\n"
     ]
    }
   ],
   "source": [
    "megaline.info()"
   ]
  },
  {
   "cell_type": "markdown",
   "metadata": {},
   "source": [
    "Все необходимые пропущенные значения нам удалось успешно заменить."
   ]
  },
  {
   "cell_type": "markdown",
   "metadata": {},
   "source": [
    "Мы видим, что в использованном интернет- трафике расчет ведется в мегабайтах, а оплата сверх установленной тарифом нормы производится в гигабайтах. Поэтому мы переведем столбец 'rub_per_gb' в расчет рубль за мегабайт. Так как 1ГБ = 1024МБ. Поделим столбец рубль за гигабайт на 1024 и получим рубль за мегабайт."
   ]
  },
  {
   "cell_type": "code",
   "execution_count": 29,
   "metadata": {},
   "outputs": [],
   "source": [
    "megaline['rub_per_mb'] = megaline['rub_per_gb'] / 1024"
   ]
  },
  {
   "cell_type": "markdown",
   "metadata": {},
   "source": [
    "Далее по заданию нам необходимо произвести расчеты и добавить новые столбцы с необходимыми нам значениями."
   ]
  },
  {
   "cell_type": "markdown",
   "metadata": {},
   "source": [
    "Так получилось, что в группировке перед объединением таблиц мы уже посчитали три пункта из четырех. Получается, осталось посчитать помесячную выручку с каждого пользователя."
   ]
  },
  {
   "cell_type": "markdown",
   "metadata": {},
   "source": [
    "Для этого мы вычтем бесплатный лимит из суммарного количества звонков, сообщений и интернет-трафика; остаток умножим на значение из тарифного плана; прибавим абонентскую плату, соответствующую тарифному плану."
   ]
  },
  {
   "cell_type": "markdown",
   "metadata": {},
   "source": [
    "Сначала найдем значения, которые превышают установленный бесплатный лимит по звонкам, сообщениям и трафику. Так как он может получится меньше 0, то создадим функцию, чтобы те значения, которые будут меньше 0, изменились на 0, а если больше 0, то остались прежними."
   ]
  },
  {
   "cell_type": "code",
   "execution_count": 30,
   "metadata": {},
   "outputs": [],
   "source": [
    "megaline['minutes_for_pay'] = megaline['duration'] - megaline['minutes_included']\n",
    "megaline['messages_for_pay'] = megaline['messages_count'] - megaline['messages_included']\n",
    "megaline['mb_for_pay'] = megaline['mb_used'] - megaline['mb_per_month_included']"
   ]
  },
  {
   "cell_type": "code",
   "execution_count": 31,
   "metadata": {},
   "outputs": [],
   "source": [
    "def remains_call(megaline):\n",
    "    if megaline['minutes_for_pay'] <= 0:\n",
    "        return 0\n",
    "    else:\n",
    "        return megaline['minutes_for_pay']\n",
    "\n",
    "megaline['minutes_for_pay'] = megaline.apply(remains_call, axis = 1)"
   ]
  },
  {
   "cell_type": "code",
   "execution_count": 32,
   "metadata": {},
   "outputs": [],
   "source": [
    "def remains_mes(megaline):\n",
    "    if megaline['messages_for_pay'] <= 0:\n",
    "        return 0\n",
    "    else:\n",
    "        return megaline['messages_for_pay']\n",
    "\n",
    "megaline['messages_for_pay'] = megaline.apply(remains_mes, axis = 1)"
   ]
  },
  {
   "cell_type": "code",
   "execution_count": 33,
   "metadata": {},
   "outputs": [],
   "source": [
    "def remains_mb(megaline):\n",
    "    if megaline['mb_for_pay'] <= 0:\n",
    "        return 0\n",
    "    else:\n",
    "        return megaline['mb_for_pay']\n",
    "\n",
    "megaline['mb_for_pay'] = megaline.apply(remains_mb, axis = 1)"
   ]
  },
  {
   "cell_type": "markdown",
   "metadata": {},
   "source": [
    "И по формуле посчитаем, сколько мы получаем в месяц с определенного пользователя."
   ]
  },
  {
   "cell_type": "code",
   "execution_count": 34,
   "metadata": {},
   "outputs": [],
   "source": [
    "megaline['total_payment'] = (megaline['rub_monthly_fee'] \n",
    "                             + megaline['minutes_for_pay'] * megaline['rub_per_minute'] \n",
    "                             + megaline['messages_for_pay'] * megaline['rub_per_message'] \n",
    "                             + megaline['mb_for_pay'] * megaline['rub_per_mb']\n",
    "                            )"
   ]
  },
  {
   "cell_type": "markdown",
   "metadata": {},
   "source": [
    "Посмотрим появились ли таблицы, которые мы добавили."
   ]
  },
  {
   "cell_type": "code",
   "execution_count": 35,
   "metadata": {},
   "outputs": [
    {
     "data": {
      "text/html": [
       "<div>\n",
       "<style scoped>\n",
       "    .dataframe tbody tr th:only-of-type {\n",
       "        vertical-align: middle;\n",
       "    }\n",
       "\n",
       "    .dataframe tbody tr th {\n",
       "        vertical-align: top;\n",
       "    }\n",
       "\n",
       "    .dataframe thead th {\n",
       "        text-align: right;\n",
       "    }\n",
       "</style>\n",
       "<table border=\"1\" class=\"dataframe\">\n",
       "  <thead>\n",
       "    <tr style=\"text-align: right;\">\n",
       "      <th></th>\n",
       "      <th>user_id</th>\n",
       "      <th>month</th>\n",
       "      <th>duration</th>\n",
       "      <th>calls_count</th>\n",
       "      <th>messages_count</th>\n",
       "      <th>mb_used</th>\n",
       "      <th>age</th>\n",
       "      <th>churn_date</th>\n",
       "      <th>city</th>\n",
       "      <th>first_name</th>\n",
       "      <th>...</th>\n",
       "      <th>minutes_included</th>\n",
       "      <th>rub_monthly_fee</th>\n",
       "      <th>rub_per_gb</th>\n",
       "      <th>rub_per_message</th>\n",
       "      <th>rub_per_minute</th>\n",
       "      <th>rub_per_mb</th>\n",
       "      <th>minutes_for_pay</th>\n",
       "      <th>messages_for_pay</th>\n",
       "      <th>mb_for_pay</th>\n",
       "      <th>total_payment</th>\n",
       "    </tr>\n",
       "  </thead>\n",
       "  <tbody>\n",
       "    <tr>\n",
       "      <td>0</td>\n",
       "      <td>1000</td>\n",
       "      <td>5</td>\n",
       "      <td>151</td>\n",
       "      <td>22</td>\n",
       "      <td>22</td>\n",
       "      <td>2254</td>\n",
       "      <td>52</td>\n",
       "      <td>NaN</td>\n",
       "      <td>Краснодар</td>\n",
       "      <td>Рафаил</td>\n",
       "      <td>...</td>\n",
       "      <td>3000</td>\n",
       "      <td>1950</td>\n",
       "      <td>150</td>\n",
       "      <td>1</td>\n",
       "      <td>1</td>\n",
       "      <td>0.146484</td>\n",
       "      <td>0</td>\n",
       "      <td>0</td>\n",
       "      <td>0</td>\n",
       "      <td>1950.0</td>\n",
       "    </tr>\n",
       "    <tr>\n",
       "      <td>1</td>\n",
       "      <td>1000</td>\n",
       "      <td>6</td>\n",
       "      <td>159</td>\n",
       "      <td>43</td>\n",
       "      <td>60</td>\n",
       "      <td>23234</td>\n",
       "      <td>52</td>\n",
       "      <td>NaN</td>\n",
       "      <td>Краснодар</td>\n",
       "      <td>Рафаил</td>\n",
       "      <td>...</td>\n",
       "      <td>3000</td>\n",
       "      <td>1950</td>\n",
       "      <td>150</td>\n",
       "      <td>1</td>\n",
       "      <td>1</td>\n",
       "      <td>0.146484</td>\n",
       "      <td>0</td>\n",
       "      <td>0</td>\n",
       "      <td>0</td>\n",
       "      <td>1950.0</td>\n",
       "    </tr>\n",
       "    <tr>\n",
       "      <td>2</td>\n",
       "      <td>1000</td>\n",
       "      <td>7</td>\n",
       "      <td>319</td>\n",
       "      <td>47</td>\n",
       "      <td>75</td>\n",
       "      <td>14004</td>\n",
       "      <td>52</td>\n",
       "      <td>NaN</td>\n",
       "      <td>Краснодар</td>\n",
       "      <td>Рафаил</td>\n",
       "      <td>...</td>\n",
       "      <td>3000</td>\n",
       "      <td>1950</td>\n",
       "      <td>150</td>\n",
       "      <td>1</td>\n",
       "      <td>1</td>\n",
       "      <td>0.146484</td>\n",
       "      <td>0</td>\n",
       "      <td>0</td>\n",
       "      <td>0</td>\n",
       "      <td>1950.0</td>\n",
       "    </tr>\n",
       "    <tr>\n",
       "      <td>3</td>\n",
       "      <td>1000</td>\n",
       "      <td>8</td>\n",
       "      <td>390</td>\n",
       "      <td>52</td>\n",
       "      <td>81</td>\n",
       "      <td>14056</td>\n",
       "      <td>52</td>\n",
       "      <td>NaN</td>\n",
       "      <td>Краснодар</td>\n",
       "      <td>Рафаил</td>\n",
       "      <td>...</td>\n",
       "      <td>3000</td>\n",
       "      <td>1950</td>\n",
       "      <td>150</td>\n",
       "      <td>1</td>\n",
       "      <td>1</td>\n",
       "      <td>0.146484</td>\n",
       "      <td>0</td>\n",
       "      <td>0</td>\n",
       "      <td>0</td>\n",
       "      <td>1950.0</td>\n",
       "    </tr>\n",
       "    <tr>\n",
       "      <td>4</td>\n",
       "      <td>1000</td>\n",
       "      <td>9</td>\n",
       "      <td>441</td>\n",
       "      <td>58</td>\n",
       "      <td>57</td>\n",
       "      <td>14569</td>\n",
       "      <td>52</td>\n",
       "      <td>NaN</td>\n",
       "      <td>Краснодар</td>\n",
       "      <td>Рафаил</td>\n",
       "      <td>...</td>\n",
       "      <td>3000</td>\n",
       "      <td>1950</td>\n",
       "      <td>150</td>\n",
       "      <td>1</td>\n",
       "      <td>1</td>\n",
       "      <td>0.146484</td>\n",
       "      <td>0</td>\n",
       "      <td>0</td>\n",
       "      <td>0</td>\n",
       "      <td>1950.0</td>\n",
       "    </tr>\n",
       "  </tbody>\n",
       "</table>\n",
       "<p>5 rows × 25 columns</p>\n",
       "</div>"
      ],
      "text/plain": [
       "   user_id  month  duration  calls_count  messages_count  mb_used  age  \\\n",
       "0     1000      5       151           22              22     2254   52   \n",
       "1     1000      6       159           43              60    23234   52   \n",
       "2     1000      7       319           47              75    14004   52   \n",
       "3     1000      8       390           52              81    14056   52   \n",
       "4     1000      9       441           58              57    14569   52   \n",
       "\n",
       "  churn_date       city first_name  ... minutes_included rub_monthly_fee  \\\n",
       "0        NaN  Краснодар     Рафаил  ...             3000            1950   \n",
       "1        NaN  Краснодар     Рафаил  ...             3000            1950   \n",
       "2        NaN  Краснодар     Рафаил  ...             3000            1950   \n",
       "3        NaN  Краснодар     Рафаил  ...             3000            1950   \n",
       "4        NaN  Краснодар     Рафаил  ...             3000            1950   \n",
       "\n",
       "  rub_per_gb  rub_per_message  rub_per_minute  rub_per_mb  minutes_for_pay  \\\n",
       "0        150                1               1    0.146484                0   \n",
       "1        150                1               1    0.146484                0   \n",
       "2        150                1               1    0.146484                0   \n",
       "3        150                1               1    0.146484                0   \n",
       "4        150                1               1    0.146484                0   \n",
       "\n",
       "   messages_for_pay  mb_for_pay  total_payment  \n",
       "0                 0           0         1950.0  \n",
       "1                 0           0         1950.0  \n",
       "2                 0           0         1950.0  \n",
       "3                 0           0         1950.0  \n",
       "4                 0           0         1950.0  \n",
       "\n",
       "[5 rows x 25 columns]"
      ]
     },
     "execution_count": 35,
     "metadata": {},
     "output_type": "execute_result"
    }
   ],
   "source": [
    "megaline.head()"
   ]
  },
  {
   "cell_type": "markdown",
   "metadata": {},
   "source": [
    "Мы подготовили данные, которые нам необходимы для дальнейших расчетов. Мы устранили ошибки в исходных данных с 0 значением продолжительности вызовов, а также посчитали и добавили в таблицу те данные, которые нам пригодятся в дальнейшем, чтобы с помощью них ответить на поставленные нам вопросы."
   ]
  },
  {
   "cell_type": "markdown",
   "metadata": {},
   "source": [
    "### Шаг 3. Анализ данных."
   ]
  },
  {
   "cell_type": "markdown",
   "metadata": {},
   "source": [
    "В этом шаге нам необходимо описать поведение клиентов оператора, исходя из выборки: \n",
    " - Посчитать сколько минут разговора, сколько сообщений и какой объём интернет-трафика требуется пользователям каждого тарифа в месяц? \n",
    " - Посчитать среднее количество, дисперсию и стандартное отклонение. \n",
    " - Построить гистограммы. Описать распределения."
   ]
  },
  {
   "cell_type": "markdown",
   "metadata": {},
   "source": [
    "Создадим две выборки и применим describe() к каждой из них. С помощью нее определим сколько всего минут, сообщений и трафика используют клиенты в каждом из них. Будем смотреть по показателю mean, то есть среднее, сколько в среднем на человека необходимо этих опций."
   ]
  },
  {
   "cell_type": "markdown",
   "metadata": {},
   "source": [
    "Для начала создадим выборку с пользователями тарифа Смарт. У нас получается, что каждое наблюдение - это определенный пользователь использовал в определенный месяц. Тогда если мы применим describe(), среднее значение столбца будет средним значением одного пользователя в месяц."
   ]
  },
  {
   "cell_type": "code",
   "execution_count": 36,
   "metadata": {},
   "outputs": [],
   "source": [
    "clients_of_smart = megaline.query('tariff == \"smart\"')[['duration', 'mb_used', 'messages_count', 'total_payment']]"
   ]
  },
  {
   "cell_type": "code",
   "execution_count": 37,
   "metadata": {},
   "outputs": [
    {
     "data": {
      "text/html": [
       "<div>\n",
       "<style scoped>\n",
       "    .dataframe tbody tr th:only-of-type {\n",
       "        vertical-align: middle;\n",
       "    }\n",
       "\n",
       "    .dataframe tbody tr th {\n",
       "        vertical-align: top;\n",
       "    }\n",
       "\n",
       "    .dataframe thead th {\n",
       "        text-align: right;\n",
       "    }\n",
       "</style>\n",
       "<table border=\"1\" class=\"dataframe\">\n",
       "  <thead>\n",
       "    <tr style=\"text-align: right;\">\n",
       "      <th></th>\n",
       "      <th>duration</th>\n",
       "      <th>mb_used</th>\n",
       "      <th>messages_count</th>\n",
       "      <th>total_payment</th>\n",
       "    </tr>\n",
       "  </thead>\n",
       "  <tbody>\n",
       "    <tr>\n",
       "      <td>count</td>\n",
       "      <td>2229.000000</td>\n",
       "      <td>2229.000000</td>\n",
       "      <td>2229.000000</td>\n",
       "      <td>2229.000000</td>\n",
       "    </tr>\n",
       "    <tr>\n",
       "      <td>mean</td>\n",
       "      <td>394.926873</td>\n",
       "      <td>16208.878869</td>\n",
       "      <td>33.384029</td>\n",
       "      <td>1198.113977</td>\n",
       "    </tr>\n",
       "    <tr>\n",
       "      <td>std</td>\n",
       "      <td>179.975748</td>\n",
       "      <td>5870.481414</td>\n",
       "      <td>28.227876</td>\n",
       "      <td>767.844477</td>\n",
       "    </tr>\n",
       "    <tr>\n",
       "      <td>min</td>\n",
       "      <td>0.000000</td>\n",
       "      <td>0.000000</td>\n",
       "      <td>0.000000</td>\n",
       "      <td>550.000000</td>\n",
       "    </tr>\n",
       "    <tr>\n",
       "      <td>25%</td>\n",
       "      <td>268.000000</td>\n",
       "      <td>12644.000000</td>\n",
       "      <td>10.000000</td>\n",
       "      <td>550.000000</td>\n",
       "    </tr>\n",
       "    <tr>\n",
       "      <td>50%</td>\n",
       "      <td>398.000000</td>\n",
       "      <td>16507.000000</td>\n",
       "      <td>28.000000</td>\n",
       "      <td>925.585938</td>\n",
       "    </tr>\n",
       "    <tr>\n",
       "      <td>75%</td>\n",
       "      <td>516.000000</td>\n",
       "      <td>20043.000000</td>\n",
       "      <td>51.000000</td>\n",
       "      <td>1603.195312</td>\n",
       "    </tr>\n",
       "    <tr>\n",
       "      <td>max</td>\n",
       "      <td>1355.000000</td>\n",
       "      <td>38553.000000</td>\n",
       "      <td>143.000000</td>\n",
       "      <td>6543.882812</td>\n",
       "    </tr>\n",
       "  </tbody>\n",
       "</table>\n",
       "</div>"
      ],
      "text/plain": [
       "          duration       mb_used  messages_count  total_payment\n",
       "count  2229.000000   2229.000000     2229.000000    2229.000000\n",
       "mean    394.926873  16208.878869       33.384029    1198.113977\n",
       "std     179.975748   5870.481414       28.227876     767.844477\n",
       "min       0.000000      0.000000        0.000000     550.000000\n",
       "25%     268.000000  12644.000000       10.000000     550.000000\n",
       "50%     398.000000  16507.000000       28.000000     925.585938\n",
       "75%     516.000000  20043.000000       51.000000    1603.195312\n",
       "max    1355.000000  38553.000000      143.000000    6543.882812"
      ]
     },
     "execution_count": 37,
     "metadata": {},
     "output_type": "execute_result"
    }
   ],
   "source": [
    "clients_of_smart.describe()"
   ]
  },
  {
   "cell_type": "markdown",
   "metadata": {},
   "source": [
    "Каждому пользователю тарифа \"Смарт\", в среднем, требуется:\n",
    "- 394,9 минут разговора\n",
    "- 16208 МБайт интернета\n",
    "- 33 cообщения"
   ]
  },
  {
   "cell_type": "markdown",
   "metadata": {},
   "source": [
    "Каждый пользователь в среднем платит за тариф 1198,1 рубль в месяц."
   ]
  },
  {
   "cell_type": "markdown",
   "metadata": {},
   "source": [
    "И точно такие же действия произведем с пользователями тарифа Ультра."
   ]
  },
  {
   "cell_type": "code",
   "execution_count": 38,
   "metadata": {},
   "outputs": [],
   "source": [
    "clients_of_ultra = megaline.query('tariff == \"ultra\"')[['duration', 'mb_used', 'messages_count', 'total_payment']]"
   ]
  },
  {
   "cell_type": "code",
   "execution_count": 39,
   "metadata": {},
   "outputs": [
    {
     "data": {
      "text/html": [
       "<div>\n",
       "<style scoped>\n",
       "    .dataframe tbody tr th:only-of-type {\n",
       "        vertical-align: middle;\n",
       "    }\n",
       "\n",
       "    .dataframe tbody tr th {\n",
       "        vertical-align: top;\n",
       "    }\n",
       "\n",
       "    .dataframe thead th {\n",
       "        text-align: right;\n",
       "    }\n",
       "</style>\n",
       "<table border=\"1\" class=\"dataframe\">\n",
       "  <thead>\n",
       "    <tr style=\"text-align: right;\">\n",
       "      <th></th>\n",
       "      <th>duration</th>\n",
       "      <th>mb_used</th>\n",
       "      <th>messages_count</th>\n",
       "      <th>total_payment</th>\n",
       "    </tr>\n",
       "  </thead>\n",
       "  <tbody>\n",
       "    <tr>\n",
       "      <td>count</td>\n",
       "      <td>985.000000</td>\n",
       "      <td>985.000000</td>\n",
       "      <td>985.000000</td>\n",
       "      <td>985.000000</td>\n",
       "    </tr>\n",
       "    <tr>\n",
       "      <td>mean</td>\n",
       "      <td>497.554315</td>\n",
       "      <td>19469.312690</td>\n",
       "      <td>49.363452</td>\n",
       "      <td>2059.879640</td>\n",
       "    </tr>\n",
       "    <tr>\n",
       "      <td>std</td>\n",
       "      <td>299.921855</td>\n",
       "      <td>10087.193402</td>\n",
       "      <td>47.804457</td>\n",
       "      <td>354.901048</td>\n",
       "    </tr>\n",
       "    <tr>\n",
       "      <td>min</td>\n",
       "      <td>0.000000</td>\n",
       "      <td>0.000000</td>\n",
       "      <td>0.000000</td>\n",
       "      <td>1950.000000</td>\n",
       "    </tr>\n",
       "    <tr>\n",
       "      <td>25%</td>\n",
       "      <td>268.000000</td>\n",
       "      <td>11771.000000</td>\n",
       "      <td>6.000000</td>\n",
       "      <td>1950.000000</td>\n",
       "    </tr>\n",
       "    <tr>\n",
       "      <td>50%</td>\n",
       "      <td>489.000000</td>\n",
       "      <td>19309.000000</td>\n",
       "      <td>38.000000</td>\n",
       "      <td>1950.000000</td>\n",
       "    </tr>\n",
       "    <tr>\n",
       "      <td>75%</td>\n",
       "      <td>712.000000</td>\n",
       "      <td>26838.000000</td>\n",
       "      <td>79.000000</td>\n",
       "      <td>1950.000000</td>\n",
       "    </tr>\n",
       "    <tr>\n",
       "      <td>max</td>\n",
       "      <td>1579.000000</td>\n",
       "      <td>49746.000000</td>\n",
       "      <td>224.000000</td>\n",
       "      <td>4737.011719</td>\n",
       "    </tr>\n",
       "  </tbody>\n",
       "</table>\n",
       "</div>"
      ],
      "text/plain": [
       "          duration       mb_used  messages_count  total_payment\n",
       "count   985.000000    985.000000      985.000000     985.000000\n",
       "mean    497.554315  19469.312690       49.363452    2059.879640\n",
       "std     299.921855  10087.193402       47.804457     354.901048\n",
       "min       0.000000      0.000000        0.000000    1950.000000\n",
       "25%     268.000000  11771.000000        6.000000    1950.000000\n",
       "50%     489.000000  19309.000000       38.000000    1950.000000\n",
       "75%     712.000000  26838.000000       79.000000    1950.000000\n",
       "max    1579.000000  49746.000000      224.000000    4737.011719"
      ]
     },
     "execution_count": 39,
     "metadata": {},
     "output_type": "execute_result"
    }
   ],
   "source": [
    "clients_of_ultra.describe()"
   ]
  },
  {
   "cell_type": "markdown",
   "metadata": {},
   "source": [
    "Каждому пользователю тарифа \"Ультра\", в среднем, требуется:\n",
    "- 497,6 минут разговора\n",
    "- 19469,3 МБайт интернета\n",
    "- 49 cообщений"
   ]
  },
  {
   "cell_type": "markdown",
   "metadata": {},
   "source": [
    "Каждый пользователь в среднем платит за тариф 2059,9 рубль в месяц."
   ]
  },
  {
   "cell_type": "markdown",
   "metadata": {},
   "source": [
    "C помощью describe() мы уже нашли стандартное отклонение и среднее. Они находятся в строке 'std' и 'mean', соответственно."
   ]
  },
  {
   "cell_type": "markdown",
   "metadata": {},
   "source": [
    "Далее необходимо посчитать дисперсию. Дисперсия показывает, насколько данные сильно \"разбросаны\". Это метрика разброса значений относительно среднего."
   ]
  },
  {
   "cell_type": "markdown",
   "metadata": {},
   "source": [
    "### Расчитанные значения для клиентов тарифа Смарт."
   ]
  },
  {
   "cell_type": "markdown",
   "metadata": {},
   "source": [
    "#### Среднее значение выборки:\n",
    "- длительности звонков: 394.926873\n",
    "- количества смс: 16208.878869\n",
    "- количества трафика: 33.384029\n",
    "- месячная оплата: 1198.113977\n",
    "\n",
    "#### Стандратное отклонение выборки:\n",
    "- длительности звонков: 179.975748 \n",
    "- количества смс: 5870.481414 \n",
    "- количества трафика: 28.227876\n",
    "- месячная оплата: 767.844477"
   ]
  },
  {
   "cell_type": "markdown",
   "metadata": {},
   "source": [
    "#### Дисперсия выборки:"
   ]
  },
  {
   "cell_type": "code",
   "execution_count": 40,
   "metadata": {},
   "outputs": [
    {
     "name": "stdout",
     "output_type": "stream",
     "text": [
      "длительности звонков: 32391.26978469707\n",
      "количества смс: 796.8129584480083\n",
      "количества трафика: 34462552.035590105\n",
      "месячная оплата: 589585.1402454089\n"
     ]
    }
   ],
   "source": [
    "var_smart_dur = np.var(clients_of_smart['duration'], ddof=1)\n",
    "print('длительности звонков:', var_smart_dur)\n",
    "var_smart_mes = np.var(clients_of_smart['messages_count'], ddof=1)\n",
    "print('количества смс:', var_smart_mes)\n",
    "var_smart_mb = np.var(clients_of_smart['mb_used'], ddof=1)\n",
    "print('количества трафика:', var_smart_mb)\n",
    "var_smart_rub = np.var(clients_of_smart['total_payment'], ddof=1)\n",
    "print('месячная оплата:', var_smart_rub)"
   ]
  },
  {
   "cell_type": "markdown",
   "metadata": {},
   "source": [
    "### Расчитанные значения для клиентов тарифа Ультра."
   ]
  },
  {
   "cell_type": "markdown",
   "metadata": {},
   "source": [
    "#### Среднее значение выборки:\n",
    "- длительности звонков: 497.554315\n",
    "- количества смс: 19469.312690\n",
    "- количества трафика: 49.363452\n",
    "- месячная оплата: 2059.879640\n",
    "\n",
    "#### Стандратное отклонение выборки:\n",
    "- длительности звонков: 299.921855 \n",
    "- количества смс: 10087.193402 \n",
    "- количества трафика: 47.804457\n",
    "- месячная оплата: 354.901048"
   ]
  },
  {
   "cell_type": "markdown",
   "metadata": {},
   "source": [
    "#### Дисперсия выборки:"
   ]
  },
  {
   "cell_type": "code",
   "execution_count": 41,
   "metadata": {},
   "outputs": [
    {
     "name": "stdout",
     "output_type": "stream",
     "text": [
      "длительности звонков: 89953.11925219759\n",
      "количества смс: 2285.2661425446736\n",
      "количества трафика: 101751470.73139368\n",
      "месячная оплата: 125954.75412830498\n"
     ]
    }
   ],
   "source": [
    "var_ultra_dur = np.var(clients_of_ultra['duration'], ddof=1)\n",
    "print('длительности звонков:', var_ultra_dur)\n",
    "var_ultra_mes = np.var(clients_of_ultra['messages_count'], ddof=1)\n",
    "print('количества смс:', var_ultra_mes)\n",
    "var_ultra_mb = np.var(clients_of_ultra['mb_used'], ddof=1)\n",
    "print('количества трафика:', var_ultra_mb)\n",
    "var_ultra_rub = np.var(clients_of_ultra['total_payment'], ddof=1)\n",
    "print('месячная оплата:', var_ultra_rub)"
   ]
  },
  {
   "cell_type": "markdown",
   "metadata": {},
   "source": [
    "Построим гистограммы по каждому пункту. И по длительности звонков, по смс, трафику и затратам клиента на тариф. Так как нам необходимо сравнивать два тарифа, то мы будем строить две гистограммы сразу, по одному пункту для разных тарифов. Также для сравнивания идеально подойдет диаграмма размаха. Построим и их тоже."
   ]
  },
  {
   "cell_type": "code",
   "execution_count": 42,
   "metadata": {
    "scrolled": true
   },
   "outputs": [
    {
     "data": {
      "image/png": "[encoded data removed]",
      "text/plain": [
       "<Figure size 1080x360 with 1 Axes>"
      ]
     },
     "metadata": {
      "needs_background": "light"
     },
     "output_type": "display_data"
    }
   ],
   "source": [
    "plt.subplots(figsize=(15,5))\n",
    "clients_of_smart['duration'].hist(label = '\"Смарт\"', alpha = 0.5, color= 'b')\n",
    "clients_of_ultra['duration'].hist(label = '\"Ультра\"', alpha = 0.5, color= 'r')\n",
    "plt.title('Длительность звонков в тарифах')\n",
    "plt.legend()\n",
    "plt.show()"
   ]
  },
  {
   "cell_type": "code",
   "execution_count": 43,
   "metadata": {},
   "outputs": [
    {
     "data": {
      "image/png": "[encoded data removed]",
      "text/plain": [
       "<Figure size 1080x360 with 2 Axes>"
      ]
     },
     "metadata": {
      "needs_background": "light"
     },
     "output_type": "display_data"
    }
   ],
   "source": [
    "plt.subplots(figsize=(15,5))\n",
    "clients_of_smart.boxplot(column = 'duration', ax=plt.subplot(1,2,1))\n",
    "plt.title('Длительность звонков в тарифе Смарт')\n",
    "clients_of_ultra.boxplot(column = 'duration', ax=plt.subplot(1,2,2))\n",
    "plt.title('Длительность звонков в тарифе Ультра')\n",
    "plt.show()"
   ]
  },
  {
   "cell_type": "markdown",
   "metadata": {},
   "source": [
    "Обе гистограммы скошенны вправо."
   ]
  },
  {
   "cell_type": "markdown",
   "metadata": {},
   "source": [
    "Мы видим, что на тарифе Смарт звонки хоть по гистограмме и располагаются выше, но по диаграмме размаха среднее по длительности больше на тарифе Ультра. И разброс на тарифе Ультра больше, но при этом в него включено бесплатных минут в 6 раз больше(500 на Смарт против 3000 на Ультра), чем на тарифе Смарт, а клиенты эти 3000 минут даже и не набирают. Но на Смарт пользователи почти в 3 раза превышают установленный неоплачиваемый лимит, а значит, они переплачивают. "
   ]
  },
  {
   "cell_type": "markdown",
   "metadata": {},
   "source": [
    "С точки зрения прибыли, в плане звонков, компании выгоднее вкладываться в Смарт, так как он вроде бы и по абонентской плате стоит не дорого, но при этом его лимитов людям недостаточно и они сильно переплачивают."
   ]
  },
  {
   "cell_type": "code",
   "execution_count": 44,
   "metadata": {
    "scrolled": true
   },
   "outputs": [
    {
     "data": {
      "image/png": "[encoded data removed]",
      "text/plain": [
       "<Figure size 1080x360 with 1 Axes>"
      ]
     },
     "metadata": {
      "needs_background": "light"
     },
     "output_type": "display_data"
    }
   ],
   "source": [
    "plt.subplots(figsize=(15,5))\n",
    "clients_of_smart['messages_count'].hist(label = '\"Смарт\"', alpha = 0.5, color= 'b')\n",
    "clients_of_ultra['messages_count'].hist(label = '\"Ультра\"', alpha = 0.5, color= 'r')\n",
    "plt.title('Количество сообщений в тарифах')\n",
    "plt.legend()\n",
    "plt.show()"
   ]
  },
  {
   "cell_type": "code",
   "execution_count": 45,
   "metadata": {},
   "outputs": [
    {
     "data": {
      "image/png": "[encoded data removed]",
      "text/plain": [
       "<Figure size 1080x360 with 2 Axes>"
      ]
     },
     "metadata": {
      "needs_background": "light"
     },
     "output_type": "display_data"
    }
   ],
   "source": [
    "plt.subplots(figsize=(15,5))\n",
    "clients_of_smart.boxplot(column = 'messages_count', ax=plt.subplot(1,2,1))\n",
    "plt.title('Количество сообщений в тарифе Смарт')\n",
    "clients_of_ultra.boxplot(column = 'messages_count', ax=plt.subplot(1,2,2))\n",
    "plt.title('Количество сообщений в тарифе Ультра')\n",
    "plt.show()"
   ]
  },
  {
   "cell_type": "markdown",
   "metadata": {},
   "source": [
    "На тарифе Ультра гораздо больше клиентов отправляют большое количество сообщений, чем на Смарт. И ситуация все такая же, как и со звонками. На тарифе Ультра пользователи даже близко не набирают установленных лимитов, а на Смарт в разы выходят за эти пределы. Учитывая,что за каждое сообщение за пределами лимита на тарифе Смарт клиенты платят 3 рубля, а лимиты превышены примерно в 3 раза, можно представить, что и у компании доходы будут больше, за счет превышения этих лимитов."
   ]
  },
  {
   "cell_type": "code",
   "execution_count": 46,
   "metadata": {
    "scrolled": true
   },
   "outputs": [
    {
     "data": {
      "image/png": "[encoded data removed]",
      "text/plain": [
       "<Figure size 1080x360 with 1 Axes>"
      ]
     },
     "metadata": {
      "needs_background": "light"
     },
     "output_type": "display_data"
    }
   ],
   "source": [
    "plt.subplots(figsize=(15,5))\n",
    "clients_of_smart['mb_used'].hist(label = '\"Смарт\"', alpha = 0.5, color= 'b')\n",
    "clients_of_ultra['mb_used'].hist(label = '\"Ультра\"', alpha = 0.5, color= 'r')\n",
    "plt.title('Количество использованного трафика в тарифах')\n",
    "plt.legend()\n",
    "plt.show()"
   ]
  },
  {
   "cell_type": "code",
   "execution_count": 47,
   "metadata": {},
   "outputs": [
    {
     "data": {
      "image/png": "[encoded data removed]",
      "text/plain": [
       "<Figure size 1080x360 with 2 Axes>"
      ]
     },
     "metadata": {
      "needs_background": "light"
     },
     "output_type": "display_data"
    }
   ],
   "source": [
    "plt.subplots(figsize=(15,5))\n",
    "clients_of_smart.boxplot(column = 'mb_used', ax=plt.subplot(1,2,1))\n",
    "plt.title('Количество использованного трафика в тарифе Смарт')\n",
    "clients_of_ultra.boxplot(column = 'mb_used', ax=plt.subplot(1,2,2))\n",
    "plt.title('Количество использованного трафика в тарифе Ультра')\n",
    "plt.show()"
   ]
  },
  {
   "cell_type": "markdown",
   "metadata": {},
   "source": [
    "По количеству использованного трафика пользователи Смарт почти догоняют пользователей Ультра. Но надо сказать, что в плане интернета лимиты превышены и у клиентов Ультра, но цена у них за переплату меньше, а среднее использованное количество трафика больше не намного."
   ]
  },
  {
   "cell_type": "code",
   "execution_count": 48,
   "metadata": {
    "scrolled": true
   },
   "outputs": [
    {
     "data": {
      "image/png": "[encoded data removed]",
      "text/plain": [
       "<Figure size 1080x360 with 1 Axes>"
      ]
     },
     "metadata": {
      "needs_background": "light"
     },
     "output_type": "display_data"
    }
   ],
   "source": [
    "plt.subplots(figsize=(15,5))\n",
    "clients_of_smart['total_payment'].hist(label = '\"Смарт\"', alpha = 0.5, color= 'b')\n",
    "clients_of_ultra['total_payment'].hist(label = '\"Ультра\"', alpha = 0.5, color= 'r')\n",
    "plt.title('Количество затрат клиента на тариф')\n",
    "plt.legend()\n",
    "plt.show()"
   ]
  },
  {
   "cell_type": "code",
   "execution_count": 49,
   "metadata": {},
   "outputs": [
    {
     "data": {
      "image/png": "[encoded data removed]",
      "text/plain": [
       "<Figure size 1080x360 with 2 Axes>"
      ]
     },
     "metadata": {
      "needs_background": "light"
     },
     "output_type": "display_data"
    }
   ],
   "source": [
    "plt.subplots(figsize=(15,5))\n",
    "clients_of_smart.boxplot(column = 'total_payment', ax=plt.subplot(1,2,1))\n",
    "plt.title('Количество затрат клиента в тарифе Смарт')\n",
    "clients_of_ultra.boxplot(column = 'total_payment', ax=plt.subplot(1,2,2))\n",
    "plt.title('Количество затрат клиента в тарифе Ультра')\n",
    "plt.show()"
   ]
  },
  {
   "cell_type": "markdown",
   "metadata": {},
   "source": [
    "Мы видим, что максимальное количество затрат приходится на абонентскую плату, при этом, как мы видим, в тарифе \"Смарт\" люди чаще не укладываются в доступные бесплатные звонки, смс и интернет, а потому и чаще приходится доплачивать. Тарифом \"Ультра\" пользуются значительно меньше людей, но и гораздо больше человек в пропорции укладывается в бесплатные доступные функции от тарифа, а соответственно, меньше людей переплачивают сверх абонентской платы."
   ]
  },
  {
   "cell_type": "markdown",
   "metadata": {},
   "source": [
    "И за счет этих переплат клиенты тарифа Смарт приносят компании денег больше, чем те, кто используют тариф Ультра. Поэтому, в рекламу тарифа Смарт компании будет вложиться гораздо эффективнее, ведь чем больше будет клиентов на тарифе Смарт, тем больше переплат, тем больше дохода, соответственно."
   ]
  },
  {
   "cell_type": "markdown",
   "metadata": {},
   "source": [
    "Чтобы точно быть уверенными, посчитаем какая доля людей выходит в оплате за установленную абонентскую плату, а какая нет. Этот показатель покажет, какому проценту пользователей достаточно функций тарифа."
   ]
  },
  {
   "cell_type": "markdown",
   "metadata": {},
   "source": [
    "Посчитаем, какая доля пользователей тарифа Смарт превышает установленную аб. плату."
   ]
  },
  {
   "cell_type": "code",
   "execution_count": 50,
   "metadata": {},
   "outputs": [
    {
     "data": {
      "text/plain": [
       "0.7312696276357111"
      ]
     },
     "execution_count": 50,
     "metadata": {},
     "output_type": "execute_result"
    }
   ],
   "source": [
    "len(clients_of_smart.query('total_payment > 550')) / len(clients_of_smart)"
   ]
  },
  {
   "cell_type": "markdown",
   "metadata": {},
   "source": [
    "И какая доля превышает аб.плату на тарифе Ультра."
   ]
  },
  {
   "cell_type": "code",
   "execution_count": 51,
   "metadata": {},
   "outputs": [
    {
     "data": {
      "text/plain": [
       "0.13604060913705585"
      ]
     },
     "execution_count": 51,
     "metadata": {},
     "output_type": "execute_result"
    }
   ],
   "source": [
    "len(clients_of_ultra.query('total_payment > 1950')) / len(clients_of_ultra)"
   ]
  },
  {
   "cell_type": "markdown",
   "metadata": {},
   "source": [
    "Мы обнаружили, что в тарифе Смарт 73,1% пользователей превышают в оплате абонентскую плату. В то время, как на тарифе Ультра только 13,6%."
   ]
  },
  {
   "cell_type": "markdown",
   "metadata": {},
   "source": [
    "Понятное дело, что некоторые клиенты тарифа Смарт, даже с переплатами не будут платить столько, сколько стоит аб. плата на тарифе Ультра. Но наверняка есть и те, кто превышают или хотя бы достигают платы за тариф Ультра, будучи на тарифе Смарт. Посчитаем их долю."
   ]
  },
  {
   "cell_type": "code",
   "execution_count": 52,
   "metadata": {},
   "outputs": [
    {
     "data": {
      "text/plain": [
       "0.15836698070883803"
      ]
     },
     "execution_count": 52,
     "metadata": {},
     "output_type": "execute_result"
    }
   ],
   "source": [
    "len(clients_of_smart.query('total_payment >= 1950')) / len(clients_of_smart)"
   ]
  },
  {
   "cell_type": "markdown",
   "metadata": {},
   "source": [
    "Этим 15,8% пользователей будет гораздо выгоднее перейти на другой тариф, но понятное дело, что выгода будет исключительно клиенту, а не компании."
   ]
  },
  {
   "cell_type": "markdown",
   "metadata": {},
   "source": [
    "### Шаг 4. Проверка гипотез"
   ]
  },
  {
   "cell_type": "markdown",
   "metadata": {},
   "source": [
    "- средняя выручка пользователей тарифов «Ультра» и «Смарт» различается;\n",
    "- средняя выручка пользователей из Москвы отличается от выручки пользователей из других регионов;"
   ]
  },
  {
   "cell_type": "code",
   "execution_count": 53,
   "metadata": {},
   "outputs": [],
   "source": [
    "from scipy import stats as st"
   ]
  },
  {
   "cell_type": "markdown",
   "metadata": {},
   "source": [
    "Cначала обработаем первый, заданный нам пункт."
   ]
  },
  {
   "cell_type": "markdown",
   "metadata": {},
   "source": [
    "#### Зададим две гипотезы:\n",
    "1. Нулевая гипотеза - средние выручки компании от пользователей тарифов «Ультра» и «Смарт» равны.\n",
    "2. Альтернативная гипотеза - средние выручки компании от пользователей тарифов «Ультра» и «Смарт» различаются."
   ]
  },
  {
   "cell_type": "code",
   "execution_count": 54,
   "metadata": {},
   "outputs": [
    {
     "name": "stdout",
     "output_type": "stream",
     "text": [
      "p-значение: 0.0\n",
      "Отвергаем нулевую гипотезу\n"
     ]
    }
   ],
   "source": [
    "smart_prices = megaline.query('tariff == \"smart\"')['total_payment']\n",
    "ultra_prices = megaline.query('tariff == \"ultra\"')['total_payment']\n",
    "alpha = 0.05\n",
    "results = st.ttest_ind(smart_prices, ultra_prices, equal_var = False)\n",
    "print('p-значение:', results.pvalue)\n",
    "if (results.pvalue < alpha):\n",
    "    print(\"Отвергаем нулевую гипотезу\")\n",
    "else:\n",
    "    print(\"Не получилось отвергнуть нулевую гипотезу\")"
   ]
  },
  {
   "cell_type": "markdown",
   "metadata": {},
   "source": [
    "Получается, раз нулевая гипотеза отвергнута, то средние выручки компании от пользователей тарифов «Ультра» и «Смарт» различаются. Следовательно на первый пункт задания мы ответили."
   ]
  },
  {
   "cell_type": "markdown",
   "metadata": {},
   "source": [
    "Также и второй пункт из задания."
   ]
  },
  {
   "cell_type": "markdown",
   "metadata": {},
   "source": [
    "#### Зададим две гипотезы:\n",
    "1. Нулевая гипотеза - средняя выручка компании от пользователей из Москвы равна средней выручке компании от пользователей из других регионов.\n",
    "2. Альтернативная гипотеза - средняя выручка компании от пользователей из Москвы отличается от средней выручки компании от пользователей из других регионов."
   ]
  },
  {
   "cell_type": "code",
   "execution_count": 55,
   "metadata": {},
   "outputs": [
    {
     "name": "stdout",
     "output_type": "stream",
     "text": [
      "p-значение: 0.13677321727080832\n",
      "Не получилось отвергнуть нулевую гипотезу\n"
     ]
    }
   ],
   "source": [
    "smart_prices_mos = megaline.query('tariff == \"smart\" & city == \"Москва\"')['total_payment']\n",
    "smart_prices_other = megaline.query('tariff == \"smart\" & city != \"Москва\"')['total_payment']\n",
    "alpha = 0.05\n",
    "results = st.ttest_ind(smart_prices_mos, smart_prices_other, equal_var = False)\n",
    "print('p-значение:', results.pvalue)\n",
    "if (results.pvalue < alpha):\n",
    "    print(\"Отвергаем нулевую гипотезу\")\n",
    "else:\n",
    "    print(\"Не получилось отвергнуть нулевую гипотезу\")"
   ]
  },
  {
   "cell_type": "code",
   "execution_count": 56,
   "metadata": {},
   "outputs": [
    {
     "name": "stdout",
     "output_type": "stream",
     "text": [
      "p-значение: 0.8800863664482192\n",
      "Не получилось отвергнуть нулевую гипотезу\n"
     ]
    }
   ],
   "source": [
    "ultra_prices_mos = megaline.query('tariff == \"ultra\" & city == \"Москва\"')['total_payment']\n",
    "ultra_prices_other = megaline.query('tariff == \"ultra\" & city != \"Москва\"')['total_payment']\n",
    "alpha = 0.05\n",
    "results = st.ttest_ind(ultra_prices_mos, ultra_prices_other, equal_var = False)\n",
    "print('p-значение:', results.pvalue)\n",
    "if (results.pvalue < alpha):\n",
    "    print(\"Отвергаем нулевую гипотезу\")\n",
    "else:\n",
    "    print(\"Не получилось отвергнуть нулевую гипотезу\")"
   ]
  },
  {
   "cell_type": "markdown",
   "metadata": {},
   "source": [
    "А в этот раз нулевая гипотеза подтвердилась. И выходит, что средняя выручка компании от пользователей обоих тарифов из Москвы равна средней выручке компании от пользователей обоих тарифов из других регионов."
   ]
  },
  {
   "cell_type": "markdown",
   "metadata": {},
   "source": [
    "### Шаг 5. Общий вывод"
   ]
  },
  {
   "cell_type": "markdown",
   "metadata": {},
   "source": [
    "Для корректировки рекламного бюджета, коммерческий департамент хотел понять, какой тариф приносит больше денег. "
   ]
  },
  {
   "cell_type": "markdown",
   "metadata": {},
   "source": [
    "Мы сделали предварительный анализ тарифов на небольшой выборке клиентов. В нашем распоряжении были данные 500 пользователей «Мегалайна». Мы сделали из этого анализа определенные выводы:\n",
    "\n",
    "- разброс в продолжительности звонков на тарифе Ультра больше, но при этом в него включено бесплатных минут в 6 раз больше(500 на Смарт против 3000 на Ультра), чем на тарифе Смарт, а клиенты эти 3000 минут даже и не набирают. Но на Смарт пользователи почти в 3 раза превышают установленный неоплачиваемый лимит, а значит, они переплачивают.\n",
    "\n",
    "-  точки зрения прибыли, в плане звонков, компании выгоднее вкладываться в Смарт, так как он вроде бы и по абонентской плате стоит не дорого, но при этом его лимитов людям недостаточно и они сильно переплачивают.\n",
    "\n",
    "- на тарифе Ультра гораздо больше клиентов отправляют большое количество сообщений, чем на Смарт. И ситуация все такая же, как и со звонками. На тарифе Ультра пользователи даже близко не набирают установленных лимитов, а на Смарт в разы выходят за эти пределы. Учитывая,что за каждое сообщение за пределами лимита на тарифе Смарт клиенты платят 3 рубля, а лимиты превышены примерно в 3 раза, можно представить, что и у компании доходы будут больше, за счет превышения этих лимитов.\n",
    "\n",
    "- по количеству использованного трафика пользователи Смарт почти догоняют пользователей Ультра. Но надо сказать, что в плане интернета лимиты превышены и у клиентов Ультра, но цена у них за переплату меньше, а среднее использованное количество трафика больше не намного."
   ]
  },
  {
   "cell_type": "markdown",
   "metadata": {},
   "source": [
    "Мы видим, что максимальное количество затрат приходится на абонентскую плату, при этом в тарифе \"Смарт\" люди чаще не укладываются в доступные бесплатные звонки, смс и интернет, а потому и чаще приходится доплачивать. Тарифом \"Ультра\" пользуются значительно меньше людей, но и гораздо больше человек в пропорции укладывается в бесплатные доступные функции от тарифа, а соответственно, меньше людей переплачивают сверх абонентской платы.\n",
    "\n",
    "И за счет этих переплат клиенты тарифа Смарт приносят компании денег **больше**, чем те, кто используют тариф Ультра. Поэтому, в рекламу тарифа Смарт компании будет вложиться гораздо эффективнее, ведь чем больше будет клиентов на тарифе Смарт, тем больше переплат, тем больше дохода, соответственно."
   ]
  },
  {
   "cell_type": "markdown",
   "metadata": {},
   "source": [
    "Мы обнаружили, что в тарифе Смарт 73,1% пользователей превышают в оплате абонентскую плату. В то время, как на тарифе Ультра только 13,6%.\n",
    "\n",
    "Некоторые клиенты тарифа Смарт, даже с переплатами не будут платить столько, сколько стоит аб. плата на тарифе Ультра. Но есть и те, кто превышают или хотя бы достигают платы за тариф Ультра, будучи на тарифе Смарт. Процент этих пользователей составляет 15,8%."
   ]
  },
  {
   "cell_type": "markdown",
   "metadata": {},
   "source": [
    "В пункте проверки гипотез мы выяснили, что средние выручки компании от пользователей тарифов «Ультра» и «Смарт» **различаются**, а средняя выручка компании от пользователей обоих тарифов из Москвы **равна** средней выручке компании от пользователей обоих тарифов из других регионов."
   ]
  }
 ],
 "metadata": {
  "kernelspec": {
   "display_name": "Python 3",
   "language": "python",
   "name": "python3"
  },
  "language_info": {
   "codemirror_mode": {
    "name": "ipython",
    "version": 3
   },
   "file_extension": ".py",
   "mimetype": "text/x-python",
   "name": "python",
   "nbconvert_exporter": "python",
   "pygments_lexer": "ipython3",
   "version": "3.7.6"
  }
 },
 "nbformat": 4,
 "nbformat_minor": 2
}
